{
 "cells": [
  {
   "cell_type": "markdown",
   "metadata": {},
   "source": [
    "# Análises Específicas"
   ]
  },
  {
   "cell_type": "markdown",
   "metadata": {},
   "source": [
    "**Autor:** Leonardo Dantas\n",
    "\n",
    "**Data:** 09/12/2020"
   ]
  },
  {
   "cell_type": "code",
   "execution_count": 2,
   "metadata": {},
   "outputs": [],
   "source": [
    "# General\n",
    "import utils\n",
    "from utils import *\n",
    "from datetime import datetime, timedelta\n",
    "\n",
    "# Data Manipulation\n",
    "import pandas as pd\n",
    "\n",
    "# Visualization\n",
    "import plotly.express as px\n",
    "import plotly.graph_objects as go\n",
    "\n",
    "# GIS\n",
    "import geobr"
   ]
  },
  {
   "cell_type": "code",
   "execution_count": 3,
   "metadata": {},
   "outputs": [],
   "source": [
    "# Supposed to magically speed up Plotly\n",
    "import plotly.io as pio\n",
    "pio.renderers.default = 'iframe'"
   ]
  },
  {
   "cell_type": "markdown",
   "metadata": {},
   "source": [
    "## Dados"
   ]
  },
  {
   "cell_type": "markdown",
   "metadata": {},
   "source": [
    "#### Carregar Dados"
   ]
  },
  {
   "cell_type": "markdown",
   "metadata": {},
   "source": [
    "Todos os dados são carregados a partir do diretório `/data/`."
   ]
  },
  {
   "cell_type": "code",
   "execution_count": 4,
   "metadata": {},
   "outputs": [
    {
     "name": "stdout",
     "output_type": "stream",
     "text": [
      "Data loaded from local file.\n"
     ]
    }
   ],
   "source": [
    "# Covid Cases by City\n",
    "cities_cases_file = \"br_cities_cases_full.csv\"\n",
    "cities_cases_url = \"http://datasource.coronacidades.org/br/cities/cases/full\"\n",
    "\n",
    "cities_cases = load_csv_data(cities_cases_file, cities_cases_url, download_data_anew=False, verbose=True)"
   ]
  },
  {
   "cell_type": "code",
   "execution_count": 5,
   "metadata": {},
   "outputs": [
    {
     "name": "stdout",
     "output_type": "stream",
     "text": [
      "Data loaded from local file.\n"
     ]
    }
   ],
   "source": [
    "# Covid Cases by State\n",
    "states_cases_file = \"br_states_cases_full.csv\"\n",
    "states_cases_url = \"http://datasource.coronacidades.org/br/states/cases/full\"\n",
    "\n",
    "states_cases = load_csv_data(states_cases_file, states_cases_url, download_data_anew=False, verbose=True)"
   ]
  },
  {
   "cell_type": "code",
   "execution_count": 6,
   "metadata": {},
   "outputs": [
    {
     "name": "stdout",
     "output_type": "stream",
     "text": [
      "Data loaded from local file.\n"
     ]
    }
   ],
   "source": [
    "# Rt Estimates for Brazilian States\n",
    "states_rt_file = \"br_states_rt.csv\"\n",
    "states_rt_file_url = \"http://datasource.coronacidades.org/br/states/rt\"\n",
    "\n",
    "states_rt = load_csv_data(states_rt_file, states_rt_file_url, download_data_anew=False, verbose=True)"
   ]
  },
  {
   "cell_type": "code",
   "execution_count": 7,
   "metadata": {},
   "outputs": [
    {
     "name": "stdout",
     "output_type": "stream",
     "text": [
      "Data loaded from local file.\n"
     ]
    }
   ],
   "source": [
    "# Rt Estimates for Brazilian Cities\n",
    "cities_rt_file = \"br_cities_rt.csv\"\n",
    "cities_rt_file_url = \"http://datasource.coronacidades.org/br/cities/rt\"\n",
    "\n",
    "cities_rt = load_csv_data(cities_rt_file, cities_rt_file_url, download_data_anew=False, verbose=True)"
   ]
  },
  {
   "cell_type": "code",
   "execution_count": 8,
   "metadata": {},
   "outputs": [
    {
     "name": "stdout",
     "output_type": "stream",
     "text": [
      "Data loaded from local file.\n"
     ]
    }
   ],
   "source": [
    "# FarolCovid Cities Data\n",
    "cities_farolcovid_file = \"br_cities_farolcovid_main.csv\"\n",
    "cities_farolcovid_url = \"http://datasource.coronacidades.org/br/cities/farolcovid/main\"\n",
    "\n",
    "cities_farolcovid = load_csv_data(cities_farolcovid_file, cities_farolcovid_url, download_data_anew=False, \n",
    "                                  verbose=True)"
   ]
  },
  {
   "cell_type": "code",
   "execution_count": 9,
   "metadata": {},
   "outputs": [
    {
     "name": "stdout",
     "output_type": "stream",
     "text": [
      "Data loaded from local file.\n"
     ]
    }
   ],
   "source": [
    "# FarolCovid States Data\n",
    "states_farolcovid_file = \"br_states_farolcovid_main.csv\"\n",
    "states_farolcovid_url = \"http://datasource.coronacidades.org/br/states/farolcovid/main\"\n",
    "\n",
    "states_farolcovid = load_csv_data(states_farolcovid_file, states_farolcovid_url, download_data_anew=False, \n",
    "                                  verbose=True)"
   ]
  },
  {
   "cell_type": "code",
   "execution_count": 10,
   "metadata": {},
   "outputs": [
    {
     "name": "stdout",
     "output_type": "stream",
     "text": [
      "Data successfully loaded.\n"
     ]
    }
   ],
   "source": [
    "# List of Brazilian Capitals\n",
    "capitals_dict = load_json_data(\"ibge_capitals.json\", verbose=True)\n",
    "capitals_list = list(capitals_dict.keys())"
   ]
  },
  {
   "cell_type": "markdown",
   "metadata": {},
   "source": [
    "#### Datas da Análise"
   ]
  },
  {
   "cell_type": "code",
   "execution_count": 11,
   "metadata": {},
   "outputs": [],
   "source": [
    "latest_date = states_cases[\"last_updated\"].max()"
   ]
  },
  {
   "cell_type": "code",
   "execution_count": 12,
   "metadata": {},
   "outputs": [
    {
     "name": "stdout",
     "output_type": "stream",
     "text": [
      "Current Date: 06/12/2020\n",
      "Two Weeks Ago: 22/11/2020\n",
      "A Month Ago: 06/11/2020\n"
     ]
    }
   ],
   "source": [
    "# Select Current Date\n",
    "current_date = datetime.strptime(latest_date, \"%Y-%m-%d\")\n",
    "#current_date = datetime(2020,11,30)\n",
    "\n",
    "# Reference Dates\n",
    "two_weeks_date = current_date - timedelta(days=14)\n",
    "fifteen_days_date = current_date - timedelta(days=15)\n",
    "month_date = current_date - timedelta(days=30)\n",
    "\n",
    "# Sanity Check\n",
    "print(\"Current Date: {:%d/%m/%Y}\".format(current_date))\n",
    "print(\"Two Weeks Ago: {:%d/%m/%Y}\".format(two_weeks_date))\n",
    "print(\"A Month Ago: {:%d/%m/%Y}\".format(month_date))"
   ]
  },
  {
   "cell_type": "markdown",
   "metadata": {},
   "source": [
    "## Panorama Nacional"
   ]
  },
  {
   "cell_type": "code",
   "execution_count": 13,
   "metadata": {},
   "outputs": [],
   "source": [
    "# Consolidate National Data\n",
    "brazil_cases = states_cases.groupby([\"last_updated\"], as_index=False).sum()\n",
    "mavg_days = 7\n",
    "\n",
    "# Calculate National 7-Day Moving Average of Cases\n",
    "brazil_cases[\"daily_cases_mavg\"] = brazil_cases[\"daily_cases\"].rolling(mavg_days).mean()\n",
    "\n",
    "# Calculate National 7-Day Moving Average of Deaths\n",
    "brazil_cases[\"new_deaths_mavg\"] = brazil_cases[\"new_deaths\"].rolling(7).mean()"
   ]
  },
  {
   "cell_type": "markdown",
   "metadata": {},
   "source": [
    "### Casos a Nível Nacional"
   ]
  },
  {
   "cell_type": "code",
   "execution_count": 14,
   "metadata": {},
   "outputs": [],
   "source": [
    "# Lines to Plot\n",
    "daily_cases_line = ChartLine(\"Casos Diários\", \"daily_cases\", \"skyblue\")\n",
    "daily_cases_mavg_line = ChartLine(\"Média Móvel de Casos Diários (7 Dias)\", \"daily_cases_mavg\", \"royalblue\")\n",
    "\n",
    "cases_lines = [daily_cases_line, daily_cases_mavg_line]"
   ]
  },
  {
   "cell_type": "code",
   "execution_count": 15,
   "metadata": {},
   "outputs": [],
   "source": [
    "# Markers on the Chart\n",
    "cases_current_marker = Marker(current_date, \"Data de Referência\", \"last_updated\", \"daily_cases_mavg\", \"orangered\")\n",
    "cases_reference_marker = Marker(fifteen_days_date, \"15 dias atrás\", \"last_updated\", \"daily_cases_mavg\", \"orangered\")\n",
    "\n",
    "june_cases_marker = Marker(datetime(2020,6,19), \"Meados de Junho\", \"last_updated\", \"daily_cases_mavg\", \"orangered\")\n",
    "july_cases_marker = Marker(datetime(2020,7,24), \"Final de Julho\", \"last_updated\", \"daily_cases_mavg\", \"orangered\")\n",
    "\n",
    "cases_markers = [cases_current_marker, cases_reference_marker, june_cases_marker, july_cases_marker]"
   ]
  },
  {
   "cell_type": "code",
   "execution_count": 16,
   "metadata": {},
   "outputs": [
    {
     "data": {
      "text/html": [
       "<iframe\n",
       "    scrolling=\"no\"\n",
       "    width=\"100%\"\n",
       "    height=\"545px\"\n",
       "    src=\"iframe_figures/figure_16.html\"\n",
       "    frameborder=\"0\"\n",
       "    allowfullscreen\n",
       "></iframe>\n"
      ]
     },
     "metadata": {},
     "output_type": "display_data"
    }
   ],
   "source": [
    "display_line_chart(brazil_cases, \"last_updated\", cases_lines, cases_markers, title=\"Casos Diários no Brasil\", \n",
    "                   x_axis=\"Data\", y_axis=\"Casos\", include_annotations=True, save_HTML=True)"
   ]
  },
  {
   "cell_type": "markdown",
   "metadata": {},
   "source": [
    "### Mortes a Nível Nacional"
   ]
  },
  {
   "cell_type": "code",
   "execution_count": 17,
   "metadata": {},
   "outputs": [],
   "source": [
    "# Lines to Plot\n",
    "daily_deaths_line = ChartLine(\"Mortes Diárias\", \"new_deaths\", \"lightpink\")\n",
    "daily_deaths_mavg_line = ChartLine(\"Média Móvel de Mortes Diárias (7 Dias)\", \"new_deaths_mavg\", \"#EF553B\")\n",
    "\n",
    "deaths_plot_lines = [daily_deaths_line, daily_deaths_mavg_line]"
   ]
  },
  {
   "cell_type": "code",
   "execution_count": 18,
   "metadata": {},
   "outputs": [],
   "source": [
    "# Markers on the Chart\n",
    "deaths_current_marker = Marker(current_date, \"Data de Referência\", \"last_updated\", \"new_deaths_mavg\", \"royalblue\")\n",
    "deaths_reference_maker = Marker(fifteen_days_date, \"15 dias atrás\", \"last_updated\", \"new_deaths_mavg\", \"royalblue\")\n",
    "\n",
    "june_deaths_marker = Marker(datetime(2020,6,19), \"Meados de Junho\", \"last_updated\", \"new_deaths_mavg\", \"royalblue\")\n",
    "july_deaths_marker = Marker(datetime(2020,7,24), \"Final de Julho\", \"last_updated\", \"new_deaths_mavg\", \"royalblue\")\n",
    "\n",
    "deaths_markers = [deaths_current_marker, deaths_reference_maker]"
   ]
  },
  {
   "cell_type": "code",
   "execution_count": 19,
   "metadata": {},
   "outputs": [
    {
     "data": {
      "text/html": [
       "<iframe\n",
       "    scrolling=\"no\"\n",
       "    width=\"100%\"\n",
       "    height=\"545px\"\n",
       "    src=\"iframe_figures/figure_19.html\"\n",
       "    frameborder=\"0\"\n",
       "    allowfullscreen\n",
       "></iframe>\n"
      ]
     },
     "metadata": {},
     "output_type": "display_data"
    }
   ],
   "source": [
    "display_line_chart(brazil_cases, \"last_updated\", deaths_plot_lines, deaths_markers, \n",
    "                   title=\"Mortes Diárias no Brasil\", x_axis=\"Data\", y_axis=\"Mortes\", include_annotations=True, save_HTML=True)"
   ]
  },
  {
   "cell_type": "markdown",
   "metadata": {},
   "source": [
    "## Transmissibilidade Estimada em Capitais e Estados"
   ]
  },
  {
   "cell_type": "markdown",
   "metadata": {},
   "source": [
    "### Estados"
   ]
  },
  {
   "cell_type": "code",
   "execution_count": 20,
   "metadata": {},
   "outputs": [],
   "source": [
    "# Recover State Names\n",
    "states_names = states_cases[['state_name','state_num_id', 'state_id']]\n",
    "states_rt_estimates = pd.merge(states_rt, states_names, on=\"state_num_id\")\n",
    "\n",
    "states_rt_estimates = states_rt_estimates[['state_name', 'state_id', 'Rt_most_likely', 'Rt_most_likely_mavg', 'last_updated']]"
   ]
  },
  {
   "cell_type": "code",
   "execution_count": 22,
   "metadata": {},
   "outputs": [],
   "source": [
    "# Select RN and SC\n",
    "rt_RN = states_rt_estimates[ states_rt_estimates['state_id'] == \"RN\"]\n",
    "rt_SC = states_rt_estimates[ states_rt_estimates['state_id'] == \"SC\"]\n",
    "states_analysis = pd.concat([rt_RN, rt_SC])"
   ]
  },
  {
   "cell_type": "code",
   "execution_count": 23,
   "metadata": {},
   "outputs": [
    {
     "data": {
      "text/html": [
       "<iframe\n",
       "    scrolling=\"no\"\n",
       "    width=\"100%\"\n",
       "    height=\"545px\"\n",
       "    src=\"iframe_figures/figure_23.html\"\n",
       "    frameborder=\"0\"\n",
       "    allowfullscreen\n",
       "></iframe>\n"
      ]
     },
     "metadata": {},
     "output_type": "display_data"
    }
   ],
   "source": [
    "fig_analysis_rt = px.line(states_analysis, x=\"last_updated\", y=\"Rt_most_likely\", color=\"state_name\", \n",
    "                        title=\"Evolução da Transmissibilidade nos Estados\",\n",
    "                        labels={\"state_name\":\"Estado\", \"Rt_most_likely\": \"Rt Estimado (Mais Provável)\", \n",
    "                                \"last_updated\":\"Data\"})\n",
    "fig_analysis_rt.add_vline(x=fifteen_days_date)\n",
    "fig_analysis_rt.show()"
   ]
  },
  {
   "cell_type": "code",
   "execution_count": 24,
   "metadata": {},
   "outputs": [],
   "source": [
    "fig_analysis_rt.write_html(f\"{getcwd()}/Evolução da Transmissibilidade nos Estados.html\")"
   ]
  },
  {
   "cell_type": "code",
   "execution_count": null,
   "metadata": {},
   "outputs": [],
   "source": []
  }
 ],
 "metadata": {
  "kernelspec": {
   "display_name": "Python 3",
   "language": "python",
   "name": "python3"
  },
  "language_info": {
   "codemirror_mode": {
    "name": "ipython",
    "version": 3
   },
   "file_extension": ".py",
   "mimetype": "text/x-python",
   "name": "python",
   "nbconvert_exporter": "python",
   "pygments_lexer": "ipython3",
   "version": "3.9.0"
  }
 },
 "nbformat": 4,
 "nbformat_minor": 4
}
