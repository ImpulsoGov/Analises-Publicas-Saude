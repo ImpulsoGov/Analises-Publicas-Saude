{
 "cells": [
  {
   "cell_type": "markdown",
   "metadata": {
    "slideshow": {
     "slide_type": "skip"
    },
    "toc": true
   },
   "source": [
    "<h1>Table of Contents<span class=\"tocSkip\"></span></h1>\n",
    "<div class=\"toc\"><ul class=\"toc-item\"><li><span><a href=\"#Dados\" data-toc-modified-id=\"Dados-1\"><span class=\"toc-item-num\">1&nbsp;&nbsp;</span>Dados</a></span><ul class=\"toc-item\"><li><span><a href=\"#Carrega-dados-da-API\" data-toc-modified-id=\"Carrega-dados-da-API-1.1\"><span class=\"toc-item-num\">1.1&nbsp;&nbsp;</span>Carrega dados da API</a></span></li><li><span><a href=\"#Define-datas-da-análise\" data-toc-modified-id=\"Define-datas-da-análise-1.2\"><span class=\"toc-item-num\">1.2&nbsp;&nbsp;</span>Define datas da análise</a></span></li><li><span><a href=\"#Carrega-dados-históricos-de-classificação-do-Farol\" data-toc-modified-id=\"Carrega-dados-históricos-de-classificação-do-Farol-1.3\"><span class=\"toc-item-num\">1.3&nbsp;&nbsp;</span>Carrega dados históricos de classificação do Farol</a></span></li></ul></li><li><span><a href=\"#Panorama-Nacional\" data-toc-modified-id=\"Panorama-Nacional-2\"><span class=\"toc-item-num\">2&nbsp;&nbsp;</span>Panorama Nacional</a></span><ul class=\"toc-item\"><li><span><a href=\"#Casos-a-Nível-Nacional\" data-toc-modified-id=\"Casos-a-Nível-Nacional-2.1\"><span class=\"toc-item-num\">2.1&nbsp;&nbsp;</span>Casos a Nível Nacional</a></span></li><li><span><a href=\"#Mortes-a-Nível-Nacional\" data-toc-modified-id=\"Mortes-a-Nível-Nacional-2.2\"><span class=\"toc-item-num\">2.2&nbsp;&nbsp;</span>Mortes a Nível Nacional</a></span></li></ul></li><li><span><a href=\"#Transmissibilidade-Estimada-em-Capitais-e-Estados\" data-toc-modified-id=\"Transmissibilidade-Estimada-em-Capitais-e-Estados-3\"><span class=\"toc-item-num\">3&nbsp;&nbsp;</span>Transmissibilidade Estimada em Capitais e Estados</a></span><ul class=\"toc-item\"><li><span><a href=\"#Estados\" data-toc-modified-id=\"Estados-3.1\"><span class=\"toc-item-num\">3.1&nbsp;&nbsp;</span>Estados</a></span><ul class=\"toc-item\"><li><span><a href=\"#Estados-com-Rt-acima-de-1.2\" data-toc-modified-id=\"Estados-com-Rt-acima-de-1.2-3.1.1\"><span class=\"toc-item-num\">3.1.1&nbsp;&nbsp;</span>Estados com Rt acima de 1.2</a></span></li></ul></li><li><span><a href=\"#Capitais\" data-toc-modified-id=\"Capitais-3.2\"><span class=\"toc-item-num\">3.2&nbsp;&nbsp;</span>Capitais</a></span><ul class=\"toc-item\"><li><span><a href=\"#Estatísticas-gerais-sobre-Rt-de-capitais\" data-toc-modified-id=\"Estatísticas-gerais-sobre-Rt-de-capitais-3.2.1\"><span class=\"toc-item-num\">3.2.1&nbsp;&nbsp;</span>Estatísticas gerais sobre Rt de capitais</a></span></li></ul></li></ul></li><li><span><a href=\"#Ausência-de-Dados\" data-toc-modified-id=\"Ausência-de-Dados-4\"><span class=\"toc-item-num\">4&nbsp;&nbsp;</span>Ausência de Dados</a></span><ul class=\"toc-item\"><li><span><a href=\"#Reporte-Estadual\" data-toc-modified-id=\"Reporte-Estadual-4.1\"><span class=\"toc-item-num\">4.1&nbsp;&nbsp;</span>Reporte Estadual</a></span></li><li><span><a href=\"#Reporte-das-Capitais\" data-toc-modified-id=\"Reporte-das-Capitais-4.2\"><span class=\"toc-item-num\">4.2&nbsp;&nbsp;</span>Reporte das Capitais</a></span></li></ul></li><li><span><a href=\"#Evolução-dos-Níveis-de-Alerta\" data-toc-modified-id=\"Evolução-dos-Níveis-de-Alerta-5\"><span class=\"toc-item-num\">5&nbsp;&nbsp;</span>Evolução dos Níveis de Alerta</a></span><ul class=\"toc-item\"><li><span><a href=\"#Estados\" data-toc-modified-id=\"Estados-5.1\"><span class=\"toc-item-num\">5.1&nbsp;&nbsp;</span>Estados</a></span></li><li><span><a href=\"#Capitais\" data-toc-modified-id=\"Capitais-5.2\"><span class=\"toc-item-num\">5.2&nbsp;&nbsp;</span>Capitais</a></span></li></ul></li><li><span><a href=\"#Melhorias-para-o-Futuro\" data-toc-modified-id=\"Melhorias-para-o-Futuro-6\"><span class=\"toc-item-num\">6&nbsp;&nbsp;</span>Melhorias para o Futuro</a></span><ul class=\"toc-item\"><li><ul class=\"toc-item\"><li><span><a href=\"#Visão-Estadual-da-Porcentagem-dos-Municipios-com-Dados-Faltantes\" data-toc-modified-id=\"Visão-Estadual-da-Porcentagem-dos-Municipios-com-Dados-Faltantes-6.0.1\"><span class=\"toc-item-num\">6.0.1&nbsp;&nbsp;</span>Visão Estadual da Porcentagem dos Municipios com Dados Faltantes</a></span></li><li><span><a href=\"#Construção-de-Série-Histórica-dos-Níveis-de-Alerta\" data-toc-modified-id=\"Construção-de-Série-Histórica-dos-Níveis-de-Alerta-6.0.2\"><span class=\"toc-item-num\">6.0.2&nbsp;&nbsp;</span>Construção de Série Histórica dos Níveis de Alerta</a></span></li><li><span><a href=\"#Comparação-das-Aproximações-de-Rt-com-Outros-Projetos\" data-toc-modified-id=\"Comparação-das-Aproximações-de-Rt-com-Outros-Projetos-6.0.3\"><span class=\"toc-item-num\">6.0.3&nbsp;&nbsp;</span>Comparação das Aproximações de Rt com Outros Projetos</a></span></li><li><span><a href=\"#Exibição-de-Indicadores-Secundários-nos-Mapas-de-Nível-de-Alerta\" data-toc-modified-id=\"Exibição-de-Indicadores-Secundários-nos-Mapas-de-Nível-de-Alerta-6.0.4\"><span class=\"toc-item-num\">6.0.4&nbsp;&nbsp;</span>Exibição de Indicadores Secundários nos Mapas de Nível de Alerta</a></span></li><li><span><a href=\"#Informações-sobre-Falta-de-Leitos\" data-toc-modified-id=\"Informações-sobre-Falta-de-Leitos-6.0.5\"><span class=\"toc-item-num\">6.0.5&nbsp;&nbsp;</span>Informações sobre Falta de Leitos</a></span></li></ul></li></ul></li></ul></div>"
   ]
  },
  {
   "cell_type": "markdown",
   "metadata": {
    "slideshow": {
     "slide_type": "slide"
    }
   },
   "source": [
    "# Análise Semanal FarolCovid\n",
    "\n",
    "**Código original:** Leonardo Dantas\n",
    "\n",
    "**Colaborador@s**: Fernanda Scovino \n",
    "\n",
    "**Data:** 14/12/2020 (atualizado toda segunda)"
   ]
  },
  {
   "cell_type": "code",
   "execution_count": 1,
   "metadata": {
    "ExecuteTime": {
     "end_time": "2021-01-05T23:55:40.254487Z",
     "start_time": "2021-01-05T23:55:38.928450Z"
    },
    "slideshow": {
     "slide_type": "skip"
    }
   },
   "outputs": [],
   "source": [
    "%load_ext autoreload\n",
    "%autoreload 2\n",
    "\n",
    "# General\n",
    "import utils\n",
    "from utils import *\n",
    "from datetime import datetime, timedelta\n",
    "\n",
    "# Data Manipulation\n",
    "import pandas as pd\n",
    "import numpy as np\n",
    "\n",
    "# Visualization\n",
    "import plotly.express as px\n",
    "import plotly.graph_objects as go\n",
    "\n",
    "# GIS\n",
    "import geobr\n",
    "\n",
    "# Supposed to magically speed up Plotly\n",
    "import plotly.io as pio\n",
    "pio.renderers.default = 'iframe'"
   ]
  },
  {
   "cell_type": "markdown",
   "metadata": {
    "slideshow": {
     "slide_type": "skip"
    }
   },
   "source": [
    "## Dados\n",
    "\n",
    "### Carrega dados da API\n",
    "\n",
    "Todos os dados são carregados dentro do diretório `/data/`. \n",
    "\n",
    "- Caso o arquivo já exista no diretório, especifique `download_data_anew=False` para buscar localmente. Caso contrário, o dado será buscado na API."
   ]
  },
  {
   "cell_type": "code",
   "execution_count": 2,
   "metadata": {
    "ExecuteTime": {
     "end_time": "2021-01-05T23:55:53.825751Z",
     "start_time": "2021-01-05T23:55:40.379010Z"
    },
    "slideshow": {
     "slide_type": "skip"
    }
   },
   "outputs": [
    {
     "name": "stdout",
     "output_type": "stream",
     "text": [
      "Data loaded from local file.\n"
     ]
    }
   ],
   "source": [
    "# Covid Cases by City\n",
    "cities_cases_file = \"br_cities_cases_full.csv\"\n",
    "cities_cases_url = \"http://datasource.coronacidades.org/br/cities/cases/full\"\n",
    "\n",
    "cities_cases = load_csv_data(cities_cases_file, cities_cases_url, download_data_anew=False, verbose=True)"
   ]
  },
  {
   "cell_type": "code",
   "execution_count": 3,
   "metadata": {
    "ExecuteTime": {
     "end_time": "2021-01-05T23:55:54.059588Z",
     "start_time": "2021-01-05T23:55:53.830030Z"
    },
    "slideshow": {
     "slide_type": "skip"
    }
   },
   "outputs": [
    {
     "name": "stdout",
     "output_type": "stream",
     "text": [
      "Data loaded from local file.\n"
     ]
    }
   ],
   "source": [
    "# Covid Cases by State\n",
    "states_cases_file = \"br_states_cases_full.csv\"\n",
    "states_cases_url = \"http://datasource.coronacidades.org/br/states/cases/full\"\n",
    "\n",
    "states_cases = load_csv_data(states_cases_file, states_cases_url, download_data_anew=False, verbose=True)"
   ]
  },
  {
   "cell_type": "code",
   "execution_count": 4,
   "metadata": {
    "ExecuteTime": {
     "end_time": "2021-01-05T23:55:54.202209Z",
     "start_time": "2021-01-05T23:55:54.101559Z"
    },
    "slideshow": {
     "slide_type": "skip"
    }
   },
   "outputs": [
    {
     "name": "stdout",
     "output_type": "stream",
     "text": [
      "Data loaded from local file.\n"
     ]
    }
   ],
   "source": [
    "# Rt Estimates for Brazilian States\n",
    "states_rt_file = \"br_states_rt.csv\"\n",
    "states_rt_file_url = \"http://datasource.coronacidades.org/br/states/rt\"\n",
    "\n",
    "states_rt = load_csv_data(states_rt_file, states_rt_file_url, download_data_anew=False, verbose=True)"
   ]
  },
  {
   "cell_type": "code",
   "execution_count": 5,
   "metadata": {
    "ExecuteTime": {
     "end_time": "2021-01-05T23:55:54.937377Z",
     "start_time": "2021-01-05T23:55:54.211404Z"
    },
    "slideshow": {
     "slide_type": "skip"
    }
   },
   "outputs": [
    {
     "name": "stdout",
     "output_type": "stream",
     "text": [
      "Data loaded from local file.\n"
     ]
    }
   ],
   "source": [
    "# Rt Estimates for Brazilian Cities\n",
    "cities_rt_file = \"br_cities_rt.csv\"\n",
    "cities_rt_file_url = \"http://datasource.coronacidades.org/br/cities/rt\"\n",
    "\n",
    "cities_rt = load_csv_data(cities_rt_file, cities_rt_file_url, download_data_anew=False, verbose=True)"
   ]
  },
  {
   "cell_type": "code",
   "execution_count": 6,
   "metadata": {
    "ExecuteTime": {
     "end_time": "2021-01-05T23:55:55.085014Z",
     "start_time": "2021-01-05T23:55:54.940063Z"
    },
    "slideshow": {
     "slide_type": "skip"
    }
   },
   "outputs": [
    {
     "name": "stdout",
     "output_type": "stream",
     "text": [
      "Data loaded from local file.\n"
     ]
    }
   ],
   "source": [
    "# FarolCovid Cities Data\n",
    "cities_farolcovid_file = \"br_cities_farolcovid_main.csv\"\n",
    "cities_farolcovid_url = \"http://datasource.coronacidades.org/br/cities/farolcovid/main\"\n",
    "\n",
    "cities_farolcovid = load_csv_data(cities_farolcovid_file, cities_farolcovid_url, download_data_anew=False, \n",
    "                                  verbose=True)"
   ]
  },
  {
   "cell_type": "code",
   "execution_count": 7,
   "metadata": {
    "ExecuteTime": {
     "end_time": "2021-01-05T23:55:55.174300Z",
     "start_time": "2021-01-05T23:55:55.089473Z"
    },
    "slideshow": {
     "slide_type": "skip"
    }
   },
   "outputs": [
    {
     "name": "stdout",
     "output_type": "stream",
     "text": [
      "Data loaded from local file.\n"
     ]
    }
   ],
   "source": [
    "# FarolCovid States Data\n",
    "states_farolcovid_file = \"br_states_farolcovid_main.csv\"\n",
    "states_farolcovid_url = \"http://datasource.coronacidades.org/br/states/farolcovid/main\"\n",
    "\n",
    "states_farolcovid = load_csv_data(states_farolcovid_file, states_farolcovid_url, download_data_anew=False, \n",
    "                                  verbose=True)"
   ]
  },
  {
   "cell_type": "code",
   "execution_count": 8,
   "metadata": {
    "ExecuteTime": {
     "end_time": "2021-01-05T23:55:55.223017Z",
     "start_time": "2021-01-05T23:55:55.177515Z"
    },
    "slideshow": {
     "slide_type": "skip"
    }
   },
   "outputs": [
    {
     "name": "stdout",
     "output_type": "stream",
     "text": [
      "Data successfully loaded.\n"
     ]
    }
   ],
   "source": [
    "# List of Brazilian Capitals\n",
    "capitals_dict = load_json_data(\"ibge_capitals.json\", verbose=True)\n",
    "\n",
    "capitals_id = [int(k) for k in capitals_dict.keys()]\n",
    "capitals_states = {v[\"city_name\"]: v[\"state_id\"] for v in capitals_dict.values()}"
   ]
  },
  {
   "cell_type": "markdown",
   "metadata": {
    "slideshow": {
     "slide_type": "skip"
    }
   },
   "source": [
    "### Define datas da análise\n",
    "\n",
    "Por padrão, utiliza-se a data de hoje como `current_date` - você pode modificar na célula abaixo."
   ]
  },
  {
   "cell_type": "code",
   "execution_count": 9,
   "metadata": {
    "ExecuteTime": {
     "end_time": "2021-01-05T23:55:55.301993Z",
     "start_time": "2021-01-05T23:55:55.230648Z"
    },
    "slideshow": {
     "slide_type": "skip"
    }
   },
   "outputs": [
    {
     "name": "stdout",
     "output_type": "stream",
     "text": [
      "Current Date: 19/01/2021\n",
      "Two Weeks Ago: 05/01/2021\n",
      "A Month Ago: 20/12/2020\n"
     ]
    }
   ],
   "source": [
    "# Select Reference Date\n",
    "current_date = datetime.strptime(states_cases[\"last_updated\"].max(), \"%Y-%m-%d\") # OU usar: datetime(yyyy,mm,dd)\n",
    "\n",
    "# 2 weeks before: compare with current date later on the notebook\n",
    "two_weeks_date = current_date - timedelta(days=14)\n",
    "\n",
    "# 30 days before: check for missing data later on the notebook\n",
    "month_date = current_date - timedelta(days=30)\n",
    "\n",
    "# Sanity Check\n",
    "print(\"Current Date: {:%d/%m/%Y}\".format(current_date))\n",
    "print(\"Two Weeks Ago: {:%d/%m/%Y}\".format(two_weeks_date))\n",
    "print(\"A Month Ago: {:%d/%m/%Y}\".format(month_date))"
   ]
  },
  {
   "cell_type": "markdown",
   "metadata": {
    "slideshow": {
     "slide_type": "skip"
    }
   },
   "source": [
    "### Carrega dados históricos de classificação do Farol\n",
    "\n",
    "Estes dados estão salvos no Storage: https://console.cloud.google.com/storage/browser/impulso-bucket/farolcovid_weekly_analisys\n",
    "\n",
    "Abaixo são definidas as datas dos mapas manualmente, sendo:\n",
    "- `current_date`: data mais atual cujos dados estão presentes no Storage (por padrão hoje)\n",
    "- `past_date`: data para comparação cujos dados estão presentes no Storage (escolher mais próximo de hoje disponível no Storage para comparação)\n",
    "\n",
    "**TODO:**\n",
    "- Passar a salvar os dados toda segunda e alinhar com as variáveis `current_date` e `two_weeks_date` para não precisar definir `dates` aqui"
   ]
  },
  {
   "cell_type": "code",
   "execution_count": 10,
   "metadata": {
    "ExecuteTime": {
     "end_time": "2021-01-06T01:14:08.213940Z",
     "start_time": "2021-01-06T01:14:08.158897Z"
    },
    "slideshow": {
     "slide_type": "skip"
    }
   },
   "outputs": [
    {
     "data": {
      "text/plain": [
       "{'current_date': '2021-01-20', 'past_date': '2021-01-05'}"
      ]
     },
     "execution_count": 10,
     "metadata": {},
     "output_type": "execute_result"
    }
   ],
   "source": [
    "# TODO: \n",
    "dates = {\n",
    "    \"current_date\": datetime.today().strftime(\"%Y-%m-%d\"), # por padrão a data de hoje\n",
    "    \"past_date\": \"2021-01-05\"\n",
    "}\n",
    "\n",
    "dates"
   ]
  },
  {
   "cell_type": "code",
   "execution_count": 11,
   "metadata": {
    "ExecuteTime": {
     "end_time": "2021-01-06T01:15:27.761956Z",
     "start_time": "2021-01-06T01:15:24.740282Z"
    }
   },
   "outputs": [],
   "source": [
    "# Baixa e salva arquivos de hoje\n",
    "filename = f'data/br_cities_farolcovid_main_{dates[\"current_date\"].replace(\"-\", \"_\")}.csv'\n",
    "cities_farolcovid_reference = pd.read_csv(\"http://datasource.coronacidades.org/br/cities/farolcovid/main\")\n",
    "cities_farolcovid_reference.to_csv(filename)\n",
    "\n",
    "filename = f'data/br_states_farolcovid_main_{dates[\"current_date\"].replace(\"-\", \"_\")}.csv'\n",
    "states_farolcovid_reference = pd.read_csv(\"http://datasource.coronacidades.org/br/states/farolcovid/main\")\n",
    "states_farolcovid_reference.to_csv(filename)"
   ]
  },
  {
   "cell_type": "markdown",
   "metadata": {
    "slideshow": {
     "slide_type": "skip"
    }
   },
   "source": [
    "* Como autenticar a conta do Cloud no seu local: https://googleapis.dev/python/google-api-core/latest/auth.html"
   ]
  },
  {
   "cell_type": "code",
   "execution_count": 12,
   "metadata": {
    "ExecuteTime": {
     "end_time": "2021-01-06T01:17:34.650576Z",
     "start_time": "2021-01-06T01:17:30.843318Z"
    },
    "slideshow": {
     "slide_type": "skip"
    }
   },
   "outputs": [],
   "source": [
    "import os\n",
    "os.environ[\"GCLOUD_PROJECT\"] = \"impulso-data\"\n",
    "\n",
    "# Salva dados atuais no Storage\n",
    "from google.cloud import storage\n",
    "\n",
    "client = storage.Client()\n",
    "bucket = client.get_bucket('impulso-bucket')\n",
    "\n",
    "# Upload for cities\n",
    "blob = bucket.blob(f'farolcovid_weekly_analisys/br_cities_farolcovid_main_{dates[\"current_date\"].replace(\"-\", \"_\")}.csv')\n",
    "blob.upload_from_filename(f'data/br_cities_farolcovid_main_{dates[\"current_date\"].replace(\"-\", \"_\")}.csv')\n",
    "      \n",
    "# Upload for states\n",
    "blob = bucket.blob(f'farolcovid_weekly_analisys/br_states_farolcovid_main_{dates[\"current_date\"].replace(\"-\", \"_\")}.csv')\n",
    "blob.upload_from_filename(f'data/br_states_farolcovid_main_{dates[\"current_date\"].replace(\"-\", \"_\")}.csv')\n",
    "\n",
    "# Busca dados anteriores no Storage\n",
    "\n",
    "# Download for cities\n",
    "blob = bucket.get_blob(f'farolcovid_weekly_analisys/br_cities_farolcovid_main_{dates[\"past_date\"].replace(\"-\", \"_\")}.csv')\n",
    "blob.download_to_filename(f'data/br_cities_farolcovid_main_{dates[\"past_date\"].replace(\"-\", \"_\")}.csv')\n",
    "                          \n",
    "cities_farolcovid_past = pd.read_csv(f'data/br_cities_farolcovid_main_{dates[\"past_date\"].replace(\"-\", \"_\")}.csv')\n",
    "\n",
    "# Download for states\n",
    "blob = bucket.get_blob(f'farolcovid_weekly_analisys/br_states_farolcovid_main_{dates[\"past_date\"].replace(\"-\", \"_\")}.csv')\n",
    "blob.download_to_filename(f'data/br_states_farolcovid_main_{dates[\"past_date\"].replace(\"-\", \"_\")}.csv')\n",
    "\n",
    "states_farolcovid_past = pd.read_csv(f'data/br_states_farolcovid_main_{dates[\"past_date\"].replace(\"-\", \"_\")}.csv')"
   ]
  },
  {
   "cell_type": "code",
   "execution_count": 13,
   "metadata": {
    "ExecuteTime": {
     "end_time": "2021-01-06T00:05:44.398994Z",
     "start_time": "2021-01-06T00:05:44.335108Z"
    },
    "slideshow": {
     "slide_type": "skip"
    }
   },
   "outputs": [],
   "source": [
    "# cities_farolcovid_reference = load_csv_data(\"br_cities_farolcovid_main_2020_12_14.csv\", from_storage=True, verbose=True)\n",
    "# cities_farolcovid_past = load_csv_data(\"br_cities_farolcovid_main_2020_12_09.csv\", from_storage=True, verbose=True)\n",
    "# states_farolcovid_reference = load_csv_data(\"/farol_time_series/br_states_farolcovid_main_2020_12_14.csv\", verbose=True)\n",
    "# states_farolcovid_past = load_csv_data(\"/farol_time_series/br_states_farolcovid_main_2020_12_09.csv\", verbose=True)"
   ]
  },
  {
   "cell_type": "markdown",
   "metadata": {
    "slideshow": {
     "slide_type": "slide"
    }
   },
   "source": [
    "## Panorama Nacional"
   ]
  },
  {
   "cell_type": "code",
   "execution_count": 14,
   "metadata": {
    "ExecuteTime": {
     "end_time": "2021-01-05T22:01:06.838346Z",
     "start_time": "2021-01-05T21:55:44.800Z"
    },
    "slideshow": {
     "slide_type": "skip"
    }
   },
   "outputs": [],
   "source": [
    "# Consolidate National Data\n",
    "brazil_cases = states_cases.groupby([\"last_updated\"], as_index=False).sum()\n",
    "mavg_days = 7\n",
    "\n",
    "# Calculate National 7-Day Moving Average of Cases\n",
    "brazil_cases[\"daily_cases_mavg\"] = brazil_cases[\"daily_cases\"].rolling(mavg_days).mean()\n",
    "\n",
    "# Calculate National 7-Day Moving Average of Deaths\n",
    "brazil_cases[\"new_deaths_mavg\"] = brazil_cases[\"new_deaths\"].rolling(7).mean()"
   ]
  },
  {
   "cell_type": "markdown",
   "metadata": {
    "slideshow": {
     "slide_type": "subslide"
    }
   },
   "source": [
    "### Casos a Nível Nacional"
   ]
  },
  {
   "cell_type": "code",
   "execution_count": 15,
   "metadata": {
    "ExecuteTime": {
     "end_time": "2021-01-05T21:35:47.039158Z",
     "start_time": "2021-01-05T21:35:46.956534Z"
    },
    "slideshow": {
     "slide_type": "skip"
    }
   },
   "outputs": [],
   "source": [
    "# Lines to Plot\n",
    "daily_cases_line = ChartLine(\"Casos Diários\", \"daily_cases\", \"skyblue\")\n",
    "daily_cases_mavg_line = ChartLine(\"Média Móvel de Casos Diários (7 Dias)\", \"daily_cases_mavg\", \"royalblue\")\n",
    "\n",
    "cases_lines = [daily_cases_line, daily_cases_mavg_line]\n",
    "\n",
    "# Markers on the Chart\n",
    "cases_current_marker = Marker(current_date, \"Data de Referência\", \"last_updated\", \"daily_cases_mavg\", \"orangered\")\n",
    "cases_reference_marker = Marker(two_weeks_date, \"Duas semanas atrás\", \"last_updated\", \"daily_cases_mavg\", \"orangered\")\n",
    "\n",
    "cases_markers = [cases_current_marker, cases_reference_marker]"
   ]
  },
  {
   "cell_type": "code",
   "execution_count": 16,
   "metadata": {
    "ExecuteTime": {
     "end_time": "2021-01-05T21:35:47.874946Z",
     "start_time": "2021-01-05T21:35:47.745446Z"
    },
    "slideshow": {
     "slide_type": "slide"
    }
   },
   "outputs": [
    {
     "data": {
      "text/html": [
       "<iframe\n",
       "    scrolling=\"no\"\n",
       "    width=\"100%\"\n",
       "    height=\"545px\"\n",
       "    src=\"iframe_figures/figure_16.html\"\n",
       "    frameborder=\"0\"\n",
       "    allowfullscreen\n",
       "></iframe>\n"
      ]
     },
     "metadata": {},
     "output_type": "display_data"
    }
   ],
   "source": [
    "# Display\n",
    "display_line_chart(brazil_cases, \"last_updated\", cases_lines, \n",
    "                   cases_markers, title=\"Casos Diários no Brasil (até {:%d/%m/%Y})\".format(current_date), \n",
    "                   x_axis=\"Data\", y_axis=\"Casos\", include_annotations=True)"
   ]
  },
  {
   "cell_type": "code",
   "execution_count": 17,
   "metadata": {},
   "outputs": [],
   "source": [
    "brazil_cases_current = brazil_cases[brazil_cases[\"last_updated\"] == current_date.strftime(\"%Y-%m-%d\")]\n",
    "brazil_cases_two_weeks = brazil_cases[brazil_cases[\"last_updated\"] == two_weeks_date.strftime(\"%Y-%m-%d\")]"
   ]
  },
  {
   "cell_type": "code",
   "execution_count": 18,
   "metadata": {},
   "outputs": [
    {
     "name": "stdout",
     "output_type": "stream",
     "text": [
      "Variação percentual: 34.15\n"
     ]
    }
   ],
   "source": [
    "col = \"daily_cases_mavg\"\n",
    "\n",
    "print(\n",
    "    \"Variação percentual:\", \n",
    "    round(100*(brazil_cases_current[col].values[0] - brazil_cases_two_weeks[col].values[0]) / brazil_cases_current[col].values[0], 2)\n",
    ")"
   ]
  },
  {
   "cell_type": "markdown",
   "metadata": {
    "slideshow": {
     "slide_type": "subslide"
    }
   },
   "source": [
    "### Mortes a Nível Nacional"
   ]
  },
  {
   "cell_type": "code",
   "execution_count": 19,
   "metadata": {
    "ExecuteTime": {
     "end_time": "2021-01-05T21:05:11.347134Z",
     "start_time": "2021-01-05T21:05:11.209612Z"
    },
    "slideshow": {
     "slide_type": "skip"
    }
   },
   "outputs": [],
   "source": [
    "# Lines to Plot\n",
    "daily_deaths_line = ChartLine(\"Mortes Diárias\", \"new_deaths\", \"lightpink\")\n",
    "daily_deaths_mavg_line = ChartLine(\"Média Móvel de Mortes Diárias (7 Dias)\", \"new_deaths_mavg\", \"#EF553B\")\n",
    "\n",
    "deaths_plot_lines = [daily_deaths_line, daily_deaths_mavg_line]\n",
    "\n",
    "# Markers on the Chart\n",
    "deaths_current_marker = Marker(current_date, \"Data de Referência\", \"last_updated\", \"new_deaths_mavg\", \"royalblue\")\n",
    "deaths_reference_maker = Marker(two_weeks_date, \"Duas semanas atrás\", \"last_updated\", \"new_deaths_mavg\", \"royalblue\")\n",
    "\n",
    "deaths_markers = [deaths_current_marker, deaths_reference_maker]"
   ]
  },
  {
   "cell_type": "code",
   "execution_count": 20,
   "metadata": {
    "ExecuteTime": {
     "end_time": "2021-01-05T21:05:11.641705Z",
     "start_time": "2021-01-05T21:05:11.363823Z"
    },
    "slideshow": {
     "slide_type": "slide"
    }
   },
   "outputs": [
    {
     "data": {
      "text/html": [
       "<iframe\n",
       "    scrolling=\"no\"\n",
       "    width=\"100%\"\n",
       "    height=\"545px\"\n",
       "    src=\"iframe_figures/figure_20.html\"\n",
       "    frameborder=\"0\"\n",
       "    allowfullscreen\n",
       "></iframe>\n"
      ]
     },
     "metadata": {},
     "output_type": "display_data"
    }
   ],
   "source": [
    "# Display\n",
    "display_line_chart(brazil_cases, \"last_updated\", deaths_plot_lines, \n",
    "                   deaths_markers, title=\"Mortes Diárias no Brasil (até {:%d/%m/%Y})\".format(current_date),\n",
    "                   x_axis=\"Data\", y_axis=\"Mortes\", include_annotations=True)"
   ]
  },
  {
   "cell_type": "code",
   "execution_count": 21,
   "metadata": {},
   "outputs": [
    {
     "name": "stdout",
     "output_type": "stream",
     "text": [
      "Variação percentual: 24.72\n"
     ]
    }
   ],
   "source": [
    "col = \"new_deaths_mavg\"\n",
    "\n",
    "print(\n",
    "    \"Variação percentual:\", \n",
    "    round(100*(brazil_cases_current[col].values[0] - brazil_cases_two_weeks[col].values[0]) / brazil_cases_current[col].values[0], 2)\n",
    ")"
   ]
  },
  {
   "cell_type": "markdown",
   "metadata": {
    "slideshow": {
     "slide_type": "slide"
    }
   },
   "source": [
    "## Transmissibilidade Estimada em Capitais e Estados"
   ]
  },
  {
   "cell_type": "markdown",
   "metadata": {
    "slideshow": {
     "slide_type": "subslide"
    }
   },
   "source": [
    "### Estados"
   ]
  },
  {
   "cell_type": "code",
   "execution_count": 22,
   "metadata": {
    "ExecuteTime": {
     "end_time": "2021-01-05T21:05:43.523283Z",
     "start_time": "2021-01-05T21:05:11.646875Z"
    },
    "slideshow": {
     "slide_type": "skip"
    }
   },
   "outputs": [
    {
     "data": {
      "text/html": [
       "<iframe\n",
       "    scrolling=\"no\"\n",
       "    width=\"100%\"\n",
       "    height=\"545px\"\n",
       "    src=\"iframe_figures/figure_22.html\"\n",
       "    frameborder=\"0\"\n",
       "    allowfullscreen\n",
       "></iframe>\n"
      ]
     },
     "metadata": {},
     "output_type": "display_data"
    }
   ],
   "source": [
    "# Recover State Names\n",
    "states_rt_estimates = pd.merge(states_rt, \n",
    "                               states_cases[['state_name','state_num_id', 'state_id']], # names \n",
    "                               on=\"state_num_id\")[\n",
    "    ['state_name', 'state_id', 'Rt_most_likely', 'Rt_most_likely_mavg', 'last_updated']\n",
    "]\n",
    "\n",
    "# Display\n",
    "fig_states_rt = px.line(\n",
    "    states_rt_estimates, \n",
    "    x=\"last_updated\", \n",
    "    y=\"Rt_most_likely\", \n",
    "    color=\"state_name\",\n",
    "    title=\"Evolução da Transmissibilidade nos Estados (até {:%d/%m/%Y})\".format(current_date),\n",
    "    labels={\"state_name\":\"Estado\", \n",
    "            \"Rt_most_likely\": \"Rt Estimado (Mais Provável)\", \n",
    "            \"last_updated\":\"Data\"})\n",
    "\n",
    "fig_states_rt.add_vline(x=two_weeks_date)"
   ]
  },
  {
   "cell_type": "markdown",
   "metadata": {},
   "source": [
    "#### Estados com Rt acima de 1.2"
   ]
  },
  {
   "cell_type": "code",
   "execution_count": 23,
   "metadata": {
    "ExecuteTime": {
     "end_time": "2021-01-05T21:49:09.980468Z",
     "start_time": "2021-01-05T21:49:09.596361Z"
    }
   },
   "outputs": [
    {
     "data": {
      "text/html": [
       "<div>\n",
       "<style scoped>\n",
       "    .dataframe tbody tr th:only-of-type {\n",
       "        vertical-align: middle;\n",
       "    }\n",
       "\n",
       "    .dataframe tbody tr th {\n",
       "        vertical-align: top;\n",
       "    }\n",
       "\n",
       "    .dataframe thead th {\n",
       "        text-align: right;\n",
       "    }\n",
       "</style>\n",
       "<table border=\"1\" class=\"dataframe\">\n",
       "  <thead>\n",
       "    <tr style=\"text-align: right;\">\n",
       "      <th></th>\n",
       "      <th>state_name</th>\n",
       "      <th>state_id</th>\n",
       "      <th>Rt_most_likely</th>\n",
       "      <th>Rt_most_likely_mavg</th>\n",
       "      <th>last_updated</th>\n",
       "    </tr>\n",
       "  </thead>\n",
       "  <tbody>\n",
       "    <tr>\n",
       "      <th>271925</th>\n",
       "      <td>Amazonas</td>\n",
       "      <td>AM</td>\n",
       "      <td>1.21</td>\n",
       "      <td>1.1</td>\n",
       "      <td>2021-01-09</td>\n",
       "    </tr>\n",
       "    <tr>\n",
       "      <th>1945128</th>\n",
       "      <td>Paraná</td>\n",
       "      <td>PR</td>\n",
       "      <td>1.39</td>\n",
       "      <td>1.1</td>\n",
       "      <td>2021-01-09</td>\n",
       "    </tr>\n",
       "    <tr>\n",
       "      <th>1851540</th>\n",
       "      <td>São Paulo</td>\n",
       "      <td>SP</td>\n",
       "      <td>1.22</td>\n",
       "      <td>1.1</td>\n",
       "      <td>2021-01-09</td>\n",
       "    </tr>\n",
       "  </tbody>\n",
       "</table>\n",
       "</div>"
      ],
      "text/plain": [
       "        state_name state_id  Rt_most_likely  Rt_most_likely_mavg last_updated\n",
       "271925    Amazonas       AM            1.21                  1.1   2021-01-09\n",
       "1945128     Paraná       PR            1.39                  1.1   2021-01-09\n",
       "1851540  São Paulo       SP            1.22                  1.1   2021-01-09"
      ]
     },
     "execution_count": 23,
     "metadata": {},
     "output_type": "execute_result"
    }
   ],
   "source": [
    "states_rt_estimates[\"last_updated\"] = pd.to_datetime(states_rt_estimates[\"last_updated\"])\n",
    "\n",
    "current_rt = states_rt_estimates.loc[states_rt_estimates.groupby(\"state_id\")[\"last_updated\"].idxmax()]\n",
    "current_rt[current_rt[\"Rt_most_likely\"] > 1.2]"
   ]
  },
  {
   "cell_type": "code",
   "execution_count": 24,
   "metadata": {
    "ExecuteTime": {
     "end_time": "2021-01-05T21:49:10.150031Z",
     "start_time": "2021-01-05T21:49:09.997936Z"
    }
   },
   "outputs": [
    {
     "data": {
      "text/html": [
       "<div>\n",
       "<style scoped>\n",
       "    .dataframe tbody tr th:only-of-type {\n",
       "        vertical-align: middle;\n",
       "    }\n",
       "\n",
       "    .dataframe tbody tr th {\n",
       "        vertical-align: top;\n",
       "    }\n",
       "\n",
       "    .dataframe thead th {\n",
       "        text-align: right;\n",
       "    }\n",
       "</style>\n",
       "<table border=\"1\" class=\"dataframe\">\n",
       "  <thead>\n",
       "    <tr style=\"text-align: right;\">\n",
       "      <th></th>\n",
       "      <th>Rt_most_likely</th>\n",
       "      <th>Rt_most_likely_mavg</th>\n",
       "    </tr>\n",
       "  </thead>\n",
       "  <tbody>\n",
       "    <tr>\n",
       "      <th>count</th>\n",
       "      <td>27.000000</td>\n",
       "      <td>27.000000</td>\n",
       "    </tr>\n",
       "    <tr>\n",
       "      <th>mean</th>\n",
       "      <td>1.048519</td>\n",
       "      <td>1.011111</td>\n",
       "    </tr>\n",
       "    <tr>\n",
       "      <th>std</th>\n",
       "      <td>0.107407</td>\n",
       "      <td>0.069798</td>\n",
       "    </tr>\n",
       "    <tr>\n",
       "      <th>min</th>\n",
       "      <td>0.870000</td>\n",
       "      <td>0.900000</td>\n",
       "    </tr>\n",
       "    <tr>\n",
       "      <th>25%</th>\n",
       "      <td>0.990000</td>\n",
       "      <td>1.000000</td>\n",
       "    </tr>\n",
       "    <tr>\n",
       "      <th>50%</th>\n",
       "      <td>1.020000</td>\n",
       "      <td>1.000000</td>\n",
       "    </tr>\n",
       "    <tr>\n",
       "      <th>75%</th>\n",
       "      <td>1.100000</td>\n",
       "      <td>1.100000</td>\n",
       "    </tr>\n",
       "    <tr>\n",
       "      <th>max</th>\n",
       "      <td>1.390000</td>\n",
       "      <td>1.100000</td>\n",
       "    </tr>\n",
       "  </tbody>\n",
       "</table>\n",
       "</div>"
      ],
      "text/plain": [
       "       Rt_most_likely  Rt_most_likely_mavg\n",
       "count       27.000000            27.000000\n",
       "mean         1.048519             1.011111\n",
       "std          0.107407             0.069798\n",
       "min          0.870000             0.900000\n",
       "25%          0.990000             1.000000\n",
       "50%          1.020000             1.000000\n",
       "75%          1.100000             1.100000\n",
       "max          1.390000             1.100000"
      ]
     },
     "execution_count": 24,
     "metadata": {},
     "output_type": "execute_result"
    }
   ],
   "source": [
    "current_rt.describe()"
   ]
  },
  {
   "cell_type": "code",
   "execution_count": 25,
   "metadata": {
    "ExecuteTime": {
     "end_time": "2021-01-05T21:49:11.082196Z",
     "start_time": "2021-01-05T21:49:11.007380Z"
    }
   },
   "outputs": [
    {
     "data": {
      "text/html": [
       "<div>\n",
       "<style scoped>\n",
       "    .dataframe tbody tr th:only-of-type {\n",
       "        vertical-align: middle;\n",
       "    }\n",
       "\n",
       "    .dataframe tbody tr th {\n",
       "        vertical-align: top;\n",
       "    }\n",
       "\n",
       "    .dataframe thead th {\n",
       "        text-align: right;\n",
       "    }\n",
       "</style>\n",
       "<table border=\"1\" class=\"dataframe\">\n",
       "  <thead>\n",
       "    <tr style=\"text-align: right;\">\n",
       "      <th></th>\n",
       "      <th>state_name</th>\n",
       "      <th>state_id</th>\n",
       "      <th>Rt_most_likely</th>\n",
       "      <th>Rt_most_likely_mavg</th>\n",
       "      <th>last_updated</th>\n",
       "    </tr>\n",
       "  </thead>\n",
       "  <tbody>\n",
       "    <tr>\n",
       "      <th>716219</th>\n",
       "      <td>Maranhão</td>\n",
       "      <td>MA</td>\n",
       "      <td>0.87</td>\n",
       "      <td>0.9</td>\n",
       "      <td>2021-01-09</td>\n",
       "    </tr>\n",
       "  </tbody>\n",
       "</table>\n",
       "</div>"
      ],
      "text/plain": [
       "       state_name state_id  Rt_most_likely  Rt_most_likely_mavg last_updated\n",
       "716219   Maranhão       MA            0.87                  0.9   2021-01-09"
      ]
     },
     "execution_count": 25,
     "metadata": {},
     "output_type": "execute_result"
    }
   ],
   "source": [
    "current_rt[current_rt[\"Rt_most_likely\"] == current_rt[\"Rt_most_likely\"].min()]"
   ]
  },
  {
   "cell_type": "code",
   "execution_count": 26,
   "metadata": {
    "ExecuteTime": {
     "end_time": "2021-01-05T21:49:12.279834Z",
     "start_time": "2021-01-05T21:49:12.193662Z"
    }
   },
   "outputs": [
    {
     "data": {
      "text/html": [
       "<div>\n",
       "<style scoped>\n",
       "    .dataframe tbody tr th:only-of-type {\n",
       "        vertical-align: middle;\n",
       "    }\n",
       "\n",
       "    .dataframe tbody tr th {\n",
       "        vertical-align: top;\n",
       "    }\n",
       "\n",
       "    .dataframe thead th {\n",
       "        text-align: right;\n",
       "    }\n",
       "</style>\n",
       "<table border=\"1\" class=\"dataframe\">\n",
       "  <thead>\n",
       "    <tr style=\"text-align: right;\">\n",
       "      <th></th>\n",
       "      <th>state_name</th>\n",
       "      <th>state_id</th>\n",
       "      <th>Rt_most_likely</th>\n",
       "      <th>Rt_most_likely_mavg</th>\n",
       "      <th>last_updated</th>\n",
       "    </tr>\n",
       "  </thead>\n",
       "  <tbody>\n",
       "    <tr>\n",
       "      <th>1945128</th>\n",
       "      <td>Paraná</td>\n",
       "      <td>PR</td>\n",
       "      <td>1.39</td>\n",
       "      <td>1.1</td>\n",
       "      <td>2021-01-09</td>\n",
       "    </tr>\n",
       "  </tbody>\n",
       "</table>\n",
       "</div>"
      ],
      "text/plain": [
       "        state_name state_id  Rt_most_likely  Rt_most_likely_mavg last_updated\n",
       "1945128     Paraná       PR            1.39                  1.1   2021-01-09"
      ]
     },
     "execution_count": 26,
     "metadata": {},
     "output_type": "execute_result"
    }
   ],
   "source": [
    "current_rt[current_rt[\"Rt_most_likely\"] == current_rt[\"Rt_most_likely\"].max()]"
   ]
  },
  {
   "cell_type": "markdown",
   "metadata": {
    "slideshow": {
     "slide_type": "subslide"
    }
   },
   "source": [
    "### Capitais"
   ]
  },
  {
   "cell_type": "code",
   "execution_count": 27,
   "metadata": {
    "ExecuteTime": {
     "end_time": "2021-01-05T21:05:51.409169Z",
     "start_time": "2021-01-05T21:05:49.200580Z"
    },
    "slideshow": {
     "slide_type": "skip"
    }
   },
   "outputs": [
    {
     "data": {
      "text/html": [
       "<iframe\n",
       "    scrolling=\"no\"\n",
       "    width=\"100%\"\n",
       "    height=\"545px\"\n",
       "    src=\"iframe_figures/figure_27.html\"\n",
       "    frameborder=\"0\"\n",
       "    allowfullscreen\n",
       "></iframe>\n"
      ]
     },
     "metadata": {},
     "output_type": "display_data"
    }
   ],
   "source": [
    "# Recover City Names and Select Capitals\n",
    "capitals_rt_estimates = pd.merge(\n",
    "    cities_rt, \n",
    "    cities_cases[cities_cases[\"city_id\"].isin(capitals_id)][['city_name', 'city_id']], # names\n",
    "    on=\"city_id\")[\n",
    "    ['city_name', 'Rt_most_likely', 'Rt_most_likely_mavg', 'last_updated']\n",
    "]\n",
    "\n",
    "# Eliminate Possible Duplicate Entries by Taking the Mean\n",
    "capitals_rt_estimates = capitals_rt_estimates.groupby(['city_name', 'last_updated'], as_index=False).mean()\n",
    "\n",
    "# Display\n",
    "fig_capitals_rt = px.line(\n",
    "    capitals_rt_estimates, \n",
    "    x=\"last_updated\", \n",
    "    y=\"Rt_most_likely\", \n",
    "    color=\"city_name\", \n",
    "    title=\"Evolução da Transmissibilidade nas Capitais (até {:%d/%m/%Y})\".format(current_date),\n",
    "    labels={\"city_name\": \"Capital\", \n",
    "            \"Rt_most_likely\": \"Rt Estimado mais provável (até {:%d/%m/%Y})\".format(current_date), \n",
    "            \"last_updated\": \"Data\"})\n",
    "\n",
    "fig_capitals_rt.add_vline(x=two_weeks_date)"
   ]
  },
  {
   "cell_type": "markdown",
   "metadata": {},
   "source": [
    "#### Estatísticas gerais sobre Rt de capitais"
   ]
  },
  {
   "cell_type": "code",
   "execution_count": 28,
   "metadata": {
    "ExecuteTime": {
     "end_time": "2021-01-05T21:45:09.602036Z",
     "start_time": "2021-01-05T21:45:09.478593Z"
    }
   },
   "outputs": [
    {
     "data": {
      "text/html": [
       "<div>\n",
       "<style scoped>\n",
       "    .dataframe tbody tr th:only-of-type {\n",
       "        vertical-align: middle;\n",
       "    }\n",
       "\n",
       "    .dataframe tbody tr th {\n",
       "        vertical-align: top;\n",
       "    }\n",
       "\n",
       "    .dataframe thead th {\n",
       "        text-align: right;\n",
       "    }\n",
       "</style>\n",
       "<table border=\"1\" class=\"dataframe\">\n",
       "  <thead>\n",
       "    <tr style=\"text-align: right;\">\n",
       "      <th></th>\n",
       "      <th>city_name</th>\n",
       "      <th>last_updated</th>\n",
       "      <th>Rt_most_likely</th>\n",
       "      <th>Rt_most_likely_mavg</th>\n",
       "    </tr>\n",
       "  </thead>\n",
       "  <tbody>\n",
       "  </tbody>\n",
       "</table>\n",
       "</div>"
      ],
      "text/plain": [
       "Empty DataFrame\n",
       "Columns: [city_name, last_updated, Rt_most_likely, Rt_most_likely_mavg]\n",
       "Index: []"
      ]
     },
     "execution_count": 28,
     "metadata": {},
     "output_type": "execute_result"
    }
   ],
   "source": [
    "# Acima de 1.2\n",
    "capitals_rt_estimates[\"last_updated\"] = pd.to_datetime(capitals_rt_estimates[\"last_updated\"])\n",
    "\n",
    "current_rt = capitals_rt_estimates.loc[capitals_rt_estimates.groupby(\"city_name\")[\"last_updated\"].idxmax()]\n",
    "current_rt[current_rt[\"Rt_most_likely\"] > 1.2]"
   ]
  },
  {
   "cell_type": "code",
   "execution_count": 29,
   "metadata": {
    "ExecuteTime": {
     "end_time": "2021-01-05T21:46:33.291897Z",
     "start_time": "2021-01-05T21:46:33.199394Z"
    }
   },
   "outputs": [
    {
     "data": {
      "text/html": [
       "<div>\n",
       "<style scoped>\n",
       "    .dataframe tbody tr th:only-of-type {\n",
       "        vertical-align: middle;\n",
       "    }\n",
       "\n",
       "    .dataframe tbody tr th {\n",
       "        vertical-align: top;\n",
       "    }\n",
       "\n",
       "    .dataframe thead th {\n",
       "        text-align: right;\n",
       "    }\n",
       "</style>\n",
       "<table border=\"1\" class=\"dataframe\">\n",
       "  <thead>\n",
       "    <tr style=\"text-align: right;\">\n",
       "      <th></th>\n",
       "      <th>Rt_most_likely</th>\n",
       "      <th>Rt_most_likely_mavg</th>\n",
       "    </tr>\n",
       "  </thead>\n",
       "  <tbody>\n",
       "    <tr>\n",
       "      <th>count</th>\n",
       "      <td>27.000000</td>\n",
       "      <td>27.000000</td>\n",
       "    </tr>\n",
       "    <tr>\n",
       "      <th>mean</th>\n",
       "      <td>1.024815</td>\n",
       "      <td>1.014815</td>\n",
       "    </tr>\n",
       "    <tr>\n",
       "      <th>std</th>\n",
       "      <td>0.076930</td>\n",
       "      <td>0.081824</td>\n",
       "    </tr>\n",
       "    <tr>\n",
       "      <th>min</th>\n",
       "      <td>0.830000</td>\n",
       "      <td>0.800000</td>\n",
       "    </tr>\n",
       "    <tr>\n",
       "      <th>25%</th>\n",
       "      <td>0.970000</td>\n",
       "      <td>1.000000</td>\n",
       "    </tr>\n",
       "    <tr>\n",
       "      <th>50%</th>\n",
       "      <td>1.020000</td>\n",
       "      <td>1.000000</td>\n",
       "    </tr>\n",
       "    <tr>\n",
       "      <th>75%</th>\n",
       "      <td>1.055000</td>\n",
       "      <td>1.100000</td>\n",
       "    </tr>\n",
       "    <tr>\n",
       "      <th>max</th>\n",
       "      <td>1.200000</td>\n",
       "      <td>1.200000</td>\n",
       "    </tr>\n",
       "  </tbody>\n",
       "</table>\n",
       "</div>"
      ],
      "text/plain": [
       "       Rt_most_likely  Rt_most_likely_mavg\n",
       "count       27.000000            27.000000\n",
       "mean         1.024815             1.014815\n",
       "std          0.076930             0.081824\n",
       "min          0.830000             0.800000\n",
       "25%          0.970000             1.000000\n",
       "50%          1.020000             1.000000\n",
       "75%          1.055000             1.100000\n",
       "max          1.200000             1.200000"
      ]
     },
     "execution_count": 29,
     "metadata": {},
     "output_type": "execute_result"
    }
   ],
   "source": [
    "current_rt.describe()"
   ]
  },
  {
   "cell_type": "code",
   "execution_count": 30,
   "metadata": {
    "ExecuteTime": {
     "end_time": "2021-01-05T21:47:38.698921Z",
     "start_time": "2021-01-05T21:47:38.620518Z"
    }
   },
   "outputs": [
    {
     "data": {
      "text/html": [
       "<div>\n",
       "<style scoped>\n",
       "    .dataframe tbody tr th:only-of-type {\n",
       "        vertical-align: middle;\n",
       "    }\n",
       "\n",
       "    .dataframe tbody tr th {\n",
       "        vertical-align: top;\n",
       "    }\n",
       "\n",
       "    .dataframe thead th {\n",
       "        text-align: right;\n",
       "    }\n",
       "</style>\n",
       "<table border=\"1\" class=\"dataframe\">\n",
       "  <thead>\n",
       "    <tr style=\"text-align: right;\">\n",
       "      <th></th>\n",
       "      <th>city_name</th>\n",
       "      <th>last_updated</th>\n",
       "      <th>Rt_most_likely</th>\n",
       "      <th>Rt_most_likely_mavg</th>\n",
       "    </tr>\n",
       "  </thead>\n",
       "  <tbody>\n",
       "    <tr>\n",
       "      <th>2121</th>\n",
       "      <td>Curitiba</td>\n",
       "      <td>2021-01-09</td>\n",
       "      <td>0.83</td>\n",
       "      <td>0.8</td>\n",
       "    </tr>\n",
       "  </tbody>\n",
       "</table>\n",
       "</div>"
      ],
      "text/plain": [
       "     city_name last_updated  Rt_most_likely  Rt_most_likely_mavg\n",
       "2121  Curitiba   2021-01-09            0.83                  0.8"
      ]
     },
     "execution_count": 30,
     "metadata": {},
     "output_type": "execute_result"
    }
   ],
   "source": [
    "current_rt[current_rt[\"Rt_most_likely\"] == current_rt[\"Rt_most_likely\"].min()]"
   ]
  },
  {
   "cell_type": "code",
   "execution_count": 31,
   "metadata": {
    "ExecuteTime": {
     "end_time": "2021-01-05T21:47:44.156175Z",
     "start_time": "2021-01-05T21:47:44.084722Z"
    }
   },
   "outputs": [
    {
     "data": {
      "text/html": [
       "<div>\n",
       "<style scoped>\n",
       "    .dataframe tbody tr th:only-of-type {\n",
       "        vertical-align: middle;\n",
       "    }\n",
       "\n",
       "    .dataframe tbody tr th {\n",
       "        vertical-align: top;\n",
       "    }\n",
       "\n",
       "    .dataframe thead th {\n",
       "        text-align: right;\n",
       "    }\n",
       "</style>\n",
       "<table border=\"1\" class=\"dataframe\">\n",
       "  <thead>\n",
       "    <tr style=\"text-align: right;\">\n",
       "      <th></th>\n",
       "      <th>city_name</th>\n",
       "      <th>last_updated</th>\n",
       "      <th>Rt_most_likely</th>\n",
       "      <th>Rt_most_likely_mavg</th>\n",
       "    </tr>\n",
       "  </thead>\n",
       "  <tbody>\n",
       "    <tr>\n",
       "      <th>4182</th>\n",
       "      <td>Manaus</td>\n",
       "      <td>2021-01-09</td>\n",
       "      <td>1.2</td>\n",
       "      <td>1.2</td>\n",
       "    </tr>\n",
       "  </tbody>\n",
       "</table>\n",
       "</div>"
      ],
      "text/plain": [
       "     city_name last_updated  Rt_most_likely  Rt_most_likely_mavg\n",
       "4182    Manaus   2021-01-09             1.2                  1.2"
      ]
     },
     "execution_count": 31,
     "metadata": {},
     "output_type": "execute_result"
    }
   ],
   "source": [
    "current_rt[current_rt[\"Rt_most_likely\"] == current_rt[\"Rt_most_likely\"].max()]"
   ]
  },
  {
   "cell_type": "markdown",
   "metadata": {
    "slideshow": {
     "slide_type": "slide"
    }
   },
   "source": [
    "## Ausência de Dados"
   ]
  },
  {
   "cell_type": "markdown",
   "metadata": {
    "slideshow": {
     "slide_type": "subslide"
    }
   },
   "source": [
    "### Reporte Estadual"
   ]
  },
  {
   "cell_type": "code",
   "execution_count": 32,
   "metadata": {
    "ExecuteTime": {
     "end_time": "2021-01-05T21:05:51.607147Z",
     "start_time": "2021-01-05T21:05:51.519478Z"
    },
    "scrolled": true,
    "slideshow": {
     "slide_type": "skip"
    }
   },
   "outputs": [],
   "source": [
    "# Get Data from past 30 days of states\n",
    "states_cases[\"last_updated\"] = states_cases[\"last_updated\"].astype(\"datetime64\")\n",
    "missing_state_data = states_cases[states_cases['last_updated'] > month_date][\n",
    "    ['state_id', 'last_updated']\n",
    "]\n",
    "\n",
    "# Count states Missing Report Days over past 30 days\n",
    "missing_state_data = 30 - missing_state_data.groupby(['state_id'], as_index=True).count()\n",
    "missing_state_data = missing_state_data.sort_values(\"last_updated\", ascending=True)"
   ]
  },
  {
   "cell_type": "code",
   "execution_count": 33,
   "metadata": {
    "ExecuteTime": {
     "end_time": "2021-01-05T21:05:51.781258Z",
     "start_time": "2021-01-05T21:05:51.612497Z"
    },
    "slideshow": {
     "slide_type": "slide"
    }
   },
   "outputs": [
    {
     "data": {
      "text/html": [
       "<iframe\n",
       "    scrolling=\"no\"\n",
       "    width=\"100%\"\n",
       "    height=\"545px\"\n",
       "    src=\"iframe_figures/figure_33.html\"\n",
       "    frameborder=\"0\"\n",
       "    allowfullscreen\n",
       "></iframe>\n"
      ]
     },
     "metadata": {},
     "output_type": "display_data"
    }
   ],
   "source": [
    "# Display\n",
    "display_bar_chart(missing_state_data, \n",
    "                  title=\"Número de Dias sem Reporte de Dados nos Estados (últimos 30 dias, desde {:%d/%m/%Y})\".format(month_date), \n",
    "                  x_axis=\"Estados\", y_axis=\"Número de dias\")"
   ]
  },
  {
   "cell_type": "markdown",
   "metadata": {
    "slideshow": {
     "slide_type": "subslide"
    }
   },
   "source": [
    "### Reporte das Capitais"
   ]
  },
  {
   "cell_type": "code",
   "execution_count": 34,
   "metadata": {
    "ExecuteTime": {
     "end_time": "2021-01-05T21:05:52.579070Z",
     "start_time": "2021-01-05T21:05:51.784925Z"
    },
    "slideshow": {
     "slide_type": "skip"
    }
   },
   "outputs": [],
   "source": [
    "# Get Data from past 30 days of Capital cities\n",
    "cities_cases[\"last_updated\"] = cities_cases[\"last_updated\"].astype(\"datetime64\")\n",
    "missing_capital_data = cities_cases[\n",
    "    (cities_cases[\"last_updated\"] > month_date) & (cities_cases[\"city_id\"].isin(capitals_id))\n",
    "]\n",
    "\n",
    "# Count Capital Missing Report Days over past 30 days\n",
    "missing_capital_data = missing_capital_data[missing_capital_data[\"is_repeated\"] == True].groupby(\"city_name\")\n",
    "missing_capital_data = missing_capital_data.count()[[\"is_repeated\"]]\n",
    "\n",
    "missing_capital_data = (\n",
    "    missing_capital_data.reindex(capitals_states.keys(), fill_value=0).sort_values(\"is_repeated\", ascending=True)\n",
    ")"
   ]
  },
  {
   "cell_type": "code",
   "execution_count": 35,
   "metadata": {
    "ExecuteTime": {
     "end_time": "2021-01-05T21:05:52.773238Z",
     "start_time": "2021-01-05T21:05:52.584107Z"
    },
    "slideshow": {
     "slide_type": "slide"
    }
   },
   "outputs": [
    {
     "data": {
      "text/html": [
       "<iframe\n",
       "    scrolling=\"no\"\n",
       "    width=\"100%\"\n",
       "    height=\"545px\"\n",
       "    src=\"iframe_figures/figure_35.html\"\n",
       "    frameborder=\"0\"\n",
       "    allowfullscreen\n",
       "></iframe>\n"
      ]
     },
     "metadata": {},
     "output_type": "display_data"
    }
   ],
   "source": [
    "# Display\n",
    "display_bar_chart(missing_capital_data, \n",
    "    title=\"Número de Dias sem Reporte de Dados nas Capitais (últimos 30 dias, desde {:%d/%m/%Y})\".format(month_date), \n",
    "    x_axis=\"Capital\", y_axis=\"Número de dias\")"
   ]
  },
  {
   "cell_type": "markdown",
   "metadata": {
    "slideshow": {
     "slide_type": "slide"
    }
   },
   "source": [
    "## Evolução dos Níveis de Alerta"
   ]
  },
  {
   "cell_type": "code",
   "execution_count": 36,
   "metadata": {
    "ExecuteTime": {
     "end_time": "2021-01-06T00:05:46.675373Z",
     "start_time": "2021-01-06T00:05:44.404627Z"
    },
    "slideshow": {
     "slide_type": "skip"
    }
   },
   "outputs": [
    {
     "name": "stderr",
     "output_type": "stream",
     "text": [
      "/usr/local/lib/python3.9/site-packages/geopandas/geodataframe.py:422: RuntimeWarning:\n",
      "\n",
      "Sequential read of iterator was interrupted. Resetting iterator. This can negatively impact the performance.\n",
      "\n"
     ]
    }
   ],
   "source": [
    "# Load Geographical Data\n",
    "country_geojson = geopandas_to_geojson( geobr.read_country(year=2019) )\n",
    "\n",
    "# Define Alert Level Colors\n",
    "level_colors = {\n",
    "    3 : \"#F02C2E\",\n",
    "    2 : \"#F77800\",\n",
    "    1 : \"#F7B500\",\n",
    "    0 : \"#0090A7\",\n",
    "    -1 : \"#A8BFD2\"\n",
    "}\n",
    "\n",
    "# Define Alert Level Numerical Values\n",
    "level_labels = {\n",
    "    3 : \"Altíssimo\",\n",
    "    2 : \"Alto\",\n",
    "    1 : \"Moderado\",\n",
    "    0 : \"Novo Normal\",\n",
    "    -1 : \"Sem Dados\"\n",
    "}\n",
    "\n",
    "legend = {\n",
    "    \"#F02C2E\" : \"Altíssimo\",\n",
    "    \"#F77800\" : \"Alto\",\n",
    "    \"#F7B500\" : \"Moderado\",\n",
    "    \"#0090A7\" : \"Novo Normal\",\n",
    "    \"#A8BFD2\" : \"Sem Dados\"\n",
    "}"
   ]
  },
  {
   "cell_type": "markdown",
   "metadata": {
    "slideshow": {
     "slide_type": "subslide"
    }
   },
   "source": [
    "### Estados"
   ]
  },
  {
   "cell_type": "code",
   "execution_count": 37,
   "metadata": {
    "ExecuteTime": {
     "end_time": "2021-01-06T01:17:54.793518Z",
     "start_time": "2021-01-06T01:17:54.728328Z"
    },
    "slideshow": {
     "slide_type": "skip"
    }
   },
   "outputs": [],
   "source": [
    "# Select Relevant Columns\n",
    "states_farolcovid_reference = states_farolcovid_reference[['state_id', 'state_name', 'overall_alert']]\n",
    "states_farolcovid_past = states_farolcovid_past[['state_id', 'state_name', 'overall_alert']]\n",
    "\n",
    "# Replace NaNs values\n",
    "states_farolcovid_reference['overall_alert'] = states_farolcovid_reference['overall_alert'].fillna(-1)\n",
    "states_farolcovid_past['overall_alert'] = states_farolcovid_past['overall_alert'].fillna(-1)\n",
    "\n",
    "# Genarate maps\n",
    "states_reference_geomap = GeoMap(data=states_farolcovid_reference, \n",
    "                                 geojson=country_geojson, \n",
    "                                 color_column=\"overall_alert\", \n",
    "                                 locations_column=\"state_id\", \n",
    "                                 featureid_key=\"properties.abbrev_state\", \n",
    "                                 level_colors=level_colors,\n",
    "                                 level_labels=level_labels,\n",
    "                                 title=dates[\"current_date\"]\n",
    "                                ) \n",
    "\n",
    "states_past_geomap = GeoMap(data=states_farolcovid_past, \n",
    "                            geojson=country_geojson, \n",
    "                            color_column=\"overall_alert\", \n",
    "                            locations_column=\"state_id\", \n",
    "                            featureid_key=\"properties.abbrev_state\", \n",
    "                            level_colors=level_colors,\n",
    "                            level_labels=level_labels,\n",
    "                            title=dates[\"past_date\"]\n",
    "                            ) \n",
    "\n",
    "states_geomaps = [states_past_geomap, states_reference_geomap]"
   ]
  },
  {
   "cell_type": "code",
   "execution_count": 38,
   "metadata": {
    "ExecuteTime": {
     "end_time": "2021-01-06T01:18:16.296950Z",
     "start_time": "2021-01-06T01:17:54.990463Z"
    },
    "slideshow": {
     "slide_type": "slide"
    }
   },
   "outputs": [
    {
     "data": {
      "text/html": [
       "<iframe\n",
       "    scrolling=\"no\"\n",
       "    width=\"100%\"\n",
       "    height=\"545px\"\n",
       "    src=\"iframe_figures/figure_38.html\"\n",
       "    frameborder=\"0\"\n",
       "    allowfullscreen\n",
       "></iframe>\n"
      ]
     },
     "metadata": {},
     "output_type": "display_data"
    }
   ],
   "source": [
    "# Display\n",
    "build_choropleth_maps(states_geomaps, center_lon=-47.92, \n",
    "                      center_lat=-15.82, default_zoom=2, \n",
    "                      general_title = \"Níveis de Alerta nos Estados\")"
   ]
  },
  {
   "cell_type": "markdown",
   "metadata": {
    "slideshow": {
     "slide_type": "subslide"
    }
   },
   "source": [
    "### Capitais"
   ]
  },
  {
   "cell_type": "code",
   "execution_count": 39,
   "metadata": {
    "ExecuteTime": {
     "end_time": "2021-01-06T01:18:16.390971Z",
     "start_time": "2021-01-06T01:18:16.302065Z"
    },
    "slideshow": {
     "slide_type": "skip"
    }
   },
   "outputs": [],
   "source": [
    "# Select Relevant Columns\n",
    "cities_farolcovid_reference = cities_farolcovid_reference[['state_id', 'city_name', 'overall_alert']]\n",
    "cities_farolcovid_reference[\"city_state\"] = cities_farolcovid_reference['state_id'] + cities_farolcovid_reference['city_name']\n",
    "\n",
    "cities_farolcovid_past = cities_farolcovid_past[['state_id', 'city_name', 'overall_alert']]\n",
    "cities_farolcovid_past[\"city_state\"] = cities_farolcovid_past['state_id'] + cities_farolcovid_past['city_name']\n",
    "\n",
    "# Select Capitals\n",
    "city_state = [state+city for city, state in capitals_states.items()]\n",
    "\n",
    "cities_farolcovid_reference = cities_farolcovid_reference[ \n",
    "    (cities_farolcovid_reference['city_state'].isin(city_state))\n",
    "]\n",
    "\n",
    "cities_farolcovid_past = cities_farolcovid_past[ \n",
    "    (cities_farolcovid_past['city_state'].isin(city_state))\n",
    "]\n",
    "\n",
    "# Replace NaNs values\n",
    "cities_farolcovid_reference['overall_alert'] = cities_farolcovid_reference['overall_alert'].fillna(-1)\n",
    "cities_farolcovid_past['overall_alert'] = cities_farolcovid_past['overall_alert'].fillna(-1)\n",
    "\n",
    "# Generate maps\n",
    "cities_reference_geomap = GeoMap(data=cities_farolcovid_reference, \n",
    "                             geojson=country_geojson, \n",
    "                             color_column=\"overall_alert\", \n",
    "                             locations_column=\"state_id\", \n",
    "                             featureid_key=\"properties.abbrev_state\", \n",
    "                             level_colors=level_colors,\n",
    "                             level_labels=level_labels,\n",
    "                             title=dates[\"current_date\"]\n",
    "                            ) \n",
    "\n",
    "cities_past_geomap = GeoMap(data=cities_farolcovid_past, \n",
    "                             geojson=country_geojson, \n",
    "                             color_column=\"overall_alert\", \n",
    "                             locations_column=\"state_id\", \n",
    "                             featureid_key=\"properties.abbrev_state\", \n",
    "                             level_colors=level_colors,\n",
    "                             level_labels=level_labels,\n",
    "                             title=dates[\"past_date\"]\n",
    "                            ) \n",
    "\n",
    "cities_geomaps = [cities_past_geomap, cities_reference_geomap]"
   ]
  },
  {
   "cell_type": "code",
   "execution_count": 40,
   "metadata": {
    "ExecuteTime": {
     "end_time": "2021-01-06T01:18:34.796985Z",
     "start_time": "2021-01-06T01:18:16.395851Z"
    },
    "slideshow": {
     "slide_type": "slide"
    }
   },
   "outputs": [
    {
     "data": {
      "text/html": [
       "<iframe\n",
       "    scrolling=\"no\"\n",
       "    width=\"100%\"\n",
       "    height=\"545px\"\n",
       "    src=\"iframe_figures/figure_40.html\"\n",
       "    frameborder=\"0\"\n",
       "    allowfullscreen\n",
       "></iframe>\n"
      ]
     },
     "metadata": {},
     "output_type": "display_data"
    }
   ],
   "source": [
    "# Display\n",
    "build_choropleth_maps(cities_geomaps, center_lon=-47.92, \n",
    "                      center_lat=-15.82, default_zoom=2, \n",
    "                      general_title=\"Níveis de Alerta nas Capitais\")"
   ]
  },
  {
   "cell_type": "markdown",
   "metadata": {
    "slideshow": {
     "slide_type": "slide"
    }
   },
   "source": [
    "## Melhorias para o Futuro\n",
    "\n",
    "O trecho a seguir contém ideias para futuros relatórios semanais. Possíveis melhorias incluem:\n",
    "\n",
    "#### Visão Estadual da Porcentagem dos Municipios com Dados Faltantes\n",
    "\n",
    "Desde já, conseguimos contabilizar a quantidade de dados faltantes nos municípios. Uma nova estatística interessante seria a porcentagem de municípios em cada estado com dados faltantes. Isso poderia ser visualizado como um mapa ou até mesmo um gráfico de barras.\n",
    "\n",
    "#### Construção de Série Histórica dos Níveis de Alerta\n",
    "\n",
    "Como sabemos, o Farol Covid não mantém uma série histórica de níveis de alerta. Contudo, uma série histórica desses níveis seria particularmente útil para acompanhar a situação de um município ou estado ao longo da pandemia. Como o volume de dados é grande, uma série histórica inicial poderia contabilizar apenas os níveis de alerta dos estados e capitais. Basta construir um programa que regularmente baixe os dados de nível de alerta do Farol e atualize um arquivo CSV pre-existente junto com data da coleta. Uma ideia futura seria interligar essa coleta automatizada a algum serviço como o projeto [Base dos Dados](https://basedosdados.org/) através da API deles.\n",
    "\n",
    "#### Comparação das Aproximações de Rt com Outros Projetos\n",
    "\n",
    "Através de inferência bayesiana, o Farol Covid aproxima a distribuição do Rt, o número de reprodução efetivo da doença, em diferentes locais. Outros projetos no Brasil também aproximam esses valores por outros métodos. Comparações de aproximações do Farol com outros projetos seriam ferramentas úteis de diagnóstico para o nosso modelo.\n",
    "\n",
    "#### Exibição de Indicadores Secundários nos Mapas de Nível de Alerta\n",
    "\n",
    "Embora o Farol Covid indique um nível de alerta geral para cada localidade, há também níveis de alerta secundários. Temos níveis de alerta para:\n",
    "\n",
    "* Situação da Doença\n",
    "* Controle da Doença\n",
    "* Capacidade do Sistema\n",
    "* Confiança dos Dados\n",
    "\n",
    "Tais indicadores poderiam ser adicionados até mesmo de forma sútil aos mapas de nível de alerta geral (por exemplo, no *hover text* ao selecionar um estado). Através desses indicadores secundários, seria possível identificar os principais motivos pelo aumento do nível de  alerta geral em uma determinada localidade.\n",
    "\n",
    "#### Informações sobre Falta de Leitos\n",
    "\n",
    "Dados sobre localidades com ausência iminente de leitos COVID-19 seriam particularmente úteis para alertar regiões em risco. Tais dados poderiam ser exibidos como uma lista das localidades com as situações mais críticas."
   ]
  }
 ],
 "metadata": {
  "kernelspec": {
   "display_name": "Python 3.7.4 64-bit",
   "language": "python",
   "name": "python37464bit8c0f3c0fc31e44ad834b5be2d676fcdd"
  },
  "language_info": {
   "codemirror_mode": {
    "name": "ipython",
    "version": 3
   },
   "file_extension": ".py",
   "mimetype": "text/x-python",
   "name": "python",
   "nbconvert_exporter": "python",
   "pygments_lexer": "ipython3",
   "version": "3.9.1"
  },
  "latex_envs": {
   "LaTeX_envs_menu_present": true,
   "autoclose": false,
   "autocomplete": true,
   "bibliofile": "biblio.bib",
   "cite_by": "apalike",
   "current_citInitial": 1,
   "eqLabelWithNumbers": true,
   "eqNumInitial": 1,
   "hotkeys": {
    "equation": "Ctrl-E",
    "itemize": "Ctrl-I"
   },
   "labels_anchors": false,
   "latex_user_defs": false,
   "report_style_numbering": false,
   "user_envs_cfg": false
  },
  "toc": {
   "base_numbering": 1,
   "nav_menu": {},
   "number_sections": true,
   "sideBar": true,
   "skip_h1_title": true,
   "title_cell": "Table of Contents",
   "title_sidebar": "Contents",
   "toc_cell": true,
   "toc_position": {},
   "toc_section_display": true,
   "toc_window_display": false
  },
  "varInspector": {
   "cols": {
    "lenName": 16,
    "lenType": 16,
    "lenVar": 40
   },
   "kernels_config": {
    "python": {
     "delete_cmd_postfix": "",
     "delete_cmd_prefix": "del ",
     "library": "var_list.py",
     "varRefreshCmd": "print(var_dic_list())"
    },
    "r": {
     "delete_cmd_postfix": ") ",
     "delete_cmd_prefix": "rm(",
     "library": "var_list.r",
     "varRefreshCmd": "cat(var_dic_list()) "
    }
   },
   "types_to_exclude": [
    "module",
    "function",
    "builtin_function_or_method",
    "instance",
    "_Feature"
   ],
   "window_display": false
  }
 },
 "nbformat": 4,
 "nbformat_minor": 4
}
