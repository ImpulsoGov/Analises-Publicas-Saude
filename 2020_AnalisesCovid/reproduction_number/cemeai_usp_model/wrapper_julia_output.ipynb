{
 "cells": [
  {
   "cell_type": "code",
   "execution_count": 17,
   "metadata": {},
   "outputs": [],
   "source": [
    "import CSV\n",
    "import DataFrames\n",
    "import Dates\n",
    "using Plots\n",
    "using Printf\n",
    "using Dates\n",
    "import Pandas\n",
    "pyplot()\n",
    "default(titlefont = 12)\n",
    "include(\"rt_regularization_tv.jl\");"
   ]
  },
  {
   "cell_type": "code",
   "execution_count": 24,
   "metadata": {},
   "outputs": [],
   "source": [
    "capital_names = [\"Rio Branco\", \"Maceió\", \"Macapá\", \"Manaus\", \"Salvador\", \"Fortaleza\", \"Brasília\",  \"Vitória\",\n",
    " \"Goiânia\", \"São Luís\", \"Cuiabá\", \"Campo Grande\", \"Belo Horizonte\", \"Belém\", \"João Pessoa\", \"Curitiba\", \"Recife\",\n",
    " \"Teresina\", \"Rio de Janeiro\", \"Natal\", \"Porto Alegre\", \"Porto Velho\", \"Boa Vista\", \"Florianópolis\", \"São Paulo\", \"Aracaju\", \"Palmas\"];\n"
   ]
  },
  {
   "cell_type": "code",
   "execution_count": 25,
   "metadata": {},
   "outputs": [
    {
     "name": "stdout",
     "output_type": "stream",
     "text": [
      "infectados_Rio Branco.txt\n"
     ]
    }
   ],
   "source": [
    "cidade = capital_names[1]\n",
    "println(\"infectados_$cidade.txt\")"
   ]
  },
  {
   "cell_type": "code",
   "execution_count": 26,
   "metadata": {},
   "outputs": [
    {
     "name": "stdout",
     "output_type": "stream",
     "text": [
      "63\n",
      "72\n",
      "60\n",
      "67\n",
      "67\n",
      "64\n",
      "73\n",
      "61\n",
      "68\n",
      "60\n",
      "60\n",
      "66\n",
      "64\n",
      "62\n",
      "62\n",
      "68\n",
      "68\n",
      "61\n",
      "74\n",
      "68\n",
      "69\n",
      "59\n",
      "3\n",
      "68\n",
      "79\n",
      "66\n",
      "62\n"
     ]
    }
   ],
   "source": [
    "using DelimitedFiles\n",
    "\n",
    "for i = 1:length(capital_names)\n",
    "    selected_city = capital_names[i];\n",
    "    infectados = readdlm(\"infected_capitals/infectados_$selected_city.txt\", ',');\n",
    "    # Estima dados do modelo\n",
    "    inf_est, rt_est = estima_rt_total_var(infectados)        \n",
    "    writedlm(\"rt_est_capitals/rt_est_$selected_city.txt\", rt_est)\n",
    "    println(length(rt_est));\n",
    "end       \n",
    "        "
   ]
  }
 ],
 "metadata": {
  "kernelspec": {
   "display_name": "Julia 1.4.2",
   "language": "julia",
   "name": "julia-1.4"
  },
  "language_info": {
   "file_extension": ".jl",
   "mimetype": "application/julia",
   "name": "julia",
   "version": "1.4.2"
  }
 },
 "nbformat": 4,
 "nbformat_minor": 2
}
