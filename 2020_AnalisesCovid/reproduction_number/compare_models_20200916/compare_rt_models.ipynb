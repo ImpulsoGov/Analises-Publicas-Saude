{
 "cells": [
  {
   "cell_type": "markdown",
   "metadata": {
    "ExecuteTime": {
     "end_time": "2020-09-16T19:39:36.828216Z",
     "start_time": "2020-09-16T19:39:36.814655Z"
    }
   },
   "source": [
    "# Comparação de modelos de Rt\n",
    "---\n",
    "\n",
    "## Hipóteses\n",
    "1. Modelo bayesiano do Kevin tende a subestimar os valores\n",
    "2. Modelo bayesiano do Kevin tende a ser pouco sensível às variações e atrasado\n",
    "\n",
    "## Resumo\n",
    "\n",
    "### Modelos\n",
    "#### Kevin (bayesiano)\n",
    "#### EpiEstim\n",
    "\n",
    "Revisão dos parametros do intervalo serial (SI) com a metologia do [Observatório Covid](https://covid19br.github.io/informacoes.html#notas): \"distribuição log-normal truncada com média 4.8 (IC 95%, 3.8 - 6.1) e desvio padrão 2.3 (IC 95%, 1.6 - 3.5) em conformidade com o estudo Nishiura et al. (2020).\"\n",
    "\n",
    "### Resultados\n",
    "\n",
    "- 16 estados possuem hoje maior Rt no modelo Kevin do que no EpiEstim --> refutamos hipótese (1)? ou o fenômeno acontece com valores/series menores?\n",
    "- Modelo EpiEstim tem menor IC: a estimativa chega a um **IC de 0.5 para estados em média 35 dias antes** do modelo Kevin --> o que pode estar causando isso?\n",
    "\n",
    "- 304 (67.5%) regionais possuem hoje maior Rt no modelo Kevin do que no EpiEstim!\n",
    "- Modelo EpiEstim tem menor IC: a estimativa chega a um **IC de 0.5 para regionais em média 57 dias antes** do modelo Kevin - 75% das regionais chegam a IC 0.5 no modelo EpiEstim pelo menos 40 dias antes do Kevin!"
   ]
  },
  {
   "cell_type": "markdown",
   "metadata": {},
   "source": [
    "## Configurações"
   ]
  },
  {
   "cell_type": "code",
   "execution_count": 7,
   "metadata": {
    "ExecuteTime": {
     "end_time": "2020-09-17T19:52:44.917622Z",
     "start_time": "2020-09-17T19:52:44.891825Z"
    }
   },
   "outputs": [
    {
     "name": "stdout",
     "output_type": "stream",
     "text": [
      "The autoreload extension is already loaded. To reload it, use:\n",
      "  %reload_ext autoreload\n"
     ]
    }
   ],
   "source": [
    "%load_ext autoreload\n",
    "%autoreload 2"
   ]
  },
  {
   "cell_type": "code",
   "execution_count": 8,
   "metadata": {
    "ExecuteTime": {
     "end_time": "2020-09-17T19:52:45.124148Z",
     "start_time": "2020-09-17T19:52:45.041322Z"
    }
   },
   "outputs": [],
   "source": [
    "from utils import get_config\n",
    "config = get_config(\"https://raw.githubusercontent.com/ImpulsoGov/simulacovid/master/src/configs/config.yaml\")"
   ]
  },
  {
   "cell_type": "code",
   "execution_count": 101,
   "metadata": {
    "ExecuteTime": {
     "end_time": "2020-09-17T21:49:19.959281Z",
     "start_time": "2020-09-17T21:49:19.868327Z"
    }
   },
   "outputs": [],
   "source": [
    "from run_rt_models import get_rt\n",
    "import pandas as pd\n",
    "from plotly import graph_objects as go"
   ]
  },
  {
   "cell_type": "markdown",
   "metadata": {},
   "source": [
    "## Estados"
   ]
  },
  {
   "cell_type": "code",
   "execution_count": 100,
   "metadata": {
    "ExecuteTime": {
     "end_time": "2020-09-17T21:49:11.275308Z",
     "start_time": "2020-09-17T21:49:11.175175Z"
    }
   },
   "outputs": [],
   "source": [
    "place_id = \"state_num_id\""
   ]
  },
  {
   "cell_type": "code",
   "execution_count": 11,
   "metadata": {
    "ExecuteTime": {
     "end_time": "2020-09-17T19:53:40.083681Z",
     "start_time": "2020-09-17T19:53:39.986083Z"
    },
    "collapsed": true
   },
   "outputs": [
    {
     "name": "stdout",
     "output_type": "stream",
     "text": [
      "<class 'pandas.core.frame.DataFrame'>\n",
      "Int64Index: 4563 entries, 0 to 4562\n",
      "Data columns (total 9 columns):\n",
      " #   Column                    Non-Null Count  Dtype         \n",
      "---  ------                    --------------  -----         \n",
      " 0   Rt_high_95                4563 non-null   float64       \n",
      " 1   Rt_low_95                 4563 non-null   float64       \n",
      " 2   Rt_most_likely            4563 non-null   float64       \n",
      " 3   Rt_most_likely_growth     4563 non-null   object        \n",
      " 4   Rt_most_likely_mavg       4401 non-null   float64       \n",
      " 5   Rt_most_likely_mavg_100k  4401 non-null   float64       \n",
      " 6   last_updated              4563 non-null   datetime64[ns]\n",
      " 7   state_num_id              4563 non-null   int64         \n",
      " 8   data_last_refreshed       4563 non-null   object        \n",
      "dtypes: datetime64[ns](1), float64(5), int64(1), object(2)\n",
      "memory usage: 356.5+ KB\n"
     ]
    }
   ],
   "source": [
    "# states_kevin = pd.read_csv(\"http://datasource.coronacidades.org/br/states/rt\")\n",
    "# states_kevin = states_kevin.assign(last_updated= lambda df: pd.to_datetime(df.last_updated))\n",
    "# states_kevin.to_csv(\"states_rt_kevin_20200916.csv\")\n",
    "\n",
    "states_kevin = pd.read_csv(\"states_rt_kevin_20200916.csv\", index_col=0).assign(last_updated= lambda df: pd.to_datetime(df.last_updated))\n",
    "states_kevin.info()"
   ]
  },
  {
   "cell_type": "markdown",
   "metadata": {
    "ExecuteTime": {
     "end_time": "2020-09-16T20:30:08.754367Z",
     "start_time": "2020-09-16T20:30:08.244527Z"
    }
   },
   "source": [
    "### Rodando EpiEstim"
   ]
  },
  {
   "cell_type": "code",
   "execution_count": 103,
   "metadata": {
    "ExecuteTime": {
     "end_time": "2020-09-17T21:49:43.720479Z",
     "start_time": "2020-09-17T21:49:43.596681Z"
    }
   },
   "outputs": [
    {
     "name": "stdout",
     "output_type": "stream",
     "text": [
      "<class 'pandas.core.frame.DataFrame'>\n",
      "Int64Index: 4972 entries, 0 to 4971\n",
      "Data columns (total 24 columns):\n",
      " #   Column                   Non-Null Count  Dtype  \n",
      "---  ------                   --------------  -----  \n",
      " 0   active_cases             4419 non-null   float64\n",
      " 1   cases_mavg               4445 non-null   float64\n",
      " 2   confirmed_cases          4972 non-null   float64\n",
      " 3   daily_cases              4972 non-null   float64\n",
      " 4   daily_cases_growth       4972 non-null   object \n",
      " 5   daily_cases_mavg         4810 non-null   float64\n",
      " 6   daily_cases_mavg_100k    4810 non-null   float64\n",
      " 7   deaths                   4972 non-null   float64\n",
      " 8   deaths_mavg              4445 non-null   float64\n",
      " 9   estimated_cases          4419 non-null   float64\n",
      " 10  expected_mortality       4445 non-null   float64\n",
      " 11  infectious_period_cases  4972 non-null   float64\n",
      " 12  last_updated             4972 non-null   object \n",
      " 13  new_deaths               4972 non-null   float64\n",
      " 14  new_deaths_growth        4972 non-null   object \n",
      " 15  new_deaths_mavg          4810 non-null   float64\n",
      " 16  new_deaths_mavg_100k     4810 non-null   float64\n",
      " 17  notification_rate        4419 non-null   float64\n",
      " 18  population               4972 non-null   int64  \n",
      " 19  state_id                 4972 non-null   object \n",
      " 20  state_name               4972 non-null   object \n",
      " 21  state_num_id             4972 non-null   int64  \n",
      " 22  total_estimated_cases    4419 non-null   float64\n",
      " 23  data_last_refreshed      4972 non-null   object \n",
      "dtypes: float64(16), int64(2), object(6)\n",
      "memory usage: 971.1+ KB\n"
     ]
    }
   ],
   "source": [
    "# states_cases = pd.read_csv(\"http://datasource.coronacidades.org/br/states/cases/full\")\n",
    "# states_cases.to_csv(\"states_cases_20200916.csv\")\n",
    "\n",
    "states_cases = pd.read_csv(\"states_cases_20200916.csv\", index_col=0)\n",
    "states_cases.info()"
   ]
  },
  {
   "cell_type": "code",
   "execution_count": 104,
   "metadata": {
    "ExecuteTime": {
     "end_time": "2020-09-17T21:49:48.156734Z",
     "start_time": "2020-09-17T21:49:43.737977Z"
    }
   },
   "outputs": [
    {
     "name": "stderr",
     "output_type": "stream",
     "text": [
      "R[write to console]: Default config will estimate R on weekly sliding windows.\n",
      "    To change this change the t_start and t_end arguments. \n",
      "\n",
      "R[write to console]: Default config will estimate R on weekly sliding windows.\n",
      "    To change this change the t_start and t_end arguments. \n",
      "\n",
      "R[write to console]: Default config will estimate R on weekly sliding windows.\n",
      "    To change this change the t_start and t_end arguments. \n",
      "\n",
      "R[write to console]: Default config will estimate R on weekly sliding windows.\n",
      "    To change this change the t_start and t_end arguments. \n",
      "\n",
      "R[write to console]: Default config will estimate R on weekly sliding windows.\n",
      "    To change this change the t_start and t_end arguments. \n",
      "\n",
      "R[write to console]: Default config will estimate R on weekly sliding windows.\n",
      "    To change this change the t_start and t_end arguments. \n",
      "\n",
      "R[write to console]: Default config will estimate R on weekly sliding windows.\n",
      "    To change this change the t_start and t_end arguments. \n",
      "\n",
      "R[write to console]: Default config will estimate R on weekly sliding windows.\n",
      "    To change this change the t_start and t_end arguments. \n",
      "\n",
      "R[write to console]: Default config will estimate R on weekly sliding windows.\n",
      "    To change this change the t_start and t_end arguments. \n",
      "\n",
      "R[write to console]: Default config will estimate R on weekly sliding windows.\n",
      "    To change this change the t_start and t_end arguments. \n",
      "\n",
      "R[write to console]: Default config will estimate R on weekly sliding windows.\n",
      "    To change this change the t_start and t_end arguments. \n",
      "\n",
      "R[write to console]: Default config will estimate R on weekly sliding windows.\n",
      "    To change this change the t_start and t_end arguments. \n",
      "\n",
      "R[write to console]: Default config will estimate R on weekly sliding windows.\n",
      "    To change this change the t_start and t_end arguments. \n",
      "\n",
      "R[write to console]: Default config will estimate R on weekly sliding windows.\n",
      "    To change this change the t_start and t_end arguments. \n",
      "\n",
      "R[write to console]: Default config will estimate R on weekly sliding windows.\n",
      "    To change this change the t_start and t_end arguments. \n",
      "\n",
      "R[write to console]: Default config will estimate R on weekly sliding windows.\n",
      "    To change this change the t_start and t_end arguments. \n",
      "\n",
      "R[write to console]: Default config will estimate R on weekly sliding windows.\n",
      "    To change this change the t_start and t_end arguments. \n",
      "\n",
      "R[write to console]: Default config will estimate R on weekly sliding windows.\n",
      "    To change this change the t_start and t_end arguments. \n",
      "\n",
      "R[write to console]: Default config will estimate R on weekly sliding windows.\n",
      "    To change this change the t_start and t_end arguments. \n",
      "\n",
      "R[write to console]: Default config will estimate R on weekly sliding windows.\n",
      "    To change this change the t_start and t_end arguments. \n",
      "\n",
      "R[write to console]: Default config will estimate R on weekly sliding windows.\n",
      "    To change this change the t_start and t_end arguments. \n",
      "\n",
      "R[write to console]: Default config will estimate R on weekly sliding windows.\n",
      "    To change this change the t_start and t_end arguments. \n",
      "\n",
      "R[write to console]: Default config will estimate R on weekly sliding windows.\n",
      "    To change this change the t_start and t_end arguments. \n",
      "\n",
      "R[write to console]: Default config will estimate R on weekly sliding windows.\n",
      "    To change this change the t_start and t_end arguments. \n",
      "\n",
      "R[write to console]: Default config will estimate R on weekly sliding windows.\n",
      "    To change this change the t_start and t_end arguments. \n",
      "\n",
      "R[write to console]: Default config will estimate R on weekly sliding windows.\n",
      "    To change this change the t_start and t_end arguments. \n",
      "\n",
      "R[write to console]: Default config will estimate R on weekly sliding windows.\n",
      "    To change this change the t_start and t_end arguments. \n",
      "\n"
     ]
    }
   ],
   "source": [
    "states_epiestim = get_rt(states_cases, place_id, config, model=\"epiestim\")\n",
    "states_epiestim = states_epiestim.reindex(sorted(states_epiestim.columns), axis=1)"
   ]
  },
  {
   "cell_type": "code",
   "execution_count": 105,
   "metadata": {
    "ExecuteTime": {
     "end_time": "2020-09-17T21:49:48.261107Z",
     "start_time": "2020-09-17T21:49:48.165955Z"
    }
   },
   "outputs": [
    {
     "name": "stdout",
     "output_type": "stream",
     "text": [
      "<class 'pandas.core.frame.DataFrame'>\n",
      "Int64Index: 4386 entries, 0 to 4385\n",
      "Data columns (total 8 columns):\n",
      " #   Column                    Non-Null Count  Dtype         \n",
      "---  ------                    --------------  -----         \n",
      " 0   Rt_high_95                4386 non-null   float64       \n",
      " 1   Rt_low_95                 4386 non-null   float64       \n",
      " 2   Rt_most_likely            4386 non-null   float64       \n",
      " 3   Rt_most_likely_growth     4386 non-null   object        \n",
      " 4   Rt_most_likely_mavg       4119 non-null   float64       \n",
      " 5   Rt_most_likely_mavg_100k  4119 non-null   float64       \n",
      " 6   last_updated              4386 non-null   datetime64[ns]\n",
      " 7   state_num_id              4386 non-null   int64         \n",
      "dtypes: datetime64[ns](1), float64(5), int64(1), object(1)\n",
      "memory usage: 308.4+ KB\n"
     ]
    }
   ],
   "source": [
    "states_epiestim = states_epiestim.assign(last_updated=lambda df: pd.to_datetime(df.last_updated))\n",
    "states_epiestim.info()"
   ]
  },
  {
   "cell_type": "markdown",
   "metadata": {},
   "source": [
    "### Valor + atual"
   ]
  },
  {
   "cell_type": "code",
   "execution_count": 106,
   "metadata": {
    "ExecuteTime": {
     "end_time": "2020-09-17T21:49:48.362395Z",
     "start_time": "2020-09-17T21:49:48.267040Z"
    }
   },
   "outputs": [],
   "source": [
    "last_states_epiestim = states_epiestim.loc[states_epiestim.groupby(place_id)[\"last_updated\"].idxmax()]\n",
    "# last_states_epiestim\n",
    "\n",
    "last_states_kevin = states_kevin.loc[states_kevin.groupby(place_id)[\"last_updated\"].idxmax()]\n",
    "# last_states_kevin"
   ]
  },
  {
   "cell_type": "code",
   "execution_count": 107,
   "metadata": {
    "ExecuteTime": {
     "end_time": "2020-09-17T21:49:48.505743Z",
     "start_time": "2020-09-17T21:49:48.369790Z"
    }
   },
   "outputs": [],
   "source": [
    "state_id = (pd.read_csv(\"http://datasource.coronacidades.org/br/places/ids\")\n",
    "[[\"state_num_id\", \"state_id\"]].drop_duplicates().set_index(\"state_num_id\")[\"state_id\"])"
   ]
  },
  {
   "cell_type": "code",
   "execution_count": 108,
   "metadata": {
    "ExecuteTime": {
     "end_time": "2020-09-17T21:49:48.578299Z",
     "start_time": "2020-09-17T21:49:48.514455Z"
    }
   },
   "outputs": [],
   "source": [
    "def gen_compare_plot(dfs, place_id, title, state_id=[False]):\n",
    "    \n",
    "    plot = {model: dict() for model in dfs.keys()}\n",
    "    \n",
    "    data = list()\n",
    "    for model in dfs.keys():\n",
    "        if all(state_id):\n",
    "            dfs[model][place_id]=dfs[model][place_id].map(state_id)\n",
    "        \n",
    "        dfs[model] = dfs[model].sort_values(by=place_id)\n",
    "        \n",
    "        data.append(go.Bar(name=model,\n",
    "               x = dfs[model][place_id],\n",
    "               y = dfs[model][\"Rt_most_likely\"],\n",
    "               error_y = dict(\n",
    "                   array=dfs[model][\"Rt_high_95\"] - dfs[model][\"Rt_most_likely\"],\n",
    "                   arrayminus=dfs[model][\"Rt_most_likely\"] - dfs[model][\"Rt_low_95\"]\n",
    "               )))\n",
    "\n",
    "    fig = go.Figure(data)\n",
    "    fig.update_layout(barmode='group', template=\"simple_white\", title=title)\n",
    "    fig.show()"
   ]
  },
  {
   "cell_type": "code",
   "execution_count": 109,
   "metadata": {
    "ExecuteTime": {
     "end_time": "2020-09-17T21:49:48.696154Z",
     "start_time": "2020-09-17T21:49:48.586487Z"
    },
    "scrolled": false
   },
   "outputs": [
    {
     "data": {
      "application/vnd.plotly.v1+json": {
       "config": {
        "plotlyServerURL": "https://plot.ly"
       },
       "data": [
        {
         "error_y": {
          "array": [
           0.1499999999999999,
           0.10999999999999999,
           0.10000000000000009,
           0.1299999999999999,
           0.06999999999999995,
           0.08000000000000007,
           0.08999999999999997,
           0.09000000000000008,
           0.06999999999999984,
           0.09000000000000008,
           0.07000000000000006,
           0.09999999999999987,
           0.08000000000000007,
           0.08999999999999997,
           0.09999999999999998,
           0.07999999999999985,
           0.10000000000000009,
           0.07999999999999985,
           0.07000000000000006,
           0.1100000000000001,
           0.10000000000000009,
           0.1200000000000001,
           0.07000000000000006,
           0.06000000000000005,
           0.10999999999999999,
           0.050000000000000044,
           0.08999999999999986
          ],
          "arrayminus": [
           0.15999999999999992,
           0.12,
           0.11999999999999988,
           0.15000000000000002,
           0.08000000000000007,
           0.10999999999999988,
           0.08999999999999997,
           0.11999999999999988,
           0.10000000000000009,
           0.10999999999999999,
           0.07999999999999996,
           0.1100000000000001,
           0.10999999999999988,
           0.09000000000000008,
           0.12,
           0.12,
           0.10999999999999999,
           0.09000000000000008,
           0.09999999999999998,
           0.1499999999999999,
           0.14,
           0.1399999999999999,
           0.09999999999999987,
           0.08000000000000007,
           0.13,
           0.06999999999999995,
           0.1200000000000001
          ]
         },
         "name": "Kevin",
         "type": "bar",
         "x": [
          "AC",
          "AL",
          "AM",
          "AP",
          "BA",
          "CE",
          "DF",
          "ES",
          "GO",
          "MA",
          "MG",
          "MS",
          "MT",
          "PA",
          "PB",
          "PE",
          "PI",
          "PR",
          "RJ",
          "RN",
          "RO",
          "RR",
          "RS",
          "SC",
          "SE",
          "SP",
          "TO"
         ],
         "y": [
          0.98,
          0.87,
          0.95,
          1,
          0.93,
          0.94,
          0.9,
          0.94,
          1.06,
          0.97,
          0.97,
          1.06,
          1.14,
          0.93,
          0.91,
          1.05,
          0.96,
          1.06,
          0.94,
          0.97,
          0.99,
          0.94,
          1.15,
          1.46,
          0.84,
          0.97,
          1.06
         ]
        },
        {
         "error_y": {
          "array": [
           0.049794671564947435,
           0.026538239104252015,
           0.026299052078841978,
           0.04077476374727973,
           0.011438466224825028,
           0.01757466941970276,
           0.01442894987316845,
           0.023957784604856203,
           0.013516689171453988,
           0.019524700409206397,
           0.011225095625361003,
           0.0216594713366548,
           0.01696611995556685,
           0.014912889276098129,
           0.023370394002452888,
           0.022776426016548168,
           0.021645919502403244,
           0.015814590611761048,
           0.013586809133501632,
           0.044597633500801814,
           0.026598868489783767,
           0.03799715993624497,
           0.014931692816319453,
           0.016841826608798183,
           0.0322549398549038,
           0.007097067681570035,
           0.01973833410993353
          ],
          "arrayminus": [
           0.04862505179069865,
           0.026152746374477842,
           0.026024248832106522,
           0.040126213567171165,
           0.011382051813577543,
           0.017445907231663615,
           0.014321880435142265,
           0.023721755891729868,
           0.013440187440920903,
           0.019361960131035305,
           0.011169833576645138,
           0.021463473629393492,
           0.016849119897657916,
           0.014804100034782164,
           0.023124032949913165,
           0.022594265148204062,
           0.021431326749686064,
           0.015717792905424854,
           0.013500954771663354,
           0.043945297991339505,
           0.026276499280266874,
           0.03734831449555298,
           0.014851436914010474,
           0.01678280543452737,
           0.031713079879255646,
           0.007075321730751871,
           0.019559859075614194
          ]
         },
         "name": "EpiEstim",
         "type": "bar",
         "x": [
          "AC",
          "AL",
          "AM",
          "AP",
          "BA",
          "CE",
          "DF",
          "ES",
          "GO",
          "MA",
          "MG",
          "MS",
          "MT",
          "PA",
          "PB",
          "PE",
          "PI",
          "PR",
          "RJ",
          "RN",
          "RO",
          "RR",
          "RS",
          "SC",
          "SE",
          "SP",
          "TO"
         ],
         "y": [
          0.870304654245139,
          0.7567446772526858,
          1.0467523287725955,
          1.060386228155982,
          0.9698890627265851,
          1.0007470774856855,
          0.8111507740379137,
          1.0119819024509091,
          0.9979994670812171,
          0.9762814027791891,
          0.9535281430656646,
          0.9968658406178749,
          1.0268427064691206,
          0.8528834406578223,
          0.9219462553472354,
          1.1873083989474158,
          0.9085618250414677,
          1.0792247077404038,
          0.8979408095310691,
          1.2627872936118372,
          0.9112450958052576,
          0.9193478141232796,
          1.1612496073744594,
          2.01264105213035,
          0.7934944401906504,
          0.9704347874680623,
          0.9091562988972438
         ]
        }
       ],
       "layout": {
        "barmode": "group",
        "template": {
         "data": {
          "bar": [
           {
            "error_x": {
             "color": "rgb(36,36,36)"
            },
            "error_y": {
             "color": "rgb(36,36,36)"
            },
            "marker": {
             "line": {
              "color": "white",
              "width": 0.5
             }
            },
            "type": "bar"
           }
          ],
          "barpolar": [
           {
            "marker": {
             "line": {
              "color": "white",
              "width": 0.5
             }
            },
            "type": "barpolar"
           }
          ],
          "carpet": [
           {
            "aaxis": {
             "endlinecolor": "rgb(36,36,36)",
             "gridcolor": "white",
             "linecolor": "white",
             "minorgridcolor": "white",
             "startlinecolor": "rgb(36,36,36)"
            },
            "baxis": {
             "endlinecolor": "rgb(36,36,36)",
             "gridcolor": "white",
             "linecolor": "white",
             "minorgridcolor": "white",
             "startlinecolor": "rgb(36,36,36)"
            },
            "type": "carpet"
           }
          ],
          "choropleth": [
           {
            "colorbar": {
             "outlinewidth": 1,
             "tickcolor": "rgb(36,36,36)",
             "ticks": "outside"
            },
            "type": "choropleth"
           }
          ],
          "contour": [
           {
            "colorbar": {
             "outlinewidth": 1,
             "tickcolor": "rgb(36,36,36)",
             "ticks": "outside"
            },
            "colorscale": [
             [
              0,
              "#440154"
             ],
             [
              0.1111111111111111,
              "#482878"
             ],
             [
              0.2222222222222222,
              "#3e4989"
             ],
             [
              0.3333333333333333,
              "#31688e"
             ],
             [
              0.4444444444444444,
              "#26828e"
             ],
             [
              0.5555555555555556,
              "#1f9e89"
             ],
             [
              0.6666666666666666,
              "#35b779"
             ],
             [
              0.7777777777777778,
              "#6ece58"
             ],
             [
              0.8888888888888888,
              "#b5de2b"
             ],
             [
              1,
              "#fde725"
             ]
            ],
            "type": "contour"
           }
          ],
          "contourcarpet": [
           {
            "colorbar": {
             "outlinewidth": 1,
             "tickcolor": "rgb(36,36,36)",
             "ticks": "outside"
            },
            "type": "contourcarpet"
           }
          ],
          "heatmap": [
           {
            "colorbar": {
             "outlinewidth": 1,
             "tickcolor": "rgb(36,36,36)",
             "ticks": "outside"
            },
            "colorscale": [
             [
              0,
              "#440154"
             ],
             [
              0.1111111111111111,
              "#482878"
             ],
             [
              0.2222222222222222,
              "#3e4989"
             ],
             [
              0.3333333333333333,
              "#31688e"
             ],
             [
              0.4444444444444444,
              "#26828e"
             ],
             [
              0.5555555555555556,
              "#1f9e89"
             ],
             [
              0.6666666666666666,
              "#35b779"
             ],
             [
              0.7777777777777778,
              "#6ece58"
             ],
             [
              0.8888888888888888,
              "#b5de2b"
             ],
             [
              1,
              "#fde725"
             ]
            ],
            "type": "heatmap"
           }
          ],
          "heatmapgl": [
           {
            "colorbar": {
             "outlinewidth": 1,
             "tickcolor": "rgb(36,36,36)",
             "ticks": "outside"
            },
            "colorscale": [
             [
              0,
              "#440154"
             ],
             [
              0.1111111111111111,
              "#482878"
             ],
             [
              0.2222222222222222,
              "#3e4989"
             ],
             [
              0.3333333333333333,
              "#31688e"
             ],
             [
              0.4444444444444444,
              "#26828e"
             ],
             [
              0.5555555555555556,
              "#1f9e89"
             ],
             [
              0.6666666666666666,
              "#35b779"
             ],
             [
              0.7777777777777778,
              "#6ece58"
             ],
             [
              0.8888888888888888,
              "#b5de2b"
             ],
             [
              1,
              "#fde725"
             ]
            ],
            "type": "heatmapgl"
           }
          ],
          "histogram": [
           {
            "marker": {
             "line": {
              "color": "white",
              "width": 0.6
             }
            },
            "type": "histogram"
           }
          ],
          "histogram2d": [
           {
            "colorbar": {
             "outlinewidth": 1,
             "tickcolor": "rgb(36,36,36)",
             "ticks": "outside"
            },
            "colorscale": [
             [
              0,
              "#440154"
             ],
             [
              0.1111111111111111,
              "#482878"
             ],
             [
              0.2222222222222222,
              "#3e4989"
             ],
             [
              0.3333333333333333,
              "#31688e"
             ],
             [
              0.4444444444444444,
              "#26828e"
             ],
             [
              0.5555555555555556,
              "#1f9e89"
             ],
             [
              0.6666666666666666,
              "#35b779"
             ],
             [
              0.7777777777777778,
              "#6ece58"
             ],
             [
              0.8888888888888888,
              "#b5de2b"
             ],
             [
              1,
              "#fde725"
             ]
            ],
            "type": "histogram2d"
           }
          ],
          "histogram2dcontour": [
           {
            "colorbar": {
             "outlinewidth": 1,
             "tickcolor": "rgb(36,36,36)",
             "ticks": "outside"
            },
            "colorscale": [
             [
              0,
              "#440154"
             ],
             [
              0.1111111111111111,
              "#482878"
             ],
             [
              0.2222222222222222,
              "#3e4989"
             ],
             [
              0.3333333333333333,
              "#31688e"
             ],
             [
              0.4444444444444444,
              "#26828e"
             ],
             [
              0.5555555555555556,
              "#1f9e89"
             ],
             [
              0.6666666666666666,
              "#35b779"
             ],
             [
              0.7777777777777778,
              "#6ece58"
             ],
             [
              0.8888888888888888,
              "#b5de2b"
             ],
             [
              1,
              "#fde725"
             ]
            ],
            "type": "histogram2dcontour"
           }
          ],
          "mesh3d": [
           {
            "colorbar": {
             "outlinewidth": 1,
             "tickcolor": "rgb(36,36,36)",
             "ticks": "outside"
            },
            "type": "mesh3d"
           }
          ],
          "parcoords": [
           {
            "line": {
             "colorbar": {
              "outlinewidth": 1,
              "tickcolor": "rgb(36,36,36)",
              "ticks": "outside"
             }
            },
            "type": "parcoords"
           }
          ],
          "pie": [
           {
            "automargin": true,
            "type": "pie"
           }
          ],
          "scatter": [
           {
            "marker": {
             "colorbar": {
              "outlinewidth": 1,
              "tickcolor": "rgb(36,36,36)",
              "ticks": "outside"
             }
            },
            "type": "scatter"
           }
          ],
          "scatter3d": [
           {
            "line": {
             "colorbar": {
              "outlinewidth": 1,
              "tickcolor": "rgb(36,36,36)",
              "ticks": "outside"
             }
            },
            "marker": {
             "colorbar": {
              "outlinewidth": 1,
              "tickcolor": "rgb(36,36,36)",
              "ticks": "outside"
             }
            },
            "type": "scatter3d"
           }
          ],
          "scattercarpet": [
           {
            "marker": {
             "colorbar": {
              "outlinewidth": 1,
              "tickcolor": "rgb(36,36,36)",
              "ticks": "outside"
             }
            },
            "type": "scattercarpet"
           }
          ],
          "scattergeo": [
           {
            "marker": {
             "colorbar": {
              "outlinewidth": 1,
              "tickcolor": "rgb(36,36,36)",
              "ticks": "outside"
             }
            },
            "type": "scattergeo"
           }
          ],
          "scattergl": [
           {
            "marker": {
             "colorbar": {
              "outlinewidth": 1,
              "tickcolor": "rgb(36,36,36)",
              "ticks": "outside"
             }
            },
            "type": "scattergl"
           }
          ],
          "scattermapbox": [
           {
            "marker": {
             "colorbar": {
              "outlinewidth": 1,
              "tickcolor": "rgb(36,36,36)",
              "ticks": "outside"
             }
            },
            "type": "scattermapbox"
           }
          ],
          "scatterpolar": [
           {
            "marker": {
             "colorbar": {
              "outlinewidth": 1,
              "tickcolor": "rgb(36,36,36)",
              "ticks": "outside"
             }
            },
            "type": "scatterpolar"
           }
          ],
          "scatterpolargl": [
           {
            "marker": {
             "colorbar": {
              "outlinewidth": 1,
              "tickcolor": "rgb(36,36,36)",
              "ticks": "outside"
             }
            },
            "type": "scatterpolargl"
           }
          ],
          "scatterternary": [
           {
            "marker": {
             "colorbar": {
              "outlinewidth": 1,
              "tickcolor": "rgb(36,36,36)",
              "ticks": "outside"
             }
            },
            "type": "scatterternary"
           }
          ],
          "surface": [
           {
            "colorbar": {
             "outlinewidth": 1,
             "tickcolor": "rgb(36,36,36)",
             "ticks": "outside"
            },
            "colorscale": [
             [
              0,
              "#440154"
             ],
             [
              0.1111111111111111,
              "#482878"
             ],
             [
              0.2222222222222222,
              "#3e4989"
             ],
             [
              0.3333333333333333,
              "#31688e"
             ],
             [
              0.4444444444444444,
              "#26828e"
             ],
             [
              0.5555555555555556,
              "#1f9e89"
             ],
             [
              0.6666666666666666,
              "#35b779"
             ],
             [
              0.7777777777777778,
              "#6ece58"
             ],
             [
              0.8888888888888888,
              "#b5de2b"
             ],
             [
              1,
              "#fde725"
             ]
            ],
            "type": "surface"
           }
          ],
          "table": [
           {
            "cells": {
             "fill": {
              "color": "rgb(237,237,237)"
             },
             "line": {
              "color": "white"
             }
            },
            "header": {
             "fill": {
              "color": "rgb(217,217,217)"
             },
             "line": {
              "color": "white"
             }
            },
            "type": "table"
           }
          ]
         },
         "layout": {
          "annotationdefaults": {
           "arrowhead": 0,
           "arrowwidth": 1
          },
          "coloraxis": {
           "colorbar": {
            "outlinewidth": 1,
            "tickcolor": "rgb(36,36,36)",
            "ticks": "outside"
           }
          },
          "colorscale": {
           "diverging": [
            [
             0,
             "rgb(103,0,31)"
            ],
            [
             0.1,
             "rgb(178,24,43)"
            ],
            [
             0.2,
             "rgb(214,96,77)"
            ],
            [
             0.3,
             "rgb(244,165,130)"
            ],
            [
             0.4,
             "rgb(253,219,199)"
            ],
            [
             0.5,
             "rgb(247,247,247)"
            ],
            [
             0.6,
             "rgb(209,229,240)"
            ],
            [
             0.7,
             "rgb(146,197,222)"
            ],
            [
             0.8,
             "rgb(67,147,195)"
            ],
            [
             0.9,
             "rgb(33,102,172)"
            ],
            [
             1,
             "rgb(5,48,97)"
            ]
           ],
           "sequential": [
            [
             0,
             "#440154"
            ],
            [
             0.1111111111111111,
             "#482878"
            ],
            [
             0.2222222222222222,
             "#3e4989"
            ],
            [
             0.3333333333333333,
             "#31688e"
            ],
            [
             0.4444444444444444,
             "#26828e"
            ],
            [
             0.5555555555555556,
             "#1f9e89"
            ],
            [
             0.6666666666666666,
             "#35b779"
            ],
            [
             0.7777777777777778,
             "#6ece58"
            ],
            [
             0.8888888888888888,
             "#b5de2b"
            ],
            [
             1,
             "#fde725"
            ]
           ],
           "sequentialminus": [
            [
             0,
             "#440154"
            ],
            [
             0.1111111111111111,
             "#482878"
            ],
            [
             0.2222222222222222,
             "#3e4989"
            ],
            [
             0.3333333333333333,
             "#31688e"
            ],
            [
             0.4444444444444444,
             "#26828e"
            ],
            [
             0.5555555555555556,
             "#1f9e89"
            ],
            [
             0.6666666666666666,
             "#35b779"
            ],
            [
             0.7777777777777778,
             "#6ece58"
            ],
            [
             0.8888888888888888,
             "#b5de2b"
            ],
            [
             1,
             "#fde725"
            ]
           ]
          },
          "colorway": [
           "#1F77B4",
           "#FF7F0E",
           "#2CA02C",
           "#D62728",
           "#9467BD",
           "#8C564B",
           "#E377C2",
           "#7F7F7F",
           "#BCBD22",
           "#17BECF"
          ],
          "font": {
           "color": "rgb(36,36,36)"
          },
          "geo": {
           "bgcolor": "white",
           "lakecolor": "white",
           "landcolor": "white",
           "showlakes": true,
           "showland": true,
           "subunitcolor": "white"
          },
          "hoverlabel": {
           "align": "left"
          },
          "hovermode": "closest",
          "mapbox": {
           "style": "light"
          },
          "paper_bgcolor": "white",
          "plot_bgcolor": "white",
          "polar": {
           "angularaxis": {
            "gridcolor": "rgb(232,232,232)",
            "linecolor": "rgb(36,36,36)",
            "showgrid": false,
            "showline": true,
            "ticks": "outside"
           },
           "bgcolor": "white",
           "radialaxis": {
            "gridcolor": "rgb(232,232,232)",
            "linecolor": "rgb(36,36,36)",
            "showgrid": false,
            "showline": true,
            "ticks": "outside"
           }
          },
          "scene": {
           "xaxis": {
            "backgroundcolor": "white",
            "gridcolor": "rgb(232,232,232)",
            "gridwidth": 2,
            "linecolor": "rgb(36,36,36)",
            "showbackground": true,
            "showgrid": false,
            "showline": true,
            "ticks": "outside",
            "zeroline": false,
            "zerolinecolor": "rgb(36,36,36)"
           },
           "yaxis": {
            "backgroundcolor": "white",
            "gridcolor": "rgb(232,232,232)",
            "gridwidth": 2,
            "linecolor": "rgb(36,36,36)",
            "showbackground": true,
            "showgrid": false,
            "showline": true,
            "ticks": "outside",
            "zeroline": false,
            "zerolinecolor": "rgb(36,36,36)"
           },
           "zaxis": {
            "backgroundcolor": "white",
            "gridcolor": "rgb(232,232,232)",
            "gridwidth": 2,
            "linecolor": "rgb(36,36,36)",
            "showbackground": true,
            "showgrid": false,
            "showline": true,
            "ticks": "outside",
            "zeroline": false,
            "zerolinecolor": "rgb(36,36,36)"
           }
          },
          "shapedefaults": {
           "fillcolor": "black",
           "line": {
            "width": 0
           },
           "opacity": 0.3
          },
          "ternary": {
           "aaxis": {
            "gridcolor": "rgb(232,232,232)",
            "linecolor": "rgb(36,36,36)",
            "showgrid": false,
            "showline": true,
            "ticks": "outside"
           },
           "baxis": {
            "gridcolor": "rgb(232,232,232)",
            "linecolor": "rgb(36,36,36)",
            "showgrid": false,
            "showline": true,
            "ticks": "outside"
           },
           "bgcolor": "white",
           "caxis": {
            "gridcolor": "rgb(232,232,232)",
            "linecolor": "rgb(36,36,36)",
            "showgrid": false,
            "showline": true,
            "ticks": "outside"
           }
          },
          "title": {
           "x": 0.05
          },
          "xaxis": {
           "automargin": true,
           "gridcolor": "rgb(232,232,232)",
           "linecolor": "rgb(36,36,36)",
           "showgrid": false,
           "showline": true,
           "ticks": "outside",
           "title": {
            "standoff": 15
           },
           "zeroline": false,
           "zerolinecolor": "rgb(36,36,36)"
          },
          "yaxis": {
           "automargin": true,
           "gridcolor": "rgb(232,232,232)",
           "linecolor": "rgb(36,36,36)",
           "showgrid": false,
           "showline": true,
           "ticks": "outside",
           "title": {
            "standoff": 15
           },
           "zeroline": false,
           "zerolinecolor": "rgb(36,36,36)"
          }
         }
        },
        "title": {
         "text": "Estimativa do Rt dos estados atual (5/set)"
        }
       }
      },
      "text/html": [
       "<div>\n",
       "        \n",
       "        \n",
       "            <div id=\"9c8a05a6-f66e-48eb-9e6a-d341ef722c7c\" class=\"plotly-graph-div\" style=\"height:525px; width:100%;\"></div>\n",
       "            <script type=\"text/javascript\">\n",
       "                require([\"plotly\"], function(Plotly) {\n",
       "                    window.PLOTLYENV=window.PLOTLYENV || {};\n",
       "                    \n",
       "                if (document.getElementById(\"9c8a05a6-f66e-48eb-9e6a-d341ef722c7c\")) {\n",
       "                    Plotly.newPlot(\n",
       "                        '9c8a05a6-f66e-48eb-9e6a-d341ef722c7c',\n",
       "                        [{\"error_y\": {\"array\": [0.1499999999999999, 0.10999999999999999, 0.10000000000000009, 0.1299999999999999, 0.06999999999999995, 0.08000000000000007, 0.08999999999999997, 0.09000000000000008, 0.06999999999999984, 0.09000000000000008, 0.07000000000000006, 0.09999999999999987, 0.08000000000000007, 0.08999999999999997, 0.09999999999999998, 0.07999999999999985, 0.10000000000000009, 0.07999999999999985, 0.07000000000000006, 0.1100000000000001, 0.10000000000000009, 0.1200000000000001, 0.07000000000000006, 0.06000000000000005, 0.10999999999999999, 0.050000000000000044, 0.08999999999999986], \"arrayminus\": [0.15999999999999992, 0.12, 0.11999999999999988, 0.15000000000000002, 0.08000000000000007, 0.10999999999999988, 0.08999999999999997, 0.11999999999999988, 0.10000000000000009, 0.10999999999999999, 0.07999999999999996, 0.1100000000000001, 0.10999999999999988, 0.09000000000000008, 0.12, 0.12, 0.10999999999999999, 0.09000000000000008, 0.09999999999999998, 0.1499999999999999, 0.14, 0.1399999999999999, 0.09999999999999987, 0.08000000000000007, 0.13, 0.06999999999999995, 0.1200000000000001]}, \"name\": \"Kevin\", \"type\": \"bar\", \"x\": [\"AC\", \"AL\", \"AM\", \"AP\", \"BA\", \"CE\", \"DF\", \"ES\", \"GO\", \"MA\", \"MG\", \"MS\", \"MT\", \"PA\", \"PB\", \"PE\", \"PI\", \"PR\", \"RJ\", \"RN\", \"RO\", \"RR\", \"RS\", \"SC\", \"SE\", \"SP\", \"TO\"], \"y\": [0.98, 0.87, 0.95, 1.0, 0.93, 0.94, 0.9, 0.94, 1.06, 0.97, 0.97, 1.06, 1.14, 0.93, 0.91, 1.05, 0.96, 1.06, 0.94, 0.97, 0.99, 0.94, 1.15, 1.46, 0.84, 0.97, 1.06]}, {\"error_y\": {\"array\": [0.049794671564947435, 0.026538239104252015, 0.026299052078841978, 0.04077476374727973, 0.011438466224825028, 0.01757466941970276, 0.01442894987316845, 0.023957784604856203, 0.013516689171453988, 0.019524700409206397, 0.011225095625361003, 0.0216594713366548, 0.01696611995556685, 0.014912889276098129, 0.023370394002452888, 0.022776426016548168, 0.021645919502403244, 0.015814590611761048, 0.013586809133501632, 0.044597633500801814, 0.026598868489783767, 0.03799715993624497, 0.014931692816319453, 0.016841826608798183, 0.0322549398549038, 0.007097067681570035, 0.01973833410993353], \"arrayminus\": [0.04862505179069865, 0.026152746374477842, 0.026024248832106522, 0.040126213567171165, 0.011382051813577543, 0.017445907231663615, 0.014321880435142265, 0.023721755891729868, 0.013440187440920903, 0.019361960131035305, 0.011169833576645138, 0.021463473629393492, 0.016849119897657916, 0.014804100034782164, 0.023124032949913165, 0.022594265148204062, 0.021431326749686064, 0.015717792905424854, 0.013500954771663354, 0.043945297991339505, 0.026276499280266874, 0.03734831449555298, 0.014851436914010474, 0.01678280543452737, 0.031713079879255646, 0.007075321730751871, 0.019559859075614194]}, \"name\": \"EpiEstim\", \"type\": \"bar\", \"x\": [\"AC\", \"AL\", \"AM\", \"AP\", \"BA\", \"CE\", \"DF\", \"ES\", \"GO\", \"MA\", \"MG\", \"MS\", \"MT\", \"PA\", \"PB\", \"PE\", \"PI\", \"PR\", \"RJ\", \"RN\", \"RO\", \"RR\", \"RS\", \"SC\", \"SE\", \"SP\", \"TO\"], \"y\": [0.870304654245139, 0.7567446772526858, 1.0467523287725955, 1.060386228155982, 0.9698890627265851, 1.0007470774856855, 0.8111507740379137, 1.0119819024509091, 0.9979994670812171, 0.9762814027791891, 0.9535281430656646, 0.9968658406178749, 1.0268427064691206, 0.8528834406578223, 0.9219462553472354, 1.1873083989474158, 0.9085618250414677, 1.0792247077404038, 0.8979408095310691, 1.2627872936118372, 0.9112450958052576, 0.9193478141232796, 1.1612496073744594, 2.01264105213035, 0.7934944401906504, 0.9704347874680623, 0.9091562988972438]}],\n",
       "                        {\"barmode\": \"group\", \"template\": {\"data\": {\"bar\": [{\"error_x\": {\"color\": \"rgb(36,36,36)\"}, \"error_y\": {\"color\": \"rgb(36,36,36)\"}, \"marker\": {\"line\": {\"color\": \"white\", \"width\": 0.5}}, \"type\": \"bar\"}], \"barpolar\": [{\"marker\": {\"line\": {\"color\": \"white\", \"width\": 0.5}}, \"type\": \"barpolar\"}], \"carpet\": [{\"aaxis\": {\"endlinecolor\": \"rgb(36,36,36)\", \"gridcolor\": \"white\", \"linecolor\": \"white\", \"minorgridcolor\": \"white\", \"startlinecolor\": \"rgb(36,36,36)\"}, \"baxis\": {\"endlinecolor\": \"rgb(36,36,36)\", \"gridcolor\": \"white\", \"linecolor\": \"white\", \"minorgridcolor\": \"white\", \"startlinecolor\": \"rgb(36,36,36)\"}, \"type\": \"carpet\"}], \"choropleth\": [{\"colorbar\": {\"outlinewidth\": 1, \"tickcolor\": \"rgb(36,36,36)\", \"ticks\": \"outside\"}, \"type\": \"choropleth\"}], \"contour\": [{\"colorbar\": {\"outlinewidth\": 1, \"tickcolor\": \"rgb(36,36,36)\", \"ticks\": \"outside\"}, \"colorscale\": [[0.0, \"#440154\"], [0.1111111111111111, \"#482878\"], [0.2222222222222222, \"#3e4989\"], [0.3333333333333333, \"#31688e\"], [0.4444444444444444, \"#26828e\"], [0.5555555555555556, \"#1f9e89\"], [0.6666666666666666, \"#35b779\"], [0.7777777777777778, \"#6ece58\"], [0.8888888888888888, \"#b5de2b\"], [1.0, \"#fde725\"]], \"type\": \"contour\"}], \"contourcarpet\": [{\"colorbar\": {\"outlinewidth\": 1, \"tickcolor\": \"rgb(36,36,36)\", \"ticks\": \"outside\"}, \"type\": \"contourcarpet\"}], \"heatmap\": [{\"colorbar\": {\"outlinewidth\": 1, \"tickcolor\": \"rgb(36,36,36)\", \"ticks\": \"outside\"}, \"colorscale\": [[0.0, \"#440154\"], [0.1111111111111111, \"#482878\"], [0.2222222222222222, \"#3e4989\"], [0.3333333333333333, \"#31688e\"], [0.4444444444444444, \"#26828e\"], [0.5555555555555556, \"#1f9e89\"], [0.6666666666666666, \"#35b779\"], [0.7777777777777778, \"#6ece58\"], [0.8888888888888888, \"#b5de2b\"], [1.0, \"#fde725\"]], \"type\": \"heatmap\"}], \"heatmapgl\": [{\"colorbar\": {\"outlinewidth\": 1, \"tickcolor\": \"rgb(36,36,36)\", \"ticks\": \"outside\"}, \"colorscale\": [[0.0, \"#440154\"], [0.1111111111111111, \"#482878\"], [0.2222222222222222, \"#3e4989\"], [0.3333333333333333, \"#31688e\"], [0.4444444444444444, \"#26828e\"], [0.5555555555555556, \"#1f9e89\"], [0.6666666666666666, \"#35b779\"], [0.7777777777777778, \"#6ece58\"], [0.8888888888888888, \"#b5de2b\"], [1.0, \"#fde725\"]], \"type\": \"heatmapgl\"}], \"histogram\": [{\"marker\": {\"line\": {\"color\": \"white\", \"width\": 0.6}}, \"type\": \"histogram\"}], \"histogram2d\": [{\"colorbar\": {\"outlinewidth\": 1, \"tickcolor\": \"rgb(36,36,36)\", \"ticks\": \"outside\"}, \"colorscale\": [[0.0, \"#440154\"], [0.1111111111111111, \"#482878\"], [0.2222222222222222, \"#3e4989\"], [0.3333333333333333, \"#31688e\"], [0.4444444444444444, \"#26828e\"], [0.5555555555555556, \"#1f9e89\"], [0.6666666666666666, \"#35b779\"], [0.7777777777777778, \"#6ece58\"], [0.8888888888888888, \"#b5de2b\"], [1.0, \"#fde725\"]], \"type\": \"histogram2d\"}], \"histogram2dcontour\": [{\"colorbar\": {\"outlinewidth\": 1, \"tickcolor\": \"rgb(36,36,36)\", \"ticks\": \"outside\"}, \"colorscale\": [[0.0, \"#440154\"], [0.1111111111111111, \"#482878\"], [0.2222222222222222, \"#3e4989\"], [0.3333333333333333, \"#31688e\"], [0.4444444444444444, \"#26828e\"], [0.5555555555555556, \"#1f9e89\"], [0.6666666666666666, \"#35b779\"], [0.7777777777777778, \"#6ece58\"], [0.8888888888888888, \"#b5de2b\"], [1.0, \"#fde725\"]], \"type\": \"histogram2dcontour\"}], \"mesh3d\": [{\"colorbar\": {\"outlinewidth\": 1, \"tickcolor\": \"rgb(36,36,36)\", \"ticks\": \"outside\"}, \"type\": \"mesh3d\"}], \"parcoords\": [{\"line\": {\"colorbar\": {\"outlinewidth\": 1, \"tickcolor\": \"rgb(36,36,36)\", \"ticks\": \"outside\"}}, \"type\": \"parcoords\"}], \"pie\": [{\"automargin\": true, \"type\": \"pie\"}], \"scatter\": [{\"marker\": {\"colorbar\": {\"outlinewidth\": 1, \"tickcolor\": \"rgb(36,36,36)\", \"ticks\": \"outside\"}}, \"type\": \"scatter\"}], \"scatter3d\": [{\"line\": {\"colorbar\": {\"outlinewidth\": 1, \"tickcolor\": \"rgb(36,36,36)\", \"ticks\": \"outside\"}}, \"marker\": {\"colorbar\": {\"outlinewidth\": 1, \"tickcolor\": \"rgb(36,36,36)\", \"ticks\": \"outside\"}}, \"type\": \"scatter3d\"}], \"scattercarpet\": [{\"marker\": {\"colorbar\": {\"outlinewidth\": 1, \"tickcolor\": \"rgb(36,36,36)\", \"ticks\": \"outside\"}}, \"type\": \"scattercarpet\"}], \"scattergeo\": [{\"marker\": {\"colorbar\": {\"outlinewidth\": 1, \"tickcolor\": \"rgb(36,36,36)\", \"ticks\": \"outside\"}}, \"type\": \"scattergeo\"}], \"scattergl\": [{\"marker\": {\"colorbar\": {\"outlinewidth\": 1, \"tickcolor\": \"rgb(36,36,36)\", \"ticks\": \"outside\"}}, \"type\": \"scattergl\"}], \"scattermapbox\": [{\"marker\": {\"colorbar\": {\"outlinewidth\": 1, \"tickcolor\": \"rgb(36,36,36)\", \"ticks\": \"outside\"}}, \"type\": \"scattermapbox\"}], \"scatterpolar\": [{\"marker\": {\"colorbar\": {\"outlinewidth\": 1, \"tickcolor\": \"rgb(36,36,36)\", \"ticks\": \"outside\"}}, \"type\": \"scatterpolar\"}], \"scatterpolargl\": [{\"marker\": {\"colorbar\": {\"outlinewidth\": 1, \"tickcolor\": \"rgb(36,36,36)\", \"ticks\": \"outside\"}}, \"type\": \"scatterpolargl\"}], \"scatterternary\": [{\"marker\": {\"colorbar\": {\"outlinewidth\": 1, \"tickcolor\": \"rgb(36,36,36)\", \"ticks\": \"outside\"}}, \"type\": \"scatterternary\"}], \"surface\": [{\"colorbar\": {\"outlinewidth\": 1, \"tickcolor\": \"rgb(36,36,36)\", \"ticks\": \"outside\"}, \"colorscale\": [[0.0, \"#440154\"], [0.1111111111111111, \"#482878\"], [0.2222222222222222, \"#3e4989\"], [0.3333333333333333, \"#31688e\"], [0.4444444444444444, \"#26828e\"], [0.5555555555555556, \"#1f9e89\"], [0.6666666666666666, \"#35b779\"], [0.7777777777777778, \"#6ece58\"], [0.8888888888888888, \"#b5de2b\"], [1.0, \"#fde725\"]], \"type\": \"surface\"}], \"table\": [{\"cells\": {\"fill\": {\"color\": \"rgb(237,237,237)\"}, \"line\": {\"color\": \"white\"}}, \"header\": {\"fill\": {\"color\": \"rgb(217,217,217)\"}, \"line\": {\"color\": \"white\"}}, \"type\": \"table\"}]}, \"layout\": {\"annotationdefaults\": {\"arrowhead\": 0, \"arrowwidth\": 1}, \"coloraxis\": {\"colorbar\": {\"outlinewidth\": 1, \"tickcolor\": \"rgb(36,36,36)\", \"ticks\": \"outside\"}}, \"colorscale\": {\"diverging\": [[0.0, \"rgb(103,0,31)\"], [0.1, \"rgb(178,24,43)\"], [0.2, \"rgb(214,96,77)\"], [0.3, \"rgb(244,165,130)\"], [0.4, \"rgb(253,219,199)\"], [0.5, \"rgb(247,247,247)\"], [0.6, \"rgb(209,229,240)\"], [0.7, \"rgb(146,197,222)\"], [0.8, \"rgb(67,147,195)\"], [0.9, \"rgb(33,102,172)\"], [1.0, \"rgb(5,48,97)\"]], \"sequential\": [[0.0, \"#440154\"], [0.1111111111111111, \"#482878\"], [0.2222222222222222, \"#3e4989\"], [0.3333333333333333, \"#31688e\"], [0.4444444444444444, \"#26828e\"], [0.5555555555555556, \"#1f9e89\"], [0.6666666666666666, \"#35b779\"], [0.7777777777777778, \"#6ece58\"], [0.8888888888888888, \"#b5de2b\"], [1.0, \"#fde725\"]], \"sequentialminus\": [[0.0, \"#440154\"], [0.1111111111111111, \"#482878\"], [0.2222222222222222, \"#3e4989\"], [0.3333333333333333, \"#31688e\"], [0.4444444444444444, \"#26828e\"], [0.5555555555555556, \"#1f9e89\"], [0.6666666666666666, \"#35b779\"], [0.7777777777777778, \"#6ece58\"], [0.8888888888888888, \"#b5de2b\"], [1.0, \"#fde725\"]]}, \"colorway\": [\"#1F77B4\", \"#FF7F0E\", \"#2CA02C\", \"#D62728\", \"#9467BD\", \"#8C564B\", \"#E377C2\", \"#7F7F7F\", \"#BCBD22\", \"#17BECF\"], \"font\": {\"color\": \"rgb(36,36,36)\"}, \"geo\": {\"bgcolor\": \"white\", \"lakecolor\": \"white\", \"landcolor\": \"white\", \"showlakes\": true, \"showland\": true, \"subunitcolor\": \"white\"}, \"hoverlabel\": {\"align\": \"left\"}, \"hovermode\": \"closest\", \"mapbox\": {\"style\": \"light\"}, \"paper_bgcolor\": \"white\", \"plot_bgcolor\": \"white\", \"polar\": {\"angularaxis\": {\"gridcolor\": \"rgb(232,232,232)\", \"linecolor\": \"rgb(36,36,36)\", \"showgrid\": false, \"showline\": true, \"ticks\": \"outside\"}, \"bgcolor\": \"white\", \"radialaxis\": {\"gridcolor\": \"rgb(232,232,232)\", \"linecolor\": \"rgb(36,36,36)\", \"showgrid\": false, \"showline\": true, \"ticks\": \"outside\"}}, \"scene\": {\"xaxis\": {\"backgroundcolor\": \"white\", \"gridcolor\": \"rgb(232,232,232)\", \"gridwidth\": 2, \"linecolor\": \"rgb(36,36,36)\", \"showbackground\": true, \"showgrid\": false, \"showline\": true, \"ticks\": \"outside\", \"zeroline\": false, \"zerolinecolor\": \"rgb(36,36,36)\"}, \"yaxis\": {\"backgroundcolor\": \"white\", \"gridcolor\": \"rgb(232,232,232)\", \"gridwidth\": 2, \"linecolor\": \"rgb(36,36,36)\", \"showbackground\": true, \"showgrid\": false, \"showline\": true, \"ticks\": \"outside\", \"zeroline\": false, \"zerolinecolor\": \"rgb(36,36,36)\"}, \"zaxis\": {\"backgroundcolor\": \"white\", \"gridcolor\": \"rgb(232,232,232)\", \"gridwidth\": 2, \"linecolor\": \"rgb(36,36,36)\", \"showbackground\": true, \"showgrid\": false, \"showline\": true, \"ticks\": \"outside\", \"zeroline\": false, \"zerolinecolor\": \"rgb(36,36,36)\"}}, \"shapedefaults\": {\"fillcolor\": \"black\", \"line\": {\"width\": 0}, \"opacity\": 0.3}, \"ternary\": {\"aaxis\": {\"gridcolor\": \"rgb(232,232,232)\", \"linecolor\": \"rgb(36,36,36)\", \"showgrid\": false, \"showline\": true, \"ticks\": \"outside\"}, \"baxis\": {\"gridcolor\": \"rgb(232,232,232)\", \"linecolor\": \"rgb(36,36,36)\", \"showgrid\": false, \"showline\": true, \"ticks\": \"outside\"}, \"bgcolor\": \"white\", \"caxis\": {\"gridcolor\": \"rgb(232,232,232)\", \"linecolor\": \"rgb(36,36,36)\", \"showgrid\": false, \"showline\": true, \"ticks\": \"outside\"}}, \"title\": {\"x\": 0.05}, \"xaxis\": {\"automargin\": true, \"gridcolor\": \"rgb(232,232,232)\", \"linecolor\": \"rgb(36,36,36)\", \"showgrid\": false, \"showline\": true, \"ticks\": \"outside\", \"title\": {\"standoff\": 15}, \"zeroline\": false, \"zerolinecolor\": \"rgb(36,36,36)\"}, \"yaxis\": {\"automargin\": true, \"gridcolor\": \"rgb(232,232,232)\", \"linecolor\": \"rgb(36,36,36)\", \"showgrid\": false, \"showline\": true, \"ticks\": \"outside\", \"title\": {\"standoff\": 15}, \"zeroline\": false, \"zerolinecolor\": \"rgb(36,36,36)\"}}}, \"title\": {\"text\": \"Estimativa do Rt dos estados atual (5/set)\"}},\n",
       "                        {\"responsive\": true}\n",
       "                    ).then(function(){\n",
       "                            \n",
       "var gd = document.getElementById('9c8a05a6-f66e-48eb-9e6a-d341ef722c7c');\n",
       "var x = new MutationObserver(function (mutations, observer) {{\n",
       "        var display = window.getComputedStyle(gd).display;\n",
       "        if (!display || display === 'none') {{\n",
       "            console.log([gd, 'removed!']);\n",
       "            Plotly.purge(gd);\n",
       "            observer.disconnect();\n",
       "        }}\n",
       "}});\n",
       "\n",
       "// Listen for the removal of the full notebook cells\n",
       "var notebookContainer = gd.closest('#notebook-container');\n",
       "if (notebookContainer) {{\n",
       "    x.observe(notebookContainer, {childList: true});\n",
       "}}\n",
       "\n",
       "// Listen for the clearing of the current output cell\n",
       "var outputEl = gd.closest('.output');\n",
       "if (outputEl) {{\n",
       "    x.observe(outputEl, {childList: true});\n",
       "}}\n",
       "\n",
       "                        })\n",
       "                };\n",
       "                });\n",
       "            </script>\n",
       "        </div>"
      ]
     },
     "metadata": {},
     "output_type": "display_data"
    }
   ],
   "source": [
    "title = \"Estimativa do Rt dos estados atual (5/set)\"\n",
    "gen_compare_plot(dfs={\"Kevin\": last_states_kevin, \"EpiEstim\": last_states_epiestim},\n",
    "                 place_id=place_id,\n",
    "                 title=title,\n",
    "                 state_id=state_id)"
   ]
  },
  {
   "cell_type": "code",
   "execution_count": 110,
   "metadata": {
    "ExecuteTime": {
     "end_time": "2020-09-17T21:49:48.771874Z",
     "start_time": "2020-09-17T21:49:48.703587Z"
    }
   },
   "outputs": [
    {
     "data": {
      "text/plain": [
       "True     14\n",
       "False    13\n",
       "Name: Rt_most_likely, dtype: int64"
      ]
     },
     "execution_count": 110,
     "metadata": {},
     "output_type": "execute_result"
    }
   ],
   "source": [
    "(last_states_kevin.set_index(place_id)[\"Rt_most_likely\"] \n",
    "> last_states_epiestim.set_index(place_id)[\"Rt_most_likely\"]).value_counts()"
   ]
  },
  {
   "cell_type": "markdown",
   "metadata": {},
   "source": [
    "### Evolução do Rt"
   ]
  },
  {
   "cell_type": "code",
   "execution_count": 21,
   "metadata": {
    "ExecuteTime": {
     "end_time": "2020-09-17T19:54:30.143837Z",
     "start_time": "2020-09-17T19:54:30.079916Z"
    }
   },
   "outputs": [],
   "source": [
    "place_choosen = \"RJ\""
   ]
  },
  {
   "cell_type": "code",
   "execution_count": 22,
   "metadata": {
    "ExecuteTime": {
     "end_time": "2020-09-17T19:54:31.017610Z",
     "start_time": "2020-09-17T19:54:30.936277Z"
    }
   },
   "outputs": [],
   "source": [
    "place_epiestim = states_epiestim[states_epiestim[\"state_num_id\"] == state_id[state_id==place_choosen].index[0]]\n",
    "place_kevin = states_kevin[states_kevin[\"state_num_id\"] == state_id[state_id==place_choosen].index[0]]"
   ]
  },
  {
   "cell_type": "code",
   "execution_count": 23,
   "metadata": {
    "ExecuteTime": {
     "end_time": "2020-09-17T19:54:31.434948Z",
     "start_time": "2020-09-17T19:54:31.285475Z"
    }
   },
   "outputs": [
    {
     "data": {
      "application/vnd.plotly.v1+json": {
       "config": {
        "plotlyServerURL": "https://plot.ly"
       },
       "data": [
        {
         "error_y": {
          "array": [
           4.84,
           4.67,
           3.77,
           3.29,
           3.09,
           2.84,
           2.58,
           2.31,
           2.1199999999999997,
           1.87,
           1.6800000000000002,
           1.4799999999999995,
           1.3200000000000007,
           1.1400000000000001,
           1,
           0.8999999999999999,
           0.8300000000000001,
           0.75,
           0.69,
           0.6499999999999999,
           0.6200000000000001,
           0.5800000000000001,
           0.5399999999999998,
           0.5,
           0.49,
           0.4600000000000002,
           0.42999999999999994,
           0.4099999999999999,
           0.40000000000000013,
           0.37000000000000033,
           0.34999999999999987,
           0.33000000000000007,
           0.31000000000000005,
           0.29000000000000004,
           0.2799999999999998,
           0.27,
           0.26,
           0.25,
           0.25,
           0.22999999999999998,
           0.22999999999999998,
           0.20999999999999996,
           0.21999999999999997,
           0.20999999999999996,
           0.19999999999999996,
           0.19999999999999996,
           0.18999999999999995,
           0.18999999999999995,
           0.17999999999999994,
           0.16999999999999993,
           0.16999999999999993,
           0.15999999999999992,
           0.15999999999999992,
           0.1499999999999999,
           0.16000000000000014,
           0.15000000000000013,
           0.14000000000000012,
           0.13000000000000012,
           0.1299999999999999,
           0.1299999999999999,
           0.13000000000000012,
           0.13000000000000012,
           0.1200000000000001,
           0.11999999999999988,
           0.11999999999999988,
           0.10999999999999988,
           0.11999999999999988,
           0.1100000000000001,
           0.1100000000000001,
           0.10000000000000009,
           0.10999999999999988,
           0.09999999999999987,
           0.09999999999999987,
           0.09999999999999987,
           0.09000000000000008,
           0.09000000000000008,
           0.09000000000000008,
           0.08000000000000007,
           0.09000000000000008,
           0.09000000000000008,
           0.08000000000000007,
           0.08000000000000007,
           0.07999999999999985,
           0.07999999999999985,
           0.06999999999999984,
           0.08000000000000007,
           0.08000000000000007,
           0.08000000000000007,
           0.07000000000000006,
           0.08000000000000007,
           0.07000000000000006,
           0.07000000000000006,
           0.07000000000000006,
           0.08000000000000007,
           0.06999999999999984,
           0.06999999999999984,
           0.07000000000000006,
           0.08000000000000007,
           0.06999999999999984,
           0.07999999999999985,
           0.07999999999999985,
           0.08000000000000007,
           0.08000000000000007,
           0.08000000000000007,
           0.07000000000000006,
           0.07000000000000006,
           0.06999999999999984,
           0.06999999999999984,
           0.06999999999999984,
           0.07000000000000006,
           0.07000000000000006,
           0.07000000000000006,
           0.07000000000000006,
           0.07000000000000006,
           0.07000000000000006,
           0.07000000000000006,
           0.07000000000000006,
           0.08000000000000007,
           0.08000000000000007,
           0.08000000000000007,
           0.08000000000000007,
           0.08000000000000007,
           0.07999999999999996,
           0.07999999999999996,
           0.06999999999999995,
           0.07999999999999996,
           0.07999999999999996,
           0.08000000000000007,
           0.08000000000000007,
           0.07999999999999996,
           0.08999999999999997,
           0.08000000000000007,
           0.07999999999999985,
           0.08000000000000007,
           0.08000000000000007,
           0.07000000000000006,
           0.08000000000000007,
           0.08000000000000007,
           0.08000000000000007,
           0.07999999999999985,
           0.08000000000000007,
           0.07000000000000006,
           0.08000000000000007,
           0.07000000000000006,
           0.07000000000000006,
           0.08000000000000007,
           0.08000000000000007,
           0.08000000000000007,
           0.08000000000000007,
           0.08000000000000007,
           0.07000000000000006,
           0.08000000000000007,
           0.08000000000000007,
           0.08000000000000007,
           0.08000000000000007,
           0.07999999999999985,
           0.07999999999999985,
           0.07999999999999985,
           0.07999999999999985,
           0.07999999999999985,
           0.06999999999999984,
           0.07000000000000006,
           0.07000000000000006,
           0.07000000000000006,
           0.06999999999999984,
           0.06999999999999984,
           0.06999999999999984,
           0.08000000000000007,
           0.07000000000000006,
           0.07000000000000006,
           0.08000000000000007,
           0.07000000000000006,
           0.07000000000000006,
           0.07000000000000006,
           0.08000000000000007,
           0.07000000000000006,
           0.07000000000000006,
           0.08000000000000007,
           0.07000000000000006
          ],
          "arrayminus": [
           2.33,
           2.43,
           2.2700000000000005,
           2.1399999999999997,
           2.17,
           2.1,
           2,
           1.9200000000000002,
           1.9300000000000002,
           1.8599999999999999,
           1.7300000000000002,
           1.5700000000000003,
           1.3699999999999999,
           1.24,
           1.1099999999999999,
           0.99,
           0.8800000000000001,
           0.8200000000000001,
           0.77,
           0.71,
           0.6600000000000001,
           0.6299999999999999,
           0.6100000000000001,
           0.5900000000000001,
           0.54,
           0.51,
           0.49,
           0.45999999999999996,
           0.41999999999999993,
           0.4099999999999999,
           0.3899999999999999,
           0.3699999999999999,
           0.3600000000000001,
           0.3500000000000001,
           0.33000000000000007,
           0.31000000000000005,
           0.30000000000000004,
           0.2899999999999998,
           0.27,
           0.28,
           0.26,
           0.27,
           0.24,
           0.24,
           0.24,
           0.22999999999999998,
           0.22999999999999998,
           0.20999999999999996,
           0.20999999999999996,
           0.20999999999999996,
           0.19999999999999996,
           0.19999999999999996,
           0.18999999999999995,
           0.18999999999999995,
           0.16999999999999993,
           0.16999999999999993,
           0.17999999999999994,
           0.17999999999999994,
           0.16999999999999993,
           0.15999999999999992,
           0.15999999999999992,
           0.1499999999999999,
           0.1499999999999999,
           0.15000000000000013,
           0.14000000000000012,
           0.15000000000000013,
           0.14000000000000012,
           0.1399999999999999,
           0.1399999999999999,
           0.14000000000000012,
           0.1200000000000001,
           0.13000000000000012,
           0.1200000000000001,
           0.1100000000000001,
           0.1200000000000001,
           0.10999999999999988,
           0.10999999999999988,
           0.11999999999999988,
           0.09999999999999987,
           0.09999999999999987,
           0.10999999999999988,
           0.09999999999999987,
           0.10000000000000009,
           0.10000000000000009,
           0.1100000000000001,
           0.10000000000000009,
           0.09000000000000008,
           0.08999999999999986,
           0.09999999999999987,
           0.08999999999999986,
           0.09999999999999987,
           0.09999999999999987,
           0.09999999999999987,
           0.08999999999999986,
           0.10000000000000009,
           0.10000000000000009,
           0.10000000000000009,
           0.09000000000000008,
           0.10000000000000009,
           0.09000000000000008,
           0.09000000000000008,
           0.08999999999999986,
           0.08999999999999986,
           0.08999999999999986,
           0.09999999999999987,
           0.09999999999999987,
           0.10000000000000009,
           0.10000000000000009,
           0.10000000000000009,
           0.10000000000000009,
           0.09999999999999998,
           0.09999999999999998,
           0.09999999999999998,
           0.09999999999999998,
           0.09999999999999998,
           0.09999999999999998,
           0.09999999999999998,
           0.08999999999999997,
           0.08999999999999997,
           0.08999999999999997,
           0.08999999999999997,
           0.08999999999999997,
           0.09999999999999998,
           0.09999999999999998,
           0.10999999999999999,
           0.09999999999999998,
           0.09999999999999998,
           0.09999999999999998,
           0.09999999999999998,
           0.09999999999999998,
           0.08999999999999997,
           0.10999999999999999,
           0.10000000000000009,
           0.09999999999999987,
           0.09999999999999987,
           0.10999999999999988,
           0.09999999999999987,
           0.08999999999999986,
           0.08999999999999986,
           0.09000000000000008,
           0.09000000000000008,
           0.09999999999999998,
           0.08999999999999997,
           0.09999999999999998,
           0.09999999999999998,
           0.08999999999999997,
           0.08999999999999997,
           0.08999999999999997,
           0.08999999999999997,
           0.09999999999999998,
           0.10999999999999999,
           0.09999999999999998,
           0.09999999999999998,
           0.09999999999999998,
           0.10000000000000009,
           0.09000000000000008,
           0.09000000000000008,
           0.09000000000000008,
           0.09000000000000008,
           0.09000000000000008,
           0.10000000000000009,
           0.09999999999999987,
           0.09999999999999987,
           0.09999999999999987,
           0.10000000000000009,
           0.10000000000000009,
           0.09000000000000008,
           0.08000000000000007,
           0.09999999999999998,
           0.09999999999999998,
           0.08999999999999997,
           0.09999999999999998,
           0.09999999999999998,
           0.09999999999999998,
           0.08999999999999997,
           0.09999999999999998,
           0.09999999999999998,
           0.08999999999999997,
           0.09999999999999998
          ],
          "thickness": 1,
          "width": 1
         },
         "name": "Kevin",
         "type": "scatter",
         "x": [
          "2020-03-11T00:00:00",
          "2020-03-12T00:00:00",
          "2020-03-13T00:00:00",
          "2020-03-14T00:00:00",
          "2020-03-15T00:00:00",
          "2020-03-16T00:00:00",
          "2020-03-17T00:00:00",
          "2020-03-18T00:00:00",
          "2020-03-19T00:00:00",
          "2020-03-20T00:00:00",
          "2020-03-21T00:00:00",
          "2020-03-22T00:00:00",
          "2020-03-23T00:00:00",
          "2020-03-24T00:00:00",
          "2020-03-25T00:00:00",
          "2020-03-26T00:00:00",
          "2020-03-27T00:00:00",
          "2020-03-28T00:00:00",
          "2020-03-29T00:00:00",
          "2020-03-30T00:00:00",
          "2020-03-31T00:00:00",
          "2020-04-01T00:00:00",
          "2020-04-02T00:00:00",
          "2020-04-03T00:00:00",
          "2020-04-04T00:00:00",
          "2020-04-05T00:00:00",
          "2020-04-06T00:00:00",
          "2020-04-07T00:00:00",
          "2020-04-08T00:00:00",
          "2020-04-09T00:00:00",
          "2020-04-10T00:00:00",
          "2020-04-11T00:00:00",
          "2020-04-12T00:00:00",
          "2020-04-13T00:00:00",
          "2020-04-14T00:00:00",
          "2020-04-15T00:00:00",
          "2020-04-16T00:00:00",
          "2020-04-17T00:00:00",
          "2020-04-18T00:00:00",
          "2020-04-19T00:00:00",
          "2020-04-20T00:00:00",
          "2020-04-21T00:00:00",
          "2020-04-22T00:00:00",
          "2020-04-23T00:00:00",
          "2020-04-24T00:00:00",
          "2020-04-25T00:00:00",
          "2020-04-26T00:00:00",
          "2020-04-27T00:00:00",
          "2020-04-28T00:00:00",
          "2020-04-29T00:00:00",
          "2020-04-30T00:00:00",
          "2020-05-01T00:00:00",
          "2020-05-02T00:00:00",
          "2020-05-03T00:00:00",
          "2020-05-04T00:00:00",
          "2020-05-05T00:00:00",
          "2020-05-06T00:00:00",
          "2020-05-07T00:00:00",
          "2020-05-08T00:00:00",
          "2020-05-09T00:00:00",
          "2020-05-10T00:00:00",
          "2020-05-11T00:00:00",
          "2020-05-12T00:00:00",
          "2020-05-13T00:00:00",
          "2020-05-14T00:00:00",
          "2020-05-15T00:00:00",
          "2020-05-16T00:00:00",
          "2020-05-17T00:00:00",
          "2020-05-18T00:00:00",
          "2020-05-19T00:00:00",
          "2020-05-20T00:00:00",
          "2020-05-21T00:00:00",
          "2020-05-22T00:00:00",
          "2020-05-23T00:00:00",
          "2020-05-24T00:00:00",
          "2020-05-25T00:00:00",
          "2020-05-26T00:00:00",
          "2020-05-27T00:00:00",
          "2020-05-28T00:00:00",
          "2020-05-29T00:00:00",
          "2020-05-30T00:00:00",
          "2020-05-31T00:00:00",
          "2020-06-01T00:00:00",
          "2020-06-02T00:00:00",
          "2020-06-03T00:00:00",
          "2020-06-04T00:00:00",
          "2020-06-05T00:00:00",
          "2020-06-06T00:00:00",
          "2020-06-07T00:00:00",
          "2020-06-08T00:00:00",
          "2020-06-09T00:00:00",
          "2020-06-10T00:00:00",
          "2020-06-11T00:00:00",
          "2020-06-12T00:00:00",
          "2020-06-13T00:00:00",
          "2020-06-14T00:00:00",
          "2020-06-15T00:00:00",
          "2020-06-16T00:00:00",
          "2020-06-17T00:00:00",
          "2020-06-18T00:00:00",
          "2020-06-19T00:00:00",
          "2020-06-20T00:00:00",
          "2020-06-21T00:00:00",
          "2020-06-22T00:00:00",
          "2020-06-23T00:00:00",
          "2020-06-24T00:00:00",
          "2020-06-25T00:00:00",
          "2020-06-26T00:00:00",
          "2020-06-27T00:00:00",
          "2020-06-28T00:00:00",
          "2020-06-29T00:00:00",
          "2020-06-30T00:00:00",
          "2020-07-01T00:00:00",
          "2020-07-02T00:00:00",
          "2020-07-03T00:00:00",
          "2020-07-04T00:00:00",
          "2020-07-05T00:00:00",
          "2020-07-06T00:00:00",
          "2020-07-07T00:00:00",
          "2020-07-08T00:00:00",
          "2020-07-09T00:00:00",
          "2020-07-10T00:00:00",
          "2020-07-11T00:00:00",
          "2020-07-12T00:00:00",
          "2020-07-13T00:00:00",
          "2020-07-14T00:00:00",
          "2020-07-15T00:00:00",
          "2020-07-16T00:00:00",
          "2020-07-17T00:00:00",
          "2020-07-18T00:00:00",
          "2020-07-19T00:00:00",
          "2020-07-20T00:00:00",
          "2020-07-21T00:00:00",
          "2020-07-22T00:00:00",
          "2020-07-23T00:00:00",
          "2020-07-24T00:00:00",
          "2020-07-25T00:00:00",
          "2020-07-26T00:00:00",
          "2020-07-27T00:00:00",
          "2020-07-28T00:00:00",
          "2020-07-29T00:00:00",
          "2020-07-30T00:00:00",
          "2020-07-31T00:00:00",
          "2020-08-01T00:00:00",
          "2020-08-02T00:00:00",
          "2020-08-03T00:00:00",
          "2020-08-04T00:00:00",
          "2020-08-05T00:00:00",
          "2020-08-06T00:00:00",
          "2020-08-07T00:00:00",
          "2020-08-08T00:00:00",
          "2020-08-09T00:00:00",
          "2020-08-10T00:00:00",
          "2020-08-11T00:00:00",
          "2020-08-12T00:00:00",
          "2020-08-13T00:00:00",
          "2020-08-14T00:00:00",
          "2020-08-15T00:00:00",
          "2020-08-16T00:00:00",
          "2020-08-17T00:00:00",
          "2020-08-18T00:00:00",
          "2020-08-19T00:00:00",
          "2020-08-20T00:00:00",
          "2020-08-21T00:00:00",
          "2020-08-22T00:00:00",
          "2020-08-23T00:00:00",
          "2020-08-24T00:00:00",
          "2020-08-25T00:00:00",
          "2020-08-26T00:00:00",
          "2020-08-27T00:00:00",
          "2020-08-28T00:00:00",
          "2020-08-29T00:00:00",
          "2020-08-30T00:00:00",
          "2020-08-31T00:00:00",
          "2020-09-01T00:00:00",
          "2020-09-02T00:00:00",
          "2020-09-03T00:00:00",
          "2020-09-04T00:00:00",
          "2020-09-05T00:00:00"
         ],
         "y": [
          3,
          3.27,
          3.0500000000000003,
          2.88,
          3,
          3.04,
          3,
          2.93,
          3.14,
          3.17,
          3.3000000000000003,
          3.3200000000000003,
          3.28,
          3.19,
          3.01,
          2.81,
          2.62,
          2.41,
          2.25,
          2.13,
          2.04,
          2.01,
          1.99,
          1.98,
          1.97,
          1.97,
          1.97,
          1.97,
          1.95,
          1.93,
          1.91,
          1.88,
          1.85,
          1.81,
          1.77,
          1.73,
          1.68,
          1.63,
          1.59,
          1.55,
          1.52,
          1.5,
          1.48,
          1.47,
          1.48,
          1.49,
          1.51,
          1.52,
          1.53,
          1.53,
          1.52,
          1.51,
          1.49,
          1.48,
          1.46,
          1.46,
          1.47,
          1.49,
          1.5,
          1.5,
          1.48,
          1.45,
          1.41,
          1.36,
          1.32,
          1.31,
          1.32,
          1.38,
          1.44,
          1.52,
          1.56,
          1.59,
          1.58,
          1.55,
          1.51,
          1.46,
          1.41,
          1.4,
          1.39,
          1.39,
          1.39,
          1.39,
          1.37,
          1.34,
          1.31,
          1.27,
          1.24,
          1.21,
          1.2,
          1.19,
          1.19,
          1.18,
          1.16,
          1.13,
          1.1,
          1.07,
          1.05,
          1.04,
          1.06,
          1.08,
          1.11,
          1.14,
          1.15,
          1.16,
          1.16,
          1.14,
          1.12,
          1.09,
          1.06,
          1.04,
          1.01,
          0.99,
          0.97,
          0.95,
          0.94,
          0.94,
          0.94,
          0.94,
          0.95,
          0.95,
          0.94,
          0.94,
          0.92,
          0.91,
          0.9,
          0.88,
          0.86,
          0.85,
          0.85,
          0.87,
          0.91,
          0.98,
          1.06,
          1.14,
          1.19,
          1.23,
          1.22,
          1.19,
          1.14,
          1.08,
          1.03,
          1,
          0.97,
          0.96,
          0.95,
          0.94,
          0.94,
          0.94,
          0.95,
          0.96,
          0.98,
          0.99,
          1.01,
          1.03,
          1.04,
          1.05,
          1.06,
          1.06,
          1.08,
          1.1,
          1.12,
          1.14,
          1.14,
          1.14,
          1.12,
          1.1,
          1.07,
          1.03,
          1,
          0.98,
          0.96,
          0.96,
          0.96,
          0.95,
          0.95,
          0.95,
          0.95,
          0.94,
          0.94
         ]
        },
        {
         "error_y": {
          "array": [
           1.5193361458322627,
           1.17126003001784,
           0.8987715707323645,
           0.759343394417654,
           0.6892468112415946,
           0.6240537554710759,
           0.5549635633537418,
           0.4599584241828931,
           0.376600051099071,
           0.3115796832767761,
           0.2561852921546688,
           0.20878919719051847,
           0.17297267713132092,
           0.14532490536409037,
           0.12697623252565782,
           0.11558533533927795,
           0.1069069538231513,
           0.10173539344925198,
           0.09933477364829923,
           0.09701274222245448,
           0.09603122893933924,
           0.09437327245642346,
           0.0913404671511322,
           0.08786844430593321,
           0.08258383331691443,
           0.07697130312847267,
           0.07268965042474673,
           0.06794370341155931,
           0.06344221167683695,
           0.05887438827892155,
           0.05498428171813141,
           0.05203172119712418,
           0.04927719773744221,
           0.046262048114861454,
           0.04423652369832465,
           0.042488919538382186,
           0.04202723964325816,
           0.04118666822157757,
           0.04092486891744662,
           0.04108864024367831,
           0.04222319746956282,
           0.04294695666805781,
           0.04330346783842787,
           0.04241219040127309,
           0.041873454362582274,
           0.040470172447515385,
           0.03898182664985961,
           0.03677675394114943,
           0.03469733086358473,
           0.03319682786712108,
           0.0322151461380451,
           0.031574068918170495,
           0.03144174440913394,
           0.030825811014284943,
           0.03022688246389471,
           0.029353336410700148,
           0.027968489274430963,
           0.026506736461624048,
           0.02466122543278826,
           0.02304810106166677,
           0.022137812157906334,
           0.02258309216420762,
           0.023475922395743698,
           0.02506465183493778,
           0.026405099058747217,
           0.027306367101669338,
           0.026942396489629816,
           0.026082789363930825,
           0.023799932901149567,
           0.021451747251444164,
           0.01924645181522311,
           0.01758734306987675,
           0.01648849952253606,
           0.016125013105972252,
           0.015571183799356625,
           0.015332639392383829,
           0.015286349294906687,
           0.01528022643087823,
           0.015124436181972678,
           0.014740955900098163,
           0.013918957727026449,
           0.013465825092882522,
           0.013228826729828946,
           0.013133400048639166,
           0.013046117762326115,
           0.013028224751009287,
           0.013089907073629115,
           0.013340464072810643,
           0.013287507390842834,
           0.01312832487778981,
           0.012796763157446378,
           0.012743428156137049,
           0.012738177391047767,
           0.01312955785511949,
           0.0136987356810373,
           0.01442899349259874,
           0.01506843326430829,
           0.01563318137562053,
           0.015699654140921115,
           0.015730212240585573,
           0.015112443559897493,
           0.014263358623811229,
           0.013630976334822575,
           0.0131313097694985,
           0.012605561612379468,
           0.012282640787394383,
           0.01190960158681309,
           0.011844624373817503,
           0.012117432369315728,
           0.012239916588156707,
           0.012440811706763366,
           0.01299025705821577,
           0.013541204841956533,
           0.014192373822072168,
           0.01471526419425051,
           0.014874767766077324,
           0.014987996010416338,
           0.015239294418613158,
           0.01518401141387482,
           0.015085089394141882,
           0.014720757615745206,
           0.014457491445702408,
           0.014426171316562875,
           0.015117107517370942,
           0.01572547854855766,
           0.017077542454779437,
           0.018745902645828982,
           0.0208066174512318,
           0.022608529534914545,
           0.023451030230202896,
           0.022502321754907184,
           0.020790706235677803,
           0.01859452453994348,
           0.016556282768232622,
           0.014806642504228584,
           0.013316730834968094,
           0.012273981250429888,
           0.011724117658879707,
           0.011481576419169026,
           0.011535395867979803,
           0.011982420662085658,
           0.01256553766558044,
           0.01328946069395398,
           0.01399478529517273,
           0.014693938788236993,
           0.01536434841755463,
           0.016152949725017907,
           0.016509441251535195,
           0.016804612246306583,
           0.016938434113611178,
           0.016622715377452968,
           0.01647689982959366,
           0.016207012744738902,
           0.01597926984912057,
           0.015832149636153314,
           0.015619104439115628,
           0.01531542813697473,
           0.015302698843637774,
           0.014854609422821019,
           0.014428714078321025,
           0.013768820552069183,
           0.013127596137670228,
           0.012580142492864432,
           0.012172502556814235,
           0.01178009741204511,
           0.011697120051858745,
           0.011734829938622182,
           0.012049163897853599,
           0.012409559225661337,
           0.012765007445979748,
           0.013346686153384524,
           0.013586809133501632
          ],
          "arrayminus": [
           1.3223923989417368,
           1.0319321648996729,
           0.7993783811246726,
           0.6863570868288358,
           0.6333453499531152,
           0.5808397249065962,
           0.5222913665307449,
           0.43584514014624,
           0.35900774640627064,
           0.29857253351029156,
           0.24634984546652738,
           0.20119171659367519,
           0.16694471752089668,
           0.1403743608826875,
           0.12276368345139055,
           0.11187866817476655,
           0.10355819833525981,
           0.09865893153865768,
           0.0964770371166983,
           0.09434545479044809,
           0.0935490580312539,
           0.09207882074562845,
           0.08924107518385327,
           0.08596831044342323,
           0.0808771655588254,
           0.075445380850506,
           0.0713236863542619,
           0.06671458832375743,
           0.0623322384962024,
           0.05786717853002998,
           0.05406332353507315,
           0.05118086996536375,
           0.048482738610406084,
           0.04551394019216959,
           0.04352605353241312,
           0.04180651714348116,
           0.04136492479973275,
           0.04053878689328583,
           0.04028934455901112,
           0.040464388665225615,
           0.041610138685796993,
           0.04234766266414658,
           0.04272442692935341,
           0.04186053851382332,
           0.04135401683481965,
           0.03998395449493053,
           0.038528851882904114,
           0.03635563982847234,
           0.0343052930188843,
           0.032829412702865435,
           0.031867573411269445,
           0.031243003488490517,
           0.031125629246097963,
           0.0305244480107687,
           0.029941196562332184,
           0.029083766264768718,
           0.027714832644172294,
           0.02626810477154029,
           0.02443556465510177,
           0.022832559928213092,
           0.02192871658697393,
           0.02237661069207042,
           0.023269477223175405,
           0.024858618041920133,
           0.026202551914541683,
           0.0271123156370352,
           0.02676189294177167,
           0.025919223298802807,
           0.023654011697971322,
           0.021322325154335076,
           0.019130577853804454,
           0.01748156240727905,
           0.016389735828426177,
           0.016030902884993647,
           0.01548021804901456,
           0.015244237232429958,
           0.015200123881252692,
           0.015195946900037116,
           0.015042222100321245,
           0.014661093312175577,
           0.013841553768751513,
           0.01339055164875369,
           0.01315478335507636,
           0.013059728352081912,
           0.012972338866116373,
           0.012954118039987805,
           0.013015304988980514,
           0.01326523235615873,
           0.013211644564911751,
           0.013052046972706233,
           0.012720095099441608,
           0.012666013653240382,
           0.012659343211327556,
           0.013048706768147733,
           0.01361550815022261,
           0.014343544874867886,
           0.01498153319368023,
           0.015546080458074485,
           0.01561374136292848,
           0.015646727970331398,
           0.015032076286699114,
           0.014186376941241141,
           0.013556953868357091,
           0.013059258985908317,
           0.012534514571210797,
           0.012211796568019184,
           0.01183812743002699,
           0.011771680029028286,
           0.012042106016144971,
           0.012161443459003385,
           0.012358842054737806,
           0.012904518622736783,
           0.013451397737514248,
           0.014098602475482558,
           0.014618055843578559,
           0.014774924246367505,
           0.014886284661612681,
           0.015135997511284804,
           0.015079091184325932,
           0.014978591521696782,
           0.014612495144847415,
           0.014346864672043491,
           0.014312037310829417,
           0.014998007265079827,
           0.015600171882396374,
           0.01694585107674096,
           0.01860857480860978,
           0.02066586152562855,
           0.022468338821339806,
           0.023316698616277165,
           0.02237875511512266,
           0.020680393960928134,
           0.018496781474656387,
           0.0164688371020012,
           0.014726792055092641,
           0.013241909596321766,
           0.012201902224864614,
           0.011652670815538446,
           0.011408884632320482,
           0.011459943403854367,
           0.011903021257711921,
           0.012481341560592774,
           0.013200160983335762,
           0.013900612067824891,
           0.014595546119028802,
           0.015262637674309798,
           0.01604896656538224,
           0.0164043943590515,
           0.016699948966942157,
           0.016835307619686546,
           0.01652194530481177,
           0.016379042158993107,
           0.016112097678294912,
           0.015887222911529664,
           0.01574290510844567,
           0.015532615552330542,
           0.015231746683351366,
           0.015221848224771461,
           0.014776529938512306,
           0.014353515626698288,
           0.013696351552529906,
           0.013057416747399797,
           0.012511539376150904,
           0.012104596638342069,
           0.011712001844837783,
           0.011627994476463566,
           0.011663811584270434,
           0.011975540825608588,
           0.012332857411089249,
           0.012685092781606788,
           0.01326368127054145,
           0.013500954771663354
          ],
          "thickness": 1,
          "width": 1
         },
         "name": "EpiEstim",
         "type": "scatter",
         "x": [
          "2020-03-18T00:00:00",
          "2020-03-19T00:00:00",
          "2020-03-20T00:00:00",
          "2020-03-21T00:00:00",
          "2020-03-22T00:00:00",
          "2020-03-23T00:00:00",
          "2020-03-24T00:00:00",
          "2020-03-25T00:00:00",
          "2020-03-26T00:00:00",
          "2020-03-27T00:00:00",
          "2020-03-28T00:00:00",
          "2020-03-29T00:00:00",
          "2020-03-30T00:00:00",
          "2020-03-31T00:00:00",
          "2020-04-01T00:00:00",
          "2020-04-02T00:00:00",
          "2020-04-03T00:00:00",
          "2020-04-04T00:00:00",
          "2020-04-05T00:00:00",
          "2020-04-06T00:00:00",
          "2020-04-07T00:00:00",
          "2020-04-08T00:00:00",
          "2020-04-09T00:00:00",
          "2020-04-10T00:00:00",
          "2020-04-11T00:00:00",
          "2020-04-12T00:00:00",
          "2020-04-13T00:00:00",
          "2020-04-14T00:00:00",
          "2020-04-15T00:00:00",
          "2020-04-16T00:00:00",
          "2020-04-17T00:00:00",
          "2020-04-18T00:00:00",
          "2020-04-19T00:00:00",
          "2020-04-20T00:00:00",
          "2020-04-21T00:00:00",
          "2020-04-22T00:00:00",
          "2020-04-23T00:00:00",
          "2020-04-24T00:00:00",
          "2020-04-25T00:00:00",
          "2020-04-26T00:00:00",
          "2020-04-27T00:00:00",
          "2020-04-28T00:00:00",
          "2020-04-29T00:00:00",
          "2020-04-30T00:00:00",
          "2020-05-01T00:00:00",
          "2020-05-02T00:00:00",
          "2020-05-03T00:00:00",
          "2020-05-04T00:00:00",
          "2020-05-05T00:00:00",
          "2020-05-06T00:00:00",
          "2020-05-07T00:00:00",
          "2020-05-08T00:00:00",
          "2020-05-09T00:00:00",
          "2020-05-10T00:00:00",
          "2020-05-11T00:00:00",
          "2020-05-12T00:00:00",
          "2020-05-13T00:00:00",
          "2020-05-14T00:00:00",
          "2020-05-15T00:00:00",
          "2020-05-16T00:00:00",
          "2020-05-17T00:00:00",
          "2020-05-18T00:00:00",
          "2020-05-19T00:00:00",
          "2020-05-20T00:00:00",
          "2020-05-21T00:00:00",
          "2020-05-22T00:00:00",
          "2020-05-23T00:00:00",
          "2020-05-24T00:00:00",
          "2020-05-25T00:00:00",
          "2020-05-26T00:00:00",
          "2020-05-27T00:00:00",
          "2020-05-28T00:00:00",
          "2020-05-29T00:00:00",
          "2020-05-30T00:00:00",
          "2020-05-31T00:00:00",
          "2020-06-01T00:00:00",
          "2020-06-02T00:00:00",
          "2020-06-03T00:00:00",
          "2020-06-04T00:00:00",
          "2020-06-05T00:00:00",
          "2020-06-06T00:00:00",
          "2020-06-07T00:00:00",
          "2020-06-08T00:00:00",
          "2020-06-09T00:00:00",
          "2020-06-10T00:00:00",
          "2020-06-11T00:00:00",
          "2020-06-12T00:00:00",
          "2020-06-13T00:00:00",
          "2020-06-14T00:00:00",
          "2020-06-15T00:00:00",
          "2020-06-16T00:00:00",
          "2020-06-17T00:00:00",
          "2020-06-18T00:00:00",
          "2020-06-19T00:00:00",
          "2020-06-20T00:00:00",
          "2020-06-21T00:00:00",
          "2020-06-22T00:00:00",
          "2020-06-23T00:00:00",
          "2020-06-24T00:00:00",
          "2020-06-25T00:00:00",
          "2020-06-26T00:00:00",
          "2020-06-27T00:00:00",
          "2020-06-28T00:00:00",
          "2020-06-29T00:00:00",
          "2020-06-30T00:00:00",
          "2020-07-01T00:00:00",
          "2020-07-02T00:00:00",
          "2020-07-03T00:00:00",
          "2020-07-04T00:00:00",
          "2020-07-05T00:00:00",
          "2020-07-06T00:00:00",
          "2020-07-07T00:00:00",
          "2020-07-08T00:00:00",
          "2020-07-09T00:00:00",
          "2020-07-10T00:00:00",
          "2020-07-11T00:00:00",
          "2020-07-12T00:00:00",
          "2020-07-13T00:00:00",
          "2020-07-14T00:00:00",
          "2020-07-15T00:00:00",
          "2020-07-16T00:00:00",
          "2020-07-17T00:00:00",
          "2020-07-18T00:00:00",
          "2020-07-19T00:00:00",
          "2020-07-20T00:00:00",
          "2020-07-21T00:00:00",
          "2020-07-22T00:00:00",
          "2020-07-23T00:00:00",
          "2020-07-24T00:00:00",
          "2020-07-25T00:00:00",
          "2020-07-26T00:00:00",
          "2020-07-27T00:00:00",
          "2020-07-28T00:00:00",
          "2020-07-29T00:00:00",
          "2020-07-30T00:00:00",
          "2020-07-31T00:00:00",
          "2020-08-01T00:00:00",
          "2020-08-02T00:00:00",
          "2020-08-03T00:00:00",
          "2020-08-04T00:00:00",
          "2020-08-05T00:00:00",
          "2020-08-06T00:00:00",
          "2020-08-07T00:00:00",
          "2020-08-08T00:00:00",
          "2020-08-09T00:00:00",
          "2020-08-10T00:00:00",
          "2020-08-11T00:00:00",
          "2020-08-12T00:00:00",
          "2020-08-13T00:00:00",
          "2020-08-14T00:00:00",
          "2020-08-15T00:00:00",
          "2020-08-16T00:00:00",
          "2020-08-17T00:00:00",
          "2020-08-18T00:00:00",
          "2020-08-19T00:00:00",
          "2020-08-20T00:00:00",
          "2020-08-21T00:00:00",
          "2020-08-22T00:00:00",
          "2020-08-23T00:00:00",
          "2020-08-24T00:00:00",
          "2020-08-25T00:00:00",
          "2020-08-26T00:00:00",
          "2020-08-27T00:00:00",
          "2020-08-28T00:00:00",
          "2020-08-29T00:00:00",
          "2020-08-30T00:00:00",
          "2020-08-31T00:00:00",
          "2020-09-01T00:00:00",
          "2020-09-02T00:00:00",
          "2020-09-03T00:00:00",
          "2020-09-04T00:00:00",
          "2020-09-05T00:00:00"
         ],
         "y": [
          4.339768455973265,
          3.6828323154289366,
          3.064308565059175,
          3.0204524705155547,
          3.2966982922538084,
          3.5366320303050536,
          3.7370714136424215,
          3.500349970899866,
          3.2345218049275144,
          3.009232840339272,
          2.6993084912586878,
          2.3256527810274585,
          2.0148571745168606,
          1.73309980700471,
          1.5562476237851834,
          1.4671577347220217,
          1.3902845707712956,
          1.3719375008056107,
          1.4101178427325467,
          1.4428182057400583,
          1.521691590777061,
          1.592260690459406,
          1.6323032402935942,
          1.6712297575602482,
          1.6451649257969558,
          1.5997674129575503,
          1.5954511422368989,
          1.550195784023474,
          1.497551019746317,
          1.4217985339396315,
          1.3567418310405273,
          1.3155711267525303,
          1.264013113365834,
          1.1830292290150235,
          1.1391315187622912,
          1.0941290905767802,
          1.103278955072077,
          1.0832243304326803,
          1.0905108199938063,
          1.1194813528846372,
          1.2045484453602602,
          1.275538212361139,
          1.342940445773928,
          1.3526790749838102,
          1.4011454680154107,
          1.3987728183371468,
          1.3935706764687035,
          1.334439984426177,
          1.2760917286393645,
          1.2466767427106964,
          1.2414034088453845,
          1.2523254497087457,
          1.301141920407958,
          1.3122484708435953,
          1.3314216975021915,
          1.3309963216795377,
          1.284325180645745,
          1.2262993347930575,
          1.1223319145481567,
          1.0261267231765623,
          0.9757644139682456,
          1.0285773316840778,
          1.1120981779582162,
          1.2709721598500603,
          1.4356172369239868,
          1.6034103369710628,
          1.6787916843720483,
          1.7370437638860066,
          1.6213978893346324,
          1.485305993632378,
          1.335426534184612,
          1.2215219286144645,
          1.1499600465543076,
          1.1543772198891251,
          1.1136463515454933,
          1.1111840454900055,
          1.1325085151332914,
          1.157872968729702,
          1.1629745329770482,
          1.1372967414887662,
          1.0460537419575153,
          1.0067354181633723,
          0.9877443249605516,
          0.978444967671562,
          0.9640361677518223,
          0.9571093504751365,
          0.9597673915219653,
          0.9885774035634481,
          0.9725175721180976,
          0.9440947518100192,
          0.8922838242582796,
          0.8762563355781916,
          0.8596696155702133,
          0.8905519667540877,
          0.9418345249104925,
          1.0179214238274563,
          1.0917683199835055,
          1.1726575059253415,
          1.1991255005917094,
          1.239019948049642,
          1.1879531151055265,
          1.1046660455279635,
          1.0491817747093166,
          1.0002608072693586,
          0.9346511935755437,
          0.8898015395771145,
          0.8290070611668016,
          0.8033331201113652,
          0.814130204262063,
          0.7972069159171871,
          0.788319912024355,
          0.8216997038509928,
          0.8523996777885019,
          0.896788666446297,
          0.9300006624936762,
          0.9250924181816169,
          0.9219137670931664,
          0.938465656423034,
          0.9171339189872794,
          0.8916795714984704,
          0.8350426851950188,
          0.787994189966588,
          0.760277138231665,
          0.800062435991521,
          0.8227990406530047,
          0.9235597311997765,
          1.0675613475554095,
          1.2838611456927944,
          1.5228311065536466,
          1.7107119391272527,
          1.7127241053419728,
          1.638057131052936,
          1.4788358805523638,
          1.310425218066251,
          1.14765796868702,
          0.9904878064367918,
          0.873234105086362,
          0.8036185245049761,
          0.75733412316398,
          0.7363265530567346,
          0.7549422899833129,
          0.7828523269897074,
          0.8255932011069875,
          0.8681650931738678,
          0.9160629539959925,
          0.9689605983121236,
          1.0477663406368563,
          1.0835217643825887,
          1.1268785226621651,
          1.1621210878438573,
          1.145404297183546,
          1.1590333902816463,
          1.156235903264861,
          1.159102419520768,
          1.1737321816730295,
          1.1788700903857914,
          1.171588078057038,
          1.2108123423051314,
          1.181466598911507,
          1.1574482298208066,
          1.0936392255655942,
          1.0264973590414472,
          0.9642235572984001,
          0.9119021315995477,
          0.8515055311764923,
          0.826935671408316,
          0.8099792389339656,
          0.8236932462801574,
          0.8385752957673915,
          0.8515617637671422,
          0.896317039544275,
          0.8979408095310691
         ]
        }
       ],
       "layout": {
        "barmode": "group",
        "template": {
         "data": {
          "bar": [
           {
            "error_x": {
             "color": "rgb(36,36,36)"
            },
            "error_y": {
             "color": "rgb(36,36,36)"
            },
            "marker": {
             "line": {
              "color": "white",
              "width": 0.5
             }
            },
            "type": "bar"
           }
          ],
          "barpolar": [
           {
            "marker": {
             "line": {
              "color": "white",
              "width": 0.5
             }
            },
            "type": "barpolar"
           }
          ],
          "carpet": [
           {
            "aaxis": {
             "endlinecolor": "rgb(36,36,36)",
             "gridcolor": "white",
             "linecolor": "white",
             "minorgridcolor": "white",
             "startlinecolor": "rgb(36,36,36)"
            },
            "baxis": {
             "endlinecolor": "rgb(36,36,36)",
             "gridcolor": "white",
             "linecolor": "white",
             "minorgridcolor": "white",
             "startlinecolor": "rgb(36,36,36)"
            },
            "type": "carpet"
           }
          ],
          "choropleth": [
           {
            "colorbar": {
             "outlinewidth": 1,
             "tickcolor": "rgb(36,36,36)",
             "ticks": "outside"
            },
            "type": "choropleth"
           }
          ],
          "contour": [
           {
            "colorbar": {
             "outlinewidth": 1,
             "tickcolor": "rgb(36,36,36)",
             "ticks": "outside"
            },
            "colorscale": [
             [
              0,
              "#440154"
             ],
             [
              0.1111111111111111,
              "#482878"
             ],
             [
              0.2222222222222222,
              "#3e4989"
             ],
             [
              0.3333333333333333,
              "#31688e"
             ],
             [
              0.4444444444444444,
              "#26828e"
             ],
             [
              0.5555555555555556,
              "#1f9e89"
             ],
             [
              0.6666666666666666,
              "#35b779"
             ],
             [
              0.7777777777777778,
              "#6ece58"
             ],
             [
              0.8888888888888888,
              "#b5de2b"
             ],
             [
              1,
              "#fde725"
             ]
            ],
            "type": "contour"
           }
          ],
          "contourcarpet": [
           {
            "colorbar": {
             "outlinewidth": 1,
             "tickcolor": "rgb(36,36,36)",
             "ticks": "outside"
            },
            "type": "contourcarpet"
           }
          ],
          "heatmap": [
           {
            "colorbar": {
             "outlinewidth": 1,
             "tickcolor": "rgb(36,36,36)",
             "ticks": "outside"
            },
            "colorscale": [
             [
              0,
              "#440154"
             ],
             [
              0.1111111111111111,
              "#482878"
             ],
             [
              0.2222222222222222,
              "#3e4989"
             ],
             [
              0.3333333333333333,
              "#31688e"
             ],
             [
              0.4444444444444444,
              "#26828e"
             ],
             [
              0.5555555555555556,
              "#1f9e89"
             ],
             [
              0.6666666666666666,
              "#35b779"
             ],
             [
              0.7777777777777778,
              "#6ece58"
             ],
             [
              0.8888888888888888,
              "#b5de2b"
             ],
             [
              1,
              "#fde725"
             ]
            ],
            "type": "heatmap"
           }
          ],
          "heatmapgl": [
           {
            "colorbar": {
             "outlinewidth": 1,
             "tickcolor": "rgb(36,36,36)",
             "ticks": "outside"
            },
            "colorscale": [
             [
              0,
              "#440154"
             ],
             [
              0.1111111111111111,
              "#482878"
             ],
             [
              0.2222222222222222,
              "#3e4989"
             ],
             [
              0.3333333333333333,
              "#31688e"
             ],
             [
              0.4444444444444444,
              "#26828e"
             ],
             [
              0.5555555555555556,
              "#1f9e89"
             ],
             [
              0.6666666666666666,
              "#35b779"
             ],
             [
              0.7777777777777778,
              "#6ece58"
             ],
             [
              0.8888888888888888,
              "#b5de2b"
             ],
             [
              1,
              "#fde725"
             ]
            ],
            "type": "heatmapgl"
           }
          ],
          "histogram": [
           {
            "marker": {
             "line": {
              "color": "white",
              "width": 0.6
             }
            },
            "type": "histogram"
           }
          ],
          "histogram2d": [
           {
            "colorbar": {
             "outlinewidth": 1,
             "tickcolor": "rgb(36,36,36)",
             "ticks": "outside"
            },
            "colorscale": [
             [
              0,
              "#440154"
             ],
             [
              0.1111111111111111,
              "#482878"
             ],
             [
              0.2222222222222222,
              "#3e4989"
             ],
             [
              0.3333333333333333,
              "#31688e"
             ],
             [
              0.4444444444444444,
              "#26828e"
             ],
             [
              0.5555555555555556,
              "#1f9e89"
             ],
             [
              0.6666666666666666,
              "#35b779"
             ],
             [
              0.7777777777777778,
              "#6ece58"
             ],
             [
              0.8888888888888888,
              "#b5de2b"
             ],
             [
              1,
              "#fde725"
             ]
            ],
            "type": "histogram2d"
           }
          ],
          "histogram2dcontour": [
           {
            "colorbar": {
             "outlinewidth": 1,
             "tickcolor": "rgb(36,36,36)",
             "ticks": "outside"
            },
            "colorscale": [
             [
              0,
              "#440154"
             ],
             [
              0.1111111111111111,
              "#482878"
             ],
             [
              0.2222222222222222,
              "#3e4989"
             ],
             [
              0.3333333333333333,
              "#31688e"
             ],
             [
              0.4444444444444444,
              "#26828e"
             ],
             [
              0.5555555555555556,
              "#1f9e89"
             ],
             [
              0.6666666666666666,
              "#35b779"
             ],
             [
              0.7777777777777778,
              "#6ece58"
             ],
             [
              0.8888888888888888,
              "#b5de2b"
             ],
             [
              1,
              "#fde725"
             ]
            ],
            "type": "histogram2dcontour"
           }
          ],
          "mesh3d": [
           {
            "colorbar": {
             "outlinewidth": 1,
             "tickcolor": "rgb(36,36,36)",
             "ticks": "outside"
            },
            "type": "mesh3d"
           }
          ],
          "parcoords": [
           {
            "line": {
             "colorbar": {
              "outlinewidth": 1,
              "tickcolor": "rgb(36,36,36)",
              "ticks": "outside"
             }
            },
            "type": "parcoords"
           }
          ],
          "pie": [
           {
            "automargin": true,
            "type": "pie"
           }
          ],
          "scatter": [
           {
            "marker": {
             "colorbar": {
              "outlinewidth": 1,
              "tickcolor": "rgb(36,36,36)",
              "ticks": "outside"
             }
            },
            "type": "scatter"
           }
          ],
          "scatter3d": [
           {
            "line": {
             "colorbar": {
              "outlinewidth": 1,
              "tickcolor": "rgb(36,36,36)",
              "ticks": "outside"
             }
            },
            "marker": {
             "colorbar": {
              "outlinewidth": 1,
              "tickcolor": "rgb(36,36,36)",
              "ticks": "outside"
             }
            },
            "type": "scatter3d"
           }
          ],
          "scattercarpet": [
           {
            "marker": {
             "colorbar": {
              "outlinewidth": 1,
              "tickcolor": "rgb(36,36,36)",
              "ticks": "outside"
             }
            },
            "type": "scattercarpet"
           }
          ],
          "scattergeo": [
           {
            "marker": {
             "colorbar": {
              "outlinewidth": 1,
              "tickcolor": "rgb(36,36,36)",
              "ticks": "outside"
             }
            },
            "type": "scattergeo"
           }
          ],
          "scattergl": [
           {
            "marker": {
             "colorbar": {
              "outlinewidth": 1,
              "tickcolor": "rgb(36,36,36)",
              "ticks": "outside"
             }
            },
            "type": "scattergl"
           }
          ],
          "scattermapbox": [
           {
            "marker": {
             "colorbar": {
              "outlinewidth": 1,
              "tickcolor": "rgb(36,36,36)",
              "ticks": "outside"
             }
            },
            "type": "scattermapbox"
           }
          ],
          "scatterpolar": [
           {
            "marker": {
             "colorbar": {
              "outlinewidth": 1,
              "tickcolor": "rgb(36,36,36)",
              "ticks": "outside"
             }
            },
            "type": "scatterpolar"
           }
          ],
          "scatterpolargl": [
           {
            "marker": {
             "colorbar": {
              "outlinewidth": 1,
              "tickcolor": "rgb(36,36,36)",
              "ticks": "outside"
             }
            },
            "type": "scatterpolargl"
           }
          ],
          "scatterternary": [
           {
            "marker": {
             "colorbar": {
              "outlinewidth": 1,
              "tickcolor": "rgb(36,36,36)",
              "ticks": "outside"
             }
            },
            "type": "scatterternary"
           }
          ],
          "surface": [
           {
            "colorbar": {
             "outlinewidth": 1,
             "tickcolor": "rgb(36,36,36)",
             "ticks": "outside"
            },
            "colorscale": [
             [
              0,
              "#440154"
             ],
             [
              0.1111111111111111,
              "#482878"
             ],
             [
              0.2222222222222222,
              "#3e4989"
             ],
             [
              0.3333333333333333,
              "#31688e"
             ],
             [
              0.4444444444444444,
              "#26828e"
             ],
             [
              0.5555555555555556,
              "#1f9e89"
             ],
             [
              0.6666666666666666,
              "#35b779"
             ],
             [
              0.7777777777777778,
              "#6ece58"
             ],
             [
              0.8888888888888888,
              "#b5de2b"
             ],
             [
              1,
              "#fde725"
             ]
            ],
            "type": "surface"
           }
          ],
          "table": [
           {
            "cells": {
             "fill": {
              "color": "rgb(237,237,237)"
             },
             "line": {
              "color": "white"
             }
            },
            "header": {
             "fill": {
              "color": "rgb(217,217,217)"
             },
             "line": {
              "color": "white"
             }
            },
            "type": "table"
           }
          ]
         },
         "layout": {
          "annotationdefaults": {
           "arrowhead": 0,
           "arrowwidth": 1
          },
          "coloraxis": {
           "colorbar": {
            "outlinewidth": 1,
            "tickcolor": "rgb(36,36,36)",
            "ticks": "outside"
           }
          },
          "colorscale": {
           "diverging": [
            [
             0,
             "rgb(103,0,31)"
            ],
            [
             0.1,
             "rgb(178,24,43)"
            ],
            [
             0.2,
             "rgb(214,96,77)"
            ],
            [
             0.3,
             "rgb(244,165,130)"
            ],
            [
             0.4,
             "rgb(253,219,199)"
            ],
            [
             0.5,
             "rgb(247,247,247)"
            ],
            [
             0.6,
             "rgb(209,229,240)"
            ],
            [
             0.7,
             "rgb(146,197,222)"
            ],
            [
             0.8,
             "rgb(67,147,195)"
            ],
            [
             0.9,
             "rgb(33,102,172)"
            ],
            [
             1,
             "rgb(5,48,97)"
            ]
           ],
           "sequential": [
            [
             0,
             "#440154"
            ],
            [
             0.1111111111111111,
             "#482878"
            ],
            [
             0.2222222222222222,
             "#3e4989"
            ],
            [
             0.3333333333333333,
             "#31688e"
            ],
            [
             0.4444444444444444,
             "#26828e"
            ],
            [
             0.5555555555555556,
             "#1f9e89"
            ],
            [
             0.6666666666666666,
             "#35b779"
            ],
            [
             0.7777777777777778,
             "#6ece58"
            ],
            [
             0.8888888888888888,
             "#b5de2b"
            ],
            [
             1,
             "#fde725"
            ]
           ],
           "sequentialminus": [
            [
             0,
             "#440154"
            ],
            [
             0.1111111111111111,
             "#482878"
            ],
            [
             0.2222222222222222,
             "#3e4989"
            ],
            [
             0.3333333333333333,
             "#31688e"
            ],
            [
             0.4444444444444444,
             "#26828e"
            ],
            [
             0.5555555555555556,
             "#1f9e89"
            ],
            [
             0.6666666666666666,
             "#35b779"
            ],
            [
             0.7777777777777778,
             "#6ece58"
            ],
            [
             0.8888888888888888,
             "#b5de2b"
            ],
            [
             1,
             "#fde725"
            ]
           ]
          },
          "colorway": [
           "#1F77B4",
           "#FF7F0E",
           "#2CA02C",
           "#D62728",
           "#9467BD",
           "#8C564B",
           "#E377C2",
           "#7F7F7F",
           "#BCBD22",
           "#17BECF"
          ],
          "font": {
           "color": "rgb(36,36,36)"
          },
          "geo": {
           "bgcolor": "white",
           "lakecolor": "white",
           "landcolor": "white",
           "showlakes": true,
           "showland": true,
           "subunitcolor": "white"
          },
          "hoverlabel": {
           "align": "left"
          },
          "hovermode": "closest",
          "mapbox": {
           "style": "light"
          },
          "paper_bgcolor": "white",
          "plot_bgcolor": "white",
          "polar": {
           "angularaxis": {
            "gridcolor": "rgb(232,232,232)",
            "linecolor": "rgb(36,36,36)",
            "showgrid": false,
            "showline": true,
            "ticks": "outside"
           },
           "bgcolor": "white",
           "radialaxis": {
            "gridcolor": "rgb(232,232,232)",
            "linecolor": "rgb(36,36,36)",
            "showgrid": false,
            "showline": true,
            "ticks": "outside"
           }
          },
          "scene": {
           "xaxis": {
            "backgroundcolor": "white",
            "gridcolor": "rgb(232,232,232)",
            "gridwidth": 2,
            "linecolor": "rgb(36,36,36)",
            "showbackground": true,
            "showgrid": false,
            "showline": true,
            "ticks": "outside",
            "zeroline": false,
            "zerolinecolor": "rgb(36,36,36)"
           },
           "yaxis": {
            "backgroundcolor": "white",
            "gridcolor": "rgb(232,232,232)",
            "gridwidth": 2,
            "linecolor": "rgb(36,36,36)",
            "showbackground": true,
            "showgrid": false,
            "showline": true,
            "ticks": "outside",
            "zeroline": false,
            "zerolinecolor": "rgb(36,36,36)"
           },
           "zaxis": {
            "backgroundcolor": "white",
            "gridcolor": "rgb(232,232,232)",
            "gridwidth": 2,
            "linecolor": "rgb(36,36,36)",
            "showbackground": true,
            "showgrid": false,
            "showline": true,
            "ticks": "outside",
            "zeroline": false,
            "zerolinecolor": "rgb(36,36,36)"
           }
          },
          "shapedefaults": {
           "fillcolor": "black",
           "line": {
            "width": 0
           },
           "opacity": 0.3
          },
          "ternary": {
           "aaxis": {
            "gridcolor": "rgb(232,232,232)",
            "linecolor": "rgb(36,36,36)",
            "showgrid": false,
            "showline": true,
            "ticks": "outside"
           },
           "baxis": {
            "gridcolor": "rgb(232,232,232)",
            "linecolor": "rgb(36,36,36)",
            "showgrid": false,
            "showline": true,
            "ticks": "outside"
           },
           "bgcolor": "white",
           "caxis": {
            "gridcolor": "rgb(232,232,232)",
            "linecolor": "rgb(36,36,36)",
            "showgrid": false,
            "showline": true,
            "ticks": "outside"
           }
          },
          "title": {
           "x": 0.05
          },
          "xaxis": {
           "automargin": true,
           "gridcolor": "rgb(232,232,232)",
           "linecolor": "rgb(36,36,36)",
           "showgrid": false,
           "showline": true,
           "ticks": "outside",
           "title": {
            "standoff": 15
           },
           "zeroline": false,
           "zerolinecolor": "rgb(36,36,36)"
          },
          "yaxis": {
           "automargin": true,
           "gridcolor": "rgb(232,232,232)",
           "linecolor": "rgb(36,36,36)",
           "showgrid": false,
           "showline": true,
           "ticks": "outside",
           "title": {
            "standoff": 15
           },
           "zeroline": false,
           "zerolinecolor": "rgb(36,36,36)"
          }
         }
        },
        "title": {
         "text": "Evolução do Rt para RJ"
        }
       }
      },
      "text/html": [
       "<div>\n",
       "        \n",
       "        \n",
       "            <div id=\"665ac5c0-c11b-417a-a90c-b88db12d2128\" class=\"plotly-graph-div\" style=\"height:525px; width:100%;\"></div>\n",
       "            <script type=\"text/javascript\">\n",
       "                require([\"plotly\"], function(Plotly) {\n",
       "                    window.PLOTLYENV=window.PLOTLYENV || {};\n",
       "                    \n",
       "                if (document.getElementById(\"665ac5c0-c11b-417a-a90c-b88db12d2128\")) {\n",
       "                    Plotly.newPlot(\n",
       "                        '665ac5c0-c11b-417a-a90c-b88db12d2128',\n",
       "                        [{\"error_y\": {\"array\": [4.84, 4.67, 3.77, 3.29, 3.09, 2.84, 2.58, 2.31, 2.1199999999999997, 1.87, 1.6800000000000002, 1.4799999999999995, 1.3200000000000007, 1.1400000000000001, 1.0, 0.8999999999999999, 0.8300000000000001, 0.75, 0.69, 0.6499999999999999, 0.6200000000000001, 0.5800000000000001, 0.5399999999999998, 0.5, 0.49, 0.4600000000000002, 0.42999999999999994, 0.4099999999999999, 0.40000000000000013, 0.37000000000000033, 0.34999999999999987, 0.33000000000000007, 0.31000000000000005, 0.29000000000000004, 0.2799999999999998, 0.27, 0.26, 0.25, 0.25, 0.22999999999999998, 0.22999999999999998, 0.20999999999999996, 0.21999999999999997, 0.20999999999999996, 0.19999999999999996, 0.19999999999999996, 0.18999999999999995, 0.18999999999999995, 0.17999999999999994, 0.16999999999999993, 0.16999999999999993, 0.15999999999999992, 0.15999999999999992, 0.1499999999999999, 0.16000000000000014, 0.15000000000000013, 0.14000000000000012, 0.13000000000000012, 0.1299999999999999, 0.1299999999999999, 0.13000000000000012, 0.13000000000000012, 0.1200000000000001, 0.11999999999999988, 0.11999999999999988, 0.10999999999999988, 0.11999999999999988, 0.1100000000000001, 0.1100000000000001, 0.10000000000000009, 0.10999999999999988, 0.09999999999999987, 0.09999999999999987, 0.09999999999999987, 0.09000000000000008, 0.09000000000000008, 0.09000000000000008, 0.08000000000000007, 0.09000000000000008, 0.09000000000000008, 0.08000000000000007, 0.08000000000000007, 0.07999999999999985, 0.07999999999999985, 0.06999999999999984, 0.08000000000000007, 0.08000000000000007, 0.08000000000000007, 0.07000000000000006, 0.08000000000000007, 0.07000000000000006, 0.07000000000000006, 0.07000000000000006, 0.08000000000000007, 0.06999999999999984, 0.06999999999999984, 0.07000000000000006, 0.08000000000000007, 0.06999999999999984, 0.07999999999999985, 0.07999999999999985, 0.08000000000000007, 0.08000000000000007, 0.08000000000000007, 0.07000000000000006, 0.07000000000000006, 0.06999999999999984, 0.06999999999999984, 0.06999999999999984, 0.07000000000000006, 0.07000000000000006, 0.07000000000000006, 0.07000000000000006, 0.07000000000000006, 0.07000000000000006, 0.07000000000000006, 0.07000000000000006, 0.08000000000000007, 0.08000000000000007, 0.08000000000000007, 0.08000000000000007, 0.08000000000000007, 0.07999999999999996, 0.07999999999999996, 0.06999999999999995, 0.07999999999999996, 0.07999999999999996, 0.08000000000000007, 0.08000000000000007, 0.07999999999999996, 0.08999999999999997, 0.08000000000000007, 0.07999999999999985, 0.08000000000000007, 0.08000000000000007, 0.07000000000000006, 0.08000000000000007, 0.08000000000000007, 0.08000000000000007, 0.07999999999999985, 0.08000000000000007, 0.07000000000000006, 0.08000000000000007, 0.07000000000000006, 0.07000000000000006, 0.08000000000000007, 0.08000000000000007, 0.08000000000000007, 0.08000000000000007, 0.08000000000000007, 0.07000000000000006, 0.08000000000000007, 0.08000000000000007, 0.08000000000000007, 0.08000000000000007, 0.07999999999999985, 0.07999999999999985, 0.07999999999999985, 0.07999999999999985, 0.07999999999999985, 0.06999999999999984, 0.07000000000000006, 0.07000000000000006, 0.07000000000000006, 0.06999999999999984, 0.06999999999999984, 0.06999999999999984, 0.08000000000000007, 0.07000000000000006, 0.07000000000000006, 0.08000000000000007, 0.07000000000000006, 0.07000000000000006, 0.07000000000000006, 0.08000000000000007, 0.07000000000000006, 0.07000000000000006, 0.08000000000000007, 0.07000000000000006], \"arrayminus\": [2.33, 2.43, 2.2700000000000005, 2.1399999999999997, 2.17, 2.1, 2.0, 1.9200000000000002, 1.9300000000000002, 1.8599999999999999, 1.7300000000000002, 1.5700000000000003, 1.3699999999999999, 1.24, 1.1099999999999999, 0.99, 0.8800000000000001, 0.8200000000000001, 0.77, 0.71, 0.6600000000000001, 0.6299999999999999, 0.6100000000000001, 0.5900000000000001, 0.54, 0.51, 0.49, 0.45999999999999996, 0.41999999999999993, 0.4099999999999999, 0.3899999999999999, 0.3699999999999999, 0.3600000000000001, 0.3500000000000001, 0.33000000000000007, 0.31000000000000005, 0.30000000000000004, 0.2899999999999998, 0.27, 0.28, 0.26, 0.27, 0.24, 0.24, 0.24, 0.22999999999999998, 0.22999999999999998, 0.20999999999999996, 0.20999999999999996, 0.20999999999999996, 0.19999999999999996, 0.19999999999999996, 0.18999999999999995, 0.18999999999999995, 0.16999999999999993, 0.16999999999999993, 0.17999999999999994, 0.17999999999999994, 0.16999999999999993, 0.15999999999999992, 0.15999999999999992, 0.1499999999999999, 0.1499999999999999, 0.15000000000000013, 0.14000000000000012, 0.15000000000000013, 0.14000000000000012, 0.1399999999999999, 0.1399999999999999, 0.14000000000000012, 0.1200000000000001, 0.13000000000000012, 0.1200000000000001, 0.1100000000000001, 0.1200000000000001, 0.10999999999999988, 0.10999999999999988, 0.11999999999999988, 0.09999999999999987, 0.09999999999999987, 0.10999999999999988, 0.09999999999999987, 0.10000000000000009, 0.10000000000000009, 0.1100000000000001, 0.10000000000000009, 0.09000000000000008, 0.08999999999999986, 0.09999999999999987, 0.08999999999999986, 0.09999999999999987, 0.09999999999999987, 0.09999999999999987, 0.08999999999999986, 0.10000000000000009, 0.10000000000000009, 0.10000000000000009, 0.09000000000000008, 0.10000000000000009, 0.09000000000000008, 0.09000000000000008, 0.08999999999999986, 0.08999999999999986, 0.08999999999999986, 0.09999999999999987, 0.09999999999999987, 0.10000000000000009, 0.10000000000000009, 0.10000000000000009, 0.10000000000000009, 0.09999999999999998, 0.09999999999999998, 0.09999999999999998, 0.09999999999999998, 0.09999999999999998, 0.09999999999999998, 0.09999999999999998, 0.08999999999999997, 0.08999999999999997, 0.08999999999999997, 0.08999999999999997, 0.08999999999999997, 0.09999999999999998, 0.09999999999999998, 0.10999999999999999, 0.09999999999999998, 0.09999999999999998, 0.09999999999999998, 0.09999999999999998, 0.09999999999999998, 0.08999999999999997, 0.10999999999999999, 0.10000000000000009, 0.09999999999999987, 0.09999999999999987, 0.10999999999999988, 0.09999999999999987, 0.08999999999999986, 0.08999999999999986, 0.09000000000000008, 0.09000000000000008, 0.09999999999999998, 0.08999999999999997, 0.09999999999999998, 0.09999999999999998, 0.08999999999999997, 0.08999999999999997, 0.08999999999999997, 0.08999999999999997, 0.09999999999999998, 0.10999999999999999, 0.09999999999999998, 0.09999999999999998, 0.09999999999999998, 0.10000000000000009, 0.09000000000000008, 0.09000000000000008, 0.09000000000000008, 0.09000000000000008, 0.09000000000000008, 0.10000000000000009, 0.09999999999999987, 0.09999999999999987, 0.09999999999999987, 0.10000000000000009, 0.10000000000000009, 0.09000000000000008, 0.08000000000000007, 0.09999999999999998, 0.09999999999999998, 0.08999999999999997, 0.09999999999999998, 0.09999999999999998, 0.09999999999999998, 0.08999999999999997, 0.09999999999999998, 0.09999999999999998, 0.08999999999999997, 0.09999999999999998], \"thickness\": 1, \"width\": 1}, \"name\": \"Kevin\", \"type\": \"scatter\", \"x\": [\"2020-03-11T00:00:00\", \"2020-03-12T00:00:00\", \"2020-03-13T00:00:00\", \"2020-03-14T00:00:00\", \"2020-03-15T00:00:00\", \"2020-03-16T00:00:00\", \"2020-03-17T00:00:00\", \"2020-03-18T00:00:00\", \"2020-03-19T00:00:00\", \"2020-03-20T00:00:00\", \"2020-03-21T00:00:00\", \"2020-03-22T00:00:00\", \"2020-03-23T00:00:00\", \"2020-03-24T00:00:00\", \"2020-03-25T00:00:00\", \"2020-03-26T00:00:00\", \"2020-03-27T00:00:00\", \"2020-03-28T00:00:00\", \"2020-03-29T00:00:00\", \"2020-03-30T00:00:00\", \"2020-03-31T00:00:00\", \"2020-04-01T00:00:00\", \"2020-04-02T00:00:00\", \"2020-04-03T00:00:00\", \"2020-04-04T00:00:00\", \"2020-04-05T00:00:00\", \"2020-04-06T00:00:00\", \"2020-04-07T00:00:00\", \"2020-04-08T00:00:00\", \"2020-04-09T00:00:00\", \"2020-04-10T00:00:00\", \"2020-04-11T00:00:00\", \"2020-04-12T00:00:00\", \"2020-04-13T00:00:00\", \"2020-04-14T00:00:00\", \"2020-04-15T00:00:00\", \"2020-04-16T00:00:00\", \"2020-04-17T00:00:00\", \"2020-04-18T00:00:00\", \"2020-04-19T00:00:00\", \"2020-04-20T00:00:00\", \"2020-04-21T00:00:00\", \"2020-04-22T00:00:00\", \"2020-04-23T00:00:00\", \"2020-04-24T00:00:00\", \"2020-04-25T00:00:00\", \"2020-04-26T00:00:00\", \"2020-04-27T00:00:00\", \"2020-04-28T00:00:00\", \"2020-04-29T00:00:00\", \"2020-04-30T00:00:00\", \"2020-05-01T00:00:00\", \"2020-05-02T00:00:00\", \"2020-05-03T00:00:00\", \"2020-05-04T00:00:00\", \"2020-05-05T00:00:00\", \"2020-05-06T00:00:00\", \"2020-05-07T00:00:00\", \"2020-05-08T00:00:00\", \"2020-05-09T00:00:00\", \"2020-05-10T00:00:00\", \"2020-05-11T00:00:00\", \"2020-05-12T00:00:00\", \"2020-05-13T00:00:00\", \"2020-05-14T00:00:00\", \"2020-05-15T00:00:00\", \"2020-05-16T00:00:00\", \"2020-05-17T00:00:00\", \"2020-05-18T00:00:00\", \"2020-05-19T00:00:00\", \"2020-05-20T00:00:00\", \"2020-05-21T00:00:00\", \"2020-05-22T00:00:00\", \"2020-05-23T00:00:00\", \"2020-05-24T00:00:00\", \"2020-05-25T00:00:00\", \"2020-05-26T00:00:00\", \"2020-05-27T00:00:00\", \"2020-05-28T00:00:00\", \"2020-05-29T00:00:00\", \"2020-05-30T00:00:00\", \"2020-05-31T00:00:00\", \"2020-06-01T00:00:00\", \"2020-06-02T00:00:00\", \"2020-06-03T00:00:00\", \"2020-06-04T00:00:00\", \"2020-06-05T00:00:00\", \"2020-06-06T00:00:00\", \"2020-06-07T00:00:00\", \"2020-06-08T00:00:00\", \"2020-06-09T00:00:00\", \"2020-06-10T00:00:00\", \"2020-06-11T00:00:00\", \"2020-06-12T00:00:00\", \"2020-06-13T00:00:00\", \"2020-06-14T00:00:00\", \"2020-06-15T00:00:00\", \"2020-06-16T00:00:00\", \"2020-06-17T00:00:00\", \"2020-06-18T00:00:00\", \"2020-06-19T00:00:00\", \"2020-06-20T00:00:00\", \"2020-06-21T00:00:00\", \"2020-06-22T00:00:00\", \"2020-06-23T00:00:00\", \"2020-06-24T00:00:00\", \"2020-06-25T00:00:00\", \"2020-06-26T00:00:00\", \"2020-06-27T00:00:00\", \"2020-06-28T00:00:00\", \"2020-06-29T00:00:00\", \"2020-06-30T00:00:00\", \"2020-07-01T00:00:00\", \"2020-07-02T00:00:00\", \"2020-07-03T00:00:00\", \"2020-07-04T00:00:00\", \"2020-07-05T00:00:00\", \"2020-07-06T00:00:00\", \"2020-07-07T00:00:00\", \"2020-07-08T00:00:00\", \"2020-07-09T00:00:00\", \"2020-07-10T00:00:00\", \"2020-07-11T00:00:00\", \"2020-07-12T00:00:00\", \"2020-07-13T00:00:00\", \"2020-07-14T00:00:00\", \"2020-07-15T00:00:00\", \"2020-07-16T00:00:00\", \"2020-07-17T00:00:00\", \"2020-07-18T00:00:00\", \"2020-07-19T00:00:00\", \"2020-07-20T00:00:00\", \"2020-07-21T00:00:00\", \"2020-07-22T00:00:00\", \"2020-07-23T00:00:00\", \"2020-07-24T00:00:00\", \"2020-07-25T00:00:00\", \"2020-07-26T00:00:00\", \"2020-07-27T00:00:00\", \"2020-07-28T00:00:00\", \"2020-07-29T00:00:00\", \"2020-07-30T00:00:00\", \"2020-07-31T00:00:00\", \"2020-08-01T00:00:00\", \"2020-08-02T00:00:00\", \"2020-08-03T00:00:00\", \"2020-08-04T00:00:00\", \"2020-08-05T00:00:00\", \"2020-08-06T00:00:00\", \"2020-08-07T00:00:00\", \"2020-08-08T00:00:00\", \"2020-08-09T00:00:00\", \"2020-08-10T00:00:00\", \"2020-08-11T00:00:00\", \"2020-08-12T00:00:00\", \"2020-08-13T00:00:00\", \"2020-08-14T00:00:00\", \"2020-08-15T00:00:00\", \"2020-08-16T00:00:00\", \"2020-08-17T00:00:00\", \"2020-08-18T00:00:00\", \"2020-08-19T00:00:00\", \"2020-08-20T00:00:00\", \"2020-08-21T00:00:00\", \"2020-08-22T00:00:00\", \"2020-08-23T00:00:00\", \"2020-08-24T00:00:00\", \"2020-08-25T00:00:00\", \"2020-08-26T00:00:00\", \"2020-08-27T00:00:00\", \"2020-08-28T00:00:00\", \"2020-08-29T00:00:00\", \"2020-08-30T00:00:00\", \"2020-08-31T00:00:00\", \"2020-09-01T00:00:00\", \"2020-09-02T00:00:00\", \"2020-09-03T00:00:00\", \"2020-09-04T00:00:00\", \"2020-09-05T00:00:00\"], \"y\": [3.0, 3.27, 3.0500000000000003, 2.88, 3.0, 3.04, 3.0, 2.93, 3.14, 3.17, 3.3000000000000003, 3.3200000000000003, 3.28, 3.19, 3.01, 2.81, 2.62, 2.41, 2.25, 2.13, 2.04, 2.01, 1.99, 1.98, 1.97, 1.97, 1.97, 1.97, 1.95, 1.93, 1.91, 1.88, 1.85, 1.81, 1.77, 1.73, 1.68, 1.63, 1.59, 1.55, 1.52, 1.5, 1.48, 1.47, 1.48, 1.49, 1.51, 1.52, 1.53, 1.53, 1.52, 1.51, 1.49, 1.48, 1.46, 1.46, 1.47, 1.49, 1.5, 1.5, 1.48, 1.45, 1.41, 1.36, 1.32, 1.31, 1.32, 1.38, 1.44, 1.52, 1.56, 1.59, 1.58, 1.55, 1.51, 1.46, 1.41, 1.4, 1.39, 1.39, 1.39, 1.39, 1.37, 1.34, 1.31, 1.27, 1.24, 1.21, 1.2, 1.19, 1.19, 1.18, 1.16, 1.13, 1.1, 1.07, 1.05, 1.04, 1.06, 1.08, 1.11, 1.14, 1.15, 1.16, 1.16, 1.14, 1.12, 1.09, 1.06, 1.04, 1.01, 0.99, 0.97, 0.95, 0.94, 0.94, 0.94, 0.94, 0.95, 0.95, 0.94, 0.94, 0.92, 0.91, 0.9, 0.88, 0.86, 0.85, 0.85, 0.87, 0.91, 0.98, 1.06, 1.14, 1.19, 1.23, 1.22, 1.19, 1.14, 1.08, 1.03, 1.0, 0.97, 0.96, 0.95, 0.94, 0.94, 0.94, 0.95, 0.96, 0.98, 0.99, 1.01, 1.03, 1.04, 1.05, 1.06, 1.06, 1.08, 1.1, 1.12, 1.14, 1.14, 1.14, 1.12, 1.1, 1.07, 1.03, 1.0, 0.98, 0.96, 0.96, 0.96, 0.95, 0.95, 0.95, 0.95, 0.94, 0.94]}, {\"error_y\": {\"array\": [1.5193361458322627, 1.17126003001784, 0.8987715707323645, 0.759343394417654, 0.6892468112415946, 0.6240537554710759, 0.5549635633537418, 0.4599584241828931, 0.376600051099071, 0.3115796832767761, 0.2561852921546688, 0.20878919719051847, 0.17297267713132092, 0.14532490536409037, 0.12697623252565782, 0.11558533533927795, 0.1069069538231513, 0.10173539344925198, 0.09933477364829923, 0.09701274222245448, 0.09603122893933924, 0.09437327245642346, 0.0913404671511322, 0.08786844430593321, 0.08258383331691443, 0.07697130312847267, 0.07268965042474673, 0.06794370341155931, 0.06344221167683695, 0.05887438827892155, 0.05498428171813141, 0.05203172119712418, 0.04927719773744221, 0.046262048114861454, 0.04423652369832465, 0.042488919538382186, 0.04202723964325816, 0.04118666822157757, 0.04092486891744662, 0.04108864024367831, 0.04222319746956282, 0.04294695666805781, 0.04330346783842787, 0.04241219040127309, 0.041873454362582274, 0.040470172447515385, 0.03898182664985961, 0.03677675394114943, 0.03469733086358473, 0.03319682786712108, 0.0322151461380451, 0.031574068918170495, 0.03144174440913394, 0.030825811014284943, 0.03022688246389471, 0.029353336410700148, 0.027968489274430963, 0.026506736461624048, 0.02466122543278826, 0.02304810106166677, 0.022137812157906334, 0.02258309216420762, 0.023475922395743698, 0.02506465183493778, 0.026405099058747217, 0.027306367101669338, 0.026942396489629816, 0.026082789363930825, 0.023799932901149567, 0.021451747251444164, 0.01924645181522311, 0.01758734306987675, 0.01648849952253606, 0.016125013105972252, 0.015571183799356625, 0.015332639392383829, 0.015286349294906687, 0.01528022643087823, 0.015124436181972678, 0.014740955900098163, 0.013918957727026449, 0.013465825092882522, 0.013228826729828946, 0.013133400048639166, 0.013046117762326115, 0.013028224751009287, 0.013089907073629115, 0.013340464072810643, 0.013287507390842834, 0.01312832487778981, 0.012796763157446378, 0.012743428156137049, 0.012738177391047767, 0.01312955785511949, 0.0136987356810373, 0.01442899349259874, 0.01506843326430829, 0.01563318137562053, 0.015699654140921115, 0.015730212240585573, 0.015112443559897493, 0.014263358623811229, 0.013630976334822575, 0.0131313097694985, 0.012605561612379468, 0.012282640787394383, 0.01190960158681309, 0.011844624373817503, 0.012117432369315728, 0.012239916588156707, 0.012440811706763366, 0.01299025705821577, 0.013541204841956533, 0.014192373822072168, 0.01471526419425051, 0.014874767766077324, 0.014987996010416338, 0.015239294418613158, 0.01518401141387482, 0.015085089394141882, 0.014720757615745206, 0.014457491445702408, 0.014426171316562875, 0.015117107517370942, 0.01572547854855766, 0.017077542454779437, 0.018745902645828982, 0.0208066174512318, 0.022608529534914545, 0.023451030230202896, 0.022502321754907184, 0.020790706235677803, 0.01859452453994348, 0.016556282768232622, 0.014806642504228584, 0.013316730834968094, 0.012273981250429888, 0.011724117658879707, 0.011481576419169026, 0.011535395867979803, 0.011982420662085658, 0.01256553766558044, 0.01328946069395398, 0.01399478529517273, 0.014693938788236993, 0.01536434841755463, 0.016152949725017907, 0.016509441251535195, 0.016804612246306583, 0.016938434113611178, 0.016622715377452968, 0.01647689982959366, 0.016207012744738902, 0.01597926984912057, 0.015832149636153314, 0.015619104439115628, 0.01531542813697473, 0.015302698843637774, 0.014854609422821019, 0.014428714078321025, 0.013768820552069183, 0.013127596137670228, 0.012580142492864432, 0.012172502556814235, 0.01178009741204511, 0.011697120051858745, 0.011734829938622182, 0.012049163897853599, 0.012409559225661337, 0.012765007445979748, 0.013346686153384524, 0.013586809133501632], \"arrayminus\": [1.3223923989417368, 1.0319321648996729, 0.7993783811246726, 0.6863570868288358, 0.6333453499531152, 0.5808397249065962, 0.5222913665307449, 0.43584514014624, 0.35900774640627064, 0.29857253351029156, 0.24634984546652738, 0.20119171659367519, 0.16694471752089668, 0.1403743608826875, 0.12276368345139055, 0.11187866817476655, 0.10355819833525981, 0.09865893153865768, 0.0964770371166983, 0.09434545479044809, 0.0935490580312539, 0.09207882074562845, 0.08924107518385327, 0.08596831044342323, 0.0808771655588254, 0.075445380850506, 0.0713236863542619, 0.06671458832375743, 0.0623322384962024, 0.05786717853002998, 0.05406332353507315, 0.05118086996536375, 0.048482738610406084, 0.04551394019216959, 0.04352605353241312, 0.04180651714348116, 0.04136492479973275, 0.04053878689328583, 0.04028934455901112, 0.040464388665225615, 0.041610138685796993, 0.04234766266414658, 0.04272442692935341, 0.04186053851382332, 0.04135401683481965, 0.03998395449493053, 0.038528851882904114, 0.03635563982847234, 0.0343052930188843, 0.032829412702865435, 0.031867573411269445, 0.031243003488490517, 0.031125629246097963, 0.0305244480107687, 0.029941196562332184, 0.029083766264768718, 0.027714832644172294, 0.02626810477154029, 0.02443556465510177, 0.022832559928213092, 0.02192871658697393, 0.02237661069207042, 0.023269477223175405, 0.024858618041920133, 0.026202551914541683, 0.0271123156370352, 0.02676189294177167, 0.025919223298802807, 0.023654011697971322, 0.021322325154335076, 0.019130577853804454, 0.01748156240727905, 0.016389735828426177, 0.016030902884993647, 0.01548021804901456, 0.015244237232429958, 0.015200123881252692, 0.015195946900037116, 0.015042222100321245, 0.014661093312175577, 0.013841553768751513, 0.01339055164875369, 0.01315478335507636, 0.013059728352081912, 0.012972338866116373, 0.012954118039987805, 0.013015304988980514, 0.01326523235615873, 0.013211644564911751, 0.013052046972706233, 0.012720095099441608, 0.012666013653240382, 0.012659343211327556, 0.013048706768147733, 0.01361550815022261, 0.014343544874867886, 0.01498153319368023, 0.015546080458074485, 0.01561374136292848, 0.015646727970331398, 0.015032076286699114, 0.014186376941241141, 0.013556953868357091, 0.013059258985908317, 0.012534514571210797, 0.012211796568019184, 0.01183812743002699, 0.011771680029028286, 0.012042106016144971, 0.012161443459003385, 0.012358842054737806, 0.012904518622736783, 0.013451397737514248, 0.014098602475482558, 0.014618055843578559, 0.014774924246367505, 0.014886284661612681, 0.015135997511284804, 0.015079091184325932, 0.014978591521696782, 0.014612495144847415, 0.014346864672043491, 0.014312037310829417, 0.014998007265079827, 0.015600171882396374, 0.01694585107674096, 0.01860857480860978, 0.02066586152562855, 0.022468338821339806, 0.023316698616277165, 0.02237875511512266, 0.020680393960928134, 0.018496781474656387, 0.0164688371020012, 0.014726792055092641, 0.013241909596321766, 0.012201902224864614, 0.011652670815538446, 0.011408884632320482, 0.011459943403854367, 0.011903021257711921, 0.012481341560592774, 0.013200160983335762, 0.013900612067824891, 0.014595546119028802, 0.015262637674309798, 0.01604896656538224, 0.0164043943590515, 0.016699948966942157, 0.016835307619686546, 0.01652194530481177, 0.016379042158993107, 0.016112097678294912, 0.015887222911529664, 0.01574290510844567, 0.015532615552330542, 0.015231746683351366, 0.015221848224771461, 0.014776529938512306, 0.014353515626698288, 0.013696351552529906, 0.013057416747399797, 0.012511539376150904, 0.012104596638342069, 0.011712001844837783, 0.011627994476463566, 0.011663811584270434, 0.011975540825608588, 0.012332857411089249, 0.012685092781606788, 0.01326368127054145, 0.013500954771663354], \"thickness\": 1, \"width\": 1}, \"name\": \"EpiEstim\", \"type\": \"scatter\", \"x\": [\"2020-03-18T00:00:00\", \"2020-03-19T00:00:00\", \"2020-03-20T00:00:00\", \"2020-03-21T00:00:00\", \"2020-03-22T00:00:00\", \"2020-03-23T00:00:00\", \"2020-03-24T00:00:00\", \"2020-03-25T00:00:00\", \"2020-03-26T00:00:00\", \"2020-03-27T00:00:00\", \"2020-03-28T00:00:00\", \"2020-03-29T00:00:00\", \"2020-03-30T00:00:00\", \"2020-03-31T00:00:00\", \"2020-04-01T00:00:00\", \"2020-04-02T00:00:00\", \"2020-04-03T00:00:00\", \"2020-04-04T00:00:00\", \"2020-04-05T00:00:00\", \"2020-04-06T00:00:00\", \"2020-04-07T00:00:00\", \"2020-04-08T00:00:00\", \"2020-04-09T00:00:00\", \"2020-04-10T00:00:00\", \"2020-04-11T00:00:00\", \"2020-04-12T00:00:00\", \"2020-04-13T00:00:00\", \"2020-04-14T00:00:00\", \"2020-04-15T00:00:00\", \"2020-04-16T00:00:00\", \"2020-04-17T00:00:00\", \"2020-04-18T00:00:00\", \"2020-04-19T00:00:00\", \"2020-04-20T00:00:00\", \"2020-04-21T00:00:00\", \"2020-04-22T00:00:00\", \"2020-04-23T00:00:00\", \"2020-04-24T00:00:00\", \"2020-04-25T00:00:00\", \"2020-04-26T00:00:00\", \"2020-04-27T00:00:00\", \"2020-04-28T00:00:00\", \"2020-04-29T00:00:00\", \"2020-04-30T00:00:00\", \"2020-05-01T00:00:00\", \"2020-05-02T00:00:00\", \"2020-05-03T00:00:00\", \"2020-05-04T00:00:00\", \"2020-05-05T00:00:00\", \"2020-05-06T00:00:00\", \"2020-05-07T00:00:00\", \"2020-05-08T00:00:00\", \"2020-05-09T00:00:00\", \"2020-05-10T00:00:00\", \"2020-05-11T00:00:00\", \"2020-05-12T00:00:00\", \"2020-05-13T00:00:00\", \"2020-05-14T00:00:00\", \"2020-05-15T00:00:00\", \"2020-05-16T00:00:00\", \"2020-05-17T00:00:00\", \"2020-05-18T00:00:00\", \"2020-05-19T00:00:00\", \"2020-05-20T00:00:00\", \"2020-05-21T00:00:00\", \"2020-05-22T00:00:00\", \"2020-05-23T00:00:00\", \"2020-05-24T00:00:00\", \"2020-05-25T00:00:00\", \"2020-05-26T00:00:00\", \"2020-05-27T00:00:00\", \"2020-05-28T00:00:00\", \"2020-05-29T00:00:00\", \"2020-05-30T00:00:00\", \"2020-05-31T00:00:00\", \"2020-06-01T00:00:00\", \"2020-06-02T00:00:00\", \"2020-06-03T00:00:00\", \"2020-06-04T00:00:00\", \"2020-06-05T00:00:00\", \"2020-06-06T00:00:00\", \"2020-06-07T00:00:00\", \"2020-06-08T00:00:00\", \"2020-06-09T00:00:00\", \"2020-06-10T00:00:00\", \"2020-06-11T00:00:00\", \"2020-06-12T00:00:00\", \"2020-06-13T00:00:00\", \"2020-06-14T00:00:00\", \"2020-06-15T00:00:00\", \"2020-06-16T00:00:00\", \"2020-06-17T00:00:00\", \"2020-06-18T00:00:00\", \"2020-06-19T00:00:00\", \"2020-06-20T00:00:00\", \"2020-06-21T00:00:00\", \"2020-06-22T00:00:00\", \"2020-06-23T00:00:00\", \"2020-06-24T00:00:00\", \"2020-06-25T00:00:00\", \"2020-06-26T00:00:00\", \"2020-06-27T00:00:00\", \"2020-06-28T00:00:00\", \"2020-06-29T00:00:00\", \"2020-06-30T00:00:00\", \"2020-07-01T00:00:00\", \"2020-07-02T00:00:00\", \"2020-07-03T00:00:00\", \"2020-07-04T00:00:00\", \"2020-07-05T00:00:00\", \"2020-07-06T00:00:00\", \"2020-07-07T00:00:00\", \"2020-07-08T00:00:00\", \"2020-07-09T00:00:00\", \"2020-07-10T00:00:00\", \"2020-07-11T00:00:00\", \"2020-07-12T00:00:00\", \"2020-07-13T00:00:00\", \"2020-07-14T00:00:00\", \"2020-07-15T00:00:00\", \"2020-07-16T00:00:00\", \"2020-07-17T00:00:00\", \"2020-07-18T00:00:00\", \"2020-07-19T00:00:00\", \"2020-07-20T00:00:00\", \"2020-07-21T00:00:00\", \"2020-07-22T00:00:00\", \"2020-07-23T00:00:00\", \"2020-07-24T00:00:00\", \"2020-07-25T00:00:00\", \"2020-07-26T00:00:00\", \"2020-07-27T00:00:00\", \"2020-07-28T00:00:00\", \"2020-07-29T00:00:00\", \"2020-07-30T00:00:00\", \"2020-07-31T00:00:00\", \"2020-08-01T00:00:00\", \"2020-08-02T00:00:00\", \"2020-08-03T00:00:00\", \"2020-08-04T00:00:00\", \"2020-08-05T00:00:00\", \"2020-08-06T00:00:00\", \"2020-08-07T00:00:00\", \"2020-08-08T00:00:00\", \"2020-08-09T00:00:00\", \"2020-08-10T00:00:00\", \"2020-08-11T00:00:00\", \"2020-08-12T00:00:00\", \"2020-08-13T00:00:00\", \"2020-08-14T00:00:00\", \"2020-08-15T00:00:00\", \"2020-08-16T00:00:00\", \"2020-08-17T00:00:00\", \"2020-08-18T00:00:00\", \"2020-08-19T00:00:00\", \"2020-08-20T00:00:00\", \"2020-08-21T00:00:00\", \"2020-08-22T00:00:00\", \"2020-08-23T00:00:00\", \"2020-08-24T00:00:00\", \"2020-08-25T00:00:00\", \"2020-08-26T00:00:00\", \"2020-08-27T00:00:00\", \"2020-08-28T00:00:00\", \"2020-08-29T00:00:00\", \"2020-08-30T00:00:00\", \"2020-08-31T00:00:00\", \"2020-09-01T00:00:00\", \"2020-09-02T00:00:00\", \"2020-09-03T00:00:00\", \"2020-09-04T00:00:00\", \"2020-09-05T00:00:00\"], \"y\": [4.339768455973265, 3.6828323154289366, 3.064308565059175, 3.0204524705155547, 3.2966982922538084, 3.5366320303050536, 3.7370714136424215, 3.500349970899866, 3.2345218049275144, 3.009232840339272, 2.6993084912586878, 2.3256527810274585, 2.0148571745168606, 1.73309980700471, 1.5562476237851834, 1.4671577347220217, 1.3902845707712956, 1.3719375008056107, 1.4101178427325467, 1.4428182057400583, 1.521691590777061, 1.592260690459406, 1.6323032402935942, 1.6712297575602482, 1.6451649257969558, 1.5997674129575503, 1.5954511422368989, 1.550195784023474, 1.497551019746317, 1.4217985339396315, 1.3567418310405273, 1.3155711267525303, 1.264013113365834, 1.1830292290150235, 1.1391315187622912, 1.0941290905767802, 1.103278955072077, 1.0832243304326803, 1.0905108199938063, 1.1194813528846372, 1.2045484453602602, 1.275538212361139, 1.342940445773928, 1.3526790749838102, 1.4011454680154107, 1.3987728183371468, 1.3935706764687035, 1.334439984426177, 1.2760917286393645, 1.2466767427106964, 1.2414034088453845, 1.2523254497087457, 1.301141920407958, 1.3122484708435953, 1.3314216975021915, 1.3309963216795377, 1.284325180645745, 1.2262993347930575, 1.1223319145481567, 1.0261267231765623, 0.9757644139682456, 1.0285773316840778, 1.1120981779582162, 1.2709721598500603, 1.4356172369239868, 1.6034103369710628, 1.6787916843720483, 1.7370437638860066, 1.6213978893346324, 1.485305993632378, 1.335426534184612, 1.2215219286144645, 1.1499600465543076, 1.1543772198891251, 1.1136463515454933, 1.1111840454900055, 1.1325085151332914, 1.157872968729702, 1.1629745329770482, 1.1372967414887662, 1.0460537419575153, 1.0067354181633723, 0.9877443249605516, 0.978444967671562, 0.9640361677518223, 0.9571093504751365, 0.9597673915219653, 0.9885774035634481, 0.9725175721180976, 0.9440947518100192, 0.8922838242582796, 0.8762563355781916, 0.8596696155702133, 0.8905519667540877, 0.9418345249104925, 1.0179214238274563, 1.0917683199835055, 1.1726575059253415, 1.1991255005917094, 1.239019948049642, 1.1879531151055265, 1.1046660455279635, 1.0491817747093166, 1.0002608072693586, 0.9346511935755437, 0.8898015395771145, 0.8290070611668016, 0.8033331201113652, 0.814130204262063, 0.7972069159171871, 0.788319912024355, 0.8216997038509928, 0.8523996777885019, 0.896788666446297, 0.9300006624936762, 0.9250924181816169, 0.9219137670931664, 0.938465656423034, 0.9171339189872794, 0.8916795714984704, 0.8350426851950188, 0.787994189966588, 0.760277138231665, 0.800062435991521, 0.8227990406530047, 0.9235597311997765, 1.0675613475554095, 1.2838611456927944, 1.5228311065536466, 1.7107119391272527, 1.7127241053419728, 1.638057131052936, 1.4788358805523638, 1.310425218066251, 1.14765796868702, 0.9904878064367918, 0.873234105086362, 0.8036185245049761, 0.75733412316398, 0.7363265530567346, 0.7549422899833129, 0.7828523269897074, 0.8255932011069875, 0.8681650931738678, 0.9160629539959925, 0.9689605983121236, 1.0477663406368563, 1.0835217643825887, 1.1268785226621651, 1.1621210878438573, 1.145404297183546, 1.1590333902816463, 1.156235903264861, 1.159102419520768, 1.1737321816730295, 1.1788700903857914, 1.171588078057038, 1.2108123423051314, 1.181466598911507, 1.1574482298208066, 1.0936392255655942, 1.0264973590414472, 0.9642235572984001, 0.9119021315995477, 0.8515055311764923, 0.826935671408316, 0.8099792389339656, 0.8236932462801574, 0.8385752957673915, 0.8515617637671422, 0.896317039544275, 0.8979408095310691]}],\n",
       "                        {\"barmode\": \"group\", \"template\": {\"data\": {\"bar\": [{\"error_x\": {\"color\": \"rgb(36,36,36)\"}, \"error_y\": {\"color\": \"rgb(36,36,36)\"}, \"marker\": {\"line\": {\"color\": \"white\", \"width\": 0.5}}, \"type\": \"bar\"}], \"barpolar\": [{\"marker\": {\"line\": {\"color\": \"white\", \"width\": 0.5}}, \"type\": \"barpolar\"}], \"carpet\": [{\"aaxis\": {\"endlinecolor\": \"rgb(36,36,36)\", \"gridcolor\": \"white\", \"linecolor\": \"white\", \"minorgridcolor\": \"white\", \"startlinecolor\": \"rgb(36,36,36)\"}, \"baxis\": {\"endlinecolor\": \"rgb(36,36,36)\", \"gridcolor\": \"white\", \"linecolor\": \"white\", \"minorgridcolor\": \"white\", \"startlinecolor\": \"rgb(36,36,36)\"}, \"type\": \"carpet\"}], \"choropleth\": [{\"colorbar\": {\"outlinewidth\": 1, \"tickcolor\": \"rgb(36,36,36)\", \"ticks\": \"outside\"}, \"type\": \"choropleth\"}], \"contour\": [{\"colorbar\": {\"outlinewidth\": 1, \"tickcolor\": \"rgb(36,36,36)\", \"ticks\": \"outside\"}, \"colorscale\": [[0.0, \"#440154\"], [0.1111111111111111, \"#482878\"], [0.2222222222222222, \"#3e4989\"], [0.3333333333333333, \"#31688e\"], [0.4444444444444444, \"#26828e\"], [0.5555555555555556, \"#1f9e89\"], [0.6666666666666666, \"#35b779\"], [0.7777777777777778, \"#6ece58\"], [0.8888888888888888, \"#b5de2b\"], [1.0, \"#fde725\"]], \"type\": \"contour\"}], \"contourcarpet\": [{\"colorbar\": {\"outlinewidth\": 1, \"tickcolor\": \"rgb(36,36,36)\", \"ticks\": \"outside\"}, \"type\": \"contourcarpet\"}], \"heatmap\": [{\"colorbar\": {\"outlinewidth\": 1, \"tickcolor\": \"rgb(36,36,36)\", \"ticks\": \"outside\"}, \"colorscale\": [[0.0, \"#440154\"], [0.1111111111111111, \"#482878\"], [0.2222222222222222, \"#3e4989\"], [0.3333333333333333, \"#31688e\"], [0.4444444444444444, \"#26828e\"], [0.5555555555555556, \"#1f9e89\"], [0.6666666666666666, \"#35b779\"], [0.7777777777777778, \"#6ece58\"], [0.8888888888888888, \"#b5de2b\"], [1.0, \"#fde725\"]], \"type\": \"heatmap\"}], \"heatmapgl\": [{\"colorbar\": {\"outlinewidth\": 1, \"tickcolor\": \"rgb(36,36,36)\", \"ticks\": \"outside\"}, \"colorscale\": [[0.0, \"#440154\"], [0.1111111111111111, \"#482878\"], [0.2222222222222222, \"#3e4989\"], [0.3333333333333333, \"#31688e\"], [0.4444444444444444, \"#26828e\"], [0.5555555555555556, \"#1f9e89\"], [0.6666666666666666, \"#35b779\"], [0.7777777777777778, \"#6ece58\"], [0.8888888888888888, \"#b5de2b\"], [1.0, \"#fde725\"]], \"type\": \"heatmapgl\"}], \"histogram\": [{\"marker\": {\"line\": {\"color\": \"white\", \"width\": 0.6}}, \"type\": \"histogram\"}], \"histogram2d\": [{\"colorbar\": {\"outlinewidth\": 1, \"tickcolor\": \"rgb(36,36,36)\", \"ticks\": \"outside\"}, \"colorscale\": [[0.0, \"#440154\"], [0.1111111111111111, \"#482878\"], [0.2222222222222222, \"#3e4989\"], [0.3333333333333333, \"#31688e\"], [0.4444444444444444, \"#26828e\"], [0.5555555555555556, \"#1f9e89\"], [0.6666666666666666, \"#35b779\"], [0.7777777777777778, \"#6ece58\"], [0.8888888888888888, \"#b5de2b\"], [1.0, \"#fde725\"]], \"type\": \"histogram2d\"}], \"histogram2dcontour\": [{\"colorbar\": {\"outlinewidth\": 1, \"tickcolor\": \"rgb(36,36,36)\", \"ticks\": \"outside\"}, \"colorscale\": [[0.0, \"#440154\"], [0.1111111111111111, \"#482878\"], [0.2222222222222222, \"#3e4989\"], [0.3333333333333333, \"#31688e\"], [0.4444444444444444, \"#26828e\"], [0.5555555555555556, \"#1f9e89\"], [0.6666666666666666, \"#35b779\"], [0.7777777777777778, \"#6ece58\"], [0.8888888888888888, \"#b5de2b\"], [1.0, \"#fde725\"]], \"type\": \"histogram2dcontour\"}], \"mesh3d\": [{\"colorbar\": {\"outlinewidth\": 1, \"tickcolor\": \"rgb(36,36,36)\", \"ticks\": \"outside\"}, \"type\": \"mesh3d\"}], \"parcoords\": [{\"line\": {\"colorbar\": {\"outlinewidth\": 1, \"tickcolor\": \"rgb(36,36,36)\", \"ticks\": \"outside\"}}, \"type\": \"parcoords\"}], \"pie\": [{\"automargin\": true, \"type\": \"pie\"}], \"scatter\": [{\"marker\": {\"colorbar\": {\"outlinewidth\": 1, \"tickcolor\": \"rgb(36,36,36)\", \"ticks\": \"outside\"}}, \"type\": \"scatter\"}], \"scatter3d\": [{\"line\": {\"colorbar\": {\"outlinewidth\": 1, \"tickcolor\": \"rgb(36,36,36)\", \"ticks\": \"outside\"}}, \"marker\": {\"colorbar\": {\"outlinewidth\": 1, \"tickcolor\": \"rgb(36,36,36)\", \"ticks\": \"outside\"}}, \"type\": \"scatter3d\"}], \"scattercarpet\": [{\"marker\": {\"colorbar\": {\"outlinewidth\": 1, \"tickcolor\": \"rgb(36,36,36)\", \"ticks\": \"outside\"}}, \"type\": \"scattercarpet\"}], \"scattergeo\": [{\"marker\": {\"colorbar\": {\"outlinewidth\": 1, \"tickcolor\": \"rgb(36,36,36)\", \"ticks\": \"outside\"}}, \"type\": \"scattergeo\"}], \"scattergl\": [{\"marker\": {\"colorbar\": {\"outlinewidth\": 1, \"tickcolor\": \"rgb(36,36,36)\", \"ticks\": \"outside\"}}, \"type\": \"scattergl\"}], \"scattermapbox\": [{\"marker\": {\"colorbar\": {\"outlinewidth\": 1, \"tickcolor\": \"rgb(36,36,36)\", \"ticks\": \"outside\"}}, \"type\": \"scattermapbox\"}], \"scatterpolar\": [{\"marker\": {\"colorbar\": {\"outlinewidth\": 1, \"tickcolor\": \"rgb(36,36,36)\", \"ticks\": \"outside\"}}, \"type\": \"scatterpolar\"}], \"scatterpolargl\": [{\"marker\": {\"colorbar\": {\"outlinewidth\": 1, \"tickcolor\": \"rgb(36,36,36)\", \"ticks\": \"outside\"}}, \"type\": \"scatterpolargl\"}], \"scatterternary\": [{\"marker\": {\"colorbar\": {\"outlinewidth\": 1, \"tickcolor\": \"rgb(36,36,36)\", \"ticks\": \"outside\"}}, \"type\": \"scatterternary\"}], \"surface\": [{\"colorbar\": {\"outlinewidth\": 1, \"tickcolor\": \"rgb(36,36,36)\", \"ticks\": \"outside\"}, \"colorscale\": [[0.0, \"#440154\"], [0.1111111111111111, \"#482878\"], [0.2222222222222222, \"#3e4989\"], [0.3333333333333333, \"#31688e\"], [0.4444444444444444, \"#26828e\"], [0.5555555555555556, \"#1f9e89\"], [0.6666666666666666, \"#35b779\"], [0.7777777777777778, \"#6ece58\"], [0.8888888888888888, \"#b5de2b\"], [1.0, \"#fde725\"]], \"type\": \"surface\"}], \"table\": [{\"cells\": {\"fill\": {\"color\": \"rgb(237,237,237)\"}, \"line\": {\"color\": \"white\"}}, \"header\": {\"fill\": {\"color\": \"rgb(217,217,217)\"}, \"line\": {\"color\": \"white\"}}, \"type\": \"table\"}]}, \"layout\": {\"annotationdefaults\": {\"arrowhead\": 0, \"arrowwidth\": 1}, \"coloraxis\": {\"colorbar\": {\"outlinewidth\": 1, \"tickcolor\": \"rgb(36,36,36)\", \"ticks\": \"outside\"}}, \"colorscale\": {\"diverging\": [[0.0, \"rgb(103,0,31)\"], [0.1, \"rgb(178,24,43)\"], [0.2, \"rgb(214,96,77)\"], [0.3, \"rgb(244,165,130)\"], [0.4, \"rgb(253,219,199)\"], [0.5, \"rgb(247,247,247)\"], [0.6, \"rgb(209,229,240)\"], [0.7, \"rgb(146,197,222)\"], [0.8, \"rgb(67,147,195)\"], [0.9, \"rgb(33,102,172)\"], [1.0, \"rgb(5,48,97)\"]], \"sequential\": [[0.0, \"#440154\"], [0.1111111111111111, \"#482878\"], [0.2222222222222222, \"#3e4989\"], [0.3333333333333333, \"#31688e\"], [0.4444444444444444, \"#26828e\"], [0.5555555555555556, \"#1f9e89\"], [0.6666666666666666, \"#35b779\"], [0.7777777777777778, \"#6ece58\"], [0.8888888888888888, \"#b5de2b\"], [1.0, \"#fde725\"]], \"sequentialminus\": [[0.0, \"#440154\"], [0.1111111111111111, \"#482878\"], [0.2222222222222222, \"#3e4989\"], [0.3333333333333333, \"#31688e\"], [0.4444444444444444, \"#26828e\"], [0.5555555555555556, \"#1f9e89\"], [0.6666666666666666, \"#35b779\"], [0.7777777777777778, \"#6ece58\"], [0.8888888888888888, \"#b5de2b\"], [1.0, \"#fde725\"]]}, \"colorway\": [\"#1F77B4\", \"#FF7F0E\", \"#2CA02C\", \"#D62728\", \"#9467BD\", \"#8C564B\", \"#E377C2\", \"#7F7F7F\", \"#BCBD22\", \"#17BECF\"], \"font\": {\"color\": \"rgb(36,36,36)\"}, \"geo\": {\"bgcolor\": \"white\", \"lakecolor\": \"white\", \"landcolor\": \"white\", \"showlakes\": true, \"showland\": true, \"subunitcolor\": \"white\"}, \"hoverlabel\": {\"align\": \"left\"}, \"hovermode\": \"closest\", \"mapbox\": {\"style\": \"light\"}, \"paper_bgcolor\": \"white\", \"plot_bgcolor\": \"white\", \"polar\": {\"angularaxis\": {\"gridcolor\": \"rgb(232,232,232)\", \"linecolor\": \"rgb(36,36,36)\", \"showgrid\": false, \"showline\": true, \"ticks\": \"outside\"}, \"bgcolor\": \"white\", \"radialaxis\": {\"gridcolor\": \"rgb(232,232,232)\", \"linecolor\": \"rgb(36,36,36)\", \"showgrid\": false, \"showline\": true, \"ticks\": \"outside\"}}, \"scene\": {\"xaxis\": {\"backgroundcolor\": \"white\", \"gridcolor\": \"rgb(232,232,232)\", \"gridwidth\": 2, \"linecolor\": \"rgb(36,36,36)\", \"showbackground\": true, \"showgrid\": false, \"showline\": true, \"ticks\": \"outside\", \"zeroline\": false, \"zerolinecolor\": \"rgb(36,36,36)\"}, \"yaxis\": {\"backgroundcolor\": \"white\", \"gridcolor\": \"rgb(232,232,232)\", \"gridwidth\": 2, \"linecolor\": \"rgb(36,36,36)\", \"showbackground\": true, \"showgrid\": false, \"showline\": true, \"ticks\": \"outside\", \"zeroline\": false, \"zerolinecolor\": \"rgb(36,36,36)\"}, \"zaxis\": {\"backgroundcolor\": \"white\", \"gridcolor\": \"rgb(232,232,232)\", \"gridwidth\": 2, \"linecolor\": \"rgb(36,36,36)\", \"showbackground\": true, \"showgrid\": false, \"showline\": true, \"ticks\": \"outside\", \"zeroline\": false, \"zerolinecolor\": \"rgb(36,36,36)\"}}, \"shapedefaults\": {\"fillcolor\": \"black\", \"line\": {\"width\": 0}, \"opacity\": 0.3}, \"ternary\": {\"aaxis\": {\"gridcolor\": \"rgb(232,232,232)\", \"linecolor\": \"rgb(36,36,36)\", \"showgrid\": false, \"showline\": true, \"ticks\": \"outside\"}, \"baxis\": {\"gridcolor\": \"rgb(232,232,232)\", \"linecolor\": \"rgb(36,36,36)\", \"showgrid\": false, \"showline\": true, \"ticks\": \"outside\"}, \"bgcolor\": \"white\", \"caxis\": {\"gridcolor\": \"rgb(232,232,232)\", \"linecolor\": \"rgb(36,36,36)\", \"showgrid\": false, \"showline\": true, \"ticks\": \"outside\"}}, \"title\": {\"x\": 0.05}, \"xaxis\": {\"automargin\": true, \"gridcolor\": \"rgb(232,232,232)\", \"linecolor\": \"rgb(36,36,36)\", \"showgrid\": false, \"showline\": true, \"ticks\": \"outside\", \"title\": {\"standoff\": 15}, \"zeroline\": false, \"zerolinecolor\": \"rgb(36,36,36)\"}, \"yaxis\": {\"automargin\": true, \"gridcolor\": \"rgb(232,232,232)\", \"linecolor\": \"rgb(36,36,36)\", \"showgrid\": false, \"showline\": true, \"ticks\": \"outside\", \"title\": {\"standoff\": 15}, \"zeroline\": false, \"zerolinecolor\": \"rgb(36,36,36)\"}}}, \"title\": {\"text\": \"Evolu\\u00e7\\u00e3o do Rt para RJ\"}},\n",
       "                        {\"responsive\": true}\n",
       "                    ).then(function(){\n",
       "                            \n",
       "var gd = document.getElementById('665ac5c0-c11b-417a-a90c-b88db12d2128');\n",
       "var x = new MutationObserver(function (mutations, observer) {{\n",
       "        var display = window.getComputedStyle(gd).display;\n",
       "        if (!display || display === 'none') {{\n",
       "            console.log([gd, 'removed!']);\n",
       "            Plotly.purge(gd);\n",
       "            observer.disconnect();\n",
       "        }}\n",
       "}});\n",
       "\n",
       "// Listen for the removal of the full notebook cells\n",
       "var notebookContainer = gd.closest('#notebook-container');\n",
       "if (notebookContainer) {{\n",
       "    x.observe(notebookContainer, {childList: true});\n",
       "}}\n",
       "\n",
       "// Listen for the clearing of the current output cell\n",
       "var outputEl = gd.closest('.output');\n",
       "if (outputEl) {{\n",
       "    x.observe(outputEl, {childList: true});\n",
       "}}\n",
       "\n",
       "                        })\n",
       "                };\n",
       "                });\n",
       "            </script>\n",
       "        </div>"
      ]
     },
     "metadata": {},
     "output_type": "display_data"
    }
   ],
   "source": [
    "data = [\n",
    "    go.Scatter(name=\"Kevin\", x=place_kevin[\"last_updated\"], y=place_kevin[\"Rt_most_likely\"],\n",
    "               error_y = dict(\n",
    "                   array=place_kevin[\"Rt_high_95\"] - place_kevin[\"Rt_most_likely\"],\n",
    "                   arrayminus=place_kevin[\"Rt_most_likely\"] - place_kevin[\"Rt_low_95\"],\n",
    "#                    color='gray',\n",
    "                   thickness=1,\n",
    "                   width=1,\n",
    "               )),\n",
    "    go.Scatter(name=\"EpiEstim\", x=place_epiestim[\"last_updated\"], y=place_epiestim[\"Rt_most_likely\"],\n",
    "              error_y = dict(\n",
    "                   array=place_epiestim[\"Rt_high_95\"] - place_epiestim[\"Rt_most_likely\"],\n",
    "                   arrayminus=place_epiestim[\"Rt_most_likely\"] - place_epiestim[\"Rt_low_95\"],\n",
    "#                    color='gray',\n",
    "                   thickness=1,\n",
    "                   width=1,\n",
    "               )),\n",
    "]\n",
    "\n",
    "fig = go.Figure(data)\n",
    "fig.update_layout(barmode='group', template=\"simple_white\", title=f\"Evolução do Rt para {place_choosen}\")\n",
    "fig.show()"
   ]
  },
  {
   "cell_type": "markdown",
   "metadata": {},
   "source": [
    "### Variação do Rt"
   ]
  },
  {
   "cell_type": "code",
   "execution_count": 26,
   "metadata": {
    "ExecuteTime": {
     "end_time": "2020-09-17T19:56:21.871011Z",
     "start_time": "2020-09-17T19:56:21.677354Z"
    },
    "scrolled": true
   },
   "outputs": [
    {
     "data": {
      "text/plain": [
       "count    27.000000\n",
       "mean      0.511384\n",
       "std       0.082422\n",
       "min       0.359771\n",
       "25%       0.440673\n",
       "50%       0.522081\n",
       "75%       0.576605\n",
       "max       0.630436\n",
       "Name: std, dtype: float64"
      ]
     },
     "execution_count": 26,
     "metadata": {},
     "output_type": "execute_result"
    }
   ],
   "source": [
    "states_kevin.groupby(place_id)[\"Rt_most_likely\"].describe()[\"std\"].describe()"
   ]
  },
  {
   "cell_type": "code",
   "execution_count": 27,
   "metadata": {
    "ExecuteTime": {
     "end_time": "2020-09-17T19:56:22.038341Z",
     "start_time": "2020-09-17T19:56:21.878238Z"
    },
    "scrolled": true
   },
   "outputs": [
    {
     "data": {
      "text/plain": [
       "count    27.000000\n",
       "mean      0.485186\n",
       "std       0.139948\n",
       "min       0.229964\n",
       "25%       0.388627\n",
       "50%       0.469541\n",
       "75%       0.561851\n",
       "max       0.772208\n",
       "Name: std, dtype: float64"
      ]
     },
     "execution_count": 27,
     "metadata": {},
     "output_type": "execute_result"
    }
   ],
   "source": [
    "states_epiestim.groupby(place_id)[\"Rt_most_likely\"].describe()[\"std\"].describe()"
   ]
  },
  {
   "cell_type": "markdown",
   "metadata": {},
   "source": [
    "### Intervalo de confiança"
   ]
  },
  {
   "cell_type": "code",
   "execution_count": 28,
   "metadata": {
    "ExecuteTime": {
     "end_time": "2020-09-17T19:56:24.418970Z",
     "start_time": "2020-09-17T19:56:24.147333Z"
    },
    "collapsed": true
   },
   "outputs": [
    {
     "data": {
      "text/html": [
       "<div>\n",
       "<style scoped>\n",
       "    .dataframe tbody tr th:only-of-type {\n",
       "        vertical-align: middle;\n",
       "    }\n",
       "\n",
       "    .dataframe tbody tr th {\n",
       "        vertical-align: top;\n",
       "    }\n",
       "\n",
       "    .dataframe thead th {\n",
       "        text-align: right;\n",
       "    }\n",
       "</style>\n",
       "<table border=\"1\" class=\"dataframe\">\n",
       "  <thead>\n",
       "    <tr style=\"text-align: right;\">\n",
       "      <th></th>\n",
       "      <th>count</th>\n",
       "      <th>mean</th>\n",
       "      <th>std</th>\n",
       "      <th>min</th>\n",
       "      <th>25%</th>\n",
       "      <th>50%</th>\n",
       "      <th>75%</th>\n",
       "      <th>max</th>\n",
       "    </tr>\n",
       "    <tr>\n",
       "      <th>state_num_id</th>\n",
       "      <th></th>\n",
       "      <th></th>\n",
       "      <th></th>\n",
       "      <th></th>\n",
       "      <th></th>\n",
       "      <th></th>\n",
       "      <th></th>\n",
       "      <th></th>\n",
       "    </tr>\n",
       "  </thead>\n",
       "  <tbody>\n",
       "    <tr>\n",
       "      <th>11</th>\n",
       "      <td>157.0</td>\n",
       "      <td>0.303603</td>\n",
       "      <td>0.554234</td>\n",
       "      <td>0.040176</td>\n",
       "      <td>0.052027</td>\n",
       "      <td>0.066697</td>\n",
       "      <td>0.205851</td>\n",
       "      <td>3.237929</td>\n",
       "    </tr>\n",
       "    <tr>\n",
       "      <th>12</th>\n",
       "      <td>160.0</td>\n",
       "      <td>0.248457</td>\n",
       "      <td>0.304050</td>\n",
       "      <td>0.060375</td>\n",
       "      <td>0.080432</td>\n",
       "      <td>0.096902</td>\n",
       "      <td>0.279807</td>\n",
       "      <td>1.611150</td>\n",
       "    </tr>\n",
       "    <tr>\n",
       "      <th>13</th>\n",
       "      <td>164.0</td>\n",
       "      <td>0.148886</td>\n",
       "      <td>0.371418</td>\n",
       "      <td>0.028900</td>\n",
       "      <td>0.038980</td>\n",
       "      <td>0.043662</td>\n",
       "      <td>0.088607</td>\n",
       "      <td>3.307022</td>\n",
       "    </tr>\n",
       "    <tr>\n",
       "      <th>14</th>\n",
       "      <td>156.0</td>\n",
       "      <td>0.219872</td>\n",
       "      <td>0.316278</td>\n",
       "      <td>0.039557</td>\n",
       "      <td>0.056702</td>\n",
       "      <td>0.089881</td>\n",
       "      <td>0.248361</td>\n",
       "      <td>2.049149</td>\n",
       "    </tr>\n",
       "    <tr>\n",
       "      <th>15</th>\n",
       "      <td>159.0</td>\n",
       "      <td>0.165898</td>\n",
       "      <td>0.370142</td>\n",
       "      <td>0.024411</td>\n",
       "      <td>0.029083</td>\n",
       "      <td>0.032279</td>\n",
       "      <td>0.090909</td>\n",
       "      <td>2.549089</td>\n",
       "    </tr>\n",
       "    <tr>\n",
       "      <th>16</th>\n",
       "      <td>157.0</td>\n",
       "      <td>0.297153</td>\n",
       "      <td>0.746222</td>\n",
       "      <td>0.027970</td>\n",
       "      <td>0.062579</td>\n",
       "      <td>0.087296</td>\n",
       "      <td>0.142183</td>\n",
       "      <td>5.558046</td>\n",
       "    </tr>\n",
       "    <tr>\n",
       "      <th>17</th>\n",
       "      <td>159.0</td>\n",
       "      <td>0.384968</td>\n",
       "      <td>0.560389</td>\n",
       "      <td>0.038621</td>\n",
       "      <td>0.064545</td>\n",
       "      <td>0.087303</td>\n",
       "      <td>0.346278</td>\n",
       "      <td>2.566236</td>\n",
       "    </tr>\n",
       "    <tr>\n",
       "      <th>21</th>\n",
       "      <td>157.0</td>\n",
       "      <td>0.136988</td>\n",
       "      <td>0.316568</td>\n",
       "      <td>0.027806</td>\n",
       "      <td>0.032388</td>\n",
       "      <td>0.038040</td>\n",
       "      <td>0.092056</td>\n",
       "      <td>2.593927</td>\n",
       "    </tr>\n",
       "    <tr>\n",
       "      <th>22</th>\n",
       "      <td>158.0</td>\n",
       "      <td>0.265144</td>\n",
       "      <td>0.447651</td>\n",
       "      <td>0.038457</td>\n",
       "      <td>0.041330</td>\n",
       "      <td>0.068994</td>\n",
       "      <td>0.183724</td>\n",
       "      <td>2.626720</td>\n",
       "    </tr>\n",
       "    <tr>\n",
       "      <th>23</th>\n",
       "      <td>161.0</td>\n",
       "      <td>0.069744</td>\n",
       "      <td>0.086237</td>\n",
       "      <td>0.023089</td>\n",
       "      <td>0.027558</td>\n",
       "      <td>0.032826</td>\n",
       "      <td>0.067291</td>\n",
       "      <td>0.588670</td>\n",
       "    </tr>\n",
       "    <tr>\n",
       "      <th>24</th>\n",
       "      <td>165.0</td>\n",
       "      <td>0.240318</td>\n",
       "      <td>0.525572</td>\n",
       "      <td>0.027715</td>\n",
       "      <td>0.050450</td>\n",
       "      <td>0.073996</td>\n",
       "      <td>0.208794</td>\n",
       "      <td>4.259556</td>\n",
       "    </tr>\n",
       "    <tr>\n",
       "      <th>25</th>\n",
       "      <td>159.0</td>\n",
       "      <td>0.231978</td>\n",
       "      <td>0.464232</td>\n",
       "      <td>0.034032</td>\n",
       "      <td>0.037227</td>\n",
       "      <td>0.043477</td>\n",
       "      <td>0.156872</td>\n",
       "      <td>3.455042</td>\n",
       "    </tr>\n",
       "    <tr>\n",
       "      <th>26</th>\n",
       "      <td>165.0</td>\n",
       "      <td>0.152125</td>\n",
       "      <td>0.284553</td>\n",
       "      <td>0.031635</td>\n",
       "      <td>0.038405</td>\n",
       "      <td>0.042596</td>\n",
       "      <td>0.075597</td>\n",
       "      <td>1.863980</td>\n",
       "    </tr>\n",
       "    <tr>\n",
       "      <th>27</th>\n",
       "      <td>169.0</td>\n",
       "      <td>0.518379</td>\n",
       "      <td>1.320957</td>\n",
       "      <td>0.039451</td>\n",
       "      <td>0.043260</td>\n",
       "      <td>0.053630</td>\n",
       "      <td>0.253186</td>\n",
       "      <td>10.771817</td>\n",
       "    </tr>\n",
       "    <tr>\n",
       "      <th>28</th>\n",
       "      <td>163.0</td>\n",
       "      <td>0.326880</td>\n",
       "      <td>0.504589</td>\n",
       "      <td>0.032234</td>\n",
       "      <td>0.044180</td>\n",
       "      <td>0.071404</td>\n",
       "      <td>0.312219</td>\n",
       "      <td>2.566236</td>\n",
       "    </tr>\n",
       "    <tr>\n",
       "      <th>29</th>\n",
       "      <td>171.0</td>\n",
       "      <td>0.201241</td>\n",
       "      <td>0.499933</td>\n",
       "      <td>0.020528</td>\n",
       "      <td>0.023502</td>\n",
       "      <td>0.043838</td>\n",
       "      <td>0.130416</td>\n",
       "      <td>4.134584</td>\n",
       "    </tr>\n",
       "    <tr>\n",
       "      <th>31</th>\n",
       "      <td>169.0</td>\n",
       "      <td>0.177829</td>\n",
       "      <td>0.406090</td>\n",
       "      <td>0.021660</td>\n",
       "      <td>0.025587</td>\n",
       "      <td>0.052431</td>\n",
       "      <td>0.183968</td>\n",
       "      <td>3.484724</td>\n",
       "    </tr>\n",
       "    <tr>\n",
       "      <th>32</th>\n",
       "      <td>158.0</td>\n",
       "      <td>0.122781</td>\n",
       "      <td>0.186447</td>\n",
       "      <td>0.031572</td>\n",
       "      <td>0.037919</td>\n",
       "      <td>0.044030</td>\n",
       "      <td>0.100719</td>\n",
       "      <td>1.235652</td>\n",
       "    </tr>\n",
       "    <tr>\n",
       "      <th>33</th>\n",
       "      <td>172.0</td>\n",
       "      <td>0.140391</td>\n",
       "      <td>0.358890</td>\n",
       "      <td>0.022890</td>\n",
       "      <td>0.027283</td>\n",
       "      <td>0.032867</td>\n",
       "      <td>0.081596</td>\n",
       "      <td>2.841729</td>\n",
       "    </tr>\n",
       "    <tr>\n",
       "      <th>35</th>\n",
       "      <td>181.0</td>\n",
       "      <td>0.201568</td>\n",
       "      <td>0.680884</td>\n",
       "      <td>0.011319</td>\n",
       "      <td>0.014536</td>\n",
       "      <td>0.022320</td>\n",
       "      <td>0.053826</td>\n",
       "      <td>6.163299</td>\n",
       "    </tr>\n",
       "    <tr>\n",
       "      <th>41</th>\n",
       "      <td>165.0</td>\n",
       "      <td>0.157625</td>\n",
       "      <td>0.221530</td>\n",
       "      <td>0.028243</td>\n",
       "      <td>0.031477</td>\n",
       "      <td>0.076397</td>\n",
       "      <td>0.196886</td>\n",
       "      <td>1.720036</td>\n",
       "    </tr>\n",
       "    <tr>\n",
       "      <th>42</th>\n",
       "      <td>165.0</td>\n",
       "      <td>0.135400</td>\n",
       "      <td>0.198940</td>\n",
       "      <td>0.023821</td>\n",
       "      <td>0.034299</td>\n",
       "      <td>0.071102</td>\n",
       "      <td>0.153700</td>\n",
       "      <td>1.635581</td>\n",
       "    </tr>\n",
       "    <tr>\n",
       "      <th>43</th>\n",
       "      <td>167.0</td>\n",
       "      <td>0.157576</td>\n",
       "      <td>0.286225</td>\n",
       "      <td>0.026375</td>\n",
       "      <td>0.039421</td>\n",
       "      <td>0.062563</td>\n",
       "      <td>0.196565</td>\n",
       "      <td>2.550276</td>\n",
       "    </tr>\n",
       "    <tr>\n",
       "      <th>50</th>\n",
       "      <td>163.0</td>\n",
       "      <td>0.281615</td>\n",
       "      <td>0.305956</td>\n",
       "      <td>0.042587</td>\n",
       "      <td>0.059005</td>\n",
       "      <td>0.133178</td>\n",
       "      <td>0.458995</td>\n",
       "      <td>1.691976</td>\n",
       "    </tr>\n",
       "    <tr>\n",
       "      <th>51</th>\n",
       "      <td>131.0</td>\n",
       "      <td>0.286890</td>\n",
       "      <td>0.397635</td>\n",
       "      <td>0.033815</td>\n",
       "      <td>0.049960</td>\n",
       "      <td>0.122117</td>\n",
       "      <td>0.416329</td>\n",
       "      <td>2.568532</td>\n",
       "    </tr>\n",
       "    <tr>\n",
       "      <th>52</th>\n",
       "      <td>165.0</td>\n",
       "      <td>0.214028</td>\n",
       "      <td>0.307954</td>\n",
       "      <td>0.024769</td>\n",
       "      <td>0.036566</td>\n",
       "      <td>0.080977</td>\n",
       "      <td>0.258722</td>\n",
       "      <td>1.934831</td>\n",
       "    </tr>\n",
       "    <tr>\n",
       "      <th>53</th>\n",
       "      <td>170.0</td>\n",
       "      <td>0.178344</td>\n",
       "      <td>0.367758</td>\n",
       "      <td>0.028744</td>\n",
       "      <td>0.031396</td>\n",
       "      <td>0.053913</td>\n",
       "      <td>0.240940</td>\n",
       "      <td>3.241763</td>\n",
       "    </tr>\n",
       "  </tbody>\n",
       "</table>\n",
       "</div>"
      ],
      "text/plain": [
       "              count      mean       std       min       25%       50%  \\\n",
       "state_num_id                                                            \n",
       "11            157.0  0.303603  0.554234  0.040176  0.052027  0.066697   \n",
       "12            160.0  0.248457  0.304050  0.060375  0.080432  0.096902   \n",
       "13            164.0  0.148886  0.371418  0.028900  0.038980  0.043662   \n",
       "14            156.0  0.219872  0.316278  0.039557  0.056702  0.089881   \n",
       "15            159.0  0.165898  0.370142  0.024411  0.029083  0.032279   \n",
       "16            157.0  0.297153  0.746222  0.027970  0.062579  0.087296   \n",
       "17            159.0  0.384968  0.560389  0.038621  0.064545  0.087303   \n",
       "21            157.0  0.136988  0.316568  0.027806  0.032388  0.038040   \n",
       "22            158.0  0.265144  0.447651  0.038457  0.041330  0.068994   \n",
       "23            161.0  0.069744  0.086237  0.023089  0.027558  0.032826   \n",
       "24            165.0  0.240318  0.525572  0.027715  0.050450  0.073996   \n",
       "25            159.0  0.231978  0.464232  0.034032  0.037227  0.043477   \n",
       "26            165.0  0.152125  0.284553  0.031635  0.038405  0.042596   \n",
       "27            169.0  0.518379  1.320957  0.039451  0.043260  0.053630   \n",
       "28            163.0  0.326880  0.504589  0.032234  0.044180  0.071404   \n",
       "29            171.0  0.201241  0.499933  0.020528  0.023502  0.043838   \n",
       "31            169.0  0.177829  0.406090  0.021660  0.025587  0.052431   \n",
       "32            158.0  0.122781  0.186447  0.031572  0.037919  0.044030   \n",
       "33            172.0  0.140391  0.358890  0.022890  0.027283  0.032867   \n",
       "35            181.0  0.201568  0.680884  0.011319  0.014536  0.022320   \n",
       "41            165.0  0.157625  0.221530  0.028243  0.031477  0.076397   \n",
       "42            165.0  0.135400  0.198940  0.023821  0.034299  0.071102   \n",
       "43            167.0  0.157576  0.286225  0.026375  0.039421  0.062563   \n",
       "50            163.0  0.281615  0.305956  0.042587  0.059005  0.133178   \n",
       "51            131.0  0.286890  0.397635  0.033815  0.049960  0.122117   \n",
       "52            165.0  0.214028  0.307954  0.024769  0.036566  0.080977   \n",
       "53            170.0  0.178344  0.367758  0.028744  0.031396  0.053913   \n",
       "\n",
       "                   75%        max  \n",
       "state_num_id                       \n",
       "11            0.205851   3.237929  \n",
       "12            0.279807   1.611150  \n",
       "13            0.088607   3.307022  \n",
       "14            0.248361   2.049149  \n",
       "15            0.090909   2.549089  \n",
       "16            0.142183   5.558046  \n",
       "17            0.346278   2.566236  \n",
       "21            0.092056   2.593927  \n",
       "22            0.183724   2.626720  \n",
       "23            0.067291   0.588670  \n",
       "24            0.208794   4.259556  \n",
       "25            0.156872   3.455042  \n",
       "26            0.075597   1.863980  \n",
       "27            0.253186  10.771817  \n",
       "28            0.312219   2.566236  \n",
       "29            0.130416   4.134584  \n",
       "31            0.183968   3.484724  \n",
       "32            0.100719   1.235652  \n",
       "33            0.081596   2.841729  \n",
       "35            0.053826   6.163299  \n",
       "41            0.196886   1.720036  \n",
       "42            0.153700   1.635581  \n",
       "43            0.196565   2.550276  \n",
       "50            0.458995   1.691976  \n",
       "51            0.416329   2.568532  \n",
       "52            0.258722   1.934831  \n",
       "53            0.240940   3.241763  "
      ]
     },
     "execution_count": 28,
     "metadata": {},
     "output_type": "execute_result"
    }
   ],
   "source": [
    "states_epiestim[\"IC\"] = states_epiestim[\"Rt_high_95\"] - states_epiestim[\"Rt_low_95\"]\n",
    "states_epiestim.groupby(place_id)[\"IC\"].describe()"
   ]
  },
  {
   "cell_type": "code",
   "execution_count": 29,
   "metadata": {
    "ExecuteTime": {
     "end_time": "2020-09-17T19:56:26.134552Z",
     "start_time": "2020-09-17T19:56:25.968407Z"
    },
    "collapsed": true
   },
   "outputs": [
    {
     "data": {
      "text/html": [
       "<div>\n",
       "<style scoped>\n",
       "    .dataframe tbody tr th:only-of-type {\n",
       "        vertical-align: middle;\n",
       "    }\n",
       "\n",
       "    .dataframe tbody tr th {\n",
       "        vertical-align: top;\n",
       "    }\n",
       "\n",
       "    .dataframe thead th {\n",
       "        text-align: right;\n",
       "    }\n",
       "</style>\n",
       "<table border=\"1\" class=\"dataframe\">\n",
       "  <thead>\n",
       "    <tr style=\"text-align: right;\">\n",
       "      <th></th>\n",
       "      <th>count</th>\n",
       "      <th>mean</th>\n",
       "      <th>std</th>\n",
       "      <th>min</th>\n",
       "      <th>25%</th>\n",
       "      <th>50%</th>\n",
       "      <th>75%</th>\n",
       "      <th>max</th>\n",
       "    </tr>\n",
       "    <tr>\n",
       "      <th>state_num_id</th>\n",
       "      <th></th>\n",
       "      <th></th>\n",
       "      <th></th>\n",
       "      <th></th>\n",
       "      <th></th>\n",
       "      <th></th>\n",
       "      <th></th>\n",
       "      <th></th>\n",
       "    </tr>\n",
       "  </thead>\n",
       "  <tbody>\n",
       "    <tr>\n",
       "      <th>11</th>\n",
       "      <td>164.0</td>\n",
       "      <td>1.107866</td>\n",
       "      <td>1.518259</td>\n",
       "      <td>0.23</td>\n",
       "      <td>0.2400</td>\n",
       "      <td>0.320</td>\n",
       "      <td>1.1350</td>\n",
       "      <td>7.17</td>\n",
       "    </tr>\n",
       "    <tr>\n",
       "      <th>12</th>\n",
       "      <td>167.0</td>\n",
       "      <td>1.027425</td>\n",
       "      <td>1.209366</td>\n",
       "      <td>0.30</td>\n",
       "      <td>0.3100</td>\n",
       "      <td>0.360</td>\n",
       "      <td>1.3700</td>\n",
       "      <td>7.17</td>\n",
       "    </tr>\n",
       "    <tr>\n",
       "      <th>13</th>\n",
       "      <td>171.0</td>\n",
       "      <td>0.716140</td>\n",
       "      <td>1.281192</td>\n",
       "      <td>0.19</td>\n",
       "      <td>0.2000</td>\n",
       "      <td>0.220</td>\n",
       "      <td>0.4900</td>\n",
       "      <td>7.17</td>\n",
       "    </tr>\n",
       "    <tr>\n",
       "      <th>14</th>\n",
       "      <td>163.0</td>\n",
       "      <td>0.994049</td>\n",
       "      <td>1.268331</td>\n",
       "      <td>0.24</td>\n",
       "      <td>0.2500</td>\n",
       "      <td>0.400</td>\n",
       "      <td>1.1650</td>\n",
       "      <td>7.17</td>\n",
       "    </tr>\n",
       "    <tr>\n",
       "      <th>15</th>\n",
       "      <td>166.0</td>\n",
       "      <td>0.785723</td>\n",
       "      <td>1.368017</td>\n",
       "      <td>0.16</td>\n",
       "      <td>0.1700</td>\n",
       "      <td>0.180</td>\n",
       "      <td>0.5425</td>\n",
       "      <td>7.17</td>\n",
       "    </tr>\n",
       "    <tr>\n",
       "      <th>16</th>\n",
       "      <td>161.0</td>\n",
       "      <td>0.885776</td>\n",
       "      <td>1.359835</td>\n",
       "      <td>0.23</td>\n",
       "      <td>0.2700</td>\n",
       "      <td>0.280</td>\n",
       "      <td>0.7300</td>\n",
       "      <td>7.17</td>\n",
       "    </tr>\n",
       "    <tr>\n",
       "      <th>17</th>\n",
       "      <td>166.0</td>\n",
       "      <td>1.317651</td>\n",
       "      <td>1.614356</td>\n",
       "      <td>0.21</td>\n",
       "      <td>0.2725</td>\n",
       "      <td>0.405</td>\n",
       "      <td>1.9750</td>\n",
       "      <td>7.17</td>\n",
       "    </tr>\n",
       "    <tr>\n",
       "      <th>21</th>\n",
       "      <td>164.0</td>\n",
       "      <td>0.686220</td>\n",
       "      <td>1.198275</td>\n",
       "      <td>0.18</td>\n",
       "      <td>0.1900</td>\n",
       "      <td>0.200</td>\n",
       "      <td>0.4850</td>\n",
       "      <td>7.17</td>\n",
       "    </tr>\n",
       "    <tr>\n",
       "      <th>22</th>\n",
       "      <td>165.0</td>\n",
       "      <td>1.092424</td>\n",
       "      <td>1.511530</td>\n",
       "      <td>0.20</td>\n",
       "      <td>0.2100</td>\n",
       "      <td>0.340</td>\n",
       "      <td>1.1200</td>\n",
       "      <td>7.17</td>\n",
       "    </tr>\n",
       "    <tr>\n",
       "      <th>23</th>\n",
       "      <td>168.0</td>\n",
       "      <td>0.462143</td>\n",
       "      <td>0.757671</td>\n",
       "      <td>0.17</td>\n",
       "      <td>0.1700</td>\n",
       "      <td>0.190</td>\n",
       "      <td>0.3725</td>\n",
       "      <td>7.17</td>\n",
       "    </tr>\n",
       "    <tr>\n",
       "      <th>24</th>\n",
       "      <td>171.0</td>\n",
       "      <td>0.926667</td>\n",
       "      <td>1.338204</td>\n",
       "      <td>0.21</td>\n",
       "      <td>0.2300</td>\n",
       "      <td>0.310</td>\n",
       "      <td>0.9600</td>\n",
       "      <td>7.17</td>\n",
       "    </tr>\n",
       "    <tr>\n",
       "      <th>25</th>\n",
       "      <td>166.0</td>\n",
       "      <td>0.969036</td>\n",
       "      <td>1.447964</td>\n",
       "      <td>0.19</td>\n",
       "      <td>0.2000</td>\n",
       "      <td>0.230</td>\n",
       "      <td>0.9400</td>\n",
       "      <td>7.17</td>\n",
       "    </tr>\n",
       "    <tr>\n",
       "      <th>26</th>\n",
       "      <td>172.0</td>\n",
       "      <td>0.739302</td>\n",
       "      <td>1.232752</td>\n",
       "      <td>0.19</td>\n",
       "      <td>0.2000</td>\n",
       "      <td>0.210</td>\n",
       "      <td>0.4550</td>\n",
       "      <td>7.17</td>\n",
       "    </tr>\n",
       "    <tr>\n",
       "      <th>27</th>\n",
       "      <td>170.0</td>\n",
       "      <td>1.123353</td>\n",
       "      <td>1.573431</td>\n",
       "      <td>0.21</td>\n",
       "      <td>0.2200</td>\n",
       "      <td>0.260</td>\n",
       "      <td>1.0625</td>\n",
       "      <td>7.17</td>\n",
       "    </tr>\n",
       "    <tr>\n",
       "      <th>28</th>\n",
       "      <td>170.0</td>\n",
       "      <td>1.195000</td>\n",
       "      <td>1.579865</td>\n",
       "      <td>0.20</td>\n",
       "      <td>0.2200</td>\n",
       "      <td>0.335</td>\n",
       "      <td>1.6750</td>\n",
       "      <td>7.17</td>\n",
       "    </tr>\n",
       "    <tr>\n",
       "      <th>29</th>\n",
       "      <td>178.0</td>\n",
       "      <td>0.837640</td>\n",
       "      <td>1.355972</td>\n",
       "      <td>0.15</td>\n",
       "      <td>0.1600</td>\n",
       "      <td>0.230</td>\n",
       "      <td>0.7525</td>\n",
       "      <td>7.17</td>\n",
       "    </tr>\n",
       "    <tr>\n",
       "      <th>31</th>\n",
       "      <td>176.0</td>\n",
       "      <td>0.813182</td>\n",
       "      <td>1.281043</td>\n",
       "      <td>0.15</td>\n",
       "      <td>0.1600</td>\n",
       "      <td>0.285</td>\n",
       "      <td>0.8250</td>\n",
       "      <td>7.17</td>\n",
       "    </tr>\n",
       "    <tr>\n",
       "      <th>32</th>\n",
       "      <td>165.0</td>\n",
       "      <td>0.680424</td>\n",
       "      <td>1.024153</td>\n",
       "      <td>0.19</td>\n",
       "      <td>0.2000</td>\n",
       "      <td>0.230</td>\n",
       "      <td>0.5900</td>\n",
       "      <td>7.17</td>\n",
       "    </tr>\n",
       "    <tr>\n",
       "      <th>33</th>\n",
       "      <td>179.0</td>\n",
       "      <td>0.669218</td>\n",
       "      <td>1.257360</td>\n",
       "      <td>0.16</td>\n",
       "      <td>0.1700</td>\n",
       "      <td>0.180</td>\n",
       "      <td>0.4350</td>\n",
       "      <td>7.17</td>\n",
       "    </tr>\n",
       "    <tr>\n",
       "      <th>35</th>\n",
       "      <td>186.0</td>\n",
       "      <td>0.641613</td>\n",
       "      <td>1.315913</td>\n",
       "      <td>0.11</td>\n",
       "      <td>0.1200</td>\n",
       "      <td>0.145</td>\n",
       "      <td>0.3075</td>\n",
       "      <td>7.17</td>\n",
       "    </tr>\n",
       "    <tr>\n",
       "      <th>41</th>\n",
       "      <td>172.0</td>\n",
       "      <td>0.792733</td>\n",
       "      <td>1.084716</td>\n",
       "      <td>0.17</td>\n",
       "      <td>0.1800</td>\n",
       "      <td>0.385</td>\n",
       "      <td>0.8725</td>\n",
       "      <td>7.17</td>\n",
       "    </tr>\n",
       "    <tr>\n",
       "      <th>42</th>\n",
       "      <td>172.0</td>\n",
       "      <td>0.722733</td>\n",
       "      <td>1.031805</td>\n",
       "      <td>0.14</td>\n",
       "      <td>0.1875</td>\n",
       "      <td>0.320</td>\n",
       "      <td>0.7800</td>\n",
       "      <td>7.17</td>\n",
       "    </tr>\n",
       "    <tr>\n",
       "      <th>43</th>\n",
       "      <td>174.0</td>\n",
       "      <td>0.783103</td>\n",
       "      <td>1.143953</td>\n",
       "      <td>0.17</td>\n",
       "      <td>0.2000</td>\n",
       "      <td>0.310</td>\n",
       "      <td>0.8950</td>\n",
       "      <td>7.17</td>\n",
       "    </tr>\n",
       "    <tr>\n",
       "      <th>50</th>\n",
       "      <td>170.0</td>\n",
       "      <td>1.195412</td>\n",
       "      <td>1.284443</td>\n",
       "      <td>0.21</td>\n",
       "      <td>0.2700</td>\n",
       "      <td>0.600</td>\n",
       "      <td>1.6725</td>\n",
       "      <td>7.17</td>\n",
       "    </tr>\n",
       "    <tr>\n",
       "      <th>51</th>\n",
       "      <td>138.0</td>\n",
       "      <td>1.249420</td>\n",
       "      <td>1.439683</td>\n",
       "      <td>0.19</td>\n",
       "      <td>0.2500</td>\n",
       "      <td>0.640</td>\n",
       "      <td>1.6900</td>\n",
       "      <td>7.17</td>\n",
       "    </tr>\n",
       "    <tr>\n",
       "      <th>52</th>\n",
       "      <td>172.0</td>\n",
       "      <td>0.982209</td>\n",
       "      <td>1.262179</td>\n",
       "      <td>0.16</td>\n",
       "      <td>0.2000</td>\n",
       "      <td>0.405</td>\n",
       "      <td>1.2075</td>\n",
       "      <td>7.17</td>\n",
       "    </tr>\n",
       "    <tr>\n",
       "      <th>53</th>\n",
       "      <td>177.0</td>\n",
       "      <td>0.833559</td>\n",
       "      <td>1.242815</td>\n",
       "      <td>0.18</td>\n",
       "      <td>0.1800</td>\n",
       "      <td>0.290</td>\n",
       "      <td>0.9900</td>\n",
       "      <td>7.17</td>\n",
       "    </tr>\n",
       "  </tbody>\n",
       "</table>\n",
       "</div>"
      ],
      "text/plain": [
       "              count      mean       std   min     25%    50%     75%   max\n",
       "state_num_id                                                              \n",
       "11            164.0  1.107866  1.518259  0.23  0.2400  0.320  1.1350  7.17\n",
       "12            167.0  1.027425  1.209366  0.30  0.3100  0.360  1.3700  7.17\n",
       "13            171.0  0.716140  1.281192  0.19  0.2000  0.220  0.4900  7.17\n",
       "14            163.0  0.994049  1.268331  0.24  0.2500  0.400  1.1650  7.17\n",
       "15            166.0  0.785723  1.368017  0.16  0.1700  0.180  0.5425  7.17\n",
       "16            161.0  0.885776  1.359835  0.23  0.2700  0.280  0.7300  7.17\n",
       "17            166.0  1.317651  1.614356  0.21  0.2725  0.405  1.9750  7.17\n",
       "21            164.0  0.686220  1.198275  0.18  0.1900  0.200  0.4850  7.17\n",
       "22            165.0  1.092424  1.511530  0.20  0.2100  0.340  1.1200  7.17\n",
       "23            168.0  0.462143  0.757671  0.17  0.1700  0.190  0.3725  7.17\n",
       "24            171.0  0.926667  1.338204  0.21  0.2300  0.310  0.9600  7.17\n",
       "25            166.0  0.969036  1.447964  0.19  0.2000  0.230  0.9400  7.17\n",
       "26            172.0  0.739302  1.232752  0.19  0.2000  0.210  0.4550  7.17\n",
       "27            170.0  1.123353  1.573431  0.21  0.2200  0.260  1.0625  7.17\n",
       "28            170.0  1.195000  1.579865  0.20  0.2200  0.335  1.6750  7.17\n",
       "29            178.0  0.837640  1.355972  0.15  0.1600  0.230  0.7525  7.17\n",
       "31            176.0  0.813182  1.281043  0.15  0.1600  0.285  0.8250  7.17\n",
       "32            165.0  0.680424  1.024153  0.19  0.2000  0.230  0.5900  7.17\n",
       "33            179.0  0.669218  1.257360  0.16  0.1700  0.180  0.4350  7.17\n",
       "35            186.0  0.641613  1.315913  0.11  0.1200  0.145  0.3075  7.17\n",
       "41            172.0  0.792733  1.084716  0.17  0.1800  0.385  0.8725  7.17\n",
       "42            172.0  0.722733  1.031805  0.14  0.1875  0.320  0.7800  7.17\n",
       "43            174.0  0.783103  1.143953  0.17  0.2000  0.310  0.8950  7.17\n",
       "50            170.0  1.195412  1.284443  0.21  0.2700  0.600  1.6725  7.17\n",
       "51            138.0  1.249420  1.439683  0.19  0.2500  0.640  1.6900  7.17\n",
       "52            172.0  0.982209  1.262179  0.16  0.2000  0.405  1.2075  7.17\n",
       "53            177.0  0.833559  1.242815  0.18  0.1800  0.290  0.9900  7.17"
      ]
     },
     "execution_count": 29,
     "metadata": {},
     "output_type": "execute_result"
    }
   ],
   "source": [
    "states_kevin[\"IC\"] = states_kevin[\"Rt_high_95\"] - states_kevin[\"Rt_low_95\"]\n",
    "states_kevin.groupby(place_id)[\"IC\"].describe()"
   ]
  },
  {
   "cell_type": "code",
   "execution_count": 30,
   "metadata": {
    "ExecuteTime": {
     "end_time": "2020-09-17T19:56:26.771276Z",
     "start_time": "2020-09-17T19:56:26.696764Z"
    },
    "scrolled": true
   },
   "outputs": [],
   "source": [
    "epiestim_ic_05 = states_epiestim.query(\"IC > 0.5\")#.groupby(place_id)\n",
    "epiestim_ic_05 = epiestim_ic_05.loc[epiestim_ic_05.groupby(place_id).last_updated.idxmax()][[\"state_num_id\", \"last_updated\"]]"
   ]
  },
  {
   "cell_type": "code",
   "execution_count": 31,
   "metadata": {
    "ExecuteTime": {
     "end_time": "2020-09-17T19:56:27.378692Z",
     "start_time": "2020-09-17T19:56:27.299548Z"
    }
   },
   "outputs": [],
   "source": [
    "kevin_ic_05 = states_kevin.query(\"IC > 0.5\")#.groupby(place_id)\n",
    "kevin_ic_05 = kevin_ic_05.loc[kevin_ic_05.groupby(place_id).last_updated.idxmax()][[\"state_num_id\", \"last_updated\"]]"
   ]
  },
  {
   "cell_type": "code",
   "execution_count": 32,
   "metadata": {
    "ExecuteTime": {
     "end_time": "2020-09-17T19:56:27.932752Z",
     "start_time": "2020-09-17T19:56:27.840164Z"
    },
    "collapsed": true
   },
   "outputs": [
    {
     "data": {
      "text/html": [
       "<div>\n",
       "<style scoped>\n",
       "    .dataframe tbody tr th:only-of-type {\n",
       "        vertical-align: middle;\n",
       "    }\n",
       "\n",
       "    .dataframe tbody tr th {\n",
       "        vertical-align: top;\n",
       "    }\n",
       "\n",
       "    .dataframe thead th {\n",
       "        text-align: right;\n",
       "    }\n",
       "</style>\n",
       "<table border=\"1\" class=\"dataframe\">\n",
       "  <thead>\n",
       "    <tr style=\"text-align: right;\">\n",
       "      <th></th>\n",
       "      <th>state_num_id</th>\n",
       "      <th>last_updated_kevin</th>\n",
       "      <th>last_updated_epiestim</th>\n",
       "      <th>diff</th>\n",
       "    </tr>\n",
       "  </thead>\n",
       "  <tbody>\n",
       "    <tr>\n",
       "      <th>0</th>\n",
       "      <td>11</td>\n",
       "      <td>2020-05-30</td>\n",
       "      <td>2020-04-24</td>\n",
       "      <td>36 days</td>\n",
       "    </tr>\n",
       "    <tr>\n",
       "      <th>1</th>\n",
       "      <td>12</td>\n",
       "      <td>2020-05-26</td>\n",
       "      <td>2020-04-24</td>\n",
       "      <td>32 days</td>\n",
       "    </tr>\n",
       "    <tr>\n",
       "      <th>2</th>\n",
       "      <td>13</td>\n",
       "      <td>2020-04-29</td>\n",
       "      <td>2020-04-03</td>\n",
       "      <td>26 days</td>\n",
       "    </tr>\n",
       "    <tr>\n",
       "      <th>3</th>\n",
       "      <td>14</td>\n",
       "      <td>2020-06-04</td>\n",
       "      <td>2020-04-21</td>\n",
       "      <td>44 days</td>\n",
       "    </tr>\n",
       "    <tr>\n",
       "      <th>4</th>\n",
       "      <td>15</td>\n",
       "      <td>2020-05-05</td>\n",
       "      <td>2020-04-12</td>\n",
       "      <td>23 days</td>\n",
       "    </tr>\n",
       "    <tr>\n",
       "      <th>5</th>\n",
       "      <td>16</td>\n",
       "      <td>2020-05-20</td>\n",
       "      <td>2020-04-15</td>\n",
       "      <td>35 days</td>\n",
       "    </tr>\n",
       "    <tr>\n",
       "      <th>6</th>\n",
       "      <td>17</td>\n",
       "      <td>2020-06-02</td>\n",
       "      <td>2020-05-06</td>\n",
       "      <td>27 days</td>\n",
       "    </tr>\n",
       "    <tr>\n",
       "      <th>7</th>\n",
       "      <td>21</td>\n",
       "      <td>2020-05-04</td>\n",
       "      <td>2020-04-11</td>\n",
       "      <td>23 days</td>\n",
       "    </tr>\n",
       "    <tr>\n",
       "      <th>8</th>\n",
       "      <td>22</td>\n",
       "      <td>2020-05-28</td>\n",
       "      <td>2020-04-24</td>\n",
       "      <td>34 days</td>\n",
       "    </tr>\n",
       "    <tr>\n",
       "      <th>9</th>\n",
       "      <td>23</td>\n",
       "      <td>2020-04-24</td>\n",
       "      <td>2020-03-29</td>\n",
       "      <td>26 days</td>\n",
       "    </tr>\n",
       "    <tr>\n",
       "      <th>10</th>\n",
       "      <td>24</td>\n",
       "      <td>2020-05-23</td>\n",
       "      <td>2020-04-07</td>\n",
       "      <td>46 days</td>\n",
       "    </tr>\n",
       "    <tr>\n",
       "      <th>11</th>\n",
       "      <td>25</td>\n",
       "      <td>2020-05-18</td>\n",
       "      <td>2020-04-18</td>\n",
       "      <td>30 days</td>\n",
       "    </tr>\n",
       "    <tr>\n",
       "      <th>12</th>\n",
       "      <td>26</td>\n",
       "      <td>2020-04-27</td>\n",
       "      <td>2020-04-11</td>\n",
       "      <td>16 days</td>\n",
       "    </tr>\n",
       "    <tr>\n",
       "      <th>13</th>\n",
       "      <td>27</td>\n",
       "      <td>2020-05-20</td>\n",
       "      <td>2020-04-26</td>\n",
       "      <td>24 days</td>\n",
       "    </tr>\n",
       "    <tr>\n",
       "      <th>14</th>\n",
       "      <td>28</td>\n",
       "      <td>2020-05-22</td>\n",
       "      <td>2020-05-02</td>\n",
       "      <td>20 days</td>\n",
       "    </tr>\n",
       "    <tr>\n",
       "      <th>15</th>\n",
       "      <td>29</td>\n",
       "      <td>2020-05-07</td>\n",
       "      <td>2020-04-02</td>\n",
       "      <td>35 days</td>\n",
       "    </tr>\n",
       "    <tr>\n",
       "      <th>16</th>\n",
       "      <td>31</td>\n",
       "      <td>2020-05-17</td>\n",
       "      <td>2020-03-30</td>\n",
       "      <td>48 days</td>\n",
       "    </tr>\n",
       "    <tr>\n",
       "      <th>17</th>\n",
       "      <td>32</td>\n",
       "      <td>2020-05-10</td>\n",
       "      <td>2020-04-08</td>\n",
       "      <td>32 days</td>\n",
       "    </tr>\n",
       "    <tr>\n",
       "      <th>18</th>\n",
       "      <td>33</td>\n",
       "      <td>2020-04-19</td>\n",
       "      <td>2020-03-28</td>\n",
       "      <td>22 days</td>\n",
       "    </tr>\n",
       "    <tr>\n",
       "      <th>19</th>\n",
       "      <td>35</td>\n",
       "      <td>2020-04-06</td>\n",
       "      <td>2020-03-22</td>\n",
       "      <td>15 days</td>\n",
       "    </tr>\n",
       "    <tr>\n",
       "      <th>20</th>\n",
       "      <td>41</td>\n",
       "      <td>2020-05-31</td>\n",
       "      <td>2020-04-01</td>\n",
       "      <td>60 days</td>\n",
       "    </tr>\n",
       "    <tr>\n",
       "      <th>21</th>\n",
       "      <td>42</td>\n",
       "      <td>2020-05-16</td>\n",
       "      <td>2020-03-30</td>\n",
       "      <td>47 days</td>\n",
       "    </tr>\n",
       "    <tr>\n",
       "      <th>22</th>\n",
       "      <td>43</td>\n",
       "      <td>2020-05-20</td>\n",
       "      <td>2020-03-29</td>\n",
       "      <td>52 days</td>\n",
       "    </tr>\n",
       "    <tr>\n",
       "      <th>23</th>\n",
       "      <td>50</td>\n",
       "      <td>2020-06-18</td>\n",
       "      <td>2020-05-15</td>\n",
       "      <td>34 days</td>\n",
       "    </tr>\n",
       "    <tr>\n",
       "      <th>24</th>\n",
       "      <td>51</td>\n",
       "      <td>2020-06-10</td>\n",
       "      <td>2020-04-28</td>\n",
       "      <td>43 days</td>\n",
       "    </tr>\n",
       "    <tr>\n",
       "      <th>25</th>\n",
       "      <td>52</td>\n",
       "      <td>2020-06-03</td>\n",
       "      <td>2020-04-14</td>\n",
       "      <td>50 days</td>\n",
       "    </tr>\n",
       "    <tr>\n",
       "      <th>26</th>\n",
       "      <td>53</td>\n",
       "      <td>2020-05-20</td>\n",
       "      <td>2020-03-27</td>\n",
       "      <td>54 days</td>\n",
       "    </tr>\n",
       "  </tbody>\n",
       "</table>\n",
       "</div>"
      ],
      "text/plain": [
       "    state_num_id last_updated_kevin last_updated_epiestim    diff\n",
       "0             11         2020-05-30            2020-04-24 36 days\n",
       "1             12         2020-05-26            2020-04-24 32 days\n",
       "2             13         2020-04-29            2020-04-03 26 days\n",
       "3             14         2020-06-04            2020-04-21 44 days\n",
       "4             15         2020-05-05            2020-04-12 23 days\n",
       "5             16         2020-05-20            2020-04-15 35 days\n",
       "6             17         2020-06-02            2020-05-06 27 days\n",
       "7             21         2020-05-04            2020-04-11 23 days\n",
       "8             22         2020-05-28            2020-04-24 34 days\n",
       "9             23         2020-04-24            2020-03-29 26 days\n",
       "10            24         2020-05-23            2020-04-07 46 days\n",
       "11            25         2020-05-18            2020-04-18 30 days\n",
       "12            26         2020-04-27            2020-04-11 16 days\n",
       "13            27         2020-05-20            2020-04-26 24 days\n",
       "14            28         2020-05-22            2020-05-02 20 days\n",
       "15            29         2020-05-07            2020-04-02 35 days\n",
       "16            31         2020-05-17            2020-03-30 48 days\n",
       "17            32         2020-05-10            2020-04-08 32 days\n",
       "18            33         2020-04-19            2020-03-28 22 days\n",
       "19            35         2020-04-06            2020-03-22 15 days\n",
       "20            41         2020-05-31            2020-04-01 60 days\n",
       "21            42         2020-05-16            2020-03-30 47 days\n",
       "22            43         2020-05-20            2020-03-29 52 days\n",
       "23            50         2020-06-18            2020-05-15 34 days\n",
       "24            51         2020-06-10            2020-04-28 43 days\n",
       "25            52         2020-06-03            2020-04-14 50 days\n",
       "26            53         2020-05-20            2020-03-27 54 days"
      ]
     },
     "execution_count": 32,
     "metadata": {},
     "output_type": "execute_result"
    }
   ],
   "source": [
    "compare_ic_05 = (kevin_ic_05\n",
    ".merge(epiestim_ic_05, on=place_id, suffixes=(\"_kevin\", \"_epiestim\"))\n",
    ".assign(diff=lambda df: df.last_updated_kevin - df.last_updated_epiestim))\n",
    "\n",
    "compare_ic_05"
   ]
  },
  {
   "cell_type": "code",
   "execution_count": 33,
   "metadata": {
    "ExecuteTime": {
     "end_time": "2020-09-17T19:56:29.062950Z",
     "start_time": "2020-09-17T19:56:28.989692Z"
    },
    "collapsed": true
   },
   "outputs": [
    {
     "data": {
      "text/plain": [
       "count                            27\n",
       "mean               34 days 14:13:20\n",
       "std      12 days 06:20:05.592806914\n",
       "min                15 days 00:00:00\n",
       "25%                25 days 00:00:00\n",
       "50%                34 days 00:00:00\n",
       "75%                45 days 00:00:00\n",
       "max                60 days 00:00:00\n",
       "Name: diff, dtype: object"
      ]
     },
     "execution_count": 33,
     "metadata": {},
     "output_type": "execute_result"
    }
   ],
   "source": [
    "compare_ic_05[\"diff\"].describe()"
   ]
  },
  {
   "cell_type": "markdown",
   "metadata": {},
   "source": [
    "## Regionais"
   ]
  },
  {
   "cell_type": "code",
   "execution_count": 111,
   "metadata": {
    "ExecuteTime": {
     "end_time": "2020-09-17T21:50:06.435833Z",
     "start_time": "2020-09-17T21:50:06.345968Z"
    }
   },
   "outputs": [],
   "source": [
    "place_id = \"health_region_id\""
   ]
  },
  {
   "cell_type": "code",
   "execution_count": 146,
   "metadata": {
    "ExecuteTime": {
     "end_time": "2020-09-17T22:05:31.810013Z",
     "start_time": "2020-09-17T22:05:31.700385Z"
    }
   },
   "outputs": [
    {
     "name": "stdout",
     "output_type": "stream",
     "text": [
      "<class 'pandas.core.frame.DataFrame'>\n",
      "Int64Index: 58866 entries, 0 to 58865\n",
      "Data columns (total 10 columns):\n",
      " #   Column                    Non-Null Count  Dtype         \n",
      "---  ------                    --------------  -----         \n",
      " 0   Rt_high_95                58866 non-null  float64       \n",
      " 1   Rt_low_95                 58866 non-null  float64       \n",
      " 2   Rt_most_likely            58866 non-null  float64       \n",
      " 3   Rt_most_likely_growth     58866 non-null  object        \n",
      " 4   Rt_most_likely_mavg       56184 non-null  float64       \n",
      " 5   Rt_most_likely_mavg_100k  56184 non-null  float64       \n",
      " 6   health_region_id          58866 non-null  int64         \n",
      " 7   last_updated              58866 non-null  datetime64[ns]\n",
      " 8   data_last_refreshed       58866 non-null  object        \n",
      " 9   state_num_id              58866 non-null  int64         \n",
      "dtypes: datetime64[ns](1), float64(5), int64(2), object(2)\n",
      "memory usage: 7.4+ MB\n"
     ]
    }
   ],
   "source": [
    "# health_region_kevin = pd.read_csv(\"http://datasource.coronacidades.org/br/health_region/rt\")\n",
    "# health_region_kevin = health_region_kevin.assign(last_updated= lambda df: pd.to_datetime(df.last_updated))\n",
    "# health_region_kevin.to_csv(\"health_region_rt_kevin_20200917.csv\")\n",
    "\n",
    "health_region_kevin = pd.read_csv(\"health_region_rt_kevin_20200917.csv\", index_col=0).assign(last_updated= lambda df: pd.to_datetime(df.last_updated))\n",
    "health_region_kevin[\"state_num_id\"] = (health_region_kevin[\"health_region_id\"] / 1000).astype(int)\n",
    "\n",
    "health_region_kevin.info()"
   ]
  },
  {
   "cell_type": "markdown",
   "metadata": {
    "ExecuteTime": {
     "end_time": "2020-09-16T20:30:08.754367Z",
     "start_time": "2020-09-16T20:30:08.244527Z"
    }
   },
   "source": [
    "### Rodando EpiEstim"
   ]
  },
  {
   "cell_type": "code",
   "execution_count": 113,
   "metadata": {
    "ExecuteTime": {
     "end_time": "2020-09-17T21:50:14.322730Z",
     "start_time": "2020-09-17T21:50:13.667440Z"
    },
    "collapsed": true
   },
   "outputs": [
    {
     "name": "stdout",
     "output_type": "stream",
     "text": [
      "<class 'pandas.core.frame.DataFrame'>\n",
      "Int64Index: 73299 entries, 0 to 73298\n",
      "Data columns (total 26 columns):\n",
      " #   Column                   Non-Null Count  Dtype  \n",
      "---  ------                   --------------  -----  \n",
      " 0   active_cases             55397 non-null  float64\n",
      " 1   cases_mavg               64735 non-null  float64\n",
      " 2   confirmed_cases          73299 non-null  float64\n",
      " 3   daily_cases              73299 non-null  float64\n",
      " 4   daily_cases_growth       73299 non-null  object \n",
      " 5   daily_cases_mavg         70599 non-null  float64\n",
      " 6   daily_cases_mavg_100k    70599 non-null  float64\n",
      " 7   deaths                   73299 non-null  float64\n",
      " 8   deaths_mavg              64735 non-null  float64\n",
      " 9   estimated_cases          55445 non-null  float64\n",
      " 10  expected_mortality       64735 non-null  float64\n",
      " 11  health_region_id         73299 non-null  int64  \n",
      " 12  health_region_name       73299 non-null  object \n",
      " 13  infectious_period_cases  73299 non-null  float64\n",
      " 14  last_updated             73299 non-null  object \n",
      " 15  new_deaths               73299 non-null  float64\n",
      " 16  new_deaths_growth        73299 non-null  object \n",
      " 17  new_deaths_mavg          70599 non-null  float64\n",
      " 18  new_deaths_mavg_100k     70599 non-null  float64\n",
      " 19  notification_rate        55397 non-null  float64\n",
      " 20  population               73299 non-null  int64  \n",
      " 21  state_id                 73299 non-null  object \n",
      " 22  state_name               73299 non-null  object \n",
      " 23  state_num_id             73299 non-null  int64  \n",
      " 24  total_estimated_cases    55445 non-null  float64\n",
      " 25  data_last_refreshed      73299 non-null  object \n",
      "dtypes: float64(16), int64(3), object(7)\n",
      "memory usage: 15.1+ MB\n"
     ]
    }
   ],
   "source": [
    "# health_region_cases = pd.read_csv(\"http://datasource.coronacidades.org/br/health_region/cases/full\")\n",
    "# health_region_cases.to_csv(\"health_region_cases_20200917.csv\")\n",
    "\n",
    "health_region_cases = pd.read_csv(\"health_region_cases_20200917.csv\", index_col=0)\n",
    "\n",
    "health_region_cases.info()"
   ]
  },
  {
   "cell_type": "code",
   "execution_count": 114,
   "metadata": {
    "ExecuteTime": {
     "end_time": "2020-09-17T21:51:08.489556Z",
     "start_time": "2020-09-17T21:50:14.329121Z"
    },
    "collapsed": true
   },
   "outputs": [
    {
     "name": "stderr",
     "output_type": "stream",
     "text": [
      "R[write to console]: Default config will estimate R on weekly sliding windows.\n",
      "    To change this change the t_start and t_end arguments. \n",
      "\n",
      "R[write to console]: Default config will estimate R on weekly sliding windows.\n",
      "    To change this change the t_start and t_end arguments. \n",
      "\n",
      "R[write to console]: Default config will estimate R on weekly sliding windows.\n",
      "    To change this change the t_start and t_end arguments. \n",
      "\n",
      "R[write to console]: Default config will estimate R on weekly sliding windows.\n",
      "    To change this change the t_start and t_end arguments. \n",
      "\n",
      "R[write to console]: Default config will estimate R on weekly sliding windows.\n",
      "    To change this change the t_start and t_end arguments. \n",
      "\n",
      "R[write to console]: Default config will estimate R on weekly sliding windows.\n",
      "    To change this change the t_start and t_end arguments. \n",
      "\n",
      "R[write to console]: Default config will estimate R on weekly sliding windows.\n",
      "    To change this change the t_start and t_end arguments. \n",
      "\n",
      "R[write to console]: Default config will estimate R on weekly sliding windows.\n",
      "    To change this change the t_start and t_end arguments. \n",
      "\n",
      "R[write to console]: Default config will estimate R on weekly sliding windows.\n",
      "    To change this change the t_start and t_end arguments. \n",
      "\n",
      "R[write to console]: Default config will estimate R on weekly sliding windows.\n",
      "    To change this change the t_start and t_end arguments. \n",
      "\n",
      "R[write to console]: Default config will estimate R on weekly sliding windows.\n",
      "    To change this change the t_start and t_end arguments. \n",
      "\n",
      "R[write to console]: Default config will estimate R on weekly sliding windows.\n",
      "    To change this change the t_start and t_end arguments. \n",
      "\n",
      "R[write to console]: Default config will estimate R on weekly sliding windows.\n",
      "    To change this change the t_start and t_end arguments. \n",
      "\n",
      "R[write to console]: Default config will estimate R on weekly sliding windows.\n",
      "    To change this change the t_start and t_end arguments. \n",
      "\n",
      "R[write to console]: Default config will estimate R on weekly sliding windows.\n",
      "    To change this change the t_start and t_end arguments. \n",
      "\n",
      "R[write to console]: Default config will estimate R on weekly sliding windows.\n",
      "    To change this change the t_start and t_end arguments. \n",
      "\n",
      "R[write to console]: Default config will estimate R on weekly sliding windows.\n",
      "    To change this change the t_start and t_end arguments. \n",
      "\n",
      "R[write to console]: Default config will estimate R on weekly sliding windows.\n",
      "    To change this change the t_start and t_end arguments. \n",
      "\n",
      "R[write to console]: Default config will estimate R on weekly sliding windows.\n",
      "    To change this change the t_start and t_end arguments. \n",
      "\n",
      "R[write to console]: Default config will estimate R on weekly sliding windows.\n",
      "    To change this change the t_start and t_end arguments. \n",
      "\n",
      "R[write to console]: Default config will estimate R on weekly sliding windows.\n",
      "    To change this change the t_start and t_end arguments. \n",
      "\n",
      "R[write to console]: Default config will estimate R on weekly sliding windows.\n",
      "    To change this change the t_start and t_end arguments. \n",
      "\n",
      "R[write to console]: Default config will estimate R on weekly sliding windows.\n",
      "    To change this change the t_start and t_end arguments. \n",
      "\n",
      "R[write to console]: Default config will estimate R on weekly sliding windows.\n",
      "    To change this change the t_start and t_end arguments. \n",
      "\n",
      "R[write to console]: Default config will estimate R on weekly sliding windows.\n",
      "    To change this change the t_start and t_end arguments. \n",
      "\n",
      "R[write to console]: Default config will estimate R on weekly sliding windows.\n",
      "    To change this change the t_start and t_end arguments. \n",
      "\n",
      "R[write to console]: Default config will estimate R on weekly sliding windows.\n",
      "    To change this change the t_start and t_end arguments. \n",
      "\n",
      "R[write to console]: Default config will estimate R on weekly sliding windows.\n",
      "    To change this change the t_start and t_end arguments. \n",
      "\n",
      "R[write to console]: Default config will estimate R on weekly sliding windows.\n",
      "    To change this change the t_start and t_end arguments. \n",
      "\n",
      "R[write to console]: Default config will estimate R on weekly sliding windows.\n",
      "    To change this change the t_start and t_end arguments. \n",
      "\n",
      "R[write to console]: Default config will estimate R on weekly sliding windows.\n",
      "    To change this change the t_start and t_end arguments. \n",
      "\n",
      "R[write to console]: Default config will estimate R on weekly sliding windows.\n",
      "    To change this change the t_start and t_end arguments. \n",
      "\n",
      "R[write to console]: Default config will estimate R on weekly sliding windows.\n",
      "    To change this change the t_start and t_end arguments. \n",
      "\n",
      "R[write to console]: Default config will estimate R on weekly sliding windows.\n",
      "    To change this change the t_start and t_end arguments. \n",
      "\n",
      "R[write to console]: Default config will estimate R on weekly sliding windows.\n",
      "    To change this change the t_start and t_end arguments. \n",
      "\n",
      "R[write to console]: Default config will estimate R on weekly sliding windows.\n",
      "    To change this change the t_start and t_end arguments. \n",
      "\n",
      "R[write to console]: Default config will estimate R on weekly sliding windows.\n",
      "    To change this change the t_start and t_end arguments. \n",
      "\n",
      "R[write to console]: Default config will estimate R on weekly sliding windows.\n",
      "    To change this change the t_start and t_end arguments. \n",
      "\n",
      "R[write to console]: Default config will estimate R on weekly sliding windows.\n",
      "    To change this change the t_start and t_end arguments. \n",
      "\n",
      "R[write to console]: Default config will estimate R on weekly sliding windows.\n",
      "    To change this change the t_start and t_end arguments. \n",
      "\n",
      "R[write to console]: Default config will estimate R on weekly sliding windows.\n",
      "    To change this change the t_start and t_end arguments. \n",
      "\n",
      "R[write to console]: Default config will estimate R on weekly sliding windows.\n",
      "    To change this change the t_start and t_end arguments. \n",
      "\n",
      "R[write to console]: Default config will estimate R on weekly sliding windows.\n",
      "    To change this change the t_start and t_end arguments. \n",
      "\n",
      "R[write to console]: Default config will estimate R on weekly sliding windows.\n",
      "    To change this change the t_start and t_end arguments. \n",
      "\n",
      "R[write to console]: Default config will estimate R on weekly sliding windows.\n",
      "    To change this change the t_start and t_end arguments. \n",
      "\n",
      "R[write to console]: Default config will estimate R on weekly sliding windows.\n",
      "    To change this change the t_start and t_end arguments. \n",
      "\n",
      "R[write to console]: Default config will estimate R on weekly sliding windows.\n",
      "    To change this change the t_start and t_end arguments. \n",
      "\n",
      "R[write to console]: Default config will estimate R on weekly sliding windows.\n",
      "    To change this change the t_start and t_end arguments. \n",
      "\n",
      "R[write to console]: Default config will estimate R on weekly sliding windows.\n",
      "    To change this change the t_start and t_end arguments. \n",
      "\n",
      "R[write to console]: Default config will estimate R on weekly sliding windows.\n",
      "    To change this change the t_start and t_end arguments. \n",
      "\n",
      "R[write to console]: Default config will estimate R on weekly sliding windows.\n",
      "    To change this change the t_start and t_end arguments. \n",
      "\n",
      "R[write to console]: Default config will estimate R on weekly sliding windows.\n",
      "    To change this change the t_start and t_end arguments. \n",
      "\n",
      "R[write to console]: Default config will estimate R on weekly sliding windows.\n",
      "    To change this change the t_start and t_end arguments. \n",
      "\n",
      "R[write to console]: Default config will estimate R on weekly sliding windows.\n",
      "    To change this change the t_start and t_end arguments. \n",
      "\n",
      "R[write to console]: Default config will estimate R on weekly sliding windows.\n",
      "    To change this change the t_start and t_end arguments. \n",
      "\n",
      "R[write to console]: Default config will estimate R on weekly sliding windows.\n",
      "    To change this change the t_start and t_end arguments. \n",
      "\n",
      "R[write to console]: Default config will estimate R on weekly sliding windows.\n",
      "    To change this change the t_start and t_end arguments. \n",
      "\n",
      "R[write to console]: Default config will estimate R on weekly sliding windows.\n",
      "    To change this change the t_start and t_end arguments. \n",
      "\n",
      "R[write to console]: Default config will estimate R on weekly sliding windows.\n",
      "    To change this change the t_start and t_end arguments. \n",
      "\n"
     ]
    },
    {
     "name": "stderr",
     "output_type": "stream",
     "text": [
      "R[write to console]: Default config will estimate R on weekly sliding windows.\n",
      "    To change this change the t_start and t_end arguments. \n",
      "\n",
      "R[write to console]: Default config will estimate R on weekly sliding windows.\n",
      "    To change this change the t_start and t_end arguments. \n",
      "\n",
      "R[write to console]: Default config will estimate R on weekly sliding windows.\n",
      "    To change this change the t_start and t_end arguments. \n",
      "\n",
      "R[write to console]: Default config will estimate R on weekly sliding windows.\n",
      "    To change this change the t_start and t_end arguments. \n",
      "\n",
      "R[write to console]: Default config will estimate R on weekly sliding windows.\n",
      "    To change this change the t_start and t_end arguments. \n",
      "\n",
      "R[write to console]: Default config will estimate R on weekly sliding windows.\n",
      "    To change this change the t_start and t_end arguments. \n",
      "\n",
      "R[write to console]: Default config will estimate R on weekly sliding windows.\n",
      "    To change this change the t_start and t_end arguments. \n",
      "\n",
      "R[write to console]: Default config will estimate R on weekly sliding windows.\n",
      "    To change this change the t_start and t_end arguments. \n",
      "\n",
      "R[write to console]: Default config will estimate R on weekly sliding windows.\n",
      "    To change this change the t_start and t_end arguments. \n",
      "\n",
      "R[write to console]: Default config will estimate R on weekly sliding windows.\n",
      "    To change this change the t_start and t_end arguments. \n",
      "\n",
      "R[write to console]: Default config will estimate R on weekly sliding windows.\n",
      "    To change this change the t_start and t_end arguments. \n",
      "\n",
      "R[write to console]: Default config will estimate R on weekly sliding windows.\n",
      "    To change this change the t_start and t_end arguments. \n",
      "\n",
      "R[write to console]: Default config will estimate R on weekly sliding windows.\n",
      "    To change this change the t_start and t_end arguments. \n",
      "\n",
      "R[write to console]: Default config will estimate R on weekly sliding windows.\n",
      "    To change this change the t_start and t_end arguments. \n",
      "\n",
      "R[write to console]: Default config will estimate R on weekly sliding windows.\n",
      "    To change this change the t_start and t_end arguments. \n",
      "\n",
      "R[write to console]: Default config will estimate R on weekly sliding windows.\n",
      "    To change this change the t_start and t_end arguments. \n",
      "\n",
      "R[write to console]: Default config will estimate R on weekly sliding windows.\n",
      "    To change this change the t_start and t_end arguments. \n",
      "\n",
      "R[write to console]: Default config will estimate R on weekly sliding windows.\n",
      "    To change this change the t_start and t_end arguments. \n",
      "\n",
      "R[write to console]: Default config will estimate R on weekly sliding windows.\n",
      "    To change this change the t_start and t_end arguments. \n",
      "\n",
      "R[write to console]: Default config will estimate R on weekly sliding windows.\n",
      "    To change this change the t_start and t_end arguments. \n",
      "\n",
      "R[write to console]: Default config will estimate R on weekly sliding windows.\n",
      "    To change this change the t_start and t_end arguments. \n",
      "\n",
      "R[write to console]: Default config will estimate R on weekly sliding windows.\n",
      "    To change this change the t_start and t_end arguments. \n",
      "\n",
      "R[write to console]: Default config will estimate R on weekly sliding windows.\n",
      "    To change this change the t_start and t_end arguments. \n",
      "\n",
      "R[write to console]: Default config will estimate R on weekly sliding windows.\n",
      "    To change this change the t_start and t_end arguments. \n",
      "\n",
      "R[write to console]: Default config will estimate R on weekly sliding windows.\n",
      "    To change this change the t_start and t_end arguments. \n",
      "\n",
      "R[write to console]: Default config will estimate R on weekly sliding windows.\n",
      "    To change this change the t_start and t_end arguments. \n",
      "\n",
      "R[write to console]: Default config will estimate R on weekly sliding windows.\n",
      "    To change this change the t_start and t_end arguments. \n",
      "\n",
      "R[write to console]: Default config will estimate R on weekly sliding windows.\n",
      "    To change this change the t_start and t_end arguments. \n",
      "\n",
      "R[write to console]: Default config will estimate R on weekly sliding windows.\n",
      "    To change this change the t_start and t_end arguments. \n",
      "\n",
      "R[write to console]: Default config will estimate R on weekly sliding windows.\n",
      "    To change this change the t_start and t_end arguments. \n",
      "\n",
      "R[write to console]: Default config will estimate R on weekly sliding windows.\n",
      "    To change this change the t_start and t_end arguments. \n",
      "\n",
      "R[write to console]: Default config will estimate R on weekly sliding windows.\n",
      "    To change this change the t_start and t_end arguments. \n",
      "\n",
      "R[write to console]: Default config will estimate R on weekly sliding windows.\n",
      "    To change this change the t_start and t_end arguments. \n",
      "\n",
      "R[write to console]: Default config will estimate R on weekly sliding windows.\n",
      "    To change this change the t_start and t_end arguments. \n",
      "\n",
      "R[write to console]: Default config will estimate R on weekly sliding windows.\n",
      "    To change this change the t_start and t_end arguments. \n",
      "\n",
      "R[write to console]: Default config will estimate R on weekly sliding windows.\n",
      "    To change this change the t_start and t_end arguments. \n",
      "\n",
      "R[write to console]: Default config will estimate R on weekly sliding windows.\n",
      "    To change this change the t_start and t_end arguments. \n",
      "\n",
      "R[write to console]: Default config will estimate R on weekly sliding windows.\n",
      "    To change this change the t_start and t_end arguments. \n",
      "\n",
      "R[write to console]: Default config will estimate R on weekly sliding windows.\n",
      "    To change this change the t_start and t_end arguments. \n",
      "\n",
      "R[write to console]: Default config will estimate R on weekly sliding windows.\n",
      "    To change this change the t_start and t_end arguments. \n",
      "\n",
      "R[write to console]: Default config will estimate R on weekly sliding windows.\n",
      "    To change this change the t_start and t_end arguments. \n",
      "\n",
      "R[write to console]: Default config will estimate R on weekly sliding windows.\n",
      "    To change this change the t_start and t_end arguments. \n",
      "\n",
      "R[write to console]: Default config will estimate R on weekly sliding windows.\n",
      "    To change this change the t_start and t_end arguments. \n",
      "\n",
      "R[write to console]: Default config will estimate R on weekly sliding windows.\n",
      "    To change this change the t_start and t_end arguments. \n",
      "\n",
      "R[write to console]: Default config will estimate R on weekly sliding windows.\n",
      "    To change this change the t_start and t_end arguments. \n",
      "\n",
      "R[write to console]: Default config will estimate R on weekly sliding windows.\n",
      "    To change this change the t_start and t_end arguments. \n",
      "\n",
      "R[write to console]: Default config will estimate R on weekly sliding windows.\n",
      "    To change this change the t_start and t_end arguments. \n",
      "\n",
      "R[write to console]: Default config will estimate R on weekly sliding windows.\n",
      "    To change this change the t_start and t_end arguments. \n",
      "\n",
      "R[write to console]: Default config will estimate R on weekly sliding windows.\n",
      "    To change this change the t_start and t_end arguments. \n",
      "\n",
      "R[write to console]: Default config will estimate R on weekly sliding windows.\n",
      "    To change this change the t_start and t_end arguments. \n",
      "\n",
      "R[write to console]: Default config will estimate R on weekly sliding windows.\n",
      "    To change this change the t_start and t_end arguments. \n",
      "\n",
      "R[write to console]: Default config will estimate R on weekly sliding windows.\n",
      "    To change this change the t_start and t_end arguments. \n",
      "\n",
      "R[write to console]: Default config will estimate R on weekly sliding windows.\n",
      "    To change this change the t_start and t_end arguments. \n",
      "\n",
      "R[write to console]: Default config will estimate R on weekly sliding windows.\n",
      "    To change this change the t_start and t_end arguments. \n",
      "\n",
      "R[write to console]: Default config will estimate R on weekly sliding windows.\n",
      "    To change this change the t_start and t_end arguments. \n",
      "\n",
      "R[write to console]: Default config will estimate R on weekly sliding windows.\n",
      "    To change this change the t_start and t_end arguments. \n",
      "\n",
      "R[write to console]: Default config will estimate R on weekly sliding windows.\n",
      "    To change this change the t_start and t_end arguments. \n",
      "\n",
      "R[write to console]: Default config will estimate R on weekly sliding windows.\n",
      "    To change this change the t_start and t_end arguments. \n",
      "\n",
      "R[write to console]: Default config will estimate R on weekly sliding windows.\n",
      "    To change this change the t_start and t_end arguments. \n",
      "\n"
     ]
    },
    {
     "name": "stderr",
     "output_type": "stream",
     "text": [
      "R[write to console]: Default config will estimate R on weekly sliding windows.\n",
      "    To change this change the t_start and t_end arguments. \n",
      "\n",
      "R[write to console]: Default config will estimate R on weekly sliding windows.\n",
      "    To change this change the t_start and t_end arguments. \n",
      "\n",
      "R[write to console]: Default config will estimate R on weekly sliding windows.\n",
      "    To change this change the t_start and t_end arguments. \n",
      "\n",
      "R[write to console]: Default config will estimate R on weekly sliding windows.\n",
      "    To change this change the t_start and t_end arguments. \n",
      "\n",
      "R[write to console]: Default config will estimate R on weekly sliding windows.\n",
      "    To change this change the t_start and t_end arguments. \n",
      "\n",
      "R[write to console]: Default config will estimate R on weekly sliding windows.\n",
      "    To change this change the t_start and t_end arguments. \n",
      "\n",
      "R[write to console]: Default config will estimate R on weekly sliding windows.\n",
      "    To change this change the t_start and t_end arguments. \n",
      "\n",
      "R[write to console]: Default config will estimate R on weekly sliding windows.\n",
      "    To change this change the t_start and t_end arguments. \n",
      "\n",
      "R[write to console]: Default config will estimate R on weekly sliding windows.\n",
      "    To change this change the t_start and t_end arguments. \n",
      "\n",
      "R[write to console]: Default config will estimate R on weekly sliding windows.\n",
      "    To change this change the t_start and t_end arguments. \n",
      "\n",
      "R[write to console]: Default config will estimate R on weekly sliding windows.\n",
      "    To change this change the t_start and t_end arguments. \n",
      "\n",
      "R[write to console]: Default config will estimate R on weekly sliding windows.\n",
      "    To change this change the t_start and t_end arguments. \n",
      "\n",
      "R[write to console]: Default config will estimate R on weekly sliding windows.\n",
      "    To change this change the t_start and t_end arguments. \n",
      "\n",
      "R[write to console]: Default config will estimate R on weekly sliding windows.\n",
      "    To change this change the t_start and t_end arguments. \n",
      "\n",
      "R[write to console]: Default config will estimate R on weekly sliding windows.\n",
      "    To change this change the t_start and t_end arguments. \n",
      "\n",
      "R[write to console]: Default config will estimate R on weekly sliding windows.\n",
      "    To change this change the t_start and t_end arguments. \n",
      "\n",
      "R[write to console]: Default config will estimate R on weekly sliding windows.\n",
      "    To change this change the t_start and t_end arguments. \n",
      "\n",
      "R[write to console]: Default config will estimate R on weekly sliding windows.\n",
      "    To change this change the t_start and t_end arguments. \n",
      "\n",
      "R[write to console]: Default config will estimate R on weekly sliding windows.\n",
      "    To change this change the t_start and t_end arguments. \n",
      "\n",
      "R[write to console]: Default config will estimate R on weekly sliding windows.\n",
      "    To change this change the t_start and t_end arguments. \n",
      "\n",
      "R[write to console]: Default config will estimate R on weekly sliding windows.\n",
      "    To change this change the t_start and t_end arguments. \n",
      "\n",
      "R[write to console]: Default config will estimate R on weekly sliding windows.\n",
      "    To change this change the t_start and t_end arguments. \n",
      "\n",
      "R[write to console]: Default config will estimate R on weekly sliding windows.\n",
      "    To change this change the t_start and t_end arguments. \n",
      "\n",
      "R[write to console]: Default config will estimate R on weekly sliding windows.\n",
      "    To change this change the t_start and t_end arguments. \n",
      "\n",
      "R[write to console]: Default config will estimate R on weekly sliding windows.\n",
      "    To change this change the t_start and t_end arguments. \n",
      "\n",
      "R[write to console]: Default config will estimate R on weekly sliding windows.\n",
      "    To change this change the t_start and t_end arguments. \n",
      "\n",
      "R[write to console]: Default config will estimate R on weekly sliding windows.\n",
      "    To change this change the t_start and t_end arguments. \n",
      "\n",
      "R[write to console]: Default config will estimate R on weekly sliding windows.\n",
      "    To change this change the t_start and t_end arguments. \n",
      "\n",
      "R[write to console]: Default config will estimate R on weekly sliding windows.\n",
      "    To change this change the t_start and t_end arguments. \n",
      "\n",
      "R[write to console]: Default config will estimate R on weekly sliding windows.\n",
      "    To change this change the t_start and t_end arguments. \n",
      "\n",
      "R[write to console]: Default config will estimate R on weekly sliding windows.\n",
      "    To change this change the t_start and t_end arguments. \n",
      "\n",
      "R[write to console]: Default config will estimate R on weekly sliding windows.\n",
      "    To change this change the t_start and t_end arguments. \n",
      "\n",
      "R[write to console]: Default config will estimate R on weekly sliding windows.\n",
      "    To change this change the t_start and t_end arguments. \n",
      "\n",
      "R[write to console]: Default config will estimate R on weekly sliding windows.\n",
      "    To change this change the t_start and t_end arguments. \n",
      "\n",
      "R[write to console]: Default config will estimate R on weekly sliding windows.\n",
      "    To change this change the t_start and t_end arguments. \n",
      "\n",
      "R[write to console]: Default config will estimate R on weekly sliding windows.\n",
      "    To change this change the t_start and t_end arguments. \n",
      "\n",
      "R[write to console]: Default config will estimate R on weekly sliding windows.\n",
      "    To change this change the t_start and t_end arguments. \n",
      "\n",
      "R[write to console]: Default config will estimate R on weekly sliding windows.\n",
      "    To change this change the t_start and t_end arguments. \n",
      "\n",
      "R[write to console]: Default config will estimate R on weekly sliding windows.\n",
      "    To change this change the t_start and t_end arguments. \n",
      "\n",
      "R[write to console]: Default config will estimate R on weekly sliding windows.\n",
      "    To change this change the t_start and t_end arguments. \n",
      "\n",
      "R[write to console]: Default config will estimate R on weekly sliding windows.\n",
      "    To change this change the t_start and t_end arguments. \n",
      "\n",
      "R[write to console]: Default config will estimate R on weekly sliding windows.\n",
      "    To change this change the t_start and t_end arguments. \n",
      "\n",
      "R[write to console]: Default config will estimate R on weekly sliding windows.\n",
      "    To change this change the t_start and t_end arguments. \n",
      "\n",
      "R[write to console]: Default config will estimate R on weekly sliding windows.\n",
      "    To change this change the t_start and t_end arguments. \n",
      "\n",
      "R[write to console]: Default config will estimate R on weekly sliding windows.\n",
      "    To change this change the t_start and t_end arguments. \n",
      "\n",
      "R[write to console]: Default config will estimate R on weekly sliding windows.\n",
      "    To change this change the t_start and t_end arguments. \n",
      "\n",
      "R[write to console]: Default config will estimate R on weekly sliding windows.\n",
      "    To change this change the t_start and t_end arguments. \n",
      "\n",
      "R[write to console]: Default config will estimate R on weekly sliding windows.\n",
      "    To change this change the t_start and t_end arguments. \n",
      "\n",
      "R[write to console]: Default config will estimate R on weekly sliding windows.\n",
      "    To change this change the t_start and t_end arguments. \n",
      "\n",
      "R[write to console]: Default config will estimate R on weekly sliding windows.\n",
      "    To change this change the t_start and t_end arguments. \n",
      "\n",
      "R[write to console]: Default config will estimate R on weekly sliding windows.\n",
      "    To change this change the t_start and t_end arguments. \n",
      "\n",
      "R[write to console]: Default config will estimate R on weekly sliding windows.\n",
      "    To change this change the t_start and t_end arguments. \n",
      "\n",
      "R[write to console]: Default config will estimate R on weekly sliding windows.\n",
      "    To change this change the t_start and t_end arguments. \n",
      "\n",
      "R[write to console]: Default config will estimate R on weekly sliding windows.\n",
      "    To change this change the t_start and t_end arguments. \n",
      "\n",
      "R[write to console]: Default config will estimate R on weekly sliding windows.\n",
      "    To change this change the t_start and t_end arguments. \n",
      "\n",
      "R[write to console]: Default config will estimate R on weekly sliding windows.\n",
      "    To change this change the t_start and t_end arguments. \n",
      "\n",
      "R[write to console]: Default config will estimate R on weekly sliding windows.\n",
      "    To change this change the t_start and t_end arguments. \n",
      "\n",
      "R[write to console]: Default config will estimate R on weekly sliding windows.\n",
      "    To change this change the t_start and t_end arguments. \n",
      "\n",
      "R[write to console]: Default config will estimate R on weekly sliding windows.\n",
      "    To change this change the t_start and t_end arguments. \n",
      "\n"
     ]
    },
    {
     "name": "stderr",
     "output_type": "stream",
     "text": [
      "R[write to console]: Default config will estimate R on weekly sliding windows.\n",
      "    To change this change the t_start and t_end arguments. \n",
      "\n",
      "R[write to console]: Default config will estimate R on weekly sliding windows.\n",
      "    To change this change the t_start and t_end arguments. \n",
      "\n",
      "R[write to console]: Default config will estimate R on weekly sliding windows.\n",
      "    To change this change the t_start and t_end arguments. \n",
      "\n",
      "R[write to console]: Default config will estimate R on weekly sliding windows.\n",
      "    To change this change the t_start and t_end arguments. \n",
      "\n",
      "R[write to console]: Default config will estimate R on weekly sliding windows.\n",
      "    To change this change the t_start and t_end arguments. \n",
      "\n",
      "R[write to console]: Default config will estimate R on weekly sliding windows.\n",
      "    To change this change the t_start and t_end arguments. \n",
      "\n",
      "R[write to console]: Default config will estimate R on weekly sliding windows.\n",
      "    To change this change the t_start and t_end arguments. \n",
      "\n",
      "R[write to console]: Default config will estimate R on weekly sliding windows.\n",
      "    To change this change the t_start and t_end arguments. \n",
      "\n",
      "R[write to console]: Default config will estimate R on weekly sliding windows.\n",
      "    To change this change the t_start and t_end arguments. \n",
      "\n",
      "R[write to console]: Default config will estimate R on weekly sliding windows.\n",
      "    To change this change the t_start and t_end arguments. \n",
      "\n",
      "R[write to console]: Default config will estimate R on weekly sliding windows.\n",
      "    To change this change the t_start and t_end arguments. \n",
      "\n",
      "R[write to console]: Default config will estimate R on weekly sliding windows.\n",
      "    To change this change the t_start and t_end arguments. \n",
      "\n",
      "R[write to console]: Default config will estimate R on weekly sliding windows.\n",
      "    To change this change the t_start and t_end arguments. \n",
      "\n",
      "R[write to console]: Default config will estimate R on weekly sliding windows.\n",
      "    To change this change the t_start and t_end arguments. \n",
      "\n",
      "R[write to console]: Default config will estimate R on weekly sliding windows.\n",
      "    To change this change the t_start and t_end arguments. \n",
      "\n",
      "R[write to console]: Default config will estimate R on weekly sliding windows.\n",
      "    To change this change the t_start and t_end arguments. \n",
      "\n",
      "R[write to console]: Default config will estimate R on weekly sliding windows.\n",
      "    To change this change the t_start and t_end arguments. \n",
      "\n",
      "R[write to console]: Default config will estimate R on weekly sliding windows.\n",
      "    To change this change the t_start and t_end arguments. \n",
      "\n",
      "R[write to console]: Default config will estimate R on weekly sliding windows.\n",
      "    To change this change the t_start and t_end arguments. \n",
      "\n",
      "R[write to console]: Default config will estimate R on weekly sliding windows.\n",
      "    To change this change the t_start and t_end arguments. \n",
      "\n",
      "R[write to console]: Default config will estimate R on weekly sliding windows.\n",
      "    To change this change the t_start and t_end arguments. \n",
      "\n",
      "R[write to console]: Default config will estimate R on weekly sliding windows.\n",
      "    To change this change the t_start and t_end arguments. \n",
      "\n",
      "R[write to console]: Default config will estimate R on weekly sliding windows.\n",
      "    To change this change the t_start and t_end arguments. \n",
      "\n",
      "R[write to console]: Default config will estimate R on weekly sliding windows.\n",
      "    To change this change the t_start and t_end arguments. \n",
      "\n",
      "R[write to console]: Default config will estimate R on weekly sliding windows.\n",
      "    To change this change the t_start and t_end arguments. \n",
      "\n",
      "R[write to console]: Default config will estimate R on weekly sliding windows.\n",
      "    To change this change the t_start and t_end arguments. \n",
      "\n",
      "R[write to console]: Default config will estimate R on weekly sliding windows.\n",
      "    To change this change the t_start and t_end arguments. \n",
      "\n",
      "R[write to console]: Default config will estimate R on weekly sliding windows.\n",
      "    To change this change the t_start and t_end arguments. \n",
      "\n",
      "R[write to console]: Default config will estimate R on weekly sliding windows.\n",
      "    To change this change the t_start and t_end arguments. \n",
      "\n",
      "R[write to console]: Default config will estimate R on weekly sliding windows.\n",
      "    To change this change the t_start and t_end arguments. \n",
      "\n",
      "R[write to console]: Default config will estimate R on weekly sliding windows.\n",
      "    To change this change the t_start and t_end arguments. \n",
      "\n",
      "R[write to console]: Default config will estimate R on weekly sliding windows.\n",
      "    To change this change the t_start and t_end arguments. \n",
      "\n",
      "R[write to console]: Default config will estimate R on weekly sliding windows.\n",
      "    To change this change the t_start and t_end arguments. \n",
      "\n",
      "R[write to console]: Default config will estimate R on weekly sliding windows.\n",
      "    To change this change the t_start and t_end arguments. \n",
      "\n",
      "R[write to console]: Default config will estimate R on weekly sliding windows.\n",
      "    To change this change the t_start and t_end arguments. \n",
      "\n",
      "R[write to console]: Default config will estimate R on weekly sliding windows.\n",
      "    To change this change the t_start and t_end arguments. \n",
      "\n",
      "R[write to console]: Default config will estimate R on weekly sliding windows.\n",
      "    To change this change the t_start and t_end arguments. \n",
      "\n",
      "R[write to console]: Default config will estimate R on weekly sliding windows.\n",
      "    To change this change the t_start and t_end arguments. \n",
      "\n",
      "R[write to console]: Default config will estimate R on weekly sliding windows.\n",
      "    To change this change the t_start and t_end arguments. \n",
      "\n",
      "R[write to console]: Default config will estimate R on weekly sliding windows.\n",
      "    To change this change the t_start and t_end arguments. \n",
      "\n",
      "R[write to console]: Default config will estimate R on weekly sliding windows.\n",
      "    To change this change the t_start and t_end arguments. \n",
      "\n",
      "R[write to console]: Default config will estimate R on weekly sliding windows.\n",
      "    To change this change the t_start and t_end arguments. \n",
      "\n",
      "R[write to console]: Default config will estimate R on weekly sliding windows.\n",
      "    To change this change the t_start and t_end arguments. \n",
      "\n",
      "R[write to console]: Default config will estimate R on weekly sliding windows.\n",
      "    To change this change the t_start and t_end arguments. \n",
      "\n",
      "R[write to console]: Default config will estimate R on weekly sliding windows.\n",
      "    To change this change the t_start and t_end arguments. \n",
      "\n",
      "R[write to console]: Default config will estimate R on weekly sliding windows.\n",
      "    To change this change the t_start and t_end arguments. \n",
      "\n",
      "R[write to console]: Default config will estimate R on weekly sliding windows.\n",
      "    To change this change the t_start and t_end arguments. \n",
      "\n",
      "R[write to console]: Default config will estimate R on weekly sliding windows.\n",
      "    To change this change the t_start and t_end arguments. \n",
      "\n",
      "R[write to console]: Default config will estimate R on weekly sliding windows.\n",
      "    To change this change the t_start and t_end arguments. \n",
      "\n",
      "R[write to console]: Default config will estimate R on weekly sliding windows.\n",
      "    To change this change the t_start and t_end arguments. \n",
      "\n",
      "R[write to console]: Default config will estimate R on weekly sliding windows.\n",
      "    To change this change the t_start and t_end arguments. \n",
      "\n",
      "R[write to console]: Default config will estimate R on weekly sliding windows.\n",
      "    To change this change the t_start and t_end arguments. \n",
      "\n",
      "R[write to console]: Default config will estimate R on weekly sliding windows.\n",
      "    To change this change the t_start and t_end arguments. \n",
      "\n",
      "R[write to console]: Default config will estimate R on weekly sliding windows.\n",
      "    To change this change the t_start and t_end arguments. \n",
      "\n",
      "R[write to console]: Default config will estimate R on weekly sliding windows.\n",
      "    To change this change the t_start and t_end arguments. \n",
      "\n",
      "R[write to console]: Default config will estimate R on weekly sliding windows.\n",
      "    To change this change the t_start and t_end arguments. \n",
      "\n",
      "R[write to console]: Default config will estimate R on weekly sliding windows.\n",
      "    To change this change the t_start and t_end arguments. \n",
      "\n",
      "R[write to console]: Default config will estimate R on weekly sliding windows.\n",
      "    To change this change the t_start and t_end arguments. \n",
      "\n",
      "R[write to console]: Default config will estimate R on weekly sliding windows.\n",
      "    To change this change the t_start and t_end arguments. \n",
      "\n"
     ]
    },
    {
     "name": "stderr",
     "output_type": "stream",
     "text": [
      "R[write to console]: Default config will estimate R on weekly sliding windows.\n",
      "    To change this change the t_start and t_end arguments. \n",
      "\n",
      "R[write to console]: Default config will estimate R on weekly sliding windows.\n",
      "    To change this change the t_start and t_end arguments. \n",
      "\n",
      "R[write to console]: Default config will estimate R on weekly sliding windows.\n",
      "    To change this change the t_start and t_end arguments. \n",
      "\n",
      "R[write to console]: Default config will estimate R on weekly sliding windows.\n",
      "    To change this change the t_start and t_end arguments. \n",
      "\n",
      "R[write to console]: Default config will estimate R on weekly sliding windows.\n",
      "    To change this change the t_start and t_end arguments. \n",
      "\n",
      "R[write to console]: Default config will estimate R on weekly sliding windows.\n",
      "    To change this change the t_start and t_end arguments. \n",
      "\n",
      "R[write to console]: Default config will estimate R on weekly sliding windows.\n",
      "    To change this change the t_start and t_end arguments. \n",
      "\n",
      "R[write to console]: Default config will estimate R on weekly sliding windows.\n",
      "    To change this change the t_start and t_end arguments. \n",
      "\n",
      "R[write to console]: Default config will estimate R on weekly sliding windows.\n",
      "    To change this change the t_start and t_end arguments. \n",
      "\n",
      "R[write to console]: Default config will estimate R on weekly sliding windows.\n",
      "    To change this change the t_start and t_end arguments. \n",
      "\n",
      "R[write to console]: Default config will estimate R on weekly sliding windows.\n",
      "    To change this change the t_start and t_end arguments. \n",
      "\n",
      "R[write to console]: Default config will estimate R on weekly sliding windows.\n",
      "    To change this change the t_start and t_end arguments. \n",
      "\n",
      "R[write to console]: Default config will estimate R on weekly sliding windows.\n",
      "    To change this change the t_start and t_end arguments. \n",
      "\n",
      "R[write to console]: Default config will estimate R on weekly sliding windows.\n",
      "    To change this change the t_start and t_end arguments. \n",
      "\n",
      "R[write to console]: Default config will estimate R on weekly sliding windows.\n",
      "    To change this change the t_start and t_end arguments. \n",
      "\n",
      "R[write to console]: Default config will estimate R on weekly sliding windows.\n",
      "    To change this change the t_start and t_end arguments. \n",
      "\n",
      "R[write to console]: Default config will estimate R on weekly sliding windows.\n",
      "    To change this change the t_start and t_end arguments. \n",
      "\n",
      "R[write to console]: Default config will estimate R on weekly sliding windows.\n",
      "    To change this change the t_start and t_end arguments. \n",
      "\n",
      "R[write to console]: Default config will estimate R on weekly sliding windows.\n",
      "    To change this change the t_start and t_end arguments. \n",
      "\n",
      "R[write to console]: Default config will estimate R on weekly sliding windows.\n",
      "    To change this change the t_start and t_end arguments. \n",
      "\n",
      "R[write to console]: Default config will estimate R on weekly sliding windows.\n",
      "    To change this change the t_start and t_end arguments. \n",
      "\n",
      "R[write to console]: Default config will estimate R on weekly sliding windows.\n",
      "    To change this change the t_start and t_end arguments. \n",
      "\n",
      "R[write to console]: Default config will estimate R on weekly sliding windows.\n",
      "    To change this change the t_start and t_end arguments. \n",
      "\n",
      "R[write to console]: Default config will estimate R on weekly sliding windows.\n",
      "    To change this change the t_start and t_end arguments. \n",
      "\n",
      "R[write to console]: Default config will estimate R on weekly sliding windows.\n",
      "    To change this change the t_start and t_end arguments. \n",
      "\n",
      "R[write to console]: Default config will estimate R on weekly sliding windows.\n",
      "    To change this change the t_start and t_end arguments. \n",
      "\n",
      "R[write to console]: Default config will estimate R on weekly sliding windows.\n",
      "    To change this change the t_start and t_end arguments. \n",
      "\n",
      "R[write to console]: Default config will estimate R on weekly sliding windows.\n",
      "    To change this change the t_start and t_end arguments. \n",
      "\n",
      "R[write to console]: Default config will estimate R on weekly sliding windows.\n",
      "    To change this change the t_start and t_end arguments. \n",
      "\n",
      "R[write to console]: Default config will estimate R on weekly sliding windows.\n",
      "    To change this change the t_start and t_end arguments. \n",
      "\n",
      "R[write to console]: Default config will estimate R on weekly sliding windows.\n",
      "    To change this change the t_start and t_end arguments. \n",
      "\n",
      "R[write to console]: Default config will estimate R on weekly sliding windows.\n",
      "    To change this change the t_start and t_end arguments. \n",
      "\n",
      "R[write to console]: Default config will estimate R on weekly sliding windows.\n",
      "    To change this change the t_start and t_end arguments. \n",
      "\n",
      "R[write to console]: Default config will estimate R on weekly sliding windows.\n",
      "    To change this change the t_start and t_end arguments. \n",
      "\n",
      "R[write to console]: Default config will estimate R on weekly sliding windows.\n",
      "    To change this change the t_start and t_end arguments. \n",
      "\n",
      "R[write to console]: Default config will estimate R on weekly sliding windows.\n",
      "    To change this change the t_start and t_end arguments. \n",
      "\n",
      "R[write to console]: Default config will estimate R on weekly sliding windows.\n",
      "    To change this change the t_start and t_end arguments. \n",
      "\n",
      "R[write to console]: Default config will estimate R on weekly sliding windows.\n",
      "    To change this change the t_start and t_end arguments. \n",
      "\n",
      "R[write to console]: Default config will estimate R on weekly sliding windows.\n",
      "    To change this change the t_start and t_end arguments. \n",
      "\n",
      "R[write to console]: Default config will estimate R on weekly sliding windows.\n",
      "    To change this change the t_start and t_end arguments. \n",
      "\n",
      "R[write to console]: Default config will estimate R on weekly sliding windows.\n",
      "    To change this change the t_start and t_end arguments. \n",
      "\n",
      "R[write to console]: Default config will estimate R on weekly sliding windows.\n",
      "    To change this change the t_start and t_end arguments. \n",
      "\n",
      "R[write to console]: Default config will estimate R on weekly sliding windows.\n",
      "    To change this change the t_start and t_end arguments. \n",
      "\n",
      "R[write to console]: Default config will estimate R on weekly sliding windows.\n",
      "    To change this change the t_start and t_end arguments. \n",
      "\n",
      "R[write to console]: Default config will estimate R on weekly sliding windows.\n",
      "    To change this change the t_start and t_end arguments. \n",
      "\n",
      "R[write to console]: Default config will estimate R on weekly sliding windows.\n",
      "    To change this change the t_start and t_end arguments. \n",
      "\n",
      "R[write to console]: Default config will estimate R on weekly sliding windows.\n",
      "    To change this change the t_start and t_end arguments. \n",
      "\n",
      "R[write to console]: Default config will estimate R on weekly sliding windows.\n",
      "    To change this change the t_start and t_end arguments. \n",
      "\n",
      "R[write to console]: Default config will estimate R on weekly sliding windows.\n",
      "    To change this change the t_start and t_end arguments. \n",
      "\n",
      "R[write to console]: Default config will estimate R on weekly sliding windows.\n",
      "    To change this change the t_start and t_end arguments. \n",
      "\n",
      "R[write to console]: Default config will estimate R on weekly sliding windows.\n",
      "    To change this change the t_start and t_end arguments. \n",
      "\n",
      "R[write to console]: Default config will estimate R on weekly sliding windows.\n",
      "    To change this change the t_start and t_end arguments. \n",
      "\n",
      "R[write to console]: Default config will estimate R on weekly sliding windows.\n",
      "    To change this change the t_start and t_end arguments. \n",
      "\n",
      "R[write to console]: Default config will estimate R on weekly sliding windows.\n",
      "    To change this change the t_start and t_end arguments. \n",
      "\n",
      "R[write to console]: Default config will estimate R on weekly sliding windows.\n",
      "    To change this change the t_start and t_end arguments. \n",
      "\n",
      "R[write to console]: Default config will estimate R on weekly sliding windows.\n",
      "    To change this change the t_start and t_end arguments. \n",
      "\n",
      "R[write to console]: Default config will estimate R on weekly sliding windows.\n",
      "    To change this change the t_start and t_end arguments. \n",
      "\n",
      "R[write to console]: Default config will estimate R on weekly sliding windows.\n",
      "    To change this change the t_start and t_end arguments. \n",
      "\n",
      "R[write to console]: Default config will estimate R on weekly sliding windows.\n",
      "    To change this change the t_start and t_end arguments. \n",
      "\n"
     ]
    },
    {
     "name": "stderr",
     "output_type": "stream",
     "text": [
      "R[write to console]: Default config will estimate R on weekly sliding windows.\n",
      "    To change this change the t_start and t_end arguments. \n",
      "\n",
      "R[write to console]: Default config will estimate R on weekly sliding windows.\n",
      "    To change this change the t_start and t_end arguments. \n",
      "\n",
      "R[write to console]: Default config will estimate R on weekly sliding windows.\n",
      "    To change this change the t_start and t_end arguments. \n",
      "\n",
      "R[write to console]: Default config will estimate R on weekly sliding windows.\n",
      "    To change this change the t_start and t_end arguments. \n",
      "\n",
      "R[write to console]: Default config will estimate R on weekly sliding windows.\n",
      "    To change this change the t_start and t_end arguments. \n",
      "\n",
      "R[write to console]: Default config will estimate R on weekly sliding windows.\n",
      "    To change this change the t_start and t_end arguments. \n",
      "\n",
      "R[write to console]: Default config will estimate R on weekly sliding windows.\n",
      "    To change this change the t_start and t_end arguments. \n",
      "\n",
      "R[write to console]: Default config will estimate R on weekly sliding windows.\n",
      "    To change this change the t_start and t_end arguments. \n",
      "\n",
      "R[write to console]: Default config will estimate R on weekly sliding windows.\n",
      "    To change this change the t_start and t_end arguments. \n",
      "\n",
      "R[write to console]: Default config will estimate R on weekly sliding windows.\n",
      "    To change this change the t_start and t_end arguments. \n",
      "\n",
      "R[write to console]: Default config will estimate R on weekly sliding windows.\n",
      "    To change this change the t_start and t_end arguments. \n",
      "\n",
      "R[write to console]: Default config will estimate R on weekly sliding windows.\n",
      "    To change this change the t_start and t_end arguments. \n",
      "\n",
      "R[write to console]: Default config will estimate R on weekly sliding windows.\n",
      "    To change this change the t_start and t_end arguments. \n",
      "\n",
      "R[write to console]: Default config will estimate R on weekly sliding windows.\n",
      "    To change this change the t_start and t_end arguments. \n",
      "\n",
      "R[write to console]: Default config will estimate R on weekly sliding windows.\n",
      "    To change this change the t_start and t_end arguments. \n",
      "\n",
      "R[write to console]: Default config will estimate R on weekly sliding windows.\n",
      "    To change this change the t_start and t_end arguments. \n",
      "\n",
      "R[write to console]: Default config will estimate R on weekly sliding windows.\n",
      "    To change this change the t_start and t_end arguments. \n",
      "\n",
      "R[write to console]: Default config will estimate R on weekly sliding windows.\n",
      "    To change this change the t_start and t_end arguments. \n",
      "\n",
      "R[write to console]: Default config will estimate R on weekly sliding windows.\n",
      "    To change this change the t_start and t_end arguments. \n",
      "\n",
      "R[write to console]: Default config will estimate R on weekly sliding windows.\n",
      "    To change this change the t_start and t_end arguments. \n",
      "\n",
      "R[write to console]: Default config will estimate R on weekly sliding windows.\n",
      "    To change this change the t_start and t_end arguments. \n",
      "\n",
      "R[write to console]: Default config will estimate R on weekly sliding windows.\n",
      "    To change this change the t_start and t_end arguments. \n",
      "\n",
      "R[write to console]: Default config will estimate R on weekly sliding windows.\n",
      "    To change this change the t_start and t_end arguments. \n",
      "\n",
      "R[write to console]: Default config will estimate R on weekly sliding windows.\n",
      "    To change this change the t_start and t_end arguments. \n",
      "\n",
      "R[write to console]: Default config will estimate R on weekly sliding windows.\n",
      "    To change this change the t_start and t_end arguments. \n",
      "\n",
      "R[write to console]: Default config will estimate R on weekly sliding windows.\n",
      "    To change this change the t_start and t_end arguments. \n",
      "\n",
      "R[write to console]: Default config will estimate R on weekly sliding windows.\n",
      "    To change this change the t_start and t_end arguments. \n",
      "\n",
      "R[write to console]: Default config will estimate R on weekly sliding windows.\n",
      "    To change this change the t_start and t_end arguments. \n",
      "\n",
      "R[write to console]: Default config will estimate R on weekly sliding windows.\n",
      "    To change this change the t_start and t_end arguments. \n",
      "\n",
      "R[write to console]: Default config will estimate R on weekly sliding windows.\n",
      "    To change this change the t_start and t_end arguments. \n",
      "\n",
      "R[write to console]: Default config will estimate R on weekly sliding windows.\n",
      "    To change this change the t_start and t_end arguments. \n",
      "\n",
      "R[write to console]: Default config will estimate R on weekly sliding windows.\n",
      "    To change this change the t_start and t_end arguments. \n",
      "\n",
      "R[write to console]: Default config will estimate R on weekly sliding windows.\n",
      "    To change this change the t_start and t_end arguments. \n",
      "\n",
      "R[write to console]: Default config will estimate R on weekly sliding windows.\n",
      "    To change this change the t_start and t_end arguments. \n",
      "\n",
      "R[write to console]: Default config will estimate R on weekly sliding windows.\n",
      "    To change this change the t_start and t_end arguments. \n",
      "\n",
      "R[write to console]: Default config will estimate R on weekly sliding windows.\n",
      "    To change this change the t_start and t_end arguments. \n",
      "\n",
      "R[write to console]: Default config will estimate R on weekly sliding windows.\n",
      "    To change this change the t_start and t_end arguments. \n",
      "\n",
      "R[write to console]: Default config will estimate R on weekly sliding windows.\n",
      "    To change this change the t_start and t_end arguments. \n",
      "\n",
      "R[write to console]: Default config will estimate R on weekly sliding windows.\n",
      "    To change this change the t_start and t_end arguments. \n",
      "\n",
      "R[write to console]: Default config will estimate R on weekly sliding windows.\n",
      "    To change this change the t_start and t_end arguments. \n",
      "\n",
      "R[write to console]: Default config will estimate R on weekly sliding windows.\n",
      "    To change this change the t_start and t_end arguments. \n",
      "\n",
      "R[write to console]: Default config will estimate R on weekly sliding windows.\n",
      "    To change this change the t_start and t_end arguments. \n",
      "\n",
      "R[write to console]: Default config will estimate R on weekly sliding windows.\n",
      "    To change this change the t_start and t_end arguments. \n",
      "\n",
      "R[write to console]: Default config will estimate R on weekly sliding windows.\n",
      "    To change this change the t_start and t_end arguments. \n",
      "\n",
      "R[write to console]: Default config will estimate R on weekly sliding windows.\n",
      "    To change this change the t_start and t_end arguments. \n",
      "\n",
      "R[write to console]: Default config will estimate R on weekly sliding windows.\n",
      "    To change this change the t_start and t_end arguments. \n",
      "\n",
      "R[write to console]: Default config will estimate R on weekly sliding windows.\n",
      "    To change this change the t_start and t_end arguments. \n",
      "\n",
      "R[write to console]: Default config will estimate R on weekly sliding windows.\n",
      "    To change this change the t_start and t_end arguments. \n",
      "\n",
      "R[write to console]: Default config will estimate R on weekly sliding windows.\n",
      "    To change this change the t_start and t_end arguments. \n",
      "\n",
      "R[write to console]: Default config will estimate R on weekly sliding windows.\n",
      "    To change this change the t_start and t_end arguments. \n",
      "\n",
      "R[write to console]: Default config will estimate R on weekly sliding windows.\n",
      "    To change this change the t_start and t_end arguments. \n",
      "\n",
      "R[write to console]: Default config will estimate R on weekly sliding windows.\n",
      "    To change this change the t_start and t_end arguments. \n",
      "\n",
      "R[write to console]: Default config will estimate R on weekly sliding windows.\n",
      "    To change this change the t_start and t_end arguments. \n",
      "\n",
      "R[write to console]: Default config will estimate R on weekly sliding windows.\n",
      "    To change this change the t_start and t_end arguments. \n",
      "\n",
      "R[write to console]: Default config will estimate R on weekly sliding windows.\n",
      "    To change this change the t_start and t_end arguments. \n",
      "\n",
      "R[write to console]: Default config will estimate R on weekly sliding windows.\n",
      "    To change this change the t_start and t_end arguments. \n",
      "\n",
      "R[write to console]: Default config will estimate R on weekly sliding windows.\n",
      "    To change this change the t_start and t_end arguments. \n",
      "\n",
      "R[write to console]: Default config will estimate R on weekly sliding windows.\n",
      "    To change this change the t_start and t_end arguments. \n",
      "\n",
      "R[write to console]: Default config will estimate R on weekly sliding windows.\n",
      "    To change this change the t_start and t_end arguments. \n",
      "\n"
     ]
    },
    {
     "name": "stderr",
     "output_type": "stream",
     "text": [
      "R[write to console]: Default config will estimate R on weekly sliding windows.\n",
      "    To change this change the t_start and t_end arguments. \n",
      "\n",
      "R[write to console]: Default config will estimate R on weekly sliding windows.\n",
      "    To change this change the t_start and t_end arguments. \n",
      "\n",
      "R[write to console]: Default config will estimate R on weekly sliding windows.\n",
      "    To change this change the t_start and t_end arguments. \n",
      "\n",
      "R[write to console]: Default config will estimate R on weekly sliding windows.\n",
      "    To change this change the t_start and t_end arguments. \n",
      "\n",
      "R[write to console]: Default config will estimate R on weekly sliding windows.\n",
      "    To change this change the t_start and t_end arguments. \n",
      "\n",
      "R[write to console]: Default config will estimate R on weekly sliding windows.\n",
      "    To change this change the t_start and t_end arguments. \n",
      "\n",
      "R[write to console]: Default config will estimate R on weekly sliding windows.\n",
      "    To change this change the t_start and t_end arguments. \n",
      "\n",
      "R[write to console]: Default config will estimate R on weekly sliding windows.\n",
      "    To change this change the t_start and t_end arguments. \n",
      "\n",
      "R[write to console]: Default config will estimate R on weekly sliding windows.\n",
      "    To change this change the t_start and t_end arguments. \n",
      "\n",
      "R[write to console]: Default config will estimate R on weekly sliding windows.\n",
      "    To change this change the t_start and t_end arguments. \n",
      "\n",
      "R[write to console]: Default config will estimate R on weekly sliding windows.\n",
      "    To change this change the t_start and t_end arguments. \n",
      "\n",
      "R[write to console]: Default config will estimate R on weekly sliding windows.\n",
      "    To change this change the t_start and t_end arguments. \n",
      "\n",
      "R[write to console]: Default config will estimate R on weekly sliding windows.\n",
      "    To change this change the t_start and t_end arguments. \n",
      "\n",
      "R[write to console]: Default config will estimate R on weekly sliding windows.\n",
      "    To change this change the t_start and t_end arguments. \n",
      "\n",
      "R[write to console]: Default config will estimate R on weekly sliding windows.\n",
      "    To change this change the t_start and t_end arguments. \n",
      "\n",
      "R[write to console]: Default config will estimate R on weekly sliding windows.\n",
      "    To change this change the t_start and t_end arguments. \n",
      "\n",
      "R[write to console]: Default config will estimate R on weekly sliding windows.\n",
      "    To change this change the t_start and t_end arguments. \n",
      "\n",
      "R[write to console]: Default config will estimate R on weekly sliding windows.\n",
      "    To change this change the t_start and t_end arguments. \n",
      "\n",
      "R[write to console]: Default config will estimate R on weekly sliding windows.\n",
      "    To change this change the t_start and t_end arguments. \n",
      "\n",
      "R[write to console]: Default config will estimate R on weekly sliding windows.\n",
      "    To change this change the t_start and t_end arguments. \n",
      "\n",
      "R[write to console]: Default config will estimate R on weekly sliding windows.\n",
      "    To change this change the t_start and t_end arguments. \n",
      "\n",
      "R[write to console]: Default config will estimate R on weekly sliding windows.\n",
      "    To change this change the t_start and t_end arguments. \n",
      "\n",
      "R[write to console]: Default config will estimate R on weekly sliding windows.\n",
      "    To change this change the t_start and t_end arguments. \n",
      "\n",
      "R[write to console]: Default config will estimate R on weekly sliding windows.\n",
      "    To change this change the t_start and t_end arguments. \n",
      "\n",
      "R[write to console]: Default config will estimate R on weekly sliding windows.\n",
      "    To change this change the t_start and t_end arguments. \n",
      "\n",
      "R[write to console]: Default config will estimate R on weekly sliding windows.\n",
      "    To change this change the t_start and t_end arguments. \n",
      "\n",
      "R[write to console]: Default config will estimate R on weekly sliding windows.\n",
      "    To change this change the t_start and t_end arguments. \n",
      "\n",
      "R[write to console]: Default config will estimate R on weekly sliding windows.\n",
      "    To change this change the t_start and t_end arguments. \n",
      "\n",
      "R[write to console]: Default config will estimate R on weekly sliding windows.\n",
      "    To change this change the t_start and t_end arguments. \n",
      "\n",
      "R[write to console]: Default config will estimate R on weekly sliding windows.\n",
      "    To change this change the t_start and t_end arguments. \n",
      "\n",
      "R[write to console]: Default config will estimate R on weekly sliding windows.\n",
      "    To change this change the t_start and t_end arguments. \n",
      "\n",
      "R[write to console]: Default config will estimate R on weekly sliding windows.\n",
      "    To change this change the t_start and t_end arguments. \n",
      "\n",
      "R[write to console]: Default config will estimate R on weekly sliding windows.\n",
      "    To change this change the t_start and t_end arguments. \n",
      "\n",
      "R[write to console]: Default config will estimate R on weekly sliding windows.\n",
      "    To change this change the t_start and t_end arguments. \n",
      "\n",
      "R[write to console]: Default config will estimate R on weekly sliding windows.\n",
      "    To change this change the t_start and t_end arguments. \n",
      "\n",
      "R[write to console]: Default config will estimate R on weekly sliding windows.\n",
      "    To change this change the t_start and t_end arguments. \n",
      "\n",
      "R[write to console]: Default config will estimate R on weekly sliding windows.\n",
      "    To change this change the t_start and t_end arguments. \n",
      "\n",
      "R[write to console]: Default config will estimate R on weekly sliding windows.\n",
      "    To change this change the t_start and t_end arguments. \n",
      "\n",
      "R[write to console]: Default config will estimate R on weekly sliding windows.\n",
      "    To change this change the t_start and t_end arguments. \n",
      "\n",
      "R[write to console]: Default config will estimate R on weekly sliding windows.\n",
      "    To change this change the t_start and t_end arguments. \n",
      "\n",
      "R[write to console]: Default config will estimate R on weekly sliding windows.\n",
      "    To change this change the t_start and t_end arguments. \n",
      "\n",
      "R[write to console]: Default config will estimate R on weekly sliding windows.\n",
      "    To change this change the t_start and t_end arguments. \n",
      "\n",
      "R[write to console]: Default config will estimate R on weekly sliding windows.\n",
      "    To change this change the t_start and t_end arguments. \n",
      "\n",
      "R[write to console]: Default config will estimate R on weekly sliding windows.\n",
      "    To change this change the t_start and t_end arguments. \n",
      "\n",
      "R[write to console]: Default config will estimate R on weekly sliding windows.\n",
      "    To change this change the t_start and t_end arguments. \n",
      "\n",
      "R[write to console]: Default config will estimate R on weekly sliding windows.\n",
      "    To change this change the t_start and t_end arguments. \n",
      "\n",
      "R[write to console]: Default config will estimate R on weekly sliding windows.\n",
      "    To change this change the t_start and t_end arguments. \n",
      "\n",
      "R[write to console]: Default config will estimate R on weekly sliding windows.\n",
      "    To change this change the t_start and t_end arguments. \n",
      "\n",
      "R[write to console]: Default config will estimate R on weekly sliding windows.\n",
      "    To change this change the t_start and t_end arguments. \n",
      "\n",
      "R[write to console]: Default config will estimate R on weekly sliding windows.\n",
      "    To change this change the t_start and t_end arguments. \n",
      "\n",
      "R[write to console]: Default config will estimate R on weekly sliding windows.\n",
      "    To change this change the t_start and t_end arguments. \n",
      "\n",
      "R[write to console]: Default config will estimate R on weekly sliding windows.\n",
      "    To change this change the t_start and t_end arguments. \n",
      "\n",
      "R[write to console]: Default config will estimate R on weekly sliding windows.\n",
      "    To change this change the t_start and t_end arguments. \n",
      "\n",
      "R[write to console]: Default config will estimate R on weekly sliding windows.\n",
      "    To change this change the t_start and t_end arguments. \n",
      "\n",
      "R[write to console]: Default config will estimate R on weekly sliding windows.\n",
      "    To change this change the t_start and t_end arguments. \n",
      "\n",
      "R[write to console]: Default config will estimate R on weekly sliding windows.\n",
      "    To change this change the t_start and t_end arguments. \n",
      "\n",
      "R[write to console]: Default config will estimate R on weekly sliding windows.\n",
      "    To change this change the t_start and t_end arguments. \n",
      "\n",
      "R[write to console]: Default config will estimate R on weekly sliding windows.\n",
      "    To change this change the t_start and t_end arguments. \n",
      "\n",
      "R[write to console]: Default config will estimate R on weekly sliding windows.\n",
      "    To change this change the t_start and t_end arguments. \n",
      "\n"
     ]
    },
    {
     "name": "stderr",
     "output_type": "stream",
     "text": [
      "R[write to console]: Default config will estimate R on weekly sliding windows.\n",
      "    To change this change the t_start and t_end arguments. \n",
      "\n",
      "R[write to console]: Default config will estimate R on weekly sliding windows.\n",
      "    To change this change the t_start and t_end arguments. \n",
      "\n",
      "R[write to console]: Default config will estimate R on weekly sliding windows.\n",
      "    To change this change the t_start and t_end arguments. \n",
      "\n",
      "R[write to console]: Default config will estimate R on weekly sliding windows.\n",
      "    To change this change the t_start and t_end arguments. \n",
      "\n",
      "R[write to console]: Default config will estimate R on weekly sliding windows.\n",
      "    To change this change the t_start and t_end arguments. \n",
      "\n",
      "R[write to console]: Default config will estimate R on weekly sliding windows.\n",
      "    To change this change the t_start and t_end arguments. \n",
      "\n",
      "R[write to console]: Default config will estimate R on weekly sliding windows.\n",
      "    To change this change the t_start and t_end arguments. \n",
      "\n",
      "R[write to console]: Default config will estimate R on weekly sliding windows.\n",
      "    To change this change the t_start and t_end arguments. \n",
      "\n",
      "R[write to console]: Default config will estimate R on weekly sliding windows.\n",
      "    To change this change the t_start and t_end arguments. \n",
      "\n",
      "R[write to console]: Default config will estimate R on weekly sliding windows.\n",
      "    To change this change the t_start and t_end arguments. \n",
      "\n",
      "R[write to console]: Default config will estimate R on weekly sliding windows.\n",
      "    To change this change the t_start and t_end arguments. \n",
      "\n",
      "R[write to console]: Default config will estimate R on weekly sliding windows.\n",
      "    To change this change the t_start and t_end arguments. \n",
      "\n",
      "R[write to console]: Default config will estimate R on weekly sliding windows.\n",
      "    To change this change the t_start and t_end arguments. \n",
      "\n",
      "R[write to console]: Default config will estimate R on weekly sliding windows.\n",
      "    To change this change the t_start and t_end arguments. \n",
      "\n",
      "R[write to console]: Default config will estimate R on weekly sliding windows.\n",
      "    To change this change the t_start and t_end arguments. \n",
      "\n",
      "R[write to console]: Default config will estimate R on weekly sliding windows.\n",
      "    To change this change the t_start and t_end arguments. \n",
      "\n",
      "R[write to console]: Default config will estimate R on weekly sliding windows.\n",
      "    To change this change the t_start and t_end arguments. \n",
      "\n",
      "R[write to console]: Default config will estimate R on weekly sliding windows.\n",
      "    To change this change the t_start and t_end arguments. \n",
      "\n",
      "R[write to console]: Default config will estimate R on weekly sliding windows.\n",
      "    To change this change the t_start and t_end arguments. \n",
      "\n",
      "R[write to console]: Default config will estimate R on weekly sliding windows.\n",
      "    To change this change the t_start and t_end arguments. \n",
      "\n",
      "R[write to console]: Default config will estimate R on weekly sliding windows.\n",
      "    To change this change the t_start and t_end arguments. \n",
      "\n",
      "R[write to console]: Default config will estimate R on weekly sliding windows.\n",
      "    To change this change the t_start and t_end arguments. \n",
      "\n",
      "R[write to console]: Default config will estimate R on weekly sliding windows.\n",
      "    To change this change the t_start and t_end arguments. \n",
      "\n",
      "R[write to console]: Default config will estimate R on weekly sliding windows.\n",
      "    To change this change the t_start and t_end arguments. \n",
      "\n",
      "R[write to console]: Default config will estimate R on weekly sliding windows.\n",
      "    To change this change the t_start and t_end arguments. \n",
      "\n",
      "R[write to console]: Default config will estimate R on weekly sliding windows.\n",
      "    To change this change the t_start and t_end arguments. \n",
      "\n",
      "R[write to console]: Default config will estimate R on weekly sliding windows.\n",
      "    To change this change the t_start and t_end arguments. \n",
      "\n",
      "R[write to console]: Default config will estimate R on weekly sliding windows.\n",
      "    To change this change the t_start and t_end arguments. \n",
      "\n",
      "R[write to console]: Default config will estimate R on weekly sliding windows.\n",
      "    To change this change the t_start and t_end arguments. \n",
      "\n",
      "R[write to console]: Default config will estimate R on weekly sliding windows.\n",
      "    To change this change the t_start and t_end arguments. \n",
      "\n",
      "R[write to console]: Default config will estimate R on weekly sliding windows.\n",
      "    To change this change the t_start and t_end arguments. \n",
      "\n",
      "R[write to console]: Default config will estimate R on weekly sliding windows.\n",
      "    To change this change the t_start and t_end arguments. \n",
      "\n",
      "R[write to console]: Default config will estimate R on weekly sliding windows.\n",
      "    To change this change the t_start and t_end arguments. \n",
      "\n",
      "R[write to console]: Default config will estimate R on weekly sliding windows.\n",
      "    To change this change the t_start and t_end arguments. \n",
      "\n",
      "R[write to console]: Default config will estimate R on weekly sliding windows.\n",
      "    To change this change the t_start and t_end arguments. \n",
      "\n",
      "R[write to console]: Default config will estimate R on weekly sliding windows.\n",
      "    To change this change the t_start and t_end arguments. \n",
      "\n",
      "R[write to console]: Default config will estimate R on weekly sliding windows.\n",
      "    To change this change the t_start and t_end arguments. \n",
      "\n"
     ]
    }
   ],
   "source": [
    "health_region_epiestim = get_rt(health_region_cases, place_id, config, model=\"epiestim\")\n",
    "health_region_epiestim = health_region_epiestim.reindex(sorted(health_region_epiestim.columns), axis=1)"
   ]
  },
  {
   "cell_type": "code",
   "execution_count": 147,
   "metadata": {
    "ExecuteTime": {
     "end_time": "2020-09-17T22:05:36.783636Z",
     "start_time": "2020-09-17T22:05:36.697352Z"
    }
   },
   "outputs": [
    {
     "name": "stdout",
     "output_type": "stream",
     "text": [
      "<class 'pandas.core.frame.DataFrame'>\n",
      "Int64Index: 63722 entries, 0 to 63721\n",
      "Data columns (total 9 columns):\n",
      " #   Column                    Non-Null Count  Dtype         \n",
      "---  ------                    --------------  -----         \n",
      " 0   Rt_high_95                63722 non-null  float64       \n",
      " 1   Rt_low_95                 63722 non-null  float64       \n",
      " 2   Rt_most_likely            63722 non-null  float64       \n",
      " 3   Rt_most_likely_growth     63722 non-null  object        \n",
      " 4   Rt_most_likely_mavg       59328 non-null  float64       \n",
      " 5   Rt_most_likely_mavg_100k  59328 non-null  float64       \n",
      " 6   health_region_id          63722 non-null  int64         \n",
      " 7   last_updated              63722 non-null  datetime64[ns]\n",
      " 8   state_num_id              63722 non-null  int64         \n",
      "dtypes: datetime64[ns](1), float64(5), int64(2), object(1)\n",
      "memory usage: 7.4+ MB\n"
     ]
    }
   ],
   "source": [
    "health_region_epiestim = health_region_epiestim.assign(last_updated=lambda df: pd.to_datetime(df.last_updated))\n",
    "health_region_epiestim[\"state_num_id\"] = (health_region_epiestim[\"health_region_id\"] / 1000).astype(int)\n",
    "\n",
    "health_region_epiestim.info()"
   ]
  },
  {
   "cell_type": "markdown",
   "metadata": {},
   "source": [
    "### Valor + atual"
   ]
  },
  {
   "cell_type": "code",
   "execution_count": 148,
   "metadata": {
    "ExecuteTime": {
     "end_time": "2020-09-17T22:05:44.181079Z",
     "start_time": "2020-09-17T22:05:44.026539Z"
    }
   },
   "outputs": [
    {
     "data": {
      "text/html": [
       "<div>\n",
       "<style scoped>\n",
       "    .dataframe tbody tr th:only-of-type {\n",
       "        vertical-align: middle;\n",
       "    }\n",
       "\n",
       "    .dataframe tbody tr th {\n",
       "        vertical-align: top;\n",
       "    }\n",
       "\n",
       "    .dataframe thead th {\n",
       "        text-align: right;\n",
       "    }\n",
       "</style>\n",
       "<table border=\"1\" class=\"dataframe\">\n",
       "  <thead>\n",
       "    <tr style=\"text-align: right;\">\n",
       "      <th></th>\n",
       "      <th>Rt_high_95</th>\n",
       "      <th>Rt_low_95</th>\n",
       "      <th>Rt_most_likely</th>\n",
       "      <th>Rt_most_likely_growth</th>\n",
       "      <th>Rt_most_likely_mavg</th>\n",
       "      <th>Rt_most_likely_mavg_100k</th>\n",
       "      <th>health_region_id</th>\n",
       "      <th>last_updated</th>\n",
       "      <th>state_num_id</th>\n",
       "    </tr>\n",
       "  </thead>\n",
       "  <tbody>\n",
       "    <tr>\n",
       "      <th>136</th>\n",
       "      <td>1.042526</td>\n",
       "      <td>0.913556</td>\n",
       "      <td>0.977147</td>\n",
       "      <td>estabilizando</td>\n",
       "      <td>0.9</td>\n",
       "      <td>0.9</td>\n",
       "      <td>11001</td>\n",
       "      <td>2020-09-06</td>\n",
       "      <td>11</td>\n",
       "    </tr>\n",
       "    <tr>\n",
       "      <th>262</th>\n",
       "      <td>0.910026</td>\n",
       "      <td>0.742534</td>\n",
       "      <td>0.824491</td>\n",
       "      <td>estabilizando</td>\n",
       "      <td>1.0</td>\n",
       "      <td>1.0</td>\n",
       "      <td>11002</td>\n",
       "      <td>2020-09-06</td>\n",
       "      <td>11</td>\n",
       "    </tr>\n",
       "    <tr>\n",
       "      <th>420</th>\n",
       "      <td>0.914005</td>\n",
       "      <td>0.792996</td>\n",
       "      <td>0.852598</td>\n",
       "      <td>estabilizando</td>\n",
       "      <td>1.0</td>\n",
       "      <td>1.0</td>\n",
       "      <td>11003</td>\n",
       "      <td>2020-09-06</td>\n",
       "      <td>11</td>\n",
       "    </tr>\n",
       "    <tr>\n",
       "      <th>577</th>\n",
       "      <td>0.984568</td>\n",
       "      <td>0.891499</td>\n",
       "      <td>0.937548</td>\n",
       "      <td>estabilizando</td>\n",
       "      <td>1.0</td>\n",
       "      <td>1.0</td>\n",
       "      <td>11004</td>\n",
       "      <td>2020-09-06</td>\n",
       "      <td>11</td>\n",
       "    </tr>\n",
       "    <tr>\n",
       "      <th>719</th>\n",
       "      <td>1.295757</td>\n",
       "      <td>1.026576</td>\n",
       "      <td>1.157876</td>\n",
       "      <td>estabilizando</td>\n",
       "      <td>NaN</td>\n",
       "      <td>NaN</td>\n",
       "      <td>11005</td>\n",
       "      <td>2020-09-06</td>\n",
       "      <td>11</td>\n",
       "    </tr>\n",
       "  </tbody>\n",
       "</table>\n",
       "</div>"
      ],
      "text/plain": [
       "     Rt_high_95  Rt_low_95  Rt_most_likely Rt_most_likely_growth  \\\n",
       "136    1.042526   0.913556        0.977147         estabilizando   \n",
       "262    0.910026   0.742534        0.824491         estabilizando   \n",
       "420    0.914005   0.792996        0.852598         estabilizando   \n",
       "577    0.984568   0.891499        0.937548         estabilizando   \n",
       "719    1.295757   1.026576        1.157876         estabilizando   \n",
       "\n",
       "     Rt_most_likely_mavg  Rt_most_likely_mavg_100k  health_region_id  \\\n",
       "136                  0.9                       0.9             11001   \n",
       "262                  1.0                       1.0             11002   \n",
       "420                  1.0                       1.0             11003   \n",
       "577                  1.0                       1.0             11004   \n",
       "719                  NaN                       NaN             11005   \n",
       "\n",
       "    last_updated  state_num_id  \n",
       "136   2020-09-06            11  \n",
       "262   2020-09-06            11  \n",
       "420   2020-09-06            11  \n",
       "577   2020-09-06            11  \n",
       "719   2020-09-06            11  "
      ]
     },
     "execution_count": 148,
     "metadata": {},
     "output_type": "execute_result"
    }
   ],
   "source": [
    "last_health_region_epiestim = health_region_epiestim.loc[health_region_epiestim.groupby(place_id)[\"last_updated\"].idxmax()]\n",
    "last_health_region_epiestim.head()"
   ]
  },
  {
   "cell_type": "code",
   "execution_count": 149,
   "metadata": {
    "ExecuteTime": {
     "end_time": "2020-09-17T22:05:46.467506Z",
     "start_time": "2020-09-17T22:05:46.300301Z"
    }
   },
   "outputs": [
    {
     "data": {
      "text/html": [
       "<div>\n",
       "<style scoped>\n",
       "    .dataframe tbody tr th:only-of-type {\n",
       "        vertical-align: middle;\n",
       "    }\n",
       "\n",
       "    .dataframe tbody tr th {\n",
       "        vertical-align: top;\n",
       "    }\n",
       "\n",
       "    .dataframe thead th {\n",
       "        text-align: right;\n",
       "    }\n",
       "</style>\n",
       "<table border=\"1\" class=\"dataframe\">\n",
       "  <thead>\n",
       "    <tr style=\"text-align: right;\">\n",
       "      <th></th>\n",
       "      <th>Rt_high_95</th>\n",
       "      <th>Rt_low_95</th>\n",
       "      <th>Rt_most_likely</th>\n",
       "      <th>Rt_most_likely_growth</th>\n",
       "      <th>Rt_most_likely_mavg</th>\n",
       "      <th>Rt_most_likely_mavg_100k</th>\n",
       "      <th>health_region_id</th>\n",
       "      <th>last_updated</th>\n",
       "      <th>data_last_refreshed</th>\n",
       "      <th>state_num_id</th>\n",
       "    </tr>\n",
       "  </thead>\n",
       "  <tbody>\n",
       "    <tr>\n",
       "      <th>143</th>\n",
       "      <td>1.28</td>\n",
       "      <td>0.86</td>\n",
       "      <td>1.09</td>\n",
       "      <td>estabilizando</td>\n",
       "      <td>1.1</td>\n",
       "      <td>1.1</td>\n",
       "      <td>11001</td>\n",
       "      <td>2020-09-06</td>\n",
       "      <td>2020-09-17 18:51:19</td>\n",
       "      <td>11</td>\n",
       "    </tr>\n",
       "    <tr>\n",
       "      <th>272</th>\n",
       "      <td>1.39</td>\n",
       "      <td>0.79</td>\n",
       "      <td>1.11</td>\n",
       "      <td>estabilizando</td>\n",
       "      <td>1.1</td>\n",
       "      <td>1.1</td>\n",
       "      <td>11002</td>\n",
       "      <td>2020-09-06</td>\n",
       "      <td>2020-09-17 18:51:19</td>\n",
       "      <td>11</td>\n",
       "    </tr>\n",
       "    <tr>\n",
       "      <th>418</th>\n",
       "      <td>1.29</td>\n",
       "      <td>0.86</td>\n",
       "      <td>1.08</td>\n",
       "      <td>estabilizando</td>\n",
       "      <td>1.1</td>\n",
       "      <td>1.1</td>\n",
       "      <td>11003</td>\n",
       "      <td>2020-09-06</td>\n",
       "      <td>2020-09-17 18:51:19</td>\n",
       "      <td>11</td>\n",
       "    </tr>\n",
       "    <tr>\n",
       "      <th>574</th>\n",
       "      <td>1.10</td>\n",
       "      <td>0.81</td>\n",
       "      <td>0.97</td>\n",
       "      <td>estabilizando</td>\n",
       "      <td>1.0</td>\n",
       "      <td>1.0</td>\n",
       "      <td>11004</td>\n",
       "      <td>2020-09-06</td>\n",
       "      <td>2020-09-17 18:51:19</td>\n",
       "      <td>11</td>\n",
       "    </tr>\n",
       "    <tr>\n",
       "      <th>701</th>\n",
       "      <td>1.44</td>\n",
       "      <td>0.80</td>\n",
       "      <td>1.13</td>\n",
       "      <td>estabilizando</td>\n",
       "      <td>1.1</td>\n",
       "      <td>1.1</td>\n",
       "      <td>11005</td>\n",
       "      <td>2020-09-06</td>\n",
       "      <td>2020-09-17 18:51:19</td>\n",
       "      <td>11</td>\n",
       "    </tr>\n",
       "  </tbody>\n",
       "</table>\n",
       "</div>"
      ],
      "text/plain": [
       "     Rt_high_95  Rt_low_95  Rt_most_likely Rt_most_likely_growth  \\\n",
       "143        1.28       0.86            1.09         estabilizando   \n",
       "272        1.39       0.79            1.11         estabilizando   \n",
       "418        1.29       0.86            1.08         estabilizando   \n",
       "574        1.10       0.81            0.97         estabilizando   \n",
       "701        1.44       0.80            1.13         estabilizando   \n",
       "\n",
       "     Rt_most_likely_mavg  Rt_most_likely_mavg_100k  health_region_id  \\\n",
       "143                  1.1                       1.1             11001   \n",
       "272                  1.1                       1.1             11002   \n",
       "418                  1.1                       1.1             11003   \n",
       "574                  1.0                       1.0             11004   \n",
       "701                  1.1                       1.1             11005   \n",
       "\n",
       "    last_updated  data_last_refreshed  state_num_id  \n",
       "143   2020-09-06  2020-09-17 18:51:19            11  \n",
       "272   2020-09-06  2020-09-17 18:51:19            11  \n",
       "418   2020-09-06  2020-09-17 18:51:19            11  \n",
       "574   2020-09-06  2020-09-17 18:51:19            11  \n",
       "701   2020-09-06  2020-09-17 18:51:19            11  "
      ]
     },
     "execution_count": 149,
     "metadata": {},
     "output_type": "execute_result"
    }
   ],
   "source": [
    "last_health_region_kevin = health_region_kevin.loc[health_region_kevin.groupby(place_id)[\"last_updated\"].idxmax()]\n",
    "last_health_region_kevin.head()"
   ]
  },
  {
   "cell_type": "markdown",
   "metadata": {},
   "source": [
    "#### Filtra regiões por estado para gráfico"
   ]
  },
  {
   "cell_type": "code",
   "execution_count": 150,
   "metadata": {
    "ExecuteTime": {
     "end_time": "2020-09-17T22:05:50.078050Z",
     "start_time": "2020-09-17T22:05:50.013645Z"
    },
    "scrolled": true
   },
   "outputs": [],
   "source": [
    "# state_id # lista de ids"
   ]
  },
  {
   "cell_type": "code",
   "execution_count": 151,
   "metadata": {
    "ExecuteTime": {
     "end_time": "2020-09-17T22:05:50.235122Z",
     "start_time": "2020-09-17T22:05:50.170662Z"
    }
   },
   "outputs": [],
   "source": [
    "region_state = 11\n",
    "place_choosen = state_id.loc[region_state]"
   ]
  },
  {
   "cell_type": "code",
   "execution_count": 152,
   "metadata": {
    "ExecuteTime": {
     "end_time": "2020-09-17T22:05:50.519763Z",
     "start_time": "2020-09-17T22:05:50.395082Z"
    },
    "scrolled": false
   },
   "outputs": [
    {
     "data": {
      "application/vnd.plotly.v1+json": {
       "config": {
        "plotlyServerURL": "https://plot.ly"
       },
       "data": [
        {
         "error_y": {
          "array": [
           0.18999999999999995,
           0.2799999999999998,
           0.20999999999999996,
           0.13000000000000012,
           0.31000000000000005,
           0.24,
           0.6099999999999999
          ],
          "arrayminus": [
           0.2300000000000001,
           0.32000000000000006,
           0.22000000000000008,
           0.15999999999999992,
           0.32999999999999985,
           0.2799999999999999,
           0.63
          ]
         },
         "name": "Kevin",
         "type": "bar",
         "x": [
          11001,
          11002,
          11003,
          11004,
          11005,
          11006,
          11007
         ],
         "y": [
          1.09,
          1.11,
          1.08,
          0.97,
          1.13,
          1.14,
          1.3
         ]
        },
        {
         "error_y": {
          "array": [
           0.06537935928740046,
           0.08553488292637801,
           0.061407095667986744,
           0.0470196438413929,
           0.1378812495327395,
           0.07426536868213984,
           0.2521343783961276
          ],
          "arrayminus": [
           0.06359039393123844,
           0.08195749018307852,
           0.05960200968265994,
           0.046048817770002914,
           0.13130033899506088,
           0.07187855128534748,
           0.2321111853650364
          ]
         },
         "name": "EpiEstim",
         "type": "bar",
         "x": [
          11001,
          11002,
          11003,
          11004,
          11005,
          11006,
          11007
         ],
         "y": [
          0.9771468592439437,
          0.8244914537650936,
          0.8525982046465599,
          0.937548267488858,
          1.157876178261405,
          0.9405418941953304,
          1.2336654461673437
         ]
        }
       ],
       "layout": {
        "barmode": "group",
        "template": {
         "data": {
          "bar": [
           {
            "error_x": {
             "color": "rgb(36,36,36)"
            },
            "error_y": {
             "color": "rgb(36,36,36)"
            },
            "marker": {
             "line": {
              "color": "white",
              "width": 0.5
             }
            },
            "type": "bar"
           }
          ],
          "barpolar": [
           {
            "marker": {
             "line": {
              "color": "white",
              "width": 0.5
             }
            },
            "type": "barpolar"
           }
          ],
          "carpet": [
           {
            "aaxis": {
             "endlinecolor": "rgb(36,36,36)",
             "gridcolor": "white",
             "linecolor": "white",
             "minorgridcolor": "white",
             "startlinecolor": "rgb(36,36,36)"
            },
            "baxis": {
             "endlinecolor": "rgb(36,36,36)",
             "gridcolor": "white",
             "linecolor": "white",
             "minorgridcolor": "white",
             "startlinecolor": "rgb(36,36,36)"
            },
            "type": "carpet"
           }
          ],
          "choropleth": [
           {
            "colorbar": {
             "outlinewidth": 1,
             "tickcolor": "rgb(36,36,36)",
             "ticks": "outside"
            },
            "type": "choropleth"
           }
          ],
          "contour": [
           {
            "colorbar": {
             "outlinewidth": 1,
             "tickcolor": "rgb(36,36,36)",
             "ticks": "outside"
            },
            "colorscale": [
             [
              0,
              "#440154"
             ],
             [
              0.1111111111111111,
              "#482878"
             ],
             [
              0.2222222222222222,
              "#3e4989"
             ],
             [
              0.3333333333333333,
              "#31688e"
             ],
             [
              0.4444444444444444,
              "#26828e"
             ],
             [
              0.5555555555555556,
              "#1f9e89"
             ],
             [
              0.6666666666666666,
              "#35b779"
             ],
             [
              0.7777777777777778,
              "#6ece58"
             ],
             [
              0.8888888888888888,
              "#b5de2b"
             ],
             [
              1,
              "#fde725"
             ]
            ],
            "type": "contour"
           }
          ],
          "contourcarpet": [
           {
            "colorbar": {
             "outlinewidth": 1,
             "tickcolor": "rgb(36,36,36)",
             "ticks": "outside"
            },
            "type": "contourcarpet"
           }
          ],
          "heatmap": [
           {
            "colorbar": {
             "outlinewidth": 1,
             "tickcolor": "rgb(36,36,36)",
             "ticks": "outside"
            },
            "colorscale": [
             [
              0,
              "#440154"
             ],
             [
              0.1111111111111111,
              "#482878"
             ],
             [
              0.2222222222222222,
              "#3e4989"
             ],
             [
              0.3333333333333333,
              "#31688e"
             ],
             [
              0.4444444444444444,
              "#26828e"
             ],
             [
              0.5555555555555556,
              "#1f9e89"
             ],
             [
              0.6666666666666666,
              "#35b779"
             ],
             [
              0.7777777777777778,
              "#6ece58"
             ],
             [
              0.8888888888888888,
              "#b5de2b"
             ],
             [
              1,
              "#fde725"
             ]
            ],
            "type": "heatmap"
           }
          ],
          "heatmapgl": [
           {
            "colorbar": {
             "outlinewidth": 1,
             "tickcolor": "rgb(36,36,36)",
             "ticks": "outside"
            },
            "colorscale": [
             [
              0,
              "#440154"
             ],
             [
              0.1111111111111111,
              "#482878"
             ],
             [
              0.2222222222222222,
              "#3e4989"
             ],
             [
              0.3333333333333333,
              "#31688e"
             ],
             [
              0.4444444444444444,
              "#26828e"
             ],
             [
              0.5555555555555556,
              "#1f9e89"
             ],
             [
              0.6666666666666666,
              "#35b779"
             ],
             [
              0.7777777777777778,
              "#6ece58"
             ],
             [
              0.8888888888888888,
              "#b5de2b"
             ],
             [
              1,
              "#fde725"
             ]
            ],
            "type": "heatmapgl"
           }
          ],
          "histogram": [
           {
            "marker": {
             "line": {
              "color": "white",
              "width": 0.6
             }
            },
            "type": "histogram"
           }
          ],
          "histogram2d": [
           {
            "colorbar": {
             "outlinewidth": 1,
             "tickcolor": "rgb(36,36,36)",
             "ticks": "outside"
            },
            "colorscale": [
             [
              0,
              "#440154"
             ],
             [
              0.1111111111111111,
              "#482878"
             ],
             [
              0.2222222222222222,
              "#3e4989"
             ],
             [
              0.3333333333333333,
              "#31688e"
             ],
             [
              0.4444444444444444,
              "#26828e"
             ],
             [
              0.5555555555555556,
              "#1f9e89"
             ],
             [
              0.6666666666666666,
              "#35b779"
             ],
             [
              0.7777777777777778,
              "#6ece58"
             ],
             [
              0.8888888888888888,
              "#b5de2b"
             ],
             [
              1,
              "#fde725"
             ]
            ],
            "type": "histogram2d"
           }
          ],
          "histogram2dcontour": [
           {
            "colorbar": {
             "outlinewidth": 1,
             "tickcolor": "rgb(36,36,36)",
             "ticks": "outside"
            },
            "colorscale": [
             [
              0,
              "#440154"
             ],
             [
              0.1111111111111111,
              "#482878"
             ],
             [
              0.2222222222222222,
              "#3e4989"
             ],
             [
              0.3333333333333333,
              "#31688e"
             ],
             [
              0.4444444444444444,
              "#26828e"
             ],
             [
              0.5555555555555556,
              "#1f9e89"
             ],
             [
              0.6666666666666666,
              "#35b779"
             ],
             [
              0.7777777777777778,
              "#6ece58"
             ],
             [
              0.8888888888888888,
              "#b5de2b"
             ],
             [
              1,
              "#fde725"
             ]
            ],
            "type": "histogram2dcontour"
           }
          ],
          "mesh3d": [
           {
            "colorbar": {
             "outlinewidth": 1,
             "tickcolor": "rgb(36,36,36)",
             "ticks": "outside"
            },
            "type": "mesh3d"
           }
          ],
          "parcoords": [
           {
            "line": {
             "colorbar": {
              "outlinewidth": 1,
              "tickcolor": "rgb(36,36,36)",
              "ticks": "outside"
             }
            },
            "type": "parcoords"
           }
          ],
          "pie": [
           {
            "automargin": true,
            "type": "pie"
           }
          ],
          "scatter": [
           {
            "marker": {
             "colorbar": {
              "outlinewidth": 1,
              "tickcolor": "rgb(36,36,36)",
              "ticks": "outside"
             }
            },
            "type": "scatter"
           }
          ],
          "scatter3d": [
           {
            "line": {
             "colorbar": {
              "outlinewidth": 1,
              "tickcolor": "rgb(36,36,36)",
              "ticks": "outside"
             }
            },
            "marker": {
             "colorbar": {
              "outlinewidth": 1,
              "tickcolor": "rgb(36,36,36)",
              "ticks": "outside"
             }
            },
            "type": "scatter3d"
           }
          ],
          "scattercarpet": [
           {
            "marker": {
             "colorbar": {
              "outlinewidth": 1,
              "tickcolor": "rgb(36,36,36)",
              "ticks": "outside"
             }
            },
            "type": "scattercarpet"
           }
          ],
          "scattergeo": [
           {
            "marker": {
             "colorbar": {
              "outlinewidth": 1,
              "tickcolor": "rgb(36,36,36)",
              "ticks": "outside"
             }
            },
            "type": "scattergeo"
           }
          ],
          "scattergl": [
           {
            "marker": {
             "colorbar": {
              "outlinewidth": 1,
              "tickcolor": "rgb(36,36,36)",
              "ticks": "outside"
             }
            },
            "type": "scattergl"
           }
          ],
          "scattermapbox": [
           {
            "marker": {
             "colorbar": {
              "outlinewidth": 1,
              "tickcolor": "rgb(36,36,36)",
              "ticks": "outside"
             }
            },
            "type": "scattermapbox"
           }
          ],
          "scatterpolar": [
           {
            "marker": {
             "colorbar": {
              "outlinewidth": 1,
              "tickcolor": "rgb(36,36,36)",
              "ticks": "outside"
             }
            },
            "type": "scatterpolar"
           }
          ],
          "scatterpolargl": [
           {
            "marker": {
             "colorbar": {
              "outlinewidth": 1,
              "tickcolor": "rgb(36,36,36)",
              "ticks": "outside"
             }
            },
            "type": "scatterpolargl"
           }
          ],
          "scatterternary": [
           {
            "marker": {
             "colorbar": {
              "outlinewidth": 1,
              "tickcolor": "rgb(36,36,36)",
              "ticks": "outside"
             }
            },
            "type": "scatterternary"
           }
          ],
          "surface": [
           {
            "colorbar": {
             "outlinewidth": 1,
             "tickcolor": "rgb(36,36,36)",
             "ticks": "outside"
            },
            "colorscale": [
             [
              0,
              "#440154"
             ],
             [
              0.1111111111111111,
              "#482878"
             ],
             [
              0.2222222222222222,
              "#3e4989"
             ],
             [
              0.3333333333333333,
              "#31688e"
             ],
             [
              0.4444444444444444,
              "#26828e"
             ],
             [
              0.5555555555555556,
              "#1f9e89"
             ],
             [
              0.6666666666666666,
              "#35b779"
             ],
             [
              0.7777777777777778,
              "#6ece58"
             ],
             [
              0.8888888888888888,
              "#b5de2b"
             ],
             [
              1,
              "#fde725"
             ]
            ],
            "type": "surface"
           }
          ],
          "table": [
           {
            "cells": {
             "fill": {
              "color": "rgb(237,237,237)"
             },
             "line": {
              "color": "white"
             }
            },
            "header": {
             "fill": {
              "color": "rgb(217,217,217)"
             },
             "line": {
              "color": "white"
             }
            },
            "type": "table"
           }
          ]
         },
         "layout": {
          "annotationdefaults": {
           "arrowhead": 0,
           "arrowwidth": 1
          },
          "coloraxis": {
           "colorbar": {
            "outlinewidth": 1,
            "tickcolor": "rgb(36,36,36)",
            "ticks": "outside"
           }
          },
          "colorscale": {
           "diverging": [
            [
             0,
             "rgb(103,0,31)"
            ],
            [
             0.1,
             "rgb(178,24,43)"
            ],
            [
             0.2,
             "rgb(214,96,77)"
            ],
            [
             0.3,
             "rgb(244,165,130)"
            ],
            [
             0.4,
             "rgb(253,219,199)"
            ],
            [
             0.5,
             "rgb(247,247,247)"
            ],
            [
             0.6,
             "rgb(209,229,240)"
            ],
            [
             0.7,
             "rgb(146,197,222)"
            ],
            [
             0.8,
             "rgb(67,147,195)"
            ],
            [
             0.9,
             "rgb(33,102,172)"
            ],
            [
             1,
             "rgb(5,48,97)"
            ]
           ],
           "sequential": [
            [
             0,
             "#440154"
            ],
            [
             0.1111111111111111,
             "#482878"
            ],
            [
             0.2222222222222222,
             "#3e4989"
            ],
            [
             0.3333333333333333,
             "#31688e"
            ],
            [
             0.4444444444444444,
             "#26828e"
            ],
            [
             0.5555555555555556,
             "#1f9e89"
            ],
            [
             0.6666666666666666,
             "#35b779"
            ],
            [
             0.7777777777777778,
             "#6ece58"
            ],
            [
             0.8888888888888888,
             "#b5de2b"
            ],
            [
             1,
             "#fde725"
            ]
           ],
           "sequentialminus": [
            [
             0,
             "#440154"
            ],
            [
             0.1111111111111111,
             "#482878"
            ],
            [
             0.2222222222222222,
             "#3e4989"
            ],
            [
             0.3333333333333333,
             "#31688e"
            ],
            [
             0.4444444444444444,
             "#26828e"
            ],
            [
             0.5555555555555556,
             "#1f9e89"
            ],
            [
             0.6666666666666666,
             "#35b779"
            ],
            [
             0.7777777777777778,
             "#6ece58"
            ],
            [
             0.8888888888888888,
             "#b5de2b"
            ],
            [
             1,
             "#fde725"
            ]
           ]
          },
          "colorway": [
           "#1F77B4",
           "#FF7F0E",
           "#2CA02C",
           "#D62728",
           "#9467BD",
           "#8C564B",
           "#E377C2",
           "#7F7F7F",
           "#BCBD22",
           "#17BECF"
          ],
          "font": {
           "color": "rgb(36,36,36)"
          },
          "geo": {
           "bgcolor": "white",
           "lakecolor": "white",
           "landcolor": "white",
           "showlakes": true,
           "showland": true,
           "subunitcolor": "white"
          },
          "hoverlabel": {
           "align": "left"
          },
          "hovermode": "closest",
          "mapbox": {
           "style": "light"
          },
          "paper_bgcolor": "white",
          "plot_bgcolor": "white",
          "polar": {
           "angularaxis": {
            "gridcolor": "rgb(232,232,232)",
            "linecolor": "rgb(36,36,36)",
            "showgrid": false,
            "showline": true,
            "ticks": "outside"
           },
           "bgcolor": "white",
           "radialaxis": {
            "gridcolor": "rgb(232,232,232)",
            "linecolor": "rgb(36,36,36)",
            "showgrid": false,
            "showline": true,
            "ticks": "outside"
           }
          },
          "scene": {
           "xaxis": {
            "backgroundcolor": "white",
            "gridcolor": "rgb(232,232,232)",
            "gridwidth": 2,
            "linecolor": "rgb(36,36,36)",
            "showbackground": true,
            "showgrid": false,
            "showline": true,
            "ticks": "outside",
            "zeroline": false,
            "zerolinecolor": "rgb(36,36,36)"
           },
           "yaxis": {
            "backgroundcolor": "white",
            "gridcolor": "rgb(232,232,232)",
            "gridwidth": 2,
            "linecolor": "rgb(36,36,36)",
            "showbackground": true,
            "showgrid": false,
            "showline": true,
            "ticks": "outside",
            "zeroline": false,
            "zerolinecolor": "rgb(36,36,36)"
           },
           "zaxis": {
            "backgroundcolor": "white",
            "gridcolor": "rgb(232,232,232)",
            "gridwidth": 2,
            "linecolor": "rgb(36,36,36)",
            "showbackground": true,
            "showgrid": false,
            "showline": true,
            "ticks": "outside",
            "zeroline": false,
            "zerolinecolor": "rgb(36,36,36)"
           }
          },
          "shapedefaults": {
           "fillcolor": "black",
           "line": {
            "width": 0
           },
           "opacity": 0.3
          },
          "ternary": {
           "aaxis": {
            "gridcolor": "rgb(232,232,232)",
            "linecolor": "rgb(36,36,36)",
            "showgrid": false,
            "showline": true,
            "ticks": "outside"
           },
           "baxis": {
            "gridcolor": "rgb(232,232,232)",
            "linecolor": "rgb(36,36,36)",
            "showgrid": false,
            "showline": true,
            "ticks": "outside"
           },
           "bgcolor": "white",
           "caxis": {
            "gridcolor": "rgb(232,232,232)",
            "linecolor": "rgb(36,36,36)",
            "showgrid": false,
            "showline": true,
            "ticks": "outside"
           }
          },
          "title": {
           "x": 0.05
          },
          "xaxis": {
           "automargin": true,
           "gridcolor": "rgb(232,232,232)",
           "linecolor": "rgb(36,36,36)",
           "showgrid": false,
           "showline": true,
           "ticks": "outside",
           "title": {
            "standoff": 15
           },
           "zeroline": false,
           "zerolinecolor": "rgb(36,36,36)"
          },
          "yaxis": {
           "automargin": true,
           "gridcolor": "rgb(232,232,232)",
           "linecolor": "rgb(36,36,36)",
           "showgrid": false,
           "showline": true,
           "ticks": "outside",
           "title": {
            "standoff": 15
           },
           "zeroline": false,
           "zerolinecolor": "rgb(36,36,36)"
          }
         }
        },
        "title": {
         "text": "Estimativa do Rt das regionais de saúde em RO atual (6/set)"
        }
       }
      },
      "text/html": [
       "<div>\n",
       "        \n",
       "        \n",
       "            <div id=\"da5d35f6-a72d-40ed-b0e7-2130d02b854e\" class=\"plotly-graph-div\" style=\"height:525px; width:100%;\"></div>\n",
       "            <script type=\"text/javascript\">\n",
       "                require([\"plotly\"], function(Plotly) {\n",
       "                    window.PLOTLYENV=window.PLOTLYENV || {};\n",
       "                    \n",
       "                if (document.getElementById(\"da5d35f6-a72d-40ed-b0e7-2130d02b854e\")) {\n",
       "                    Plotly.newPlot(\n",
       "                        'da5d35f6-a72d-40ed-b0e7-2130d02b854e',\n",
       "                        [{\"error_y\": {\"array\": [0.18999999999999995, 0.2799999999999998, 0.20999999999999996, 0.13000000000000012, 0.31000000000000005, 0.24, 0.6099999999999999], \"arrayminus\": [0.2300000000000001, 0.32000000000000006, 0.22000000000000008, 0.15999999999999992, 0.32999999999999985, 0.2799999999999999, 0.63]}, \"name\": \"Kevin\", \"type\": \"bar\", \"x\": [11001, 11002, 11003, 11004, 11005, 11006, 11007], \"y\": [1.09, 1.11, 1.08, 0.97, 1.13, 1.14, 1.3]}, {\"error_y\": {\"array\": [0.06537935928740046, 0.08553488292637801, 0.061407095667986744, 0.0470196438413929, 0.1378812495327395, 0.07426536868213984, 0.2521343783961276], \"arrayminus\": [0.06359039393123844, 0.08195749018307852, 0.05960200968265994, 0.046048817770002914, 0.13130033899506088, 0.07187855128534748, 0.2321111853650364]}, \"name\": \"EpiEstim\", \"type\": \"bar\", \"x\": [11001, 11002, 11003, 11004, 11005, 11006, 11007], \"y\": [0.9771468592439437, 0.8244914537650936, 0.8525982046465599, 0.937548267488858, 1.157876178261405, 0.9405418941953304, 1.2336654461673437]}],\n",
       "                        {\"barmode\": \"group\", \"template\": {\"data\": {\"bar\": [{\"error_x\": {\"color\": \"rgb(36,36,36)\"}, \"error_y\": {\"color\": \"rgb(36,36,36)\"}, \"marker\": {\"line\": {\"color\": \"white\", \"width\": 0.5}}, \"type\": \"bar\"}], \"barpolar\": [{\"marker\": {\"line\": {\"color\": \"white\", \"width\": 0.5}}, \"type\": \"barpolar\"}], \"carpet\": [{\"aaxis\": {\"endlinecolor\": \"rgb(36,36,36)\", \"gridcolor\": \"white\", \"linecolor\": \"white\", \"minorgridcolor\": \"white\", \"startlinecolor\": \"rgb(36,36,36)\"}, \"baxis\": {\"endlinecolor\": \"rgb(36,36,36)\", \"gridcolor\": \"white\", \"linecolor\": \"white\", \"minorgridcolor\": \"white\", \"startlinecolor\": \"rgb(36,36,36)\"}, \"type\": \"carpet\"}], \"choropleth\": [{\"colorbar\": {\"outlinewidth\": 1, \"tickcolor\": \"rgb(36,36,36)\", \"ticks\": \"outside\"}, \"type\": \"choropleth\"}], \"contour\": [{\"colorbar\": {\"outlinewidth\": 1, \"tickcolor\": \"rgb(36,36,36)\", \"ticks\": \"outside\"}, \"colorscale\": [[0.0, \"#440154\"], [0.1111111111111111, \"#482878\"], [0.2222222222222222, \"#3e4989\"], [0.3333333333333333, \"#31688e\"], [0.4444444444444444, \"#26828e\"], [0.5555555555555556, \"#1f9e89\"], [0.6666666666666666, \"#35b779\"], [0.7777777777777778, \"#6ece58\"], [0.8888888888888888, \"#b5de2b\"], [1.0, \"#fde725\"]], \"type\": \"contour\"}], \"contourcarpet\": [{\"colorbar\": {\"outlinewidth\": 1, \"tickcolor\": \"rgb(36,36,36)\", \"ticks\": \"outside\"}, \"type\": \"contourcarpet\"}], \"heatmap\": [{\"colorbar\": {\"outlinewidth\": 1, \"tickcolor\": \"rgb(36,36,36)\", \"ticks\": \"outside\"}, \"colorscale\": [[0.0, \"#440154\"], [0.1111111111111111, \"#482878\"], [0.2222222222222222, \"#3e4989\"], [0.3333333333333333, \"#31688e\"], [0.4444444444444444, \"#26828e\"], [0.5555555555555556, \"#1f9e89\"], [0.6666666666666666, \"#35b779\"], [0.7777777777777778, \"#6ece58\"], [0.8888888888888888, \"#b5de2b\"], [1.0, \"#fde725\"]], \"type\": \"heatmap\"}], \"heatmapgl\": [{\"colorbar\": {\"outlinewidth\": 1, \"tickcolor\": \"rgb(36,36,36)\", \"ticks\": \"outside\"}, \"colorscale\": [[0.0, \"#440154\"], [0.1111111111111111, \"#482878\"], [0.2222222222222222, \"#3e4989\"], [0.3333333333333333, \"#31688e\"], [0.4444444444444444, \"#26828e\"], [0.5555555555555556, \"#1f9e89\"], [0.6666666666666666, \"#35b779\"], [0.7777777777777778, \"#6ece58\"], [0.8888888888888888, \"#b5de2b\"], [1.0, \"#fde725\"]], \"type\": \"heatmapgl\"}], \"histogram\": [{\"marker\": {\"line\": {\"color\": \"white\", \"width\": 0.6}}, \"type\": \"histogram\"}], \"histogram2d\": [{\"colorbar\": {\"outlinewidth\": 1, \"tickcolor\": \"rgb(36,36,36)\", \"ticks\": \"outside\"}, \"colorscale\": [[0.0, \"#440154\"], [0.1111111111111111, \"#482878\"], [0.2222222222222222, \"#3e4989\"], [0.3333333333333333, \"#31688e\"], [0.4444444444444444, \"#26828e\"], [0.5555555555555556, \"#1f9e89\"], [0.6666666666666666, \"#35b779\"], [0.7777777777777778, \"#6ece58\"], [0.8888888888888888, \"#b5de2b\"], [1.0, \"#fde725\"]], \"type\": \"histogram2d\"}], \"histogram2dcontour\": [{\"colorbar\": {\"outlinewidth\": 1, \"tickcolor\": \"rgb(36,36,36)\", \"ticks\": \"outside\"}, \"colorscale\": [[0.0, \"#440154\"], [0.1111111111111111, \"#482878\"], [0.2222222222222222, \"#3e4989\"], [0.3333333333333333, \"#31688e\"], [0.4444444444444444, \"#26828e\"], [0.5555555555555556, \"#1f9e89\"], [0.6666666666666666, \"#35b779\"], [0.7777777777777778, \"#6ece58\"], [0.8888888888888888, \"#b5de2b\"], [1.0, \"#fde725\"]], \"type\": \"histogram2dcontour\"}], \"mesh3d\": [{\"colorbar\": {\"outlinewidth\": 1, \"tickcolor\": \"rgb(36,36,36)\", \"ticks\": \"outside\"}, \"type\": \"mesh3d\"}], \"parcoords\": [{\"line\": {\"colorbar\": {\"outlinewidth\": 1, \"tickcolor\": \"rgb(36,36,36)\", \"ticks\": \"outside\"}}, \"type\": \"parcoords\"}], \"pie\": [{\"automargin\": true, \"type\": \"pie\"}], \"scatter\": [{\"marker\": {\"colorbar\": {\"outlinewidth\": 1, \"tickcolor\": \"rgb(36,36,36)\", \"ticks\": \"outside\"}}, \"type\": \"scatter\"}], \"scatter3d\": [{\"line\": {\"colorbar\": {\"outlinewidth\": 1, \"tickcolor\": \"rgb(36,36,36)\", \"ticks\": \"outside\"}}, \"marker\": {\"colorbar\": {\"outlinewidth\": 1, \"tickcolor\": \"rgb(36,36,36)\", \"ticks\": \"outside\"}}, \"type\": \"scatter3d\"}], \"scattercarpet\": [{\"marker\": {\"colorbar\": {\"outlinewidth\": 1, \"tickcolor\": \"rgb(36,36,36)\", \"ticks\": \"outside\"}}, \"type\": \"scattercarpet\"}], \"scattergeo\": [{\"marker\": {\"colorbar\": {\"outlinewidth\": 1, \"tickcolor\": \"rgb(36,36,36)\", \"ticks\": \"outside\"}}, \"type\": \"scattergeo\"}], \"scattergl\": [{\"marker\": {\"colorbar\": {\"outlinewidth\": 1, \"tickcolor\": \"rgb(36,36,36)\", \"ticks\": \"outside\"}}, \"type\": \"scattergl\"}], \"scattermapbox\": [{\"marker\": {\"colorbar\": {\"outlinewidth\": 1, \"tickcolor\": \"rgb(36,36,36)\", \"ticks\": \"outside\"}}, \"type\": \"scattermapbox\"}], \"scatterpolar\": [{\"marker\": {\"colorbar\": {\"outlinewidth\": 1, \"tickcolor\": \"rgb(36,36,36)\", \"ticks\": \"outside\"}}, \"type\": \"scatterpolar\"}], \"scatterpolargl\": [{\"marker\": {\"colorbar\": {\"outlinewidth\": 1, \"tickcolor\": \"rgb(36,36,36)\", \"ticks\": \"outside\"}}, \"type\": \"scatterpolargl\"}], \"scatterternary\": [{\"marker\": {\"colorbar\": {\"outlinewidth\": 1, \"tickcolor\": \"rgb(36,36,36)\", \"ticks\": \"outside\"}}, \"type\": \"scatterternary\"}], \"surface\": [{\"colorbar\": {\"outlinewidth\": 1, \"tickcolor\": \"rgb(36,36,36)\", \"ticks\": \"outside\"}, \"colorscale\": [[0.0, \"#440154\"], [0.1111111111111111, \"#482878\"], [0.2222222222222222, \"#3e4989\"], [0.3333333333333333, \"#31688e\"], [0.4444444444444444, \"#26828e\"], [0.5555555555555556, \"#1f9e89\"], [0.6666666666666666, \"#35b779\"], [0.7777777777777778, \"#6ece58\"], [0.8888888888888888, \"#b5de2b\"], [1.0, \"#fde725\"]], \"type\": \"surface\"}], \"table\": [{\"cells\": {\"fill\": {\"color\": \"rgb(237,237,237)\"}, \"line\": {\"color\": \"white\"}}, \"header\": {\"fill\": {\"color\": \"rgb(217,217,217)\"}, \"line\": {\"color\": \"white\"}}, \"type\": \"table\"}]}, \"layout\": {\"annotationdefaults\": {\"arrowhead\": 0, \"arrowwidth\": 1}, \"coloraxis\": {\"colorbar\": {\"outlinewidth\": 1, \"tickcolor\": \"rgb(36,36,36)\", \"ticks\": \"outside\"}}, \"colorscale\": {\"diverging\": [[0.0, \"rgb(103,0,31)\"], [0.1, \"rgb(178,24,43)\"], [0.2, \"rgb(214,96,77)\"], [0.3, \"rgb(244,165,130)\"], [0.4, \"rgb(253,219,199)\"], [0.5, \"rgb(247,247,247)\"], [0.6, \"rgb(209,229,240)\"], [0.7, \"rgb(146,197,222)\"], [0.8, \"rgb(67,147,195)\"], [0.9, \"rgb(33,102,172)\"], [1.0, \"rgb(5,48,97)\"]], \"sequential\": [[0.0, \"#440154\"], [0.1111111111111111, \"#482878\"], [0.2222222222222222, \"#3e4989\"], [0.3333333333333333, \"#31688e\"], [0.4444444444444444, \"#26828e\"], [0.5555555555555556, \"#1f9e89\"], [0.6666666666666666, \"#35b779\"], [0.7777777777777778, \"#6ece58\"], [0.8888888888888888, \"#b5de2b\"], [1.0, \"#fde725\"]], \"sequentialminus\": [[0.0, \"#440154\"], [0.1111111111111111, \"#482878\"], [0.2222222222222222, \"#3e4989\"], [0.3333333333333333, \"#31688e\"], [0.4444444444444444, \"#26828e\"], [0.5555555555555556, \"#1f9e89\"], [0.6666666666666666, \"#35b779\"], [0.7777777777777778, \"#6ece58\"], [0.8888888888888888, \"#b5de2b\"], [1.0, \"#fde725\"]]}, \"colorway\": [\"#1F77B4\", \"#FF7F0E\", \"#2CA02C\", \"#D62728\", \"#9467BD\", \"#8C564B\", \"#E377C2\", \"#7F7F7F\", \"#BCBD22\", \"#17BECF\"], \"font\": {\"color\": \"rgb(36,36,36)\"}, \"geo\": {\"bgcolor\": \"white\", \"lakecolor\": \"white\", \"landcolor\": \"white\", \"showlakes\": true, \"showland\": true, \"subunitcolor\": \"white\"}, \"hoverlabel\": {\"align\": \"left\"}, \"hovermode\": \"closest\", \"mapbox\": {\"style\": \"light\"}, \"paper_bgcolor\": \"white\", \"plot_bgcolor\": \"white\", \"polar\": {\"angularaxis\": {\"gridcolor\": \"rgb(232,232,232)\", \"linecolor\": \"rgb(36,36,36)\", \"showgrid\": false, \"showline\": true, \"ticks\": \"outside\"}, \"bgcolor\": \"white\", \"radialaxis\": {\"gridcolor\": \"rgb(232,232,232)\", \"linecolor\": \"rgb(36,36,36)\", \"showgrid\": false, \"showline\": true, \"ticks\": \"outside\"}}, \"scene\": {\"xaxis\": {\"backgroundcolor\": \"white\", \"gridcolor\": \"rgb(232,232,232)\", \"gridwidth\": 2, \"linecolor\": \"rgb(36,36,36)\", \"showbackground\": true, \"showgrid\": false, \"showline\": true, \"ticks\": \"outside\", \"zeroline\": false, \"zerolinecolor\": \"rgb(36,36,36)\"}, \"yaxis\": {\"backgroundcolor\": \"white\", \"gridcolor\": \"rgb(232,232,232)\", \"gridwidth\": 2, \"linecolor\": \"rgb(36,36,36)\", \"showbackground\": true, \"showgrid\": false, \"showline\": true, \"ticks\": \"outside\", \"zeroline\": false, \"zerolinecolor\": \"rgb(36,36,36)\"}, \"zaxis\": {\"backgroundcolor\": \"white\", \"gridcolor\": \"rgb(232,232,232)\", \"gridwidth\": 2, \"linecolor\": \"rgb(36,36,36)\", \"showbackground\": true, \"showgrid\": false, \"showline\": true, \"ticks\": \"outside\", \"zeroline\": false, \"zerolinecolor\": \"rgb(36,36,36)\"}}, \"shapedefaults\": {\"fillcolor\": \"black\", \"line\": {\"width\": 0}, \"opacity\": 0.3}, \"ternary\": {\"aaxis\": {\"gridcolor\": \"rgb(232,232,232)\", \"linecolor\": \"rgb(36,36,36)\", \"showgrid\": false, \"showline\": true, \"ticks\": \"outside\"}, \"baxis\": {\"gridcolor\": \"rgb(232,232,232)\", \"linecolor\": \"rgb(36,36,36)\", \"showgrid\": false, \"showline\": true, \"ticks\": \"outside\"}, \"bgcolor\": \"white\", \"caxis\": {\"gridcolor\": \"rgb(232,232,232)\", \"linecolor\": \"rgb(36,36,36)\", \"showgrid\": false, \"showline\": true, \"ticks\": \"outside\"}}, \"title\": {\"x\": 0.05}, \"xaxis\": {\"automargin\": true, \"gridcolor\": \"rgb(232,232,232)\", \"linecolor\": \"rgb(36,36,36)\", \"showgrid\": false, \"showline\": true, \"ticks\": \"outside\", \"title\": {\"standoff\": 15}, \"zeroline\": false, \"zerolinecolor\": \"rgb(36,36,36)\"}, \"yaxis\": {\"automargin\": true, \"gridcolor\": \"rgb(232,232,232)\", \"linecolor\": \"rgb(36,36,36)\", \"showgrid\": false, \"showline\": true, \"ticks\": \"outside\", \"title\": {\"standoff\": 15}, \"zeroline\": false, \"zerolinecolor\": \"rgb(36,36,36)\"}}}, \"title\": {\"text\": \"Estimativa do Rt das regionais de sa\\u00fade em RO atual (6/set)\"}},\n",
       "                        {\"responsive\": true}\n",
       "                    ).then(function(){\n",
       "                            \n",
       "var gd = document.getElementById('da5d35f6-a72d-40ed-b0e7-2130d02b854e');\n",
       "var x = new MutationObserver(function (mutations, observer) {{\n",
       "        var display = window.getComputedStyle(gd).display;\n",
       "        if (!display || display === 'none') {{\n",
       "            console.log([gd, 'removed!']);\n",
       "            Plotly.purge(gd);\n",
       "            observer.disconnect();\n",
       "        }}\n",
       "}});\n",
       "\n",
       "// Listen for the removal of the full notebook cells\n",
       "var notebookContainer = gd.closest('#notebook-container');\n",
       "if (notebookContainer) {{\n",
       "    x.observe(notebookContainer, {childList: true});\n",
       "}}\n",
       "\n",
       "// Listen for the clearing of the current output cell\n",
       "var outputEl = gd.closest('.output');\n",
       "if (outputEl) {{\n",
       "    x.observe(outputEl, {childList: true});\n",
       "}}\n",
       "\n",
       "                        })\n",
       "                };\n",
       "                });\n",
       "            </script>\n",
       "        </div>"
      ]
     },
     "metadata": {},
     "output_type": "display_data"
    }
   ],
   "source": [
    "health_region_kevin_sample = last_health_region_kevin[last_health_region_kevin[\"state_num_id\"] == region_state]\n",
    "health_region_epiestim_sample = last_health_region_epiestim[last_health_region_epiestim[\"state_num_id\"] == region_state]\n",
    "\n",
    "title = f\"Estimativa do Rt das regionais de saúde em {place_choosen} atual (6/set)\"\n",
    "gen_compare_plot(dfs={\"Kevin\": health_region_kevin_sample, \"EpiEstim\": health_region_epiestim_sample},\n",
    "                 place_id=place_id,\n",
    "                 title=title)"
   ]
  },
  {
   "cell_type": "code",
   "execution_count": 153,
   "metadata": {
    "ExecuteTime": {
     "end_time": "2020-09-17T22:05:52.189114Z",
     "start_time": "2020-09-17T22:05:52.087145Z"
    }
   },
   "outputs": [],
   "source": [
    "both = last_health_region_kevin[last_health_region_kevin[place_id].isin(last_health_region_epiestim[place_id])][place_id]\n",
    "# both"
   ]
  },
  {
   "cell_type": "code",
   "execution_count": 154,
   "metadata": {
    "ExecuteTime": {
     "end_time": "2020-09-17T22:05:52.354365Z",
     "start_time": "2020-09-17T22:05:52.237492Z"
    },
    "scrolled": true
   },
   "outputs": [
    {
     "data": {
      "text/plain": [
       "True     340\n",
       "False    107\n",
       "Name: Rt_most_likely, dtype: int64"
      ]
     },
     "execution_count": 154,
     "metadata": {},
     "output_type": "execute_result"
    }
   ],
   "source": [
    "(last_health_region_kevin.set_index(place_id).loc[both][\"Rt_most_likely\"] \n",
    "> last_health_region_epiestim.set_index(place_id).loc[both][\"Rt_most_likely\"]).value_counts()"
   ]
  },
  {
   "cell_type": "markdown",
   "metadata": {},
   "source": [
    "### Evolução do Rt"
   ]
  },
  {
   "cell_type": "code",
   "execution_count": 157,
   "metadata": {
    "ExecuteTime": {
     "end_time": "2020-09-17T22:06:47.038514Z",
     "start_time": "2020-09-17T22:06:46.949243Z"
    }
   },
   "outputs": [],
   "source": [
    "# health_region_kevin_sample = health_region_kevin[health_region_kevin[\"state_num_id\"] == region_state]\n",
    "# health_region_epiestim_sample = health_region_epiestim[health_region_epiestim[\"state_num_id\"] == region_state]\n",
    "\n",
    "# data = list()\n",
    "# for key, df in {\"Kevin\": health_region_kevin_sample, \"EpiEstim\": health_region_epiestim_sample}.items():\n",
    "#     data.append(\n",
    "#         go.Scatter(name=key, \n",
    "#                x=df[\"last_updated\"], \n",
    "#                y=df[\"Rt_most_likely\"],\n",
    "#                error_y = dict(\n",
    "#                    array=df[\"Rt_high_95\"] - df[\"Rt_most_likely\"],\n",
    "#                    arrayminus=df[\"Rt_most_likely\"] - df[\"Rt_low_95\"],\n",
    "#                    thickness=1,\n",
    "#                    width=1,\n",
    "#                )),\n",
    "#     )\n",
    "\n",
    "# fig = go.Figure(data)\n",
    "# fig.update_layout(barmode='group', template=\"simple_white\", \n",
    "#                   title=f\"Evolução do Rt para regionais de {place_choosen}\")\n",
    "# fig.show()"
   ]
  },
  {
   "cell_type": "markdown",
   "metadata": {},
   "source": [
    "### Variação do Rt"
   ]
  },
  {
   "cell_type": "code",
   "execution_count": 184,
   "metadata": {
    "ExecuteTime": {
     "end_time": "2020-09-17T22:14:50.858618Z",
     "start_time": "2020-09-17T22:14:49.300020Z"
    },
    "collapsed": true
   },
   "outputs": [
    {
     "data": {
      "text/plain": [
       "count    447.000000\n",
       "mean       0.490113\n",
       "std        0.061642\n",
       "min        0.208574\n",
       "25%        0.451720\n",
       "50%        0.485638\n",
       "75%        0.526482\n",
       "max        0.670119\n",
       "Name: std, dtype: float64"
      ]
     },
     "execution_count": 184,
     "metadata": {},
     "output_type": "execute_result"
    }
   ],
   "source": [
    "(health_region_kevin[health_region_kevin[place_id].isin(both)]\n",
    " .sort_values(place_id)\n",
    " .groupby(place_id)[\"Rt_most_likely\"]\n",
    " .describe()\n",
    " [\"std\"].describe())#.loc[25008]"
   ]
  },
  {
   "cell_type": "code",
   "execution_count": 185,
   "metadata": {
    "ExecuteTime": {
     "end_time": "2020-09-17T22:14:59.956609Z",
     "start_time": "2020-09-17T22:14:58.534244Z"
    },
    "collapsed": true
   },
   "outputs": [
    {
     "data": {
      "text/plain": [
       "count    447.000000\n",
       "mean       0.628510\n",
       "std        0.207559\n",
       "min        0.225187\n",
       "25%        0.476607\n",
       "50%        0.640015\n",
       "75%        0.748610\n",
       "max        1.739534\n",
       "Name: std, dtype: float64"
      ]
     },
     "execution_count": 185,
     "metadata": {},
     "output_type": "execute_result"
    }
   ],
   "source": [
    "(health_region_epiestim[health_region_epiestim[place_id].isin(both)]\n",
    " .sort_values(place_id)\n",
    " .groupby(place_id)[\"Rt_most_likely\"]\n",
    " .describe()\n",
    " [\"std\"].describe())#.loc[25008]"
   ]
  },
  {
   "cell_type": "code",
   "execution_count": 187,
   "metadata": {
    "ExecuteTime": {
     "end_time": "2020-09-17T22:15:43.321746Z",
     "start_time": "2020-09-17T22:15:40.580607Z"
    },
    "collapsed": true
   },
   "outputs": [
    {
     "data": {
      "text/plain": [
       "health_region_id\n",
       "11001    0.319588\n",
       "11002    0.347329\n",
       "11003    0.336791\n",
       "11004    0.287474\n",
       "11005    0.373079\n",
       "           ...   \n",
       "52015    0.687836\n",
       "52016    0.484240\n",
       "52017    0.805916\n",
       "52018    0.830660\n",
       "53001    0.098721\n",
       "Name: min, Length: 447, dtype: float64"
      ]
     },
     "execution_count": 187,
     "metadata": {},
     "output_type": "execute_result"
    }
   ],
   "source": [
    "((health_region_kevin[health_region_kevin[place_id].isin(both)]\n",
    " .sort_values(place_id)\n",
    " .groupby(place_id)[\"Rt_most_likely\"]\n",
    " .describe()\n",
    " [\"min\"]) - \n",
    "(health_region_epiestim[health_region_epiestim[place_id].isin(both)]\n",
    " .sort_values(place_id)\n",
    " .groupby(place_id)[\"Rt_most_likely\"]\n",
    " .describe()\n",
    " [\"min\"]))"
   ]
  },
  {
   "cell_type": "markdown",
   "metadata": {},
   "source": [
    "### Intervalo de confiança"
   ]
  },
  {
   "cell_type": "code",
   "execution_count": 188,
   "metadata": {
    "ExecuteTime": {
     "end_time": "2020-09-17T22:16:01.456516Z",
     "start_time": "2020-09-17T22:15:59.586608Z"
    },
    "collapsed": true
   },
   "outputs": [
    {
     "data": {
      "text/html": [
       "<div>\n",
       "<style scoped>\n",
       "    .dataframe tbody tr th:only-of-type {\n",
       "        vertical-align: middle;\n",
       "    }\n",
       "\n",
       "    .dataframe tbody tr th {\n",
       "        vertical-align: top;\n",
       "    }\n",
       "\n",
       "    .dataframe thead th {\n",
       "        text-align: right;\n",
       "    }\n",
       "</style>\n",
       "<table border=\"1\" class=\"dataframe\">\n",
       "  <thead>\n",
       "    <tr style=\"text-align: right;\">\n",
       "      <th></th>\n",
       "      <th>count</th>\n",
       "      <th>mean</th>\n",
       "      <th>std</th>\n",
       "      <th>min</th>\n",
       "      <th>25%</th>\n",
       "      <th>50%</th>\n",
       "      <th>75%</th>\n",
       "      <th>max</th>\n",
       "    </tr>\n",
       "    <tr>\n",
       "      <th>health_region_id</th>\n",
       "      <th></th>\n",
       "      <th></th>\n",
       "      <th></th>\n",
       "      <th></th>\n",
       "      <th></th>\n",
       "      <th></th>\n",
       "      <th></th>\n",
       "      <th></th>\n",
       "    </tr>\n",
       "  </thead>\n",
       "  <tbody>\n",
       "    <tr>\n",
       "      <th>11001</th>\n",
       "      <td>137.0</td>\n",
       "      <td>0.311061</td>\n",
       "      <td>0.243967</td>\n",
       "      <td>0.115763</td>\n",
       "      <td>0.140658</td>\n",
       "      <td>0.197513</td>\n",
       "      <td>0.501269</td>\n",
       "      <td>1.646145</td>\n",
       "    </tr>\n",
       "    <tr>\n",
       "      <th>11002</th>\n",
       "      <td>126.0</td>\n",
       "      <td>0.614162</td>\n",
       "      <td>0.946225</td>\n",
       "      <td>0.160158</td>\n",
       "      <td>0.208837</td>\n",
       "      <td>0.322183</td>\n",
       "      <td>0.624278</td>\n",
       "      <td>7.618887</td>\n",
       "    </tr>\n",
       "    <tr>\n",
       "      <th>11003</th>\n",
       "      <td>158.0</td>\n",
       "      <td>0.962439</td>\n",
       "      <td>1.621842</td>\n",
       "      <td>0.121009</td>\n",
       "      <td>0.150642</td>\n",
       "      <td>0.194170</td>\n",
       "      <td>0.722693</td>\n",
       "      <td>7.457732</td>\n",
       "    </tr>\n",
       "    <tr>\n",
       "      <th>11004</th>\n",
       "      <td>157.0</td>\n",
       "      <td>0.373748</td>\n",
       "      <td>0.714664</td>\n",
       "      <td>0.047038</td>\n",
       "      <td>0.066999</td>\n",
       "      <td>0.092377</td>\n",
       "      <td>0.219285</td>\n",
       "      <td>3.324896</td>\n",
       "    </tr>\n",
       "    <tr>\n",
       "      <th>11005</th>\n",
       "      <td>142.0</td>\n",
       "      <td>1.268861</td>\n",
       "      <td>1.761138</td>\n",
       "      <td>0.170905</td>\n",
       "      <td>0.232022</td>\n",
       "      <td>0.318132</td>\n",
       "      <td>1.352066</td>\n",
       "      <td>7.457732</td>\n",
       "    </tr>\n",
       "    <tr>\n",
       "      <th>...</th>\n",
       "      <td>...</td>\n",
       "      <td>...</td>\n",
       "      <td>...</td>\n",
       "      <td>...</td>\n",
       "      <td>...</td>\n",
       "      <td>...</td>\n",
       "      <td>...</td>\n",
       "      <td>...</td>\n",
       "    </tr>\n",
       "    <tr>\n",
       "      <th>52015</th>\n",
       "      <td>166.0</td>\n",
       "      <td>1.151571</td>\n",
       "      <td>1.514501</td>\n",
       "      <td>0.056438</td>\n",
       "      <td>0.104058</td>\n",
       "      <td>0.318043</td>\n",
       "      <td>1.802659</td>\n",
       "      <td>6.072436</td>\n",
       "    </tr>\n",
       "    <tr>\n",
       "      <th>52016</th>\n",
       "      <td>160.0</td>\n",
       "      <td>1.336771</td>\n",
       "      <td>1.816861</td>\n",
       "      <td>0.066497</td>\n",
       "      <td>0.211480</td>\n",
       "      <td>0.415436</td>\n",
       "      <td>1.433554</td>\n",
       "      <td>7.457732</td>\n",
       "    </tr>\n",
       "    <tr>\n",
       "      <th>52017</th>\n",
       "      <td>148.0</td>\n",
       "      <td>1.004349</td>\n",
       "      <td>1.304240</td>\n",
       "      <td>0.138621</td>\n",
       "      <td>0.170086</td>\n",
       "      <td>0.513372</td>\n",
       "      <td>1.431529</td>\n",
       "      <td>9.960577</td>\n",
       "    </tr>\n",
       "    <tr>\n",
       "      <th>52018</th>\n",
       "      <td>150.0</td>\n",
       "      <td>0.874137</td>\n",
       "      <td>0.957490</td>\n",
       "      <td>0.142934</td>\n",
       "      <td>0.245655</td>\n",
       "      <td>0.509544</td>\n",
       "      <td>1.175758</td>\n",
       "      <td>7.618887</td>\n",
       "    </tr>\n",
       "    <tr>\n",
       "      <th>53001</th>\n",
       "      <td>171.0</td>\n",
       "      <td>0.177471</td>\n",
       "      <td>0.366852</td>\n",
       "      <td>0.028744</td>\n",
       "      <td>0.031385</td>\n",
       "      <td>0.051744</td>\n",
       "      <td>0.240751</td>\n",
       "      <td>3.241763</td>\n",
       "    </tr>\n",
       "  </tbody>\n",
       "</table>\n",
       "<p>450 rows × 8 columns</p>\n",
       "</div>"
      ],
      "text/plain": [
       "                  count      mean       std       min       25%       50%  \\\n",
       "health_region_id                                                            \n",
       "11001             137.0  0.311061  0.243967  0.115763  0.140658  0.197513   \n",
       "11002             126.0  0.614162  0.946225  0.160158  0.208837  0.322183   \n",
       "11003             158.0  0.962439  1.621842  0.121009  0.150642  0.194170   \n",
       "11004             157.0  0.373748  0.714664  0.047038  0.066999  0.092377   \n",
       "11005             142.0  1.268861  1.761138  0.170905  0.232022  0.318132   \n",
       "...                 ...       ...       ...       ...       ...       ...   \n",
       "52015             166.0  1.151571  1.514501  0.056438  0.104058  0.318043   \n",
       "52016             160.0  1.336771  1.816861  0.066497  0.211480  0.415436   \n",
       "52017             148.0  1.004349  1.304240  0.138621  0.170086  0.513372   \n",
       "52018             150.0  0.874137  0.957490  0.142934  0.245655  0.509544   \n",
       "53001             171.0  0.177471  0.366852  0.028744  0.031385  0.051744   \n",
       "\n",
       "                       75%       max  \n",
       "health_region_id                      \n",
       "11001             0.501269  1.646145  \n",
       "11002             0.624278  7.618887  \n",
       "11003             0.722693  7.457732  \n",
       "11004             0.219285  3.324896  \n",
       "11005             1.352066  7.457732  \n",
       "...                    ...       ...  \n",
       "52015             1.802659  6.072436  \n",
       "52016             1.433554  7.457732  \n",
       "52017             1.431529  9.960577  \n",
       "52018             1.175758  7.618887  \n",
       "53001             0.240751  3.241763  \n",
       "\n",
       "[450 rows x 8 columns]"
      ]
     },
     "execution_count": 188,
     "metadata": {},
     "output_type": "execute_result"
    }
   ],
   "source": [
    "health_region_epiestim[\"IC\"] = health_region_epiestim[\"Rt_high_95\"] - health_region_epiestim[\"Rt_low_95\"]\n",
    "health_region_epiestim.groupby(place_id)[\"IC\"].describe()"
   ]
  },
  {
   "cell_type": "code",
   "execution_count": 189,
   "metadata": {
    "ExecuteTime": {
     "end_time": "2020-09-17T22:16:03.595437Z",
     "start_time": "2020-09-17T22:16:01.809863Z"
    },
    "collapsed": true
   },
   "outputs": [
    {
     "data": {
      "text/html": [
       "<div>\n",
       "<style scoped>\n",
       "    .dataframe tbody tr th:only-of-type {\n",
       "        vertical-align: middle;\n",
       "    }\n",
       "\n",
       "    .dataframe tbody tr th {\n",
       "        vertical-align: top;\n",
       "    }\n",
       "\n",
       "    .dataframe thead th {\n",
       "        text-align: right;\n",
       "    }\n",
       "</style>\n",
       "<table border=\"1\" class=\"dataframe\">\n",
       "  <thead>\n",
       "    <tr style=\"text-align: right;\">\n",
       "      <th></th>\n",
       "      <th>count</th>\n",
       "      <th>mean</th>\n",
       "      <th>std</th>\n",
       "      <th>min</th>\n",
       "      <th>25%</th>\n",
       "      <th>50%</th>\n",
       "      <th>75%</th>\n",
       "      <th>max</th>\n",
       "    </tr>\n",
       "    <tr>\n",
       "      <th>health_region_id</th>\n",
       "      <th></th>\n",
       "      <th></th>\n",
       "      <th></th>\n",
       "      <th></th>\n",
       "      <th></th>\n",
       "      <th></th>\n",
       "      <th></th>\n",
       "      <th></th>\n",
       "    </tr>\n",
       "  </thead>\n",
       "  <tbody>\n",
       "    <tr>\n",
       "      <th>11001</th>\n",
       "      <td>144.0</td>\n",
       "      <td>1.303403</td>\n",
       "      <td>1.130839</td>\n",
       "      <td>0.42</td>\n",
       "      <td>0.5300</td>\n",
       "      <td>0.820</td>\n",
       "      <td>1.8275</td>\n",
       "      <td>7.17</td>\n",
       "    </tr>\n",
       "    <tr>\n",
       "      <th>11002</th>\n",
       "      <td>129.0</td>\n",
       "      <td>1.766124</td>\n",
       "      <td>1.397418</td>\n",
       "      <td>0.60</td>\n",
       "      <td>0.7800</td>\n",
       "      <td>1.200</td>\n",
       "      <td>2.3100</td>\n",
       "      <td>7.17</td>\n",
       "    </tr>\n",
       "    <tr>\n",
       "      <th>11003</th>\n",
       "      <td>146.0</td>\n",
       "      <td>1.492329</td>\n",
       "      <td>1.458999</td>\n",
       "      <td>0.43</td>\n",
       "      <td>0.5325</td>\n",
       "      <td>0.735</td>\n",
       "      <td>2.0350</td>\n",
       "      <td>7.17</td>\n",
       "    </tr>\n",
       "    <tr>\n",
       "      <th>11004</th>\n",
       "      <td>156.0</td>\n",
       "      <td>1.021667</td>\n",
       "      <td>1.412943</td>\n",
       "      <td>0.26</td>\n",
       "      <td>0.2800</td>\n",
       "      <td>0.340</td>\n",
       "      <td>0.9575</td>\n",
       "      <td>7.17</td>\n",
       "    </tr>\n",
       "    <tr>\n",
       "      <th>11005</th>\n",
       "      <td>127.0</td>\n",
       "      <td>1.915276</td>\n",
       "      <td>1.509485</td>\n",
       "      <td>0.64</td>\n",
       "      <td>0.7850</td>\n",
       "      <td>1.170</td>\n",
       "      <td>3.1000</td>\n",
       "      <td>7.17</td>\n",
       "    </tr>\n",
       "    <tr>\n",
       "      <th>...</th>\n",
       "      <td>...</td>\n",
       "      <td>...</td>\n",
       "      <td>...</td>\n",
       "      <td>...</td>\n",
       "      <td>...</td>\n",
       "      <td>...</td>\n",
       "      <td>...</td>\n",
       "      <td>...</td>\n",
       "    </tr>\n",
       "    <tr>\n",
       "      <th>52015</th>\n",
       "      <td>117.0</td>\n",
       "      <td>1.226581</td>\n",
       "      <td>1.546972</td>\n",
       "      <td>0.34</td>\n",
       "      <td>0.3700</td>\n",
       "      <td>0.430</td>\n",
       "      <td>1.4400</td>\n",
       "      <td>7.17</td>\n",
       "    </tr>\n",
       "    <tr>\n",
       "      <th>52016</th>\n",
       "      <td>136.0</td>\n",
       "      <td>1.775515</td>\n",
       "      <td>1.473289</td>\n",
       "      <td>0.42</td>\n",
       "      <td>0.7175</td>\n",
       "      <td>1.140</td>\n",
       "      <td>2.5675</td>\n",
       "      <td>7.17</td>\n",
       "    </tr>\n",
       "    <tr>\n",
       "      <th>52017</th>\n",
       "      <td>112.0</td>\n",
       "      <td>1.819732</td>\n",
       "      <td>1.575124</td>\n",
       "      <td>0.50</td>\n",
       "      <td>0.6375</td>\n",
       "      <td>1.015</td>\n",
       "      <td>2.9700</td>\n",
       "      <td>7.17</td>\n",
       "    </tr>\n",
       "    <tr>\n",
       "      <th>52018</th>\n",
       "      <td>123.0</td>\n",
       "      <td>2.010325</td>\n",
       "      <td>1.445101</td>\n",
       "      <td>0.61</td>\n",
       "      <td>0.9150</td>\n",
       "      <td>1.520</td>\n",
       "      <td>2.3300</td>\n",
       "      <td>7.17</td>\n",
       "    </tr>\n",
       "    <tr>\n",
       "      <th>53001</th>\n",
       "      <td>178.0</td>\n",
       "      <td>0.829888</td>\n",
       "      <td>1.240267</td>\n",
       "      <td>0.18</td>\n",
       "      <td>0.1800</td>\n",
       "      <td>0.285</td>\n",
       "      <td>0.9850</td>\n",
       "      <td>7.17</td>\n",
       "    </tr>\n",
       "  </tbody>\n",
       "</table>\n",
       "<p>447 rows × 8 columns</p>\n",
       "</div>"
      ],
      "text/plain": [
       "                  count      mean       std   min     25%    50%     75%   max\n",
       "health_region_id                                                              \n",
       "11001             144.0  1.303403  1.130839  0.42  0.5300  0.820  1.8275  7.17\n",
       "11002             129.0  1.766124  1.397418  0.60  0.7800  1.200  2.3100  7.17\n",
       "11003             146.0  1.492329  1.458999  0.43  0.5325  0.735  2.0350  7.17\n",
       "11004             156.0  1.021667  1.412943  0.26  0.2800  0.340  0.9575  7.17\n",
       "11005             127.0  1.915276  1.509485  0.64  0.7850  1.170  3.1000  7.17\n",
       "...                 ...       ...       ...   ...     ...    ...     ...   ...\n",
       "52015             117.0  1.226581  1.546972  0.34  0.3700  0.430  1.4400  7.17\n",
       "52016             136.0  1.775515  1.473289  0.42  0.7175  1.140  2.5675  7.17\n",
       "52017             112.0  1.819732  1.575124  0.50  0.6375  1.015  2.9700  7.17\n",
       "52018             123.0  2.010325  1.445101  0.61  0.9150  1.520  2.3300  7.17\n",
       "53001             178.0  0.829888  1.240267  0.18  0.1800  0.285  0.9850  7.17\n",
       "\n",
       "[447 rows x 8 columns]"
      ]
     },
     "execution_count": 189,
     "metadata": {},
     "output_type": "execute_result"
    }
   ],
   "source": [
    "health_region_kevin[\"IC\"] = health_region_kevin[\"Rt_high_95\"] - health_region_kevin[\"Rt_low_95\"]\n",
    "health_region_kevin.groupby(place_id)[\"IC\"].describe()"
   ]
  },
  {
   "cell_type": "code",
   "execution_count": 192,
   "metadata": {
    "ExecuteTime": {
     "end_time": "2020-09-17T22:16:16.299624Z",
     "start_time": "2020-09-17T22:16:16.161741Z"
    },
    "scrolled": true
   },
   "outputs": [],
   "source": [
    "epiestim_ic_05 = health_region_epiestim.query(\"IC > 0.5\")#.groupby(place_id)\n",
    "epiestim_ic_05 = epiestim_ic_05.loc[epiestim_ic_05.groupby(place_id).last_updated.idxmax()][[place_id, \"last_updated\"]]"
   ]
  },
  {
   "cell_type": "code",
   "execution_count": 193,
   "metadata": {
    "ExecuteTime": {
     "end_time": "2020-09-17T22:16:22.204831Z",
     "start_time": "2020-09-17T22:16:22.041545Z"
    }
   },
   "outputs": [],
   "source": [
    "kevin_ic_05 = health_region_kevin.query(\"IC > 0.5\")#.groupby(place_id)\n",
    "kevin_ic_05 = kevin_ic_05.loc[kevin_ic_05.groupby(place_id).last_updated.idxmax()][[place_id, \"last_updated\"]]"
   ]
  },
  {
   "cell_type": "code",
   "execution_count": 194,
   "metadata": {
    "ExecuteTime": {
     "end_time": "2020-09-17T22:16:23.328820Z",
     "start_time": "2020-09-17T22:16:23.227984Z"
    }
   },
   "outputs": [
    {
     "data": {
      "text/html": [
       "<div>\n",
       "<style scoped>\n",
       "    .dataframe tbody tr th:only-of-type {\n",
       "        vertical-align: middle;\n",
       "    }\n",
       "\n",
       "    .dataframe tbody tr th {\n",
       "        vertical-align: top;\n",
       "    }\n",
       "\n",
       "    .dataframe thead th {\n",
       "        text-align: right;\n",
       "    }\n",
       "</style>\n",
       "<table border=\"1\" class=\"dataframe\">\n",
       "  <thead>\n",
       "    <tr style=\"text-align: right;\">\n",
       "      <th></th>\n",
       "      <th>health_region_id</th>\n",
       "      <th>last_updated_kevin</th>\n",
       "      <th>last_updated_epiestim</th>\n",
       "      <th>diff</th>\n",
       "    </tr>\n",
       "  </thead>\n",
       "  <tbody>\n",
       "    <tr>\n",
       "      <th>0</th>\n",
       "      <td>11001</td>\n",
       "      <td>2020-08-06</td>\n",
       "      <td>2020-05-27</td>\n",
       "      <td>71 days</td>\n",
       "    </tr>\n",
       "    <tr>\n",
       "      <th>1</th>\n",
       "      <td>11002</td>\n",
       "      <td>2020-09-06</td>\n",
       "      <td>2020-06-09</td>\n",
       "      <td>89 days</td>\n",
       "    </tr>\n",
       "    <tr>\n",
       "      <th>2</th>\n",
       "      <td>11003</td>\n",
       "      <td>2020-08-07</td>\n",
       "      <td>2020-06-01</td>\n",
       "      <td>67 days</td>\n",
       "    </tr>\n",
       "    <tr>\n",
       "      <th>3</th>\n",
       "      <td>11004</td>\n",
       "      <td>2020-06-03</td>\n",
       "      <td>2020-04-26</td>\n",
       "      <td>38 days</td>\n",
       "    </tr>\n",
       "    <tr>\n",
       "      <th>4</th>\n",
       "      <td>11005</td>\n",
       "      <td>2020-09-06</td>\n",
       "      <td>2020-06-13</td>\n",
       "      <td>85 days</td>\n",
       "    </tr>\n",
       "    <tr>\n",
       "      <th>...</th>\n",
       "      <td>...</td>\n",
       "      <td>...</td>\n",
       "      <td>...</td>\n",
       "      <td>...</td>\n",
       "    </tr>\n",
       "    <tr>\n",
       "      <th>442</th>\n",
       "      <td>52015</td>\n",
       "      <td>2020-06-25</td>\n",
       "      <td>2020-06-06</td>\n",
       "      <td>19 days</td>\n",
       "    </tr>\n",
       "    <tr>\n",
       "      <th>443</th>\n",
       "      <td>52016</td>\n",
       "      <td>2020-08-16</td>\n",
       "      <td>2020-06-07</td>\n",
       "      <td>70 days</td>\n",
       "    </tr>\n",
       "    <tr>\n",
       "      <th>444</th>\n",
       "      <td>52017</td>\n",
       "      <td>2020-09-04</td>\n",
       "      <td>2020-06-24</td>\n",
       "      <td>72 days</td>\n",
       "    </tr>\n",
       "    <tr>\n",
       "      <th>445</th>\n",
       "      <td>52018</td>\n",
       "      <td>2020-09-06</td>\n",
       "      <td>2020-07-04</td>\n",
       "      <td>64 days</td>\n",
       "    </tr>\n",
       "    <tr>\n",
       "      <th>446</th>\n",
       "      <td>53001</td>\n",
       "      <td>2020-05-20</td>\n",
       "      <td>2020-03-27</td>\n",
       "      <td>54 days</td>\n",
       "    </tr>\n",
       "  </tbody>\n",
       "</table>\n",
       "<p>447 rows × 4 columns</p>\n",
       "</div>"
      ],
      "text/plain": [
       "     health_region_id last_updated_kevin last_updated_epiestim    diff\n",
       "0               11001         2020-08-06            2020-05-27 71 days\n",
       "1               11002         2020-09-06            2020-06-09 89 days\n",
       "2               11003         2020-08-07            2020-06-01 67 days\n",
       "3               11004         2020-06-03            2020-04-26 38 days\n",
       "4               11005         2020-09-06            2020-06-13 85 days\n",
       "..                ...                ...                   ...     ...\n",
       "442             52015         2020-06-25            2020-06-06 19 days\n",
       "443             52016         2020-08-16            2020-06-07 70 days\n",
       "444             52017         2020-09-04            2020-06-24 72 days\n",
       "445             52018         2020-09-06            2020-07-04 64 days\n",
       "446             53001         2020-05-20            2020-03-27 54 days\n",
       "\n",
       "[447 rows x 4 columns]"
      ]
     },
     "execution_count": 194,
     "metadata": {},
     "output_type": "execute_result"
    }
   ],
   "source": [
    "compare_ic_05 = (kevin_ic_05\n",
    ".merge(epiestim_ic_05, on=place_id, suffixes=(\"_kevin\", \"_epiestim\"))\n",
    ".assign(diff=lambda df: df.last_updated_kevin - df.last_updated_epiestim))\n",
    "\n",
    "compare_ic_05"
   ]
  },
  {
   "cell_type": "code",
   "execution_count": 195,
   "metadata": {
    "ExecuteTime": {
     "end_time": "2020-09-17T22:16:24.922647Z",
     "start_time": "2020-09-17T22:16:24.847625Z"
    },
    "scrolled": true
   },
   "outputs": [
    {
     "data": {
      "text/plain": [
       "count                           447\n",
       "mean     57 days 09:10:52.348993289\n",
       "std      27 days 22:36:24.264246982\n",
       "min              -53 days +00:00:00\n",
       "25%                41 days 00:00:00\n",
       "50%                60 days 00:00:00\n",
       "75%                74 days 00:00:00\n",
       "max               126 days 00:00:00\n",
       "Name: diff, dtype: object"
      ]
     },
     "execution_count": 195,
     "metadata": {},
     "output_type": "execute_result"
    }
   ],
   "source": [
    "compare_ic_05[\"diff\"].describe()"
   ]
  }
 ],
 "metadata": {
  "kernelspec": {
   "display_name": "internal_analysis",
   "language": "python",
   "name": "internal_analysis"
  },
  "language_info": {
   "codemirror_mode": {
    "name": "ipython",
    "version": 3
   },
   "file_extension": ".py",
   "mimetype": "text/x-python",
   "name": "python",
   "nbconvert_exporter": "python",
   "pygments_lexer": "ipython3",
   "version": "3.6.9"
  },
  "toc": {
   "base_numbering": 1,
   "nav_menu": {},
   "number_sections": true,
   "sideBar": true,
   "skip_h1_title": true,
   "title_cell": "Table of Contents",
   "title_sidebar": "Contents",
   "toc_cell": false,
   "toc_position": {
    "height": "calc(100% - 180px)",
    "left": "10px",
    "top": "150px",
    "width": "198px"
   },
   "toc_section_display": true,
   "toc_window_display": true
  }
 },
 "nbformat": 4,
 "nbformat_minor": 2
}
