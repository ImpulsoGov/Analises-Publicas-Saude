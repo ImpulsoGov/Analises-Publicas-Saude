{
 "cells": [
  {
   "cell_type": "markdown",
   "metadata": {
    "ExecuteTime": {
     "end_time": "2020-09-22T18:05:33.035987Z",
     "start_time": "2020-09-22T18:05:33.027507Z"
    }
   },
   "source": [
    "# Divulgação Farol v2\n",
    "\n",
    "Temas para pauta:\n",
    "\n",
    "**Novos casos nas capitais por 100 mil habitantes**\n",
    "- Maior gravidade da doença em capitais fora do sudeste\n",
    "- Nível de hoje de novo casos maior que em abril: não estamos no novo normal\n",
    "- Explorar o que pode explicar a diferença nas capitais: expansão de leitos? Qual o nível de subnotificação?\n",
    "\n",
    "**Distanciamento social**\n",
    "- Hipótese: estamos voltando ao nível pré-pandemia\n",
    "- Entender os recortes para usarmos (capitais x interior? regiões?)\n",
    "\n",
    "**Níveis de Alerta nas capitais**\n",
    "\n",
    "---\n",
    "\n",
    "Atualizações:\n",
    "\n",
    "- 1a versão: 22/09/2020\n",
    "- 2a versão: 16/10/2020\n",
    "- 3a versão: 24/11/2020"
   ]
  },
  {
   "cell_type": "markdown",
   "metadata": {
    "ExecuteTime": {
     "end_time": "2020-09-22T18:19:14.806940Z",
     "start_time": "2020-09-22T18:19:14.787174Z"
    }
   },
   "source": [
    "## Pacotes"
   ]
  },
  {
   "cell_type": "code",
   "execution_count": 1,
   "metadata": {
    "ExecuteTime": {
     "end_time": "2020-10-29T15:40:40.871610Z",
     "start_time": "2020-10-29T15:40:37.947103Z"
    }
   },
   "outputs": [
    {
     "data": {
      "text/html": [
       "        <script type=\"text/javascript\">\n",
       "        window.PlotlyConfig = {MathJaxConfig: 'local'};\n",
       "        if (window.MathJax) {MathJax.Hub.Config({SVG: {font: \"STIX-Web\"}});}\n",
       "        if (typeof require !== 'undefined') {\n",
       "        require.undef(\"plotly\");\n",
       "        requirejs.config({\n",
       "            paths: {\n",
       "                'plotly': ['https://cdn.plot.ly/plotly-latest.min']\n",
       "            }\n",
       "        });\n",
       "        require(['plotly'], function(Plotly) {\n",
       "            window._Plotly = Plotly;\n",
       "        });\n",
       "        }\n",
       "        </script>\n",
       "        "
      ]
     },
     "metadata": {},
     "output_type": "display_data"
    },
    {
     "data": {
      "text/html": [
       "        <script type=\"text/javascript\">\n",
       "        window.PlotlyConfig = {MathJaxConfig: 'local'};\n",
       "        if (window.MathJax) {MathJax.Hub.Config({SVG: {font: \"STIX-Web\"}});}\n",
       "        if (typeof require !== 'undefined') {\n",
       "        require.undef(\"plotly\");\n",
       "        requirejs.config({\n",
       "            paths: {\n",
       "                'plotly': ['https://cdn.plot.ly/plotly-latest.min']\n",
       "            }\n",
       "        });\n",
       "        require(['plotly'], function(Plotly) {\n",
       "            window._Plotly = Plotly;\n",
       "        });\n",
       "        }\n",
       "        </script>\n",
       "        "
      ]
     },
     "metadata": {},
     "output_type": "display_data"
    }
   ],
   "source": [
    "import plotly.offline\n",
    "import plotly.graph_objs as go\n",
    "import cufflinks as cf\n",
    "\n",
    "cf.go_offline()\n",
    "cf.set_config_file(offline=False, world_readable=True)\n",
    "\n",
    "plotly.offline.init_notebook_mode(connected=True)\n",
    "import pandas as pd\n",
    "import numpy as np\n",
    "\n",
    "import os\n",
    "import yaml\n",
    "import requests"
   ]
  },
  {
   "cell_type": "markdown",
   "metadata": {},
   "source": [
    "## Código IBGE das capitais"
   ]
  },
  {
   "cell_type": "code",
   "execution_count": 2,
   "metadata": {
    "ExecuteTime": {
     "end_time": "2020-10-29T15:40:40.913936Z",
     "start_time": "2020-10-29T15:40:40.876312Z"
    }
   },
   "outputs": [
    {
     "data": {
      "text/plain": [
       "{'SE': 'Nordeste',\n",
       " 'CE': 'Nordeste',\n",
       " 'PB': 'Nordeste',\n",
       " 'AL': 'Nordeste',\n",
       " 'RN': 'Nordeste',\n",
       " 'PE': 'Nordeste',\n",
       " 'BA': 'Nordeste',\n",
       " 'MA': 'Nordeste',\n",
       " 'PI': 'Nordeste',\n",
       " 'MG': 'Sudeste',\n",
       " 'RJ': 'Sudeste',\n",
       " 'SP': 'Sudeste',\n",
       " 'ES': 'Sudeste',\n",
       " 'PA': 'Norte',\n",
       " 'RR': 'Norte',\n",
       " 'AP': 'Norte',\n",
       " 'AM': 'Norte',\n",
       " 'TO': 'Norte',\n",
       " 'RO': 'Norte',\n",
       " 'AC': 'Norte',\n",
       " 'DF': 'Centro-Oeste',\n",
       " 'MS': 'Centro-Oeste',\n",
       " 'MT': 'Centro-Oeste',\n",
       " 'GO': 'Centro-Oeste',\n",
       " 'PR': 'Sul',\n",
       " 'SC': 'Sul',\n",
       " 'RS': 'Sul'}"
      ]
     },
     "execution_count": 2,
     "metadata": {},
     "output_type": "execute_result"
    }
   ],
   "source": [
    "ibge_capitais = {\n",
    "    \"Rio Branco\": 1200401,\n",
    "    \"Maceió\": 2704302,\n",
    "    \"Macapá\": 1600303,\n",
    "    \"Manaus\": 1302603,\n",
    "    \"Salvador\": 2927408,\n",
    "    \"Fortaleza\": 2304400,\n",
    "    \"Brasília\": 5300108,\n",
    "    \"Vitória\": 3205309,\n",
    "    \"Goiânia\": 5208707,\n",
    "    \"São Luís\": 2111300,\n",
    "    \"Cuiabá\": 5103403,\n",
    "    \"Campo Grande\": 5002704,\n",
    "    \"Belo Horizonte\": 3106200,\n",
    "    \"Belém\": 1501402,\n",
    "    \"João Pessoa\": 2507507,\n",
    "    \"Curitiba\": 4106902,\n",
    "    \"Recife\": 2611606,\n",
    "    \"Teresina\": 2211001,\n",
    "    \"Rio de Janeiro\": 3304557,\n",
    "    \"Natal\": 2408102,\n",
    "    \"Porto Alegre\": 4314902,\n",
    "    \"Porto Velho\": 1100205,\n",
    "    \"Boa Vista\": 1400100,\n",
    "    \"Florianópolis\": 4205407,\n",
    "    \"São Paulo\": 3550308,\n",
    "    \"Aracaju\": 2800308,\n",
    "    \"Palmas\": 1721000\n",
    "}\n",
    "\n",
    "regions = {\n",
    "    \"Nordeste\": [\n",
    "        \"SE\",\n",
    "        \"CE\",\n",
    "        \"PB\",\n",
    "        \"AL\",\n",
    "        \"RN\",\n",
    "        \"PE\",\n",
    "        \"BA\",\n",
    "        \"MA\",\n",
    "        \"PI\",\n",
    "    ],\n",
    "    \"Sudeste\": [\n",
    "        \"MG\",\n",
    "        \"RJ\",\n",
    "        \"SP\",\n",
    "        \"ES\"\n",
    "    ],\n",
    "    \"Norte\": [\n",
    "        \"PA\",\n",
    "        \"RR\",\n",
    "        \"AP\",\n",
    "        \"AM\",\n",
    "        \"TO\",\n",
    "        \"RO\",\n",
    "        \"AC\"\n",
    "    ],\n",
    "    \"Centro-Oeste\": [\n",
    "        \"DF\",\n",
    "        \"MS\",\n",
    "        \"MT\",\n",
    "        \"GO\"\n",
    "    ],\n",
    "    \"Sul\": [\n",
    "        \"PR\",\n",
    "        \"SC\",\n",
    "        \"RS\"\n",
    "    ]\n",
    "}\n",
    "\n",
    "flat_regions = dict()\n",
    "\n",
    "for region in regions.keys():\n",
    "    flat_regions.update({uf: region for uf in regions[region]})\n",
    "    \n",
    "flat_regions"
   ]
  },
  {
   "cell_type": "markdown",
   "metadata": {
    "ExecuteTime": {
     "end_time": "2020-09-22T18:20:06.806850Z",
     "start_time": "2020-09-22T18:20:06.783159Z"
    }
   },
   "source": [
    "## Novos casos nas capitais\n",
    "\n",
    "- Capitais fora do sudeste apresentam maior incidência de casos por 100mil habitantes."
   ]
  },
  {
   "cell_type": "markdown",
   "metadata": {},
   "source": [
    "### Importa dados"
   ]
  },
  {
   "cell_type": "code",
   "execution_count": 3,
   "metadata": {},
   "outputs": [],
   "source": [
    "day = 16\n",
    "month = 11\n",
    "year = 2020\n",
    "analysis_date = f\"{year}{month}{day}\""
   ]
  },
  {
   "cell_type": "markdown",
   "metadata": {},
   "source": [
    "#### Baixar dados novamente"
   ]
  },
  {
   "cell_type": "code",
   "execution_count": 4,
   "metadata": {
    "ExecuteTime": {
     "end_time": "2020-10-29T15:40:40.921058Z",
     "start_time": "2020-10-29T15:40:40.918268Z"
    }
   },
   "outputs": [],
   "source": [
    "# Reload data from source\n",
    "df = (pd.read_csv(\"http://datasource.coronacidades.org/br/cities/cases/full\")\n",
    "         .assign(last_updated=lambda df: pd.to_datetime(df[\"last_updated\"])))\n",
    "\n",
    "# Create New Data Directory if Necessary\n",
    "new_data_path = \"{}/data/{}\".format(os.getcwd(), analysis_date)\n",
    "if not os.path.exists(new_data_path):\n",
    "    os.mkdir(new_data_path)\n",
    "\n",
    "# Save capitals data to CSV\n",
    "capitals = df[df[\"city_id\"].isin(ibge_capitais.values())]\n",
    "capitals.to_csv(\"data/{}/br_capitals_cases_{}.csv\".format(analysis_date, analysis_date))"
   ]
  },
  {
   "cell_type": "markdown",
   "metadata": {},
   "source": [
    "#### Carregar dados existentes"
   ]
  },
  {
   "cell_type": "code",
   "execution_count": null,
   "metadata": {
    "ExecuteTime": {
     "end_time": "2020-10-29T15:40:41.073623Z",
     "start_time": "2020-10-29T15:40:40.927176Z"
    },
    "scrolled": true
   },
   "outputs": [],
   "source": [
    "capitals = (pd.read_csv(f\"data/{analysis_date}/br_capitals_cases_{analysis_date}.csv\", index_col=0)\n",
    "           .assign(last_updated=lambda df: pd.to_datetime(df[\"last_updated\"])))\n",
    "\n",
    "capitals.info()"
   ]
  },
  {
   "cell_type": "code",
   "execution_count": null,
   "metadata": {
    "ExecuteTime": {
     "end_time": "2020-10-29T15:40:41.084232Z",
     "start_time": "2020-10-29T15:40:41.075233Z"
    }
   },
   "outputs": [],
   "source": [
    "capitals[\"last_updated\"].max()"
   ]
  },
  {
   "cell_type": "markdown",
   "metadata": {},
   "source": [
    "#### Remove datas com valores negativos (inconsistências de reporte)\n",
    "\n",
    "- 4 datas com novos casos negativos"
   ]
  },
  {
   "cell_type": "code",
   "execution_count": null,
   "metadata": {
    "ExecuteTime": {
     "end_time": "2020-10-29T15:40:41.131333Z",
     "start_time": "2020-10-29T15:40:41.086365Z"
    },
    "scrolled": true
   },
   "outputs": [],
   "source": [
    "capitals[capitals[\"daily_cases_mavg\"] < 0][[\"last_updated\", \"city_id\", \"city_name\", \"population\", \n",
    "                                            \"daily_cases\", \"daily_cases_mavg\", \"daily_cases_mavg_100k\"]]"
   ]
  },
  {
   "cell_type": "code",
   "execution_count": null,
   "metadata": {
    "ExecuteTime": {
     "end_time": "2020-10-29T15:40:41.144121Z",
     "start_time": "2020-10-29T15:40:41.133515Z"
    }
   },
   "outputs": [],
   "source": [
    "capitals = capitals[capitals[\"daily_cases_mavg\"] > 0]"
   ]
  },
  {
   "cell_type": "markdown",
   "metadata": {},
   "source": [
    "#### Filtra a partir de 27 de março (todas as capitais com casos)"
   ]
  },
  {
   "cell_type": "code",
   "execution_count": null,
   "metadata": {
    "ExecuteTime": {
     "end_time": "2020-10-29T15:40:41.165004Z",
     "start_time": "2020-10-29T15:40:41.149525Z"
    }
   },
   "outputs": [],
   "source": [
    "first_date = capitals.groupby(\"city_name\")[\"last_updated\"].min().max()\n",
    "first_date"
   ]
  },
  {
   "cell_type": "code",
   "execution_count": null,
   "metadata": {
    "ExecuteTime": {
     "end_time": "2020-10-29T15:40:41.180265Z",
     "start_time": "2020-10-29T15:40:41.167026Z"
    }
   },
   "outputs": [],
   "source": [
    "capitals = capitals[capitals[\"last_updated\"] > first_date]"
   ]
  },
  {
   "cell_type": "code",
   "execution_count": null,
   "metadata": {
    "ExecuteTime": {
     "end_time": "2020-10-29T15:40:41.191183Z",
     "start_time": "2020-10-29T15:40:41.181964Z"
    }
   },
   "outputs": [],
   "source": [
    "last_updated = capitals[\"last_updated\"].max().strftime(\"%d/%m/%Y\")\n",
    "last_updated"
   ]
  },
  {
   "cell_type": "markdown",
   "metadata": {},
   "source": [
    "### Distribuição de novos casos \n",
    "\n",
    "Gráficos:\n",
    "- Média semanal de novos casos /100 mil hab. nas capitais no tempo\n",
    "- Mapa de calor da média semanal de novos casos /100 mil hab. nas capitais no tempo\n",
    "- Mapa de calor da média semanal de novos casos /100 mil hab. **em log** nas capitais no tempo\n",
    "- Mapa de calor da média semanal de novos casos /100 mil hab. **normalizado** nas capitais no tempo"
   ]
  },
  {
   "cell_type": "code",
   "execution_count": null,
   "metadata": {
    "ExecuteTime": {
     "end_time": "2020-10-29T15:40:44.155851Z",
     "start_time": "2020-10-29T15:40:41.193334Z"
    }
   },
   "outputs": [],
   "source": [
    "title = f\"Média semanal de novos casos /100 mil hab. nas capitais (até {last_updated})\"\n",
    "capitals.pivot_table(index=\"last_updated\", \n",
    "                     columns=\"city_name\", \n",
    "                     values=\"daily_cases_mavg_100k\").iplot(kind=\"scatter\", \n",
    "                                                           theme=\"white\",\n",
    "                                                           title=title)"
   ]
  },
  {
   "cell_type": "code",
   "execution_count": null,
   "metadata": {
    "ExecuteTime": {
     "end_time": "2020-10-29T15:40:44.170118Z",
     "start_time": "2020-10-29T15:40:44.158043Z"
    }
   },
   "outputs": [],
   "source": [
    "def plot_heatmap(df, title, colorscale=\"temps\", is_reverse=False):\n",
    "    data = go.Heatmap(\n",
    "        {\"z\": df.values.tolist(), \"x\": df.columns.tolist(), \"y\": df.index.tolist()}, \n",
    "        colorscale=colorscale,\n",
    "        showscale=True,\n",
    "        reversescale=is_reverse\n",
    "    )\n",
    "    layout = go.Layout(\n",
    "        title=title,\n",
    "        height=800,\n",
    "        margin={\"l\": 100, \"r\": 100, \"t\": 100},\n",
    "        xaxis=dict(domain=[0, 0.8]),\n",
    "        yaxis=dict(domain=[0, 1], tickmode=\"linear\"),\n",
    "        # yaxis2=dict(tickmode=\"linear\", anchor=\"x2\"),\n",
    "    )\n",
    "\n",
    "    return go.Figure(data=data, layout=layout)"
   ]
  },
  {
   "cell_type": "markdown",
   "metadata": {},
   "source": [
    "### Heatmap absoluto"
   ]
  },
  {
   "cell_type": "code",
   "execution_count": null,
   "metadata": {
    "ExecuteTime": {
     "end_time": "2020-10-29T15:40:44.196121Z",
     "start_time": "2020-10-29T15:40:44.175183Z"
    }
   },
   "outputs": [],
   "source": [
    "# ordena pelo pico mais recente\n",
    "pivot = capitals.pivot(index=\"city_name\", columns=\"last_updated\", values=\"daily_cases_mavg_100k\")\n",
    "# pivot = pivot.apply(lambda x: x / x.max(), axis=1)\n",
    "pivot = pivot.loc[pivot.idxmax(axis=1).sort_values().index]"
   ]
  },
  {
   "cell_type": "code",
   "execution_count": null,
   "metadata": {
    "ExecuteTime": {
     "end_time": "2020-10-29T15:40:44.649298Z",
     "start_time": "2020-10-29T15:40:44.197678Z"
    }
   },
   "outputs": [],
   "source": [
    "title = f\"Mapa de calor da média semanal de novos casos / 100 mil hab. nas capitais (até {last_updated})\"\n",
    "plot_heatmap(pivot, title=title)"
   ]
  },
  {
   "cell_type": "markdown",
   "metadata": {},
   "source": [
    "### Tabela de comparação mais recente e máximo das capitais"
   ]
  },
  {
   "cell_type": "code",
   "execution_count": null,
   "metadata": {
    "ExecuteTime": {
     "end_time": "2020-10-29T15:40:44.707824Z",
     "start_time": "2020-10-29T15:40:44.651465Z"
    }
   },
   "outputs": [],
   "source": [
    "table = (capitals.loc[capitals.groupby(\"city_name\")[\"last_updated\"].idxmax()][\n",
    "    [\n",
    "        \"city_name\", \n",
    "        \"state_id\",\n",
    "        \"population\", \n",
    "        \"daily_cases_mavg_100k\",\n",
    "        \"last_updated\"\n",
    "    ]\n",
    "]\n",
    " .sort_values([\"daily_cases_mavg_100k\"], ascending=False)\n",
    " .set_index(\"city_name\")\n",
    ")\n",
    "\n",
    "table = table.assign(region=table[\"state_id\"].map(flat_regions))\n",
    "table"
   ]
  },
  {
   "cell_type": "code",
   "execution_count": null,
   "metadata": {
    "ExecuteTime": {
     "end_time": "2020-10-29T15:40:44.717975Z",
     "start_time": "2020-10-29T15:40:44.711190Z"
    },
    "scrolled": true
   },
   "outputs": [],
   "source": [
    "order = table.index.values\n",
    "order"
   ]
  },
  {
   "cell_type": "code",
   "execution_count": null,
   "metadata": {
    "ExecuteTime": {
     "end_time": "2020-10-29T15:40:44.832181Z",
     "start_time": "2020-10-29T15:40:44.720688Z"
    }
   },
   "outputs": [],
   "source": [
    "# Maximo\n",
    "table_max = pd.DataFrame(capitals.groupby(\"city_name\")[\"daily_cases_mavg_100k\"].max().loc[order])\n",
    "\n",
    "# Data do maximo\n",
    "table_max[\"last_updated\"] = capitals.set_index(\"last_updated\").groupby(\"city_name\")[\"daily_cases_mavg_100k\"].idxmax().loc[order]\n",
    "\n",
    "table_compare = (table.join(table_max, rsuffix=\"_max\")\n",
    "                 .assign(rank= lambda df : df[\"daily_cases_mavg_100k\"].rank(ascending=False))\n",
    "                 .sort_values(\"daily_cases_mavg_100k\", ascending=False)\n",
    "                 .reset_index())\n",
    "\n",
    "table_cols = {\n",
    "    \"rank\": \"Ranking\",\n",
    "    \"city_name\": \"Capital\",\n",
    "    \"state_id\": \"Estado\",\n",
    "    \"region\": \"Região\",\n",
    "    \"population\": \"População\",\n",
    "    \"daily_cases_mavg_100k\": \"Média de casos por 100mil hab. (+ recente)\",\n",
    "    \"daily_cases_mavg_100k_max\": \"Média de casos por 100mil hab. (máximo)\",\n",
    "    \"last_updated\": \"Data mais recente\",\n",
    "    \"last_updated_max\": \"Data do máximo (pico)\"\n",
    "}\n",
    "\n",
    "table_compare = table_compare.rename(columns=table_cols)[table_cols.values()]\n",
    "table_compare"
   ]
  },
  {
   "cell_type": "markdown",
   "metadata": {},
   "source": [
    "#### Gravar dados de casos por 100 mil habitantes em capitais"
   ]
  },
  {
   "cell_type": "code",
   "execution_count": null,
   "metadata": {
    "ExecuteTime": {
     "end_time": "2020-10-29T15:40:44.847913Z",
     "start_time": "2020-10-29T15:40:44.833653Z"
    }
   },
   "outputs": [],
   "source": [
    "table_compare.to_csv(\"data/{}/br_capitals_daily_cases_mavg_100k_last_{}.csv\".format(analysis_date, analysis_date))"
   ]
  },
  {
   "cell_type": "markdown",
   "metadata": {},
   "source": [
    "### Heatmap em escala log10"
   ]
  },
  {
   "cell_type": "code",
   "execution_count": null,
   "metadata": {
    "ExecuteTime": {
     "end_time": "2020-10-29T15:40:45.154061Z",
     "start_time": "2020-10-29T15:40:44.850019Z"
    },
    "scrolled": false
   },
   "outputs": [],
   "source": [
    "capitals[\"daily_cases_mavg_100k_log\"] = capitals[\"daily_cases_mavg_100k\"].apply(lambda x: np.log10(x+1))\n",
    "\n",
    "# ordena pelo pico mais recente\n",
    "pivot = capitals.pivot(index=\"city_name\", columns=\"last_updated\", values=\"daily_cases_mavg_100k_log\")\n",
    "# pivot = pivot.apply(lambda x: x / x.max(), axis=1)\n",
    "pivot = pivot.loc[pivot.idxmax(axis=1).sort_values().index]\n",
    "\n",
    "title = f\"\"\"\n",
    "Mapa de calor da média semanal de novos casos / 100 mil hab.\n",
    "nas capitais (até {last_updated})\"\"\"\n",
    "\n",
    "plot_heatmap(pivot, title=title)"
   ]
  },
  {
   "cell_type": "code",
   "execution_count": null,
   "metadata": {
    "ExecuteTime": {
     "end_time": "2020-10-29T15:40:45.163190Z",
     "start_time": "2020-10-29T15:40:45.156243Z"
    }
   },
   "outputs": [],
   "source": [
    "order = pivot.index\n",
    "order"
   ]
  },
  {
   "cell_type": "markdown",
   "metadata": {},
   "source": [
    "## Distanciamento social nas capitais"
   ]
  },
  {
   "cell_type": "markdown",
   "metadata": {},
   "source": [
    "#### Baixar dados novamente"
   ]
  },
  {
   "cell_type": "code",
   "execution_count": null,
   "metadata": {
    "ExecuteTime": {
     "end_time": "2020-10-29T15:40:45.243559Z",
     "start_time": "2020-10-29T15:40:45.165153Z"
    }
   },
   "outputs": [],
   "source": [
    "# Reload data from source\n",
    "df_inloco = (pd.read_csv(\"http://datasource.coronacidades.org/inloco/cities/ufVhdASsYeoxVgcg7Fvih8J3HnbZPHbp\")\n",
    "             .assign(last_updated=lambda df: pd.to_datetime(df[\"dt\"])))\n",
    "\n",
    "# Create New Data Directory if Necessary\n",
    "new_data_path = \"{}/data/{}\".format(os.getcwd(), analysis_date)\n",
    "if not os.path.exists(new_data_path):\n",
    "    os.mkdir(new_data_path)\n",
    "\n",
    "# Save capitals inloco data to CSV\n",
    "capitals_inloco = df_inloco[df_inloco[\"city_id\"].isin(ibge_capitais.values())].dropna()\n",
    "capitals_inloco.to_csv(\"data/{}/br_capitals_inloco_{}.csv\".format(analysis_date, analysis_date))\n",
    "capitals_inloco.info()"
   ]
  },
  {
   "cell_type": "markdown",
   "metadata": {},
   "source": [
    "#### Carregar dados existentes"
   ]
  },
  {
   "cell_type": "code",
   "execution_count": null,
   "metadata": {},
   "outputs": [],
   "source": [
    "capitals_inloco = (pd.read_csv(f\"data/{analysis_date}/br_capitals_inloco_{analysis_date}.csv\", index_col=0)\n",
    "                  .assign(last_updated=lambda df: pd.to_datetime(df[\"dt\"])))\n",
    "capitals_inloco.info()"
   ]
  },
  {
   "cell_type": "code",
   "execution_count": null,
   "metadata": {
    "ExecuteTime": {
     "end_time": "2020-10-29T15:40:45.259822Z",
     "start_time": "2020-10-29T15:40:45.245664Z"
    }
   },
   "outputs": [],
   "source": [
    "last_updated_inloco = capitals_inloco[\"last_updated\"].max().strftime(\"%d/%m/%y\")\n",
    "last_updated_inloco"
   ]
  },
  {
   "cell_type": "markdown",
   "metadata": {},
   "source": [
    "### Distribuição e valores da série"
   ]
  },
  {
   "cell_type": "code",
   "execution_count": null,
   "metadata": {
    "ExecuteTime": {
     "end_time": "2020-10-29T15:47:50.554500Z",
     "start_time": "2020-10-29T15:47:50.481520Z"
    }
   },
   "outputs": [],
   "source": [
    "data = pd.DataFrame(index=capitals_inloco[[\"city_name\"]].drop_duplicates().city_name)\n",
    "\n",
    "for i in range(2, 11):\n",
    "    data[f\"2020-0{i}\"] = capitals_inloco[capitals_inloco[\"last_updated\"].dt.month == i].groupby(\"city_name\").mean()[[\"isolated\"]]\n",
    "\n",
    "100*data.mean()"
   ]
  },
  {
   "cell_type": "code",
   "execution_count": null,
   "metadata": {
    "ExecuteTime": {
     "end_time": "2020-10-29T15:55:41.345537Z",
     "start_time": "2020-10-29T15:55:41.284258Z"
    },
    "scrolled": false
   },
   "outputs": [],
   "source": [
    "(100*data).style.background_gradient(cmap='Greens')"
   ]
  },
  {
   "cell_type": "markdown",
   "metadata": {},
   "source": [
    "#### Gravar Dados de Médias"
   ]
  },
  {
   "cell_type": "code",
   "execution_count": null,
   "metadata": {
    "ExecuteTime": {
     "end_time": "2020-10-29T16:08:00.813653Z",
     "start_time": "2020-10-29T16:08:00.798035Z"
    }
   },
   "outputs": [],
   "source": [
    "(100*data).to_csv(\"data/{}/br_capitals_inloco_months.csv\".format(analysis_date))"
   ]
  },
  {
   "cell_type": "markdown",
   "metadata": {},
   "source": [
    "### Comparação com série de novos casos"
   ]
  },
  {
   "cell_type": "code",
   "execution_count": null,
   "metadata": {
    "ExecuteTime": {
     "end_time": "2020-10-29T15:40:45.529007Z",
     "start_time": "2020-10-29T15:40:45.267724Z"
    }
   },
   "outputs": [],
   "source": [
    "compare_cases_inloco = capitals_inloco.sort_values([\"city_name\", \"last_updated\"]).reset_index()\n",
    "# compare_case_inloco = compare_cases_inloco[capitals_inloco[\"last_updated\"] > first_date]\n",
    "compare_cases_inloco[\"isolated_mavg\"] = 10*compare_cases_inloco.groupby(\"city_name\").rolling(7,7,on=\"last_updated\")[\"isolated\"].mean().reset_index(drop=True)"
   ]
  },
  {
   "cell_type": "code",
   "execution_count": null,
   "metadata": {
    "ExecuteTime": {
     "end_time": "2020-10-29T15:40:45.560179Z",
     "start_time": "2020-10-29T15:40:45.531541Z"
    },
    "scrolled": true
   },
   "outputs": [],
   "source": [
    "compare_cases_inloco.info()"
   ]
  },
  {
   "cell_type": "code",
   "execution_count": null,
   "metadata": {
    "ExecuteTime": {
     "end_time": "2020-10-29T15:40:45.903061Z",
     "start_time": "2020-10-29T15:40:45.561807Z"
    },
    "scrolled": false
   },
   "outputs": [],
   "source": [
    "# ordena pelo pico mais recente\n",
    "pivot = compare_cases_inloco.pivot(index=\"city_name\", columns=\"last_updated\", values=\"isolated_mavg\")\n",
    "# pivot = pivot.apply(lambda x: x / x.max(), axis=1)\n",
    "pivot = pivot.loc[order]\n",
    "\n",
    "title = f\"Mapa de calor da média móvel do distanciamento social nas capitais (até {last_updated_inloco})\"\n",
    "plot_heatmap(pivot, title=title, is_reverse=True)"
   ]
  },
  {
   "cell_type": "markdown",
   "metadata": {},
   "source": [
    "## Níveis de Alerta"
   ]
  },
  {
   "cell_type": "markdown",
   "metadata": {},
   "source": [
    "#### Baixar Dados Novamente"
   ]
  },
  {
   "cell_type": "code",
   "execution_count": null,
   "metadata": {},
   "outputs": [],
   "source": [
    "# Reload config data from source and save to CSV\n",
    "url = \"https://raw.githubusercontent.com/ImpulsoGov/farolcovid/farol-v2/src/configs/config.yaml\"\n",
    "\n",
    "config = yaml.load(requests.get(url).text, Loader=yaml.FullLoader)\n",
    "\n",
    "with open('data/config.yml', 'w') as yaml_file:\n",
    "    yaml.dump(config, yaml_file, default_flow_style=False)"
   ]
  },
  {
   "cell_type": "code",
   "execution_count": null,
   "metadata": {},
   "outputs": [],
   "source": [
    "# Reload alert level data from source\n",
    "df_alert = (pd.read_csv(\"http://datasource.coronacidades.org/br/cities/farolcovid/main\")\n",
    "            .assign(\n",
    "                last_updated_cases=lambda df: pd.to_datetime(df[\"last_updated_cases\"]),\n",
    "                overall_classification=lambda df: df[\"overall_alert\"].map(config[\"br\"][\"farolcovid\"][\"categories\"])))\n",
    "\n",
    "# Create New Data Directory if Necessary\n",
    "new_data_path = \"{}/data/{}\".format(os.getcwd(), analysis_date)\n",
    "if not os.path.exists(new_data_path):\n",
    "    os.mkdir(new_data_path)\n",
    "\n",
    "# Save alert level data to CSV\n",
    "df_alert.to_csv(\"data/{}/br_cities_farolcovid_main_{}.csv\".format(analysis_date, analysis_date))"
   ]
  },
  {
   "cell_type": "markdown",
   "metadata": {},
   "source": [
    "#### Carregar Dados Existentes"
   ]
  },
  {
   "cell_type": "code",
   "execution_count": null,
   "metadata": {
    "ExecuteTime": {
     "end_time": "2020-10-29T15:40:46.262324Z",
     "start_time": "2020-10-29T15:40:46.141247Z"
    }
   },
   "outputs": [],
   "source": [
    "config = yaml.load(open('data/config.yml', 'r'), Loader=yaml.FullLoader)\n",
    "colors = dict(zip(config[\"br\"][\"farolcovid\"][\"categories\"].values(), \n",
    "                  [\"#0990A7\", \"#F7B502\", \"#F77800\", \"#F22E3E\"]))\n",
    "colors"
   ]
  },
  {
   "cell_type": "code",
   "execution_count": null,
   "metadata": {
    "ExecuteTime": {
     "end_time": "2020-10-29T15:40:46.420126Z",
     "start_time": "2020-10-29T15:40:46.264357Z"
    }
   },
   "outputs": [],
   "source": [
    "df_alert = (pd.read_csv(f\"data/{analysis_date}/br_cities_farolcovid_main_{analysis_date}.csv\", index_col=0)\n",
    "            .assign(last_updated_cases=lambda df: pd.to_datetime(df[\"last_updated_cases\"])))\n",
    "\n",
    "df_alert.info()"
   ]
  },
  {
   "cell_type": "code",
   "execution_count": null,
   "metadata": {
    "ExecuteTime": {
     "end_time": "2020-10-29T15:40:46.429199Z",
     "start_time": "2020-10-29T15:40:46.421618Z"
    }
   },
   "outputs": [],
   "source": [
    "df_alert[\"last_updated_cases\"].max()"
   ]
  },
  {
   "cell_type": "markdown",
   "metadata": {},
   "source": [
    "### Níveis nas capitais"
   ]
  },
  {
   "cell_type": "code",
   "execution_count": null,
   "metadata": {
    "ExecuteTime": {
     "end_time": "2020-10-29T15:40:46.440453Z",
     "start_time": "2020-10-29T15:40:46.435218Z"
    }
   },
   "outputs": [],
   "source": [
    "capitals_alert = df_alert[df_alert[\"city_id\"].isin(ibge_capitais.values())]"
   ]
  },
  {
   "cell_type": "code",
   "execution_count": null,
   "metadata": {
    "ExecuteTime": {
     "end_time": "2020-10-29T15:40:46.467723Z",
     "start_time": "2020-10-29T15:40:46.443182Z"
    }
   },
   "outputs": [],
   "source": [
    "capitals_alert[[\"state_id\", \"city_id\"]].drop_duplicates().set_index(\"city_id\")"
   ]
  },
  {
   "cell_type": "code",
   "execution_count": null,
   "metadata": {
    "ExecuteTime": {
     "end_time": "2020-10-29T15:40:46.477375Z",
     "start_time": "2020-10-29T15:40:46.470857Z"
    }
   },
   "outputs": [],
   "source": [
    "alert_cols = {\n",
    "    \"city_name\": \"Capital\",\n",
    "    \"state_id\": \"Estado\",\n",
    "    \"region\": \"Região\",\n",
    "    \"situation_classification\": \"SITUAÇÃO\",\n",
    "    \"control_classification\": \"CONTROLE\",\n",
    "    \"capacity_classification\": \"CAPACIDADE\",\n",
    "    \"trust_classification\": \"CONFIANÇA\",\n",
    "    \"overall_classification\": \"NÍVEL DE ALERTA\",\n",
    "}"
   ]
  },
  {
   "cell_type": "code",
   "execution_count": null,
   "metadata": {
    "ExecuteTime": {
     "end_time": "2020-10-29T15:40:46.551174Z",
     "start_time": "2020-10-29T15:40:46.483467Z"
    }
   },
   "outputs": [],
   "source": [
    "col_classif = [i for i in df_alert if \"classification\" in i]\n",
    "\n",
    "capitals_alert_classifications = (\n",
    "    capitals_alert\n",
    "    .assign(region= lambda df: df[\"state_id\"].map(flat_regions))\n",
    "    .set_index([\"city_name\", \"state_id\", \"region\"])\n",
    "    .loc[reversed(order)][col_classif]\n",
    "    .replace(config[\"br\"][\"farolcovid\"][\"categories\"])\n",
    "    .reset_index()\n",
    ")\n",
    "\n",
    "capitals_alert_classifications = capitals_alert_classifications.rename(columns=alert_cols)[alert_cols.values()]\n",
    "capitals_alert_classifications"
   ]
  },
  {
   "cell_type": "markdown",
   "metadata": {},
   "source": [
    "#### Gravar dados de níveis de alerta de capitais"
   ]
  },
  {
   "cell_type": "code",
   "execution_count": null,
   "metadata": {
    "ExecuteTime": {
     "end_time": "2020-10-29T15:40:46.557531Z",
     "start_time": "2020-10-29T15:40:46.553182Z"
    }
   },
   "outputs": [],
   "source": [
    "#capitals_alert_classifications.to_csv(f\"data/{analysis_date}/br_capitals_indicators_alert_{analysis_date}.csv\")"
   ]
  },
  {
   "cell_type": "markdown",
   "metadata": {},
   "source": [
    "### Taxa de subnotificação nas capitais"
   ]
  },
  {
   "cell_type": "markdown",
   "metadata": {},
   "source": [
    "#### Capitais em alerta Altíssimo"
   ]
  },
  {
   "cell_type": "code",
   "execution_count": null,
   "metadata": {
    "ExecuteTime": {
     "end_time": "2020-10-29T15:40:46.583994Z",
     "start_time": "2020-10-29T15:40:46.563655Z"
    }
   },
   "outputs": [],
   "source": [
    "capitals_alert[capitals_alert[\"overall_classification\"] == \"altíssimo\"][\"subnotification_rate\"].describe()"
   ]
  },
  {
   "cell_type": "markdown",
   "metadata": {},
   "source": [
    "#### Demais capitais"
   ]
  },
  {
   "cell_type": "code",
   "execution_count": null,
   "metadata": {
    "ExecuteTime": {
     "end_time": "2020-10-29T15:40:46.602738Z",
     "start_time": "2020-10-29T15:40:46.585458Z"
    }
   },
   "outputs": [],
   "source": [
    "capitals_alert[capitals_alert[\"overall_classification\"] != \"altíssimo\"][\"subnotification_rate\"].describe()"
   ]
  },
  {
   "cell_type": "markdown",
   "metadata": {},
   "source": [
    "#### Gravar dados de níveis de alerta de capitais"
   ]
  },
  {
   "cell_type": "code",
   "execution_count": null,
   "metadata": {
    "ExecuteTime": {
     "end_time": "2020-10-29T15:40:46.609172Z",
     "start_time": "2020-10-29T15:40:46.604784Z"
    }
   },
   "outputs": [],
   "source": [
    "capitals_alert_classifications.to_csv(f\"data/{analysis_date}/br_capitals_indicators_alert_{analysis_date}.csv\")"
   ]
  },
  {
   "cell_type": "markdown",
   "metadata": {},
   "source": [
    "### Níveis nas cidades por estado"
   ]
  },
  {
   "cell_type": "code",
   "execution_count": null,
   "metadata": {
    "ExecuteTime": {
     "end_time": "2020-10-29T15:40:46.720188Z",
     "start_time": "2020-10-29T15:40:46.611976Z"
    },
    "scrolled": true
   },
   "outputs": [],
   "source": [
    "# calcula percentual de cidades em cada nivel de alerta por estado\n",
    "states_alert_n_cities = (df_alert.pivot_table(index=\"state_id\", \n",
    "                     columns=\"overall_classification\", \n",
    "                     values=\"city_id\", aggfunc=\"count\")\n",
    " .fillna(0).sort_values(\"altíssimo\", ascending=False)\n",
    " .apply(lambda row: row/row.sum(), axis=1))\n",
    "\n",
    "# add total de cidades no estado\n",
    "states_alert_n_cities = states_alert_n_cities.join(df_alert.groupby([\"state_id\"]).count()[[\"city_id\"]])\n",
    "states_alert_n_cities"
   ]
  },
  {
   "cell_type": "markdown",
   "metadata": {},
   "source": [
    "#### Gravar dados para demais cidades no estado"
   ]
  },
  {
   "cell_type": "code",
   "execution_count": null,
   "metadata": {
    "ExecuteTime": {
     "end_time": "2020-10-29T15:40:46.725412Z",
     "start_time": "2020-10-29T15:40:46.721757Z"
    },
    "scrolled": false
   },
   "outputs": [],
   "source": [
    "states_alert_n_cities.to_csv(f\"data/{analysis_date}/br_states_alert_n_cities_{analysis_date}.csv\")"
   ]
  },
  {
   "cell_type": "code",
   "execution_count": null,
   "metadata": {},
   "outputs": [],
   "source": []
  }
 ],
 "metadata": {
  "kernelspec": {
   "display_name": "Python 3",
   "language": "python",
   "name": "python3"
  },
  "language_info": {
   "codemirror_mode": {
    "name": "ipython",
    "version": 3
   },
   "file_extension": ".py",
   "mimetype": "text/x-python",
   "name": "python",
   "nbconvert_exporter": "python",
   "pygments_lexer": "ipython3",
   "version": "3.9.0"
  },
  "toc": {
   "base_numbering": 1,
   "nav_menu": {},
   "number_sections": true,
   "sideBar": true,
   "skip_h1_title": true,
   "title_cell": "Table of Contents",
   "title_sidebar": "Contents",
   "toc_cell": false,
   "toc_position": {
    "height": "calc(100% - 180px)",
    "left": "10px",
    "top": "150px",
    "width": "165px"
   },
   "toc_section_display": true,
   "toc_window_display": true
  },
  "varInspector": {
   "cols": {
    "lenName": 16,
    "lenType": 16,
    "lenVar": 40
   },
   "kernels_config": {
    "python": {
     "delete_cmd_postfix": "",
     "delete_cmd_prefix": "del ",
     "library": "var_list.py",
     "varRefreshCmd": "print(var_dic_list())"
    },
    "r": {
     "delete_cmd_postfix": ") ",
     "delete_cmd_prefix": "rm(",
     "library": "var_list.r",
     "varRefreshCmd": "cat(var_dic_list()) "
    }
   },
   "types_to_exclude": [
    "module",
    "function",
    "builtin_function_or_method",
    "instance",
    "_Feature"
   ],
   "window_display": false
  }
 },
 "nbformat": 4,
 "nbformat_minor": 2
}
