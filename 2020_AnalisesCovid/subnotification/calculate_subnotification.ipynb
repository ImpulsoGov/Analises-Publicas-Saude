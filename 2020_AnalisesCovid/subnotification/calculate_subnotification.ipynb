{
 "cells": [
  {
   "cell_type": "markdown",
   "metadata": {},
   "source": [
    "# Estimando subnotificação de casos | ICMC-USP\n",
    "---"
   ]
  },
  {
   "cell_type": "markdown",
   "metadata": {},
   "source": [
    "## Pacotes"
   ]
  },
  {
   "cell_type": "code",
   "execution_count": 1,
   "metadata": {},
   "outputs": [],
   "source": [
    "import pandas as pd"
   ]
  },
  {
   "cell_type": "markdown",
   "metadata": {},
   "source": [
    "## Dados"
   ]
  },
  {
   "cell_type": "markdown",
   "metadata": {},
   "source": [
    "### Dist. etária de regiões"
   ]
  },
  {
   "cell_type": "code",
   "execution_count": 2,
   "metadata": {
    "collapsed": true
   },
   "outputs": [
    {
     "name": "stdout",
     "output_type": "stream",
     "text": [
      "<class 'pandas.core.frame.DataFrame'>\n",
      "RangeIndex: 450 entries, 0 to 449\n",
      "Data columns (total 12 columns):\n",
      " #   Column              Non-Null Count  Dtype \n",
      "---  ------              --------------  ----- \n",
      " 0   health_region_id    450 non-null    int64 \n",
      " 1   health_region_name  450 non-null    object\n",
      " 2   total               450 non-null    int64 \n",
      " 3   from_0_to_9         450 non-null    int64 \n",
      " 4   from_10_to_19       450 non-null    int64 \n",
      " 5   from_20_to_29       450 non-null    int64 \n",
      " 6   from_30_to_39       450 non-null    int64 \n",
      " 7   from_40_to_49       450 non-null    int64 \n",
      " 8   from_50_to_59       450 non-null    int64 \n",
      " 9   from_60_to_69       450 non-null    int64 \n",
      " 10  from_70_to_79       450 non-null    int64 \n",
      " 11  from_80_to_older    450 non-null    int64 \n",
      "dtypes: int64(11), object(1)\n",
      "memory usage: 42.3+ KB\n"
     ]
    }
   ],
   "source": [
    "df_health_region_age = pd.read_csv(\"data/br_health_region_tabnet_age_dist_2019_treated.csv\")\n",
    "df_health_region_age.info()"
   ]
  },
  {
   "cell_type": "markdown",
   "metadata": {},
   "source": [
    "### Dist. etária de cidades"
   ]
  },
  {
   "cell_type": "code",
   "execution_count": 3,
   "metadata": {
    "collapsed": true
   },
   "outputs": [
    {
     "name": "stdout",
     "output_type": "stream",
     "text": [
      "<class 'pandas.core.frame.DataFrame'>\n",
      "RangeIndex: 5570 entries, 0 to 5569\n",
      "Data columns (total 12 columns):\n",
      " #   Column            Non-Null Count  Dtype \n",
      "---  ------            --------------  ----- \n",
      " 0   city_id           5570 non-null   int64 \n",
      " 1   city_name         5570 non-null   object\n",
      " 2   total             5570 non-null   int64 \n",
      " 3   from_0_to_9       5570 non-null   int64 \n",
      " 4   from_10_to_19     5570 non-null   int64 \n",
      " 5   from_20_to_29     5570 non-null   int64 \n",
      " 6   from_30_to_39     5570 non-null   int64 \n",
      " 7   from_40_to_49     5570 non-null   int64 \n",
      " 8   from_50_to_59     5570 non-null   int64 \n",
      " 9   from_60_to_69     5570 non-null   int64 \n",
      " 10  from_70_to_79     5570 non-null   int64 \n",
      " 11  from_80_to_older  5570 non-null   int64 \n",
      "dtypes: int64(11), object(1)\n",
      "memory usage: 522.3+ KB\n"
     ]
    }
   ],
   "source": [
    "df_city_age = pd.read_csv(\"data/br_city_tabnet_age_dist_2019_treated.csv\")\n",
    "df_city_age.info()"
   ]
  },
  {
   "cell_type": "markdown",
   "metadata": {},
   "source": [
    "### Casos e mortes acumulados por cidade\n",
    "\n",
    "- Colunas `deaths` e `confirmed_cases` tem os dados de mortes e casos acumulados por cidade\n",
    "- O código das cidades está em `city_id`\n",
    "- O código das regionais está em `health_region_id` para junção"
   ]
  },
  {
   "cell_type": "code",
   "execution_count": 15,
   "metadata": {
    "scrolled": true
   },
   "outputs": [],
   "source": [
    "# Não precisa rodar essa célula!\n",
    "# df = pd.read_csv(\"http://45.55.43.231:7000/br/cities/cases/full\")\n",
    "# # City cases dataframe\n",
    "# df[[\"city_id\", \"last_updated\", \"confirmed_cases\", \"deaths\"]].to_csv(\"data/treated/br_city_cases_history.csv\")\n",
    "# # Region cases dataframe\n",
    "# (df.groupby([\"health_region_id\", \"last_updated\"])\n",
    "#  .agg({\"confirmed_cases\": \"sum\",\"deaths\": \"sum\"})\n",
    "#  .reset_index()\n",
    "#  .to_csv(\"data/treated/br_health_region_cases_history.csv\"))"
   ]
  },
  {
   "cell_type": "code",
   "execution_count": 18,
   "metadata": {},
   "outputs": [
    {
     "name": "stdout",
     "output_type": "stream",
     "text": [
      "<class 'pandas.core.frame.DataFrame'>\n",
      "Int64Index: 392090 entries, 0 to 392089\n",
      "Data columns (total 4 columns):\n",
      " #   Column           Non-Null Count   Dtype  \n",
      "---  ------           --------------   -----  \n",
      " 0   city_id          392090 non-null  int64  \n",
      " 1   last_updated     392090 non-null  object \n",
      " 2   confirmed_cases  392090 non-null  float64\n",
      " 3   deaths           392090 non-null  float64\n",
      "dtypes: float64(2), int64(1), object(1)\n",
      "memory usage: 15.0+ MB\n"
     ]
    }
   ],
   "source": [
    "df_city_cases = pd.read_csv(\"data/treated/br_city_cases_history.csv\", index_col=0)\n",
    "df_city_cases.info()"
   ]
  },
  {
   "cell_type": "code",
   "execution_count": 19,
   "metadata": {
    "scrolled": true
   },
   "outputs": [
    {
     "name": "stdout",
     "output_type": "stream",
     "text": [
      "<class 'pandas.core.frame.DataFrame'>\n",
      "Int64Index: 48404 entries, 0 to 48403\n",
      "Data columns (total 4 columns):\n",
      " #   Column            Non-Null Count  Dtype  \n",
      "---  ------            --------------  -----  \n",
      " 0   health_region_id  48404 non-null  int64  \n",
      " 1   last_updated      48404 non-null  object \n",
      " 2   confirmed_cases   48404 non-null  float64\n",
      " 3   deaths            48404 non-null  float64\n",
      "dtypes: float64(2), int64(1), object(1)\n",
      "memory usage: 1.8+ MB\n"
     ]
    }
   ],
   "source": [
    "df_region_cases = pd.read_csv(\"data/treated/br_health_region_cases_history.csv\", index_col=0)\n",
    "df_region_cases.info()"
   ]
  },
  {
   "cell_type": "markdown",
   "metadata": {},
   "source": [
    "## Parâmetros"
   ]
  },
  {
   "cell_type": "code",
   "execution_count": null,
   "metadata": {},
   "outputs": [],
   "source": []
  },
  {
   "cell_type": "markdown",
   "metadata": {},
   "source": [
    "## Cálculo"
   ]
  },
  {
   "cell_type": "code",
   "execution_count": null,
   "metadata": {},
   "outputs": [],
   "source": []
  }
 ],
 "metadata": {
  "kernelspec": {
   "display_name": "Python 3",
   "language": "python",
   "name": "python3"
  },
  "language_info": {
   "codemirror_mode": {
    "name": "ipython",
    "version": 3
   },
   "file_extension": ".py",
   "mimetype": "text/x-python",
   "name": "python",
   "nbconvert_exporter": "python",
   "pygments_lexer": "ipython3",
   "version": "3.6.9"
  },
  "toc": {
   "base_numbering": 1,
   "nav_menu": {},
   "number_sections": true,
   "sideBar": true,
   "skip_h1_title": true,
   "title_cell": "Table of Contents",
   "title_sidebar": "Contents",
   "toc_cell": false,
   "toc_position": {
    "height": "calc(100% - 180px)",
    "left": "10px",
    "top": "150px",
    "width": "188px"
   },
   "toc_section_display": true,
   "toc_window_display": true
  }
 },
 "nbformat": 4,
 "nbformat_minor": 4
}
