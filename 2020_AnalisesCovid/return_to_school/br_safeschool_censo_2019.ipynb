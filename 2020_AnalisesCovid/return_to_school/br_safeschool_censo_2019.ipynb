{
 "cells": [
  {
   "cell_type": "markdown",
   "metadata": {},
   "source": [
    "# Endpoint Escola Segura\n",
    "\n",
    "---\n",
    "\n",
    "**Fonte:** Censo Escolar 2019 (INEP)\n",
    "\n",
    "**Tratamento feito por:** fernandascovino @ ImpulsoGov"
   ]
  },
  {
   "cell_type": "markdown",
   "metadata": {
    "toc": true
   },
   "source": [
    "<h1>Table of Contents<span class=\"tocSkip\"></span></h1>\n",
    "<div class=\"toc\"><ul class=\"toc-item\"><li><span><a href=\"#Configurações-de-tratamento\" data-toc-modified-id=\"Configurações-de-tratamento-1\"><span class=\"toc-item-num\">1&nbsp;&nbsp;</span>Configurações de tratamento</a></span></li><li><span><a href=\"#Funções-de-agrupamento\" data-toc-modified-id=\"Funções-de-agrupamento-2\"><span class=\"toc-item-num\">2&nbsp;&nbsp;</span>Funções de agrupamento</a></span></li><li><span><a href=\"#Tratamento-dos-dados\" data-toc-modified-id=\"Tratamento-dos-dados-3\"><span class=\"toc-item-num\">3&nbsp;&nbsp;</span>Tratamento dos dados</a></span><ul class=\"toc-item\"><li><span><a href=\"#Turmas\" data-toc-modified-id=\"Turmas-3.1\"><span class=\"toc-item-num\">3.1&nbsp;&nbsp;</span>Turmas</a></span></li><li><span><a href=\"#Escolas\" data-toc-modified-id=\"Escolas-3.2\"><span class=\"toc-item-num\">3.2&nbsp;&nbsp;</span>Escolas</a></span></li><li><span><a href=\"#Professores\" data-toc-modified-id=\"Professores-3.3\"><span class=\"toc-item-num\">3.3&nbsp;&nbsp;</span>Professores</a></span></li></ul></li><li><span><a href=\"#Junta-tabelas\" data-toc-modified-id=\"Junta-tabelas-4\"><span class=\"toc-item-num\">4&nbsp;&nbsp;</span>Junta tabelas</a></span><ul class=\"toc-item\"><li><span><a href=\"#Pega-dados-do-Farol\" data-toc-modified-id=\"Pega-dados-do-Farol-4.1\"><span class=\"toc-item-num\">4.1&nbsp;&nbsp;</span>Pega dados do Farol</a></span></li><li><span><a href=\"#Validação-de-cidades\" data-toc-modified-id=\"Validação-de-cidades-4.2\"><span class=\"toc-item-num\">4.2&nbsp;&nbsp;</span>Validação de cidades</a></span><ul class=\"toc-item\"><li><span><a href=\"#Agua-Santa-(RS):-não-tem-as-mesmas-escolas-nas-tabelas!\" data-toc-modified-id=\"Agua-Santa-(RS):-não-tem-as-mesmas-escolas-nas-tabelas!-4.2.1\"><span class=\"toc-item-num\">4.2.1&nbsp;&nbsp;</span>Agua Santa (RS): não tem as mesmas escolas nas tabelas!</a></span></li></ul></li></ul></li><li><span><a href=\"#Validação\" data-toc-modified-id=\"Validação-5\"><span class=\"toc-item-num\">5&nbsp;&nbsp;</span>Validação</a></span><ul class=\"toc-item\"><li><span><a href=\"#Salas-únicas-por-etapa-de-ensino\" data-toc-modified-id=\"Salas-únicas-por-etapa-de-ensino-5.1\"><span class=\"toc-item-num\">5.1&nbsp;&nbsp;</span>Salas únicas por etapa de ensino</a></span><ul class=\"toc-item\"><li><span><a href=\"#A-soma-de-salas-por-etapa-de-ensino-é-maior-ou-igual-ao-total-de-salas-existentes,-pois-uma-escola-pode-oferecer-+1-etapa--->-não-temos-opção-de-&quot;Todos&quot;-nas-etapas\" data-toc-modified-id=\"A-soma-de-salas-por-etapa-de-ensino-é-maior-ou-igual-ao-total-de-salas-existentes,-pois-uma-escola-pode-oferecer-+1-etapa--->-não-temos-opção-de-&quot;Todos&quot;-nas-etapas-5.1.1\"><span class=\"toc-item-num\">5.1.1&nbsp;&nbsp;</span>A soma de salas por etapa de ensino é maior ou igual ao total de salas existentes, pois uma escola pode oferecer +1 etapa --&gt; não temos opção de \"Todos\" nas etapas</a></span></li><li><span><a href=\"#A-soma-das-salas-para-todas-as-redes-é-igual-ao-total-de-salas-consideradas-por-etapa-de-ensino-✅\" data-toc-modified-id=\"A-soma-das-salas-para-todas-as-redes-é-igual-ao-total-de-salas-consideradas-por-etapa-de-ensino-✅-5.1.2\"><span class=\"toc-item-num\">5.1.2&nbsp;&nbsp;</span>A soma das salas para todas as redes é igual ao total de salas consideradas por etapa de ensino ✅</a></span></li><li><span><a href=\"#A-soma-das-salas-para-todas-as-localizações-(urbana/rural)-é-igual-ao-total-de-salas-consideradas-por-etapa-de-ensino-✅\" data-toc-modified-id=\"A-soma-das-salas-para-todas-as-localizações-(urbana/rural)-é-igual-ao-total-de-salas-consideradas-por-etapa-de-ensino-✅-5.1.3\"><span class=\"toc-item-num\">5.1.3&nbsp;&nbsp;</span>A soma das salas para todas as localizações (urbana/rural) é igual ao total de salas consideradas por etapa de ensino ✅</a></span></li><li><span><a href=\"#A-soma-das-salas-com-e-sem-água-filtrada-é-igual-ao-total-de-salas-consideradas-por-etapa-de-ensino-✅\" data-toc-modified-id=\"A-soma-das-salas-com-e-sem-água-filtrada-é-igual-ao-total-de-salas-consideradas-por-etapa-de-ensino-✅-5.1.4\"><span class=\"toc-item-num\">5.1.4&nbsp;&nbsp;</span>A soma das salas com e sem água filtrada é igual ao total de salas consideradas por etapa de ensino ✅</a></span></li></ul></li><li><span><a href=\"#Alunos-únicos-por-turma\" data-toc-modified-id=\"Alunos-únicos-por-turma-5.2\"><span class=\"toc-item-num\">5.2&nbsp;&nbsp;</span>Alunos únicos por turma</a></span><ul class=\"toc-item\"><li><span><a href=\"#A-soma-dos-alunos-de-todas-as-etapas-de-ensino-é-igual-ao-total-de-alunos--->-não-temos-opção-de-&quot;Todos&quot;-nas-etapas\" data-toc-modified-id=\"A-soma-dos-alunos-de-todas-as-etapas-de-ensino-é-igual-ao-total-de-alunos--->-não-temos-opção-de-&quot;Todos&quot;-nas-etapas-5.2.1\"><span class=\"toc-item-num\">5.2.1&nbsp;&nbsp;</span>A soma dos alunos de todas as etapas de ensino é igual ao total de alunos --&gt; não temos opção de \"Todos\" nas etapas</a></span></li><li><span><a href=\"#A-soma-dos-alunos-de-todas-as-redes-é-igual-ao-total-de-alunos-✅\" data-toc-modified-id=\"A-soma-dos-alunos-de-todas-as-redes-é-igual-ao-total-de-alunos-✅-5.2.2\"><span class=\"toc-item-num\">5.2.2&nbsp;&nbsp;</span>A soma dos alunos de todas as redes é igual ao total de alunos ✅</a></span></li></ul></li><li><span><a href=\"#Professores-únicos-por-etapa-de-ensino,-rede-e-município\" data-toc-modified-id=\"Professores-únicos-por-etapa-de-ensino,-rede-e-município-5.3\"><span class=\"toc-item-num\">5.3&nbsp;&nbsp;</span>Professores únicos por etapa de ensino, rede e município</a></span><ul class=\"toc-item\"><li><span><a href=\"#A-soma-dos-professores-de-todas-as-etapas-de-ensino-é-maior-ou-igual-ao-total-de-professores,--pois-um-professor-pode-atuar-em-mais-de-uma-etapa--->-não-temos-opção-de-&quot;Todos&quot;-nas-etapas\" data-toc-modified-id=\"A-soma-dos-professores-de-todas-as-etapas-de-ensino-é-maior-ou-igual-ao-total-de-professores,--pois-um-professor-pode-atuar-em-mais-de-uma-etapa--->-não-temos-opção-de-&quot;Todos&quot;-nas-etapas-5.3.1\"><span class=\"toc-item-num\">5.3.1&nbsp;&nbsp;</span>A soma dos professores de todas as etapas de ensino é maior ou igual ao total de professores,  pois um professor pode atuar em mais de uma etapa --&gt; não temos opção de \"Todos\" nas etapas</a></span></li><li><span><a href=\"#A-soma-dos-professores-de-todas-as-redes-é-maior-ou-igual-ao-total-de-professores,-pois-um-professor-pode-atuar-em-mais-de-uma-rede-✅\" data-toc-modified-id=\"A-soma-dos-professores-de-todas-as-redes-é-maior-ou-igual-ao-total-de-professores,-pois-um-professor-pode-atuar-em-mais-de-uma-rede-✅-5.3.2\"><span class=\"toc-item-num\">5.3.2&nbsp;&nbsp;</span>A soma dos professores de todas as redes é maior ou igual ao total de professores, pois um professor pode atuar em mais de uma rede ✅</a></span></li><li><span><a href=\"#A-soma-dos-professores-de-todos-os-municípios-é-maior-ou-igual-ao-total-de-professores,-pois-um-professor-pode-atuar-em-mais-de-um-município-✅\" data-toc-modified-id=\"A-soma-dos-professores-de-todos-os-municípios-é-maior-ou-igual-ao-total-de-professores,-pois-um-professor-pode-atuar-em-mais-de-um-município-✅-5.3.3\"><span class=\"toc-item-num\">5.3.3&nbsp;&nbsp;</span>A soma dos professores de todos os municípios <strong>é maior ou igual</strong> ao total de professores, pois um professor pode atuar em mais de um município ✅</a></span></li></ul></li></ul></li><li><span><a href=\"#Salvando-os-dados\" data-toc-modified-id=\"Salvando-os-dados-6\"><span class=\"toc-item-num\">6&nbsp;&nbsp;</span>Salvando os dados</a></span></li></ul></div>"
   ]
  },
  {
   "cell_type": "markdown",
   "metadata": {},
   "source": [
    "Considerações:  \n",
    "    \n",
    "- **Água encanada filtra somente número de salas (infraestrutura)**\n",
    "\n",
    "\n",
    "- Não consideramos (com base nos filtros do Censo para as estatísticas da ed. básica):\n",
    "    - Alunos EJA\n",
    "    - Professor de atividades complementares (somente Docente no Censo)\n",
    "    - Turmas exclusivas especiais\n",
    "\n",
    "---\n",
    "\n",
    "Tabela geral:\n",
    "- CO_UF --> state_id\n",
    "- CO_MUNICIPIO --> city_id\n",
    "- TP_DEPENDENCIA --> administrative_level [Estadual|Municipal|Todos]\n",
    "- TP_LOCALIZACAO --> location_level [Urbana|Rural|Todos]\n",
    "- IN_AGUA_REDE_PUBLICA --> school_public_water_supply [Sim|Não|Todos]\n",
    "- TP_ETAPA_ENSINO --> education_level [Fundamental - Anos iniciais|Fundamental - Anos finais|Ensino médio]\n",
    "- QT_MATRICULAS --> number_students, total por etapa\n",
    "- QT_DOCENTES --> number_teachers, total por etapa\n",
    "- QT_SALAS --> number_classrooms, total por etapa\n",
    "\n",
    "Detalhe alunos:\n",
    "- CO_UF --> state_id\n",
    "- CO_MUNICIPIO --> city_id\n",
    "- TP_DEPENDENCIA --> administrative_level [Estadual|Municipal|Todos]\n",
    "- TP_LOCALIZACAO --> location_level [Urbana|Rural|Todos]\n",
    "- TP_ETAPA_ENSINO --> education_level [Fundamental - Anos iniciais|Fundamental - Anos finais|Ensino médio]\n",
    "- TP_ETAPA_ANO --> education_year [FAI1|...|FAF6|...|EM3]\n",
    "- QT_MATRICULAS --> number_students, total por etapa"
   ]
  },
  {
   "cell_type": "code",
   "execution_count": 1,
   "metadata": {
    "ExecuteTime": {
     "end_time": "2020-11-03T20:23:14.908579Z",
     "start_time": "2020-11-03T20:23:11.733729Z"
    }
   },
   "outputs": [],
   "source": [
    "import pandas as pd\n",
    "import numpy as np"
   ]
  },
  {
   "cell_type": "markdown",
   "metadata": {},
   "source": [
    "## Configurações de tratamento"
   ]
  },
  {
   "cell_type": "code",
   "execution_count": 30,
   "metadata": {
    "ExecuteTime": {
     "end_time": "2020-11-03T20:42:50.920216Z",
     "start_time": "2020-11-03T20:42:50.890309Z"
    }
   },
   "outputs": [],
   "source": [
    "replaces = {\n",
    "    \"IN_ESPECIAL_EXCLUSIVA\": {\n",
    "        0: \"Não exclusiva\"\n",
    "    },\n",
    "    \"TP_SITUACAO_FUNCIONAMENTO\": {\n",
    "        1: \"Ativa\"\n",
    "    },\n",
    "    \"TP_TIPO_ATENDIMENTO_TURMA\": {\n",
    "        1: \"Escolarização/Complementar\",\n",
    "        2: \"Escolarização/Complementar\",\n",
    "        3: \"Escolarização/Complementar\",\n",
    "    },\n",
    "    \"TP_TIPO_DOCENTE\": {\n",
    "        1: \"Docente/Monitor\",\n",
    "        3: \"Docente/Monitor\"\n",
    "    },\n",
    "    \"TP_ETAPA_ENSINO\": {\n",
    "        14: \"Fundamental I\",\n",
    "        15: \"Fundamental I\",\n",
    "        16: \"Fundamental I\",\n",
    "        17: \"Fundamental I\",\n",
    "        18: \"Fundamental I\",\n",
    "        19: \"Fundamental II\",\n",
    "        20: \"Fundamental II\",\n",
    "        21: \"Fundamental II\",\n",
    "        41: \"Fundamental II\",\n",
    "        25: \"Ensino Médio\",\n",
    "        26: \"Ensino Médio\",\n",
    "        27: \"Ensino Médio\",\n",
    "        28: \"Ensino Médio\",\n",
    "        29: \"Ensino Médio\"\n",
    "    }, # 56: \"Fundamental - Anos iniciais\", multi-etapa?\n",
    "    \"TP_DEPENDENCIA\": {\n",
    "        2: \"Estadual\",\n",
    "        3: \"Municipal\",\n",
    "    },\n",
    "    \"TP_LOCALIZACAO\": {\n",
    "        1: \"Urbana\",\n",
    "        2: \"Rural\",\n",
    "    },\n",
    "    \"IN_AGUA_REDE_PUBLICA\": {\n",
    "        0: \"Não\",\n",
    "        1: \"Sim\",\n",
    "    }\n",
    "}\n",
    "\n",
    "def melt_indicators(df, to_melt, keep_vars, new_col):\n",
    "    \"\"\"\n",
    "    Transforma um conjunto de indicadores numa nova coluna.\n",
    "    \n",
    "    to_melt:\n",
    "        Dicionário contendo [nome_indicador]: [valor_na_nova_coluna]\n",
    "        (ex: {\"IN_COMUM_FUND_AI\": \"Fundamental - Anos iniciais\"})\n",
    "    id_vars:\n",
    "        Lista de variáveis para se manter no dataframe\n",
    "    new_col:\n",
    "        Nome da nova coluna que irá conter os valores passados em `to_melt`.\n",
    "    \"\"\"\n",
    "    \n",
    "    return (\n",
    "        df[keep_vars + list(to_melt.keys())]\n",
    "        .melt(id_vars=keep_vars, \n",
    "              var_name=[new_col], \n",
    "              value_name='value')\n",
    "        .query(\"value == 1\")\n",
    "        .drop(columns=\"value\")\n",
    "        .replace(to_melt)\n",
    "    )\n",
    "\n",
    "def treat_data(df, replaces, value):\n",
    "    \n",
    "    for col in replaces:\n",
    "        if col in df.columns:\n",
    "            # Filtra somente por valoresno dicionario\n",
    "            df = df.query(f\"{col} in {list(replaces[col].keys())}\")\n",
    "            # Substitui códigos\n",
    "            df[col] = df[col].replace(replaces[col])\n",
    "            \n",
    "    keep = [\"CO_UF\", \"CO_MUNICIPIO\", \"CO_ENTIDADE\"] + [col for col in replaces.keys() if col in df.columns]\n",
    "    \n",
    "    # Escolas --> Cria coluna TP_ETAPA_ENSINO\n",
    "    if value == \"QT_SALAS_UTILIZADAS\":\n",
    "        to_melt = {\"IN_COMUM_FUND_AI\": \"Fundamental I\",\n",
    "                   \"IN_COMUM_FUND_AF\": \"Fundamental II\",\n",
    "                   \"IN_COMUM_MEDIO_MEDIO\": \"Ensino Médio\"}\n",
    "        \n",
    "        new_col=\"TP_ETAPA_ENSINO\"\n",
    "        \n",
    "        df = melt_indicators(df, to_melt, keep + [value], new_col)\n",
    "        keep +=[new_col]\n",
    "        \n",
    "    # Profs --> Remove duplicacao por escola\n",
    "    if value == \"ID_DOCENTE\":\n",
    "        df = df.drop_duplicates(subset=keep+[value])\n",
    "        \n",
    "    agg_func = {\n",
    "        \"QT_MATRICULAS\": \"sum\",\n",
    "        \"QT_SALAS_UTILIZADAS\": \"sum\",\n",
    "        \"ID_DOCENTE\": \"count\"}\n",
    "    \n",
    "    return df.groupby(keep)[value].agg(agg_func[value]).reset_index()"
   ]
  },
  {
   "cell_type": "markdown",
   "metadata": {
    "heading_collapsed": true
   },
   "source": [
    "## Funções de agrupamento"
   ]
  },
  {
   "cell_type": "code",
   "execution_count": 226,
   "metadata": {
    "ExecuteTime": {
     "end_time": "2020-10-28T14:23:39.128598Z",
     "start_time": "2020-10-28T14:23:39.109501Z"
    },
    "hidden": true
   },
   "outputs": [],
   "source": [
    "from itertools import chain, combinations\n",
    "\n",
    "def all_filters_choices(filters):\n",
    "    \"powerset([1,2,3]) --> () (1,) (2,) (3,) (1,2) (1,3) (2,3) (1,2,3)\"\n",
    "    s = list(filters)\n",
    "    return list(chain.from_iterable(combinations(s, r) for r in range(len(s)+1)))\n",
    "    \n",
    "    \n",
    "def melt_indicators(df, to_melt, keep_vars, new_col):\n",
    "    \"\"\"\n",
    "    Transforma um conjunto de indicadores numa nova coluna.\n",
    "    \n",
    "    to_melt:\n",
    "        Dicionário contendo [nome_indicador]: [valor_na_nova_coluna]\n",
    "        (ex: {\"IN_COMUM_FUND_AI\": \"Fundamental - Anos iniciais\"})\n",
    "    id_vars:\n",
    "        Lista de variáveis para se manter no dataframe\n",
    "    new_col:\n",
    "        Nome da nova coluna que irá conter os valores passados em `to_melt`.\n",
    "    \"\"\"\n",
    "    \n",
    "    return (\n",
    "        df[keep_vars + list(to_melt.keys())]\n",
    "        .melt(id_vars=keep_vars, \n",
    "              var_name=[new_col], \n",
    "              value_name='value')\n",
    "        .query(\"value == 1\")\n",
    "        .drop(columns=\"value\")\n",
    "        .replace(to_melt)\n",
    "    )\n",
    "    \n",
    "\n",
    "def agg_by_choice(df, ids, filters, agg_col, to_melt=None):\n",
    "    \"\"\"\n",
    "    Agrega dados de uma coluna por id e todas as combinações possíveis de filtros.\n",
    "    \"\"\"\n",
    "    \n",
    "    # Constroi a coluna de etapa de ensino\n",
    "    if agg_col == \"QT_SALAS_UTILIZADAS\":\n",
    "        \n",
    "        new_col = \"TP_ETAPA_ENSINO\"\n",
    "        df = df.pipe(melt_indicators, \n",
    "                     to_melt = to_melt, \n",
    "                     keep_vars = ids+filters+[agg_col], \n",
    "                     new_col = new_col)\n",
    "\n",
    "        ids += [new_col]\n",
    "        \n",
    "    # Cria todas as permutações de filtros\n",
    "    all_filters = all_filters_choices([col for col in filters if col in df.columns])\n",
    "\n",
    "    result = pd.DataFrame()\n",
    "    for choice in all_filters:\n",
    "        \n",
    "        group = ids + list(choice)\n",
    "\n",
    "        # Professor@ unic@ por filtros\n",
    "        if agg_col == \"ID_DOCENTE\":\n",
    "            unique = group + [agg_col]\n",
    "            df = df.drop_duplicates(subset=unique)\n",
    "\n",
    "        agg_func = {\n",
    "            \"QT_MATRICULAS\": \"sum\",\n",
    "            \"QT_SALAS_UTILIZADAS\": \"sum\",\n",
    "            \"ID_DOCENTE\": \"count\"}\n",
    "\n",
    "        result = pd.concat([result, (\n",
    "             df\n",
    "             .groupby(group)[agg_col]\n",
    "             .agg(agg_func[agg_col])\n",
    "             .reset_index()\n",
    "         )],axis=0) \n",
    "\n",
    "    return result"
   ]
  },
  {
   "cell_type": "markdown",
   "metadata": {},
   "source": [
    "## Tratamento dos dados"
   ]
  },
  {
   "cell_type": "markdown",
   "metadata": {},
   "source": [
    "### Turmas"
   ]
  },
  {
   "cell_type": "code",
   "execution_count": 31,
   "metadata": {
    "ExecuteTime": {
     "end_time": "2020-11-03T20:43:29.010818Z",
     "start_time": "2020-11-03T20:42:52.608044Z"
    }
   },
   "outputs": [
    {
     "name": "stderr",
     "output_type": "stream",
     "text": [
      "/usr/local/lib/python3.7/site-packages/ipykernel_launcher.py:77: SettingWithCopyWarning: \n",
      "A value is trying to be set on a copy of a slice from a DataFrame.\n",
      "Try using .loc[row_indexer,col_indexer] = value instead\n",
      "\n",
      "See the caveats in the documentation: https://pandas.pydata.org/pandas-docs/stable/user_guide/indexing.html#returning-a-view-versus-a-copy\n"
     ]
    },
    {
     "name": "stdout",
     "output_type": "stream",
     "text": [
      "<class 'pandas.core.frame.DataFrame'>\n",
      "RangeIndex: 119500 entries, 0 to 119499\n",
      "Data columns (total 9 columns):\n",
      " #   Column                     Non-Null Count   Dtype \n",
      "---  ------                     --------------   ----- \n",
      " 0   CO_UF                      119500 non-null  int64 \n",
      " 1   CO_MUNICIPIO               119500 non-null  int64 \n",
      " 2   CO_ENTIDADE                119500 non-null  int64 \n",
      " 3   IN_ESPECIAL_EXCLUSIVA      119500 non-null  object\n",
      " 4   TP_TIPO_ATENDIMENTO_TURMA  119500 non-null  object\n",
      " 5   TP_ETAPA_ENSINO            119500 non-null  object\n",
      " 6   TP_DEPENDENCIA             119500 non-null  object\n",
      " 7   TP_LOCALIZACAO             119500 non-null  object\n",
      " 8   QT_MATRICULAS              119500 non-null  int64 \n",
      "dtypes: int64(4), object(5)\n",
      "memory usage: 8.2+ MB\n"
     ]
    }
   ],
   "source": [
    "turmas = (\n",
    "    pd.read_csv('/Users/fernandascovino/Desktop/microdados_educacao_basica_2019/DADOS/TURMAS.CSV',\n",
    "                encoding=\"latin-1\", sep=\"|\")\n",
    "    .pipe(treat_data, replaces, value=\"QT_MATRICULAS\")\n",
    ")\n",
    "\n",
    "pd.options.display.max_columns=200\n",
    "turmas.info()"
   ]
  },
  {
   "cell_type": "markdown",
   "metadata": {},
   "source": [
    "### Escolas"
   ]
  },
  {
   "cell_type": "code",
   "execution_count": 32,
   "metadata": {
    "ExecuteTime": {
     "end_time": "2020-11-03T20:43:35.079257Z",
     "start_time": "2020-11-03T20:43:29.017280Z"
    }
   },
   "outputs": [
    {
     "name": "stderr",
     "output_type": "stream",
     "text": [
      "/usr/local/lib/python3.7/site-packages/IPython/core/interactiveshell.py:3044: DtypeWarning: Columns (3) have mixed types.Specify dtype option on import or set low_memory=False.\n",
      "  interactivity=interactivity, compiler=compiler, result=result)\n",
      "/usr/local/lib/python3.7/site-packages/ipykernel_launcher.py:77: SettingWithCopyWarning: \n",
      "A value is trying to be set on a copy of a slice from a DataFrame.\n",
      "Try using .loc[row_indexer,col_indexer] = value instead\n",
      "\n",
      "See the caveats in the documentation: https://pandas.pydata.org/pandas-docs/stable/user_guide/indexing.html#returning-a-view-versus-a-copy\n"
     ]
    },
    {
     "name": "stdout",
     "output_type": "stream",
     "text": [
      "<class 'pandas.core.frame.DataFrame'>\n",
      "RangeIndex: 150534 entries, 0 to 150533\n",
      "Data columns (total 10 columns):\n",
      " #   Column                     Non-Null Count   Dtype  \n",
      "---  ------                     --------------   -----  \n",
      " 0   CO_UF                      150534 non-null  int64  \n",
      " 1   CO_MUNICIPIO               150534 non-null  int64  \n",
      " 2   CO_ENTIDADE                150534 non-null  int64  \n",
      " 3   IN_ESPECIAL_EXCLUSIVA      150534 non-null  object \n",
      " 4   TP_SITUACAO_FUNCIONAMENTO  150534 non-null  object \n",
      " 5   TP_DEPENDENCIA             150534 non-null  object \n",
      " 6   TP_LOCALIZACAO             150534 non-null  object \n",
      " 7   IN_AGUA_REDE_PUBLICA       150534 non-null  object \n",
      " 8   TP_ETAPA_ENSINO            150534 non-null  object \n",
      " 9   QT_SALAS_UTILIZADAS        150534 non-null  float64\n",
      "dtypes: float64(1), int64(3), object(6)\n",
      "memory usage: 11.5+ MB\n"
     ]
    }
   ],
   "source": [
    "escolas = (pd.read_csv('/Users/fernandascovino/Desktop/microdados_educacao_basica_2019/DADOS/ESCOLAS.CSV',\n",
    "                     encoding=\"latin-1\", sep=\"|\")\n",
    "          .pipe(treat_data, replaces, value=\"QT_SALAS_UTILIZADAS\"))\n",
    "\n",
    "pd.options.display.max_columns=200\n",
    "escolas.info()"
   ]
  },
  {
   "cell_type": "code",
   "execution_count": 33,
   "metadata": {
    "ExecuteTime": {
     "end_time": "2020-11-03T20:43:35.111308Z",
     "start_time": "2020-11-03T20:43:35.084016Z"
    }
   },
   "outputs": [
    {
     "data": {
      "text/html": [
       "<div>\n",
       "<style scoped>\n",
       "    .dataframe tbody tr th:only-of-type {\n",
       "        vertical-align: middle;\n",
       "    }\n",
       "\n",
       "    .dataframe tbody tr th {\n",
       "        vertical-align: top;\n",
       "    }\n",
       "\n",
       "    .dataframe thead th {\n",
       "        text-align: right;\n",
       "    }\n",
       "</style>\n",
       "<table border=\"1\" class=\"dataframe\">\n",
       "  <thead>\n",
       "    <tr style=\"text-align: right;\">\n",
       "      <th></th>\n",
       "      <th>CO_UF</th>\n",
       "      <th>CO_MUNICIPIO</th>\n",
       "      <th>CO_ENTIDADE</th>\n",
       "      <th>IN_ESPECIAL_EXCLUSIVA</th>\n",
       "      <th>TP_SITUACAO_FUNCIONAMENTO</th>\n",
       "      <th>TP_DEPENDENCIA</th>\n",
       "      <th>TP_LOCALIZACAO</th>\n",
       "      <th>IN_AGUA_REDE_PUBLICA</th>\n",
       "      <th>TP_ETAPA_ENSINO</th>\n",
       "      <th>QT_SALAS_UTILIZADAS</th>\n",
       "    </tr>\n",
       "  </thead>\n",
       "  <tbody>\n",
       "    <tr>\n",
       "      <th>0</th>\n",
       "      <td>11</td>\n",
       "      <td>1100015</td>\n",
       "      <td>11022558</td>\n",
       "      <td>Não exclusiva</td>\n",
       "      <td>Ativa</td>\n",
       "      <td>Estadual</td>\n",
       "      <td>Rural</td>\n",
       "      <td>Não</td>\n",
       "      <td>Fundamental I</td>\n",
       "      <td>1.0</td>\n",
       "    </tr>\n",
       "    <tr>\n",
       "      <th>1</th>\n",
       "      <td>11</td>\n",
       "      <td>1100015</td>\n",
       "      <td>11024291</td>\n",
       "      <td>Não exclusiva</td>\n",
       "      <td>Ativa</td>\n",
       "      <td>Municipal</td>\n",
       "      <td>Rural</td>\n",
       "      <td>Não</td>\n",
       "      <td>Fundamental I</td>\n",
       "      <td>2.0</td>\n",
       "    </tr>\n",
       "    <tr>\n",
       "      <th>2</th>\n",
       "      <td>11</td>\n",
       "      <td>1100015</td>\n",
       "      <td>11024372</td>\n",
       "      <td>Não exclusiva</td>\n",
       "      <td>Ativa</td>\n",
       "      <td>Municipal</td>\n",
       "      <td>Urbana</td>\n",
       "      <td>Não</td>\n",
       "      <td>Fundamental I</td>\n",
       "      <td>5.0</td>\n",
       "    </tr>\n",
       "    <tr>\n",
       "      <th>3</th>\n",
       "      <td>11</td>\n",
       "      <td>1100015</td>\n",
       "      <td>11024372</td>\n",
       "      <td>Não exclusiva</td>\n",
       "      <td>Ativa</td>\n",
       "      <td>Municipal</td>\n",
       "      <td>Urbana</td>\n",
       "      <td>Não</td>\n",
       "      <td>Fundamental II</td>\n",
       "      <td>5.0</td>\n",
       "    </tr>\n",
       "    <tr>\n",
       "      <th>4</th>\n",
       "      <td>11</td>\n",
       "      <td>1100015</td>\n",
       "      <td>11024666</td>\n",
       "      <td>Não exclusiva</td>\n",
       "      <td>Ativa</td>\n",
       "      <td>Municipal</td>\n",
       "      <td>Rural</td>\n",
       "      <td>Não</td>\n",
       "      <td>Fundamental I</td>\n",
       "      <td>7.0</td>\n",
       "    </tr>\n",
       "  </tbody>\n",
       "</table>\n",
       "</div>"
      ],
      "text/plain": [
       "   CO_UF  CO_MUNICIPIO  CO_ENTIDADE IN_ESPECIAL_EXCLUSIVA  \\\n",
       "0     11       1100015     11022558         Não exclusiva   \n",
       "1     11       1100015     11024291         Não exclusiva   \n",
       "2     11       1100015     11024372         Não exclusiva   \n",
       "3     11       1100015     11024372         Não exclusiva   \n",
       "4     11       1100015     11024666         Não exclusiva   \n",
       "\n",
       "  TP_SITUACAO_FUNCIONAMENTO TP_DEPENDENCIA TP_LOCALIZACAO  \\\n",
       "0                     Ativa       Estadual          Rural   \n",
       "1                     Ativa      Municipal          Rural   \n",
       "2                     Ativa      Municipal         Urbana   \n",
       "3                     Ativa      Municipal         Urbana   \n",
       "4                     Ativa      Municipal          Rural   \n",
       "\n",
       "  IN_AGUA_REDE_PUBLICA TP_ETAPA_ENSINO  QT_SALAS_UTILIZADAS  \n",
       "0                  Não   Fundamental I                  1.0  \n",
       "1                  Não   Fundamental I                  2.0  \n",
       "2                  Não   Fundamental I                  5.0  \n",
       "3                  Não  Fundamental II                  5.0  \n",
       "4                  Não   Fundamental I                  7.0  "
      ]
     },
     "execution_count": 33,
     "metadata": {},
     "output_type": "execute_result"
    }
   ],
   "source": [
    "escolas.head()"
   ]
  },
  {
   "cell_type": "markdown",
   "metadata": {},
   "source": [
    "### Professores"
   ]
  },
  {
   "cell_type": "code",
   "execution_count": 34,
   "metadata": {
    "ExecuteTime": {
     "end_time": "2020-11-03T20:50:34.633533Z",
     "start_time": "2020-11-03T20:43:35.115805Z"
    }
   },
   "outputs": [
    {
     "name": "stderr",
     "output_type": "stream",
     "text": [
      "/usr/local/lib/python3.7/site-packages/IPython/core/interactiveshell.py:3044: DtypeWarning: Columns (45) have mixed types.Specify dtype option on import or set low_memory=False.\n",
      "  interactivity=interactivity, compiler=compiler, result=result)\n",
      "/usr/local/lib/python3.7/site-packages/ipykernel_launcher.py:77: SettingWithCopyWarning: \n",
      "A value is trying to be set on a copy of a slice from a DataFrame.\n",
      "Try using .loc[row_indexer,col_indexer] = value instead\n",
      "\n",
      "See the caveats in the documentation: https://pandas.pydata.org/pandas-docs/stable/user_guide/indexing.html#returning-a-view-versus-a-copy\n"
     ]
    },
    {
     "name": "stdout",
     "output_type": "stream",
     "text": [
      "<class 'pandas.core.frame.DataFrame'>\n",
      "Int64Index: 119500 entries, 0 to 8651\n",
      "Data columns (total 10 columns):\n",
      " #   Column                     Non-Null Count   Dtype \n",
      "---  ------                     --------------   ----- \n",
      " 0   CO_UF                      119500 non-null  int64 \n",
      " 1   CO_MUNICIPIO               119500 non-null  int64 \n",
      " 2   CO_ENTIDADE                119500 non-null  int64 \n",
      " 3   IN_ESPECIAL_EXCLUSIVA      119500 non-null  object\n",
      " 4   TP_TIPO_ATENDIMENTO_TURMA  119500 non-null  object\n",
      " 5   TP_TIPO_DOCENTE            119500 non-null  object\n",
      " 6   TP_ETAPA_ENSINO            119500 non-null  object\n",
      " 7   TP_DEPENDENCIA             119500 non-null  object\n",
      " 8   TP_LOCALIZACAO             119500 non-null  object\n",
      " 9   ID_DOCENTE                 119500 non-null  int64 \n",
      "dtypes: int64(4), object(6)\n",
      "memory usage: 10.0+ MB\n"
     ]
    }
   ],
   "source": [
    "profs = pd.DataFrame()\n",
    "\n",
    "for region in [\"NORTE\", \"SUDESTE\", \"SUL\", \"NORDESTE\", \"CO\"]:\n",
    "    path = f'/Users/fernandascovino/Desktop/microdados_educacao_basica_2019/DADOS/DOCENTES_{region}.CSV'\n",
    "    profs = profs.append(pd.read_csv(path, encoding=\"latin-1\", sep=\"|\")\n",
    "                .pipe(treat_data, replaces, value=\"ID_DOCENTE\"))\n",
    "    \n",
    "profs.info()"
   ]
  },
  {
   "cell_type": "markdown",
   "metadata": {},
   "source": [
    "## Junta tabelas"
   ]
  },
  {
   "cell_type": "code",
   "execution_count": 35,
   "metadata": {
    "ExecuteTime": {
     "end_time": "2020-11-03T20:50:35.205090Z",
     "start_time": "2020-11-03T20:50:34.645039Z"
    }
   },
   "outputs": [
    {
     "name": "stdout",
     "output_type": "stream",
     "text": [
      "<class 'pandas.core.frame.DataFrame'>\n",
      "Int64Index: 117904 entries, 0 to 117903\n",
      "Data columns (total 14 columns):\n",
      " #   Column                     Non-Null Count   Dtype  \n",
      "---  ------                     --------------   -----  \n",
      " 0   CO_UF                      117904 non-null  int64  \n",
      " 1   CO_MUNICIPIO               117904 non-null  object \n",
      " 2   CO_ENTIDADE                117904 non-null  int64  \n",
      " 3   IN_ESPECIAL_EXCLUSIVA      117904 non-null  object \n",
      " 4   TP_TIPO_ATENDIMENTO_TURMA  117904 non-null  object \n",
      " 5   TP_TIPO_DOCENTE            117904 non-null  object \n",
      " 6   TP_ETAPA_ENSINO            117904 non-null  object \n",
      " 7   TP_DEPENDENCIA             117904 non-null  object \n",
      " 8   TP_LOCALIZACAO             117904 non-null  object \n",
      " 9   ID_DOCENTE                 117904 non-null  int64  \n",
      " 10  QT_MATRICULAS              117904 non-null  int64  \n",
      " 11  TP_SITUACAO_FUNCIONAMENTO  117904 non-null  object \n",
      " 12  IN_AGUA_REDE_PUBLICA       117904 non-null  object \n",
      " 13  QT_SALAS_UTILIZADAS        117904 non-null  float64\n",
      "dtypes: float64(1), int64(4), object(9)\n",
      "memory usage: 13.5+ MB\n"
     ]
    }
   ],
   "source": [
    "aux = profs.merge(turmas, on=list(set(profs.columns) & set(turmas.columns)))\n",
    "aux = (\n",
    "    aux\n",
    "       .merge(escolas, on=list(set(aux.columns) & set(escolas.columns)))\n",
    "       .assign(CO_MUNICIPIO= lambda df: df.CO_MUNICIPIO.astype(int).astype(str))\n",
    ")\n",
    "\n",
    "aux.info()"
   ]
  },
  {
   "cell_type": "code",
   "execution_count": 36,
   "metadata": {
    "ExecuteTime": {
     "end_time": "2020-11-03T20:50:35.226959Z",
     "start_time": "2020-11-03T20:50:35.207570Z"
    }
   },
   "outputs": [
    {
     "data": {
      "text/plain": [
       "TP_ETAPA_ENSINO\n",
       "Ensino Médio      1207450\n",
       "Fundamental I     2350997\n",
       "Fundamental II    1887614\n",
       "Name: QT_MATRICULAS, dtype: int64"
      ]
     },
     "execution_count": 36,
     "metadata": {},
     "output_type": "execute_result"
    }
   ],
   "source": [
    "aux[aux[\"CO_UF\"] == 35].groupby(\"TP_ETAPA_ENSINO\")[\"QT_MATRICULAS\"].sum()"
   ]
  },
  {
   "cell_type": "code",
   "execution_count": 37,
   "metadata": {
    "ExecuteTime": {
     "end_time": "2020-11-03T20:50:35.243266Z",
     "start_time": "2020-11-03T20:50:35.230383Z"
    }
   },
   "outputs": [],
   "source": [
    "from itertools import chain, combinations\n",
    "\n",
    "def all_filters_choices(filters):\n",
    "    \"powerset([1,2,3]) --> () (1,) (2,) (3,) (1,2) (1,3) (2,3) (1,2,3)\"\n",
    "    s = list(filters)\n",
    "    return list(chain.from_iterable(combinations(s, r) for r in range(len(s)+1)))\n",
    "\n",
    "def agg_by_choice(df, ids, filters, agg_cols):\n",
    "    \"\"\"\n",
    "    Agrega dados de uma coluna por id e todas as combinações possíveis de filtros.\n",
    "    \"\"\"\n",
    "        \n",
    "    # Cria todas as permutações de filtros\n",
    "    all_filters = all_filters_choices([col for col in filters if col in df.columns])\n",
    "\n",
    "    result = pd.DataFrame()\n",
    "    for choice in all_filters:\n",
    "        \n",
    "        group = ids + list(choice)\n",
    "        result = pd.concat([result, (\n",
    "             df\n",
    "             .groupby(group)[agg_cols]\n",
    "             .sum()\n",
    "             .reset_index()\n",
    "         )],axis=0) \n",
    "\n",
    "    return result"
   ]
  },
  {
   "cell_type": "code",
   "execution_count": 38,
   "metadata": {
    "ExecuteTime": {
     "end_time": "2020-11-03T20:50:36.596345Z",
     "start_time": "2020-11-03T20:50:35.251653Z"
    },
    "scrolled": true
   },
   "outputs": [
    {
     "name": "stdout",
     "output_type": "stream",
     "text": [
      "<class 'pandas.core.frame.DataFrame'>\n",
      "Int64Index: 208410 entries, 0 to 34212\n",
      "Data columns (total 9 columns):\n",
      " #   Column                Non-Null Count   Dtype  \n",
      "---  ------                --------------   -----  \n",
      " 0   CO_UF                 208410 non-null  int64  \n",
      " 1   TP_ETAPA_ENSINO       208410 non-null  object \n",
      " 2   QT_MATRICULAS         208410 non-null  int64  \n",
      " 3   QT_SALAS_UTILIZADAS   208410 non-null  float64\n",
      " 4   ID_DOCENTE            208410 non-null  int64  \n",
      " 5   CO_MUNICIPIO          208410 non-null  object \n",
      " 6   TP_DEPENDENCIA        208410 non-null  object \n",
      " 7   TP_LOCALIZACAO        208410 non-null  object \n",
      " 8   IN_AGUA_REDE_PUBLICA  208410 non-null  object \n",
      "dtypes: float64(1), int64(3), object(5)\n",
      "memory usage: 15.9+ MB\n"
     ]
    }
   ],
   "source": [
    "df_full = agg_by_choice(aux, \n",
    "              ids=[\"CO_UF\", \"TP_ETAPA_ENSINO\"],\n",
    "              filters=['CO_MUNICIPIO', 'TP_DEPENDENCIA', 'TP_LOCALIZACAO', 'IN_AGUA_REDE_PUBLICA'],\n",
    "              agg_cols = [\n",
    "                \"QT_MATRICULAS\",\n",
    "                \"QT_SALAS_UTILIZADAS\",\n",
    "                \"ID_DOCENTE\"]).fillna(\"Todos\")\n",
    "\n",
    "df_full.info()"
   ]
  },
  {
   "cell_type": "code",
   "execution_count": 39,
   "metadata": {
    "ExecuteTime": {
     "end_time": "2020-11-03T20:50:36.674358Z",
     "start_time": "2020-11-03T20:50:36.601715Z"
    }
   },
   "outputs": [
    {
     "data": {
      "text/html": [
       "<div>\n",
       "<style scoped>\n",
       "    .dataframe tbody tr th:only-of-type {\n",
       "        vertical-align: middle;\n",
       "    }\n",
       "\n",
       "    .dataframe tbody tr th {\n",
       "        vertical-align: top;\n",
       "    }\n",
       "\n",
       "    .dataframe thead th {\n",
       "        text-align: right;\n",
       "    }\n",
       "</style>\n",
       "<table border=\"1\" class=\"dataframe\">\n",
       "  <thead>\n",
       "    <tr style=\"text-align: right;\">\n",
       "      <th></th>\n",
       "      <th>state_num_id</th>\n",
       "      <th>education_phase</th>\n",
       "      <th>number_students</th>\n",
       "      <th>number_classroms</th>\n",
       "      <th>number_teachers</th>\n",
       "      <th>city_id</th>\n",
       "      <th>administrative_level</th>\n",
       "      <th>school_location</th>\n",
       "      <th>school_public_water_supply</th>\n",
       "    </tr>\n",
       "  </thead>\n",
       "  <tbody>\n",
       "    <tr>\n",
       "      <th>0</th>\n",
       "      <td>11</td>\n",
       "      <td>Ensino Médio</td>\n",
       "      <td>52861</td>\n",
       "      <td>2758.0</td>\n",
       "      <td>4485</td>\n",
       "      <td>Todos</td>\n",
       "      <td>Todos</td>\n",
       "      <td>Todos</td>\n",
       "      <td>Todos</td>\n",
       "    </tr>\n",
       "    <tr>\n",
       "      <th>1</th>\n",
       "      <td>11</td>\n",
       "      <td>Fundamental I</td>\n",
       "      <td>121855</td>\n",
       "      <td>5452.0</td>\n",
       "      <td>5551</td>\n",
       "      <td>Todos</td>\n",
       "      <td>Todos</td>\n",
       "      <td>Todos</td>\n",
       "      <td>Todos</td>\n",
       "    </tr>\n",
       "    <tr>\n",
       "      <th>2</th>\n",
       "      <td>11</td>\n",
       "      <td>Fundamental II</td>\n",
       "      <td>109625</td>\n",
       "      <td>4947.0</td>\n",
       "      <td>5427</td>\n",
       "      <td>Todos</td>\n",
       "      <td>Todos</td>\n",
       "      <td>Todos</td>\n",
       "      <td>Todos</td>\n",
       "    </tr>\n",
       "    <tr>\n",
       "      <th>3</th>\n",
       "      <td>12</td>\n",
       "      <td>Ensino Médio</td>\n",
       "      <td>34825</td>\n",
       "      <td>2032.0</td>\n",
       "      <td>2160</td>\n",
       "      <td>Todos</td>\n",
       "      <td>Todos</td>\n",
       "      <td>Todos</td>\n",
       "      <td>Todos</td>\n",
       "    </tr>\n",
       "    <tr>\n",
       "      <th>4</th>\n",
       "      <td>12</td>\n",
       "      <td>Fundamental I</td>\n",
       "      <td>66140</td>\n",
       "      <td>2610.0</td>\n",
       "      <td>2641</td>\n",
       "      <td>Todos</td>\n",
       "      <td>Todos</td>\n",
       "      <td>Todos</td>\n",
       "      <td>Todos</td>\n",
       "    </tr>\n",
       "  </tbody>\n",
       "</table>\n",
       "</div>"
      ],
      "text/plain": [
       "   state_num_id education_phase  number_students  number_classroms  \\\n",
       "0            11    Ensino Médio            52861            2758.0   \n",
       "1            11   Fundamental I           121855            5452.0   \n",
       "2            11  Fundamental II           109625            4947.0   \n",
       "3            12    Ensino Médio            34825            2032.0   \n",
       "4            12   Fundamental I            66140            2610.0   \n",
       "\n",
       "   number_teachers city_id administrative_level school_location  \\\n",
       "0             4485   Todos                Todos           Todos   \n",
       "1             5551   Todos                Todos           Todos   \n",
       "2             5427   Todos                Todos           Todos   \n",
       "3             2160   Todos                Todos           Todos   \n",
       "4             2641   Todos                Todos           Todos   \n",
       "\n",
       "  school_public_water_supply  \n",
       "0                      Todos  \n",
       "1                      Todos  \n",
       "2                      Todos  \n",
       "3                      Todos  \n",
       "4                      Todos  "
      ]
     },
     "execution_count": 39,
     "metadata": {},
     "output_type": "execute_result"
    }
   ],
   "source": [
    "df_full = df_full.rename(\n",
    "    columns={\n",
    "        \"CO_UF\": \"state_num_id\",\n",
    "        \"CO_MUNICIPIO\": \"city_id\",\n",
    "        \"TP_DEPENDENCIA\": \"administrative_level\",\n",
    "        \"TP_LOCALIZACAO\": \"school_location\",\n",
    "        \"IN_AGUA_REDE_PUBLICA\": \"school_public_water_supply\",\n",
    "        \"TP_ETAPA_ENSINO\": \"education_phase\",\n",
    "        \"QT_MATRICULAS\": \"number_students\",\n",
    "        \"ID_DOCENTE\": \"number_teachers\",\n",
    "        \"QT_SALAS_UTILIZADAS\": \"number_classroms\"\n",
    "    }\n",
    ")\n",
    "\n",
    "df_full.head()"
   ]
  },
  {
   "cell_type": "markdown",
   "metadata": {},
   "source": [
    "### Pega dados do Farol"
   ]
  },
  {
   "cell_type": "code",
   "execution_count": 44,
   "metadata": {
    "ExecuteTime": {
     "end_time": "2020-11-03T20:57:06.004341Z",
     "start_time": "2020-11-03T20:56:57.355685Z"
    },
    "scrolled": true
   },
   "outputs": [
    {
     "name": "stdout",
     "output_type": "stream",
     "text": [
      "<class 'pandas.core.frame.DataFrame'>\n",
      "Int64Index: 5597 entries, 0 to 5569\n",
      "Data columns (total 4 columns):\n",
      " #   Column              Non-Null Count  Dtype  \n",
      "---  ------              --------------  -----  \n",
      " 0   state_num_id        5597 non-null   int64  \n",
      " 1   overall_alert       5344 non-null   float64\n",
      " 2   last_updated_cases  5594 non-null   object \n",
      " 3   city_id             5597 non-null   object \n",
      "dtypes: float64(1), int64(1), object(2)\n",
      "memory usage: 218.6+ KB\n"
     ]
    }
   ],
   "source": [
    "# ==> Código automatizado no endpoint para coleta diária\n",
    "df_farol = pd.concat([pd.read_csv(\"http://datasource.coronacidades.org/br/states/farolcovid/main\")[\n",
    "    [\"state_num_id\", \"overall_alert\", \"last_updated_cases\"]\n",
    "].assign(city_id=lambda df: \"Todos\"),\n",
    "    pd.read_csv(\"http://datasource.coronacidades.org/br/cities/farolcovid/main\")[\n",
    "    [\"state_num_id\", \"city_id\",  \"overall_alert\", \"last_updated_cases\"]\n",
    "].assign(city_id= lambda df: df[\"city_id\"].astype(int).astype(str))]\n",
    ")\n",
    "\n",
    "df_farol.info()"
   ]
  },
  {
   "cell_type": "markdown",
   "metadata": {},
   "source": [
    "### Validação de cidades"
   ]
  },
  {
   "cell_type": "markdown",
   "metadata": {},
   "source": [
    "#### Agua Santa (RS): não tem as mesmas escolas nas tabelas!"
   ]
  },
  {
   "cell_type": "code",
   "execution_count": 45,
   "metadata": {
    "ExecuteTime": {
     "end_time": "2020-11-03T20:57:06.118947Z",
     "start_time": "2020-11-03T20:57:06.013355Z"
    },
    "scrolled": true
   },
   "outputs": [
    {
     "data": {
      "text/plain": [
       "set()"
      ]
     },
     "execution_count": 45,
     "metadata": {},
     "output_type": "execute_result"
    }
   ],
   "source": [
    "set(df_farol[\"city_id\"].unique()) - set(df_full[\"city_id\"].astype(str).unique())"
   ]
  },
  {
   "cell_type": "code",
   "execution_count": 46,
   "metadata": {
    "ExecuteTime": {
     "end_time": "2020-11-03T20:57:06.165225Z",
     "start_time": "2020-11-03T20:57:06.131463Z"
    }
   },
   "outputs": [
    {
     "data": {
      "text/html": [
       "<div>\n",
       "<style scoped>\n",
       "    .dataframe tbody tr th:only-of-type {\n",
       "        vertical-align: middle;\n",
       "    }\n",
       "\n",
       "    .dataframe tbody tr th {\n",
       "        vertical-align: top;\n",
       "    }\n",
       "\n",
       "    .dataframe thead th {\n",
       "        text-align: right;\n",
       "    }\n",
       "</style>\n",
       "<table border=\"1\" class=\"dataframe\">\n",
       "  <thead>\n",
       "    <tr style=\"text-align: right;\">\n",
       "      <th></th>\n",
       "      <th>CO_UF</th>\n",
       "      <th>CO_MUNICIPIO</th>\n",
       "      <th>CO_ENTIDADE</th>\n",
       "      <th>IN_ESPECIAL_EXCLUSIVA</th>\n",
       "      <th>TP_TIPO_ATENDIMENTO_TURMA</th>\n",
       "      <th>TP_TIPO_DOCENTE</th>\n",
       "      <th>TP_ETAPA_ENSINO</th>\n",
       "      <th>TP_DEPENDENCIA</th>\n",
       "      <th>TP_LOCALIZACAO</th>\n",
       "      <th>ID_DOCENTE</th>\n",
       "    </tr>\n",
       "  </thead>\n",
       "  <tbody>\n",
       "    <tr>\n",
       "      <th>10905</th>\n",
       "      <td>43</td>\n",
       "      <td>4300059</td>\n",
       "      <td>43010032</td>\n",
       "      <td>Não exclusiva</td>\n",
       "      <td>Escolarização/Complementar</td>\n",
       "      <td>Docente/Monitor</td>\n",
       "      <td>Ensino Médio</td>\n",
       "      <td>Estadual</td>\n",
       "      <td>Urbana</td>\n",
       "      <td>14</td>\n",
       "    </tr>\n",
       "    <tr>\n",
       "      <th>10906</th>\n",
       "      <td>43</td>\n",
       "      <td>4300059</td>\n",
       "      <td>43010105</td>\n",
       "      <td>Não exclusiva</td>\n",
       "      <td>Escolarização/Complementar</td>\n",
       "      <td>Docente/Monitor</td>\n",
       "      <td>Fundamental I</td>\n",
       "      <td>Municipal</td>\n",
       "      <td>Urbana</td>\n",
       "      <td>13</td>\n",
       "    </tr>\n",
       "    <tr>\n",
       "      <th>10907</th>\n",
       "      <td>43</td>\n",
       "      <td>4300059</td>\n",
       "      <td>43010105</td>\n",
       "      <td>Não exclusiva</td>\n",
       "      <td>Escolarização/Complementar</td>\n",
       "      <td>Docente/Monitor</td>\n",
       "      <td>Fundamental II</td>\n",
       "      <td>Municipal</td>\n",
       "      <td>Urbana</td>\n",
       "      <td>13</td>\n",
       "    </tr>\n",
       "  </tbody>\n",
       "</table>\n",
       "</div>"
      ],
      "text/plain": [
       "       CO_UF  CO_MUNICIPIO  CO_ENTIDADE IN_ESPECIAL_EXCLUSIVA  \\\n",
       "10905     43       4300059     43010032         Não exclusiva   \n",
       "10906     43       4300059     43010105         Não exclusiva   \n",
       "10907     43       4300059     43010105         Não exclusiva   \n",
       "\n",
       "        TP_TIPO_ATENDIMENTO_TURMA  TP_TIPO_DOCENTE TP_ETAPA_ENSINO  \\\n",
       "10905  Escolarização/Complementar  Docente/Monitor    Ensino Médio   \n",
       "10906  Escolarização/Complementar  Docente/Monitor   Fundamental I   \n",
       "10907  Escolarização/Complementar  Docente/Monitor  Fundamental II   \n",
       "\n",
       "      TP_DEPENDENCIA TP_LOCALIZACAO  ID_DOCENTE  \n",
       "10905       Estadual         Urbana          14  \n",
       "10906      Municipal         Urbana          13  \n",
       "10907      Municipal         Urbana          13  "
      ]
     },
     "execution_count": 46,
     "metadata": {},
     "output_type": "execute_result"
    }
   ],
   "source": [
    "profs[profs[\"CO_MUNICIPIO\"] == 4300059]"
   ]
  },
  {
   "cell_type": "code",
   "execution_count": 47,
   "metadata": {
    "ExecuteTime": {
     "end_time": "2020-11-03T20:57:06.215839Z",
     "start_time": "2020-11-03T20:57:06.178527Z"
    }
   },
   "outputs": [
    {
     "data": {
      "text/html": [
       "<div>\n",
       "<style scoped>\n",
       "    .dataframe tbody tr th:only-of-type {\n",
       "        vertical-align: middle;\n",
       "    }\n",
       "\n",
       "    .dataframe tbody tr th {\n",
       "        vertical-align: top;\n",
       "    }\n",
       "\n",
       "    .dataframe thead th {\n",
       "        text-align: right;\n",
       "    }\n",
       "</style>\n",
       "<table border=\"1\" class=\"dataframe\">\n",
       "  <thead>\n",
       "    <tr style=\"text-align: right;\">\n",
       "      <th></th>\n",
       "      <th>CO_UF</th>\n",
       "      <th>CO_MUNICIPIO</th>\n",
       "      <th>CO_ENTIDADE</th>\n",
       "      <th>IN_ESPECIAL_EXCLUSIVA</th>\n",
       "      <th>TP_TIPO_ATENDIMENTO_TURMA</th>\n",
       "      <th>TP_ETAPA_ENSINO</th>\n",
       "      <th>TP_DEPENDENCIA</th>\n",
       "      <th>TP_LOCALIZACAO</th>\n",
       "      <th>QT_MATRICULAS</th>\n",
       "    </tr>\n",
       "  </thead>\n",
       "  <tbody>\n",
       "    <tr>\n",
       "      <th>101745</th>\n",
       "      <td>43</td>\n",
       "      <td>4300059</td>\n",
       "      <td>43010032</td>\n",
       "      <td>Não exclusiva</td>\n",
       "      <td>Escolarização/Complementar</td>\n",
       "      <td>Ensino Médio</td>\n",
       "      <td>Estadual</td>\n",
       "      <td>Urbana</td>\n",
       "      <td>97</td>\n",
       "    </tr>\n",
       "    <tr>\n",
       "      <th>101746</th>\n",
       "      <td>43</td>\n",
       "      <td>4300059</td>\n",
       "      <td>43010105</td>\n",
       "      <td>Não exclusiva</td>\n",
       "      <td>Escolarização/Complementar</td>\n",
       "      <td>Fundamental I</td>\n",
       "      <td>Municipal</td>\n",
       "      <td>Urbana</td>\n",
       "      <td>205</td>\n",
       "    </tr>\n",
       "    <tr>\n",
       "      <th>101747</th>\n",
       "      <td>43</td>\n",
       "      <td>4300059</td>\n",
       "      <td>43010105</td>\n",
       "      <td>Não exclusiva</td>\n",
       "      <td>Escolarização/Complementar</td>\n",
       "      <td>Fundamental II</td>\n",
       "      <td>Municipal</td>\n",
       "      <td>Urbana</td>\n",
       "      <td>170</td>\n",
       "    </tr>\n",
       "  </tbody>\n",
       "</table>\n",
       "</div>"
      ],
      "text/plain": [
       "        CO_UF  CO_MUNICIPIO  CO_ENTIDADE IN_ESPECIAL_EXCLUSIVA  \\\n",
       "101745     43       4300059     43010032         Não exclusiva   \n",
       "101746     43       4300059     43010105         Não exclusiva   \n",
       "101747     43       4300059     43010105         Não exclusiva   \n",
       "\n",
       "         TP_TIPO_ATENDIMENTO_TURMA TP_ETAPA_ENSINO TP_DEPENDENCIA  \\\n",
       "101745  Escolarização/Complementar    Ensino Médio       Estadual   \n",
       "101746  Escolarização/Complementar   Fundamental I      Municipal   \n",
       "101747  Escolarização/Complementar  Fundamental II      Municipal   \n",
       "\n",
       "       TP_LOCALIZACAO  QT_MATRICULAS  \n",
       "101745         Urbana             97  \n",
       "101746         Urbana            205  \n",
       "101747         Urbana            170  "
      ]
     },
     "execution_count": 47,
     "metadata": {},
     "output_type": "execute_result"
    }
   ],
   "source": [
    "turmas[turmas[\"CO_MUNICIPIO\"] == 4300059]"
   ]
  },
  {
   "cell_type": "code",
   "execution_count": 48,
   "metadata": {
    "ExecuteTime": {
     "end_time": "2020-11-03T20:57:06.261065Z",
     "start_time": "2020-11-03T20:57:06.224798Z"
    }
   },
   "outputs": [
    {
     "data": {
      "text/html": [
       "<div>\n",
       "<style scoped>\n",
       "    .dataframe tbody tr th:only-of-type {\n",
       "        vertical-align: middle;\n",
       "    }\n",
       "\n",
       "    .dataframe tbody tr th {\n",
       "        vertical-align: top;\n",
       "    }\n",
       "\n",
       "    .dataframe thead th {\n",
       "        text-align: right;\n",
       "    }\n",
       "</style>\n",
       "<table border=\"1\" class=\"dataframe\">\n",
       "  <thead>\n",
       "    <tr style=\"text-align: right;\">\n",
       "      <th></th>\n",
       "      <th>CO_UF</th>\n",
       "      <th>CO_MUNICIPIO</th>\n",
       "      <th>CO_ENTIDADE</th>\n",
       "      <th>IN_ESPECIAL_EXCLUSIVA</th>\n",
       "      <th>TP_SITUACAO_FUNCIONAMENTO</th>\n",
       "      <th>TP_DEPENDENCIA</th>\n",
       "      <th>TP_LOCALIZACAO</th>\n",
       "      <th>IN_AGUA_REDE_PUBLICA</th>\n",
       "      <th>TP_ETAPA_ENSINO</th>\n",
       "      <th>QT_SALAS_UTILIZADAS</th>\n",
       "    </tr>\n",
       "  </thead>\n",
       "  <tbody>\n",
       "    <tr>\n",
       "      <th>131045</th>\n",
       "      <td>43</td>\n",
       "      <td>4300059</td>\n",
       "      <td>43005578</td>\n",
       "      <td>Não exclusiva</td>\n",
       "      <td>Ativa</td>\n",
       "      <td>Estadual</td>\n",
       "      <td>Rural</td>\n",
       "      <td>Não</td>\n",
       "      <td>Fundamental I</td>\n",
       "      <td>3.0</td>\n",
       "    </tr>\n",
       "    <tr>\n",
       "      <th>131046</th>\n",
       "      <td>43</td>\n",
       "      <td>4300059</td>\n",
       "      <td>43005578</td>\n",
       "      <td>Não exclusiva</td>\n",
       "      <td>Ativa</td>\n",
       "      <td>Estadual</td>\n",
       "      <td>Rural</td>\n",
       "      <td>Não</td>\n",
       "      <td>Fundamental II</td>\n",
       "      <td>3.0</td>\n",
       "    </tr>\n",
       "    <tr>\n",
       "      <th>131047</th>\n",
       "      <td>43</td>\n",
       "      <td>4300059</td>\n",
       "      <td>43010032</td>\n",
       "      <td>Não exclusiva</td>\n",
       "      <td>Ativa</td>\n",
       "      <td>Estadual</td>\n",
       "      <td>Urbana</td>\n",
       "      <td>Sim</td>\n",
       "      <td>Ensino Médio</td>\n",
       "      <td>9.0</td>\n",
       "    </tr>\n",
       "    <tr>\n",
       "      <th>131048</th>\n",
       "      <td>43</td>\n",
       "      <td>4300059</td>\n",
       "      <td>43010156</td>\n",
       "      <td>Não exclusiva</td>\n",
       "      <td>Ativa</td>\n",
       "      <td>Estadual</td>\n",
       "      <td>Rural</td>\n",
       "      <td>Não</td>\n",
       "      <td>Fundamental I</td>\n",
       "      <td>3.0</td>\n",
       "    </tr>\n",
       "    <tr>\n",
       "      <th>131049</th>\n",
       "      <td>43</td>\n",
       "      <td>4300059</td>\n",
       "      <td>43010156</td>\n",
       "      <td>Não exclusiva</td>\n",
       "      <td>Ativa</td>\n",
       "      <td>Estadual</td>\n",
       "      <td>Rural</td>\n",
       "      <td>Não</td>\n",
       "      <td>Fundamental II</td>\n",
       "      <td>3.0</td>\n",
       "    </tr>\n",
       "  </tbody>\n",
       "</table>\n",
       "</div>"
      ],
      "text/plain": [
       "        CO_UF  CO_MUNICIPIO  CO_ENTIDADE IN_ESPECIAL_EXCLUSIVA  \\\n",
       "131045     43       4300059     43005578         Não exclusiva   \n",
       "131046     43       4300059     43005578         Não exclusiva   \n",
       "131047     43       4300059     43010032         Não exclusiva   \n",
       "131048     43       4300059     43010156         Não exclusiva   \n",
       "131049     43       4300059     43010156         Não exclusiva   \n",
       "\n",
       "       TP_SITUACAO_FUNCIONAMENTO TP_DEPENDENCIA TP_LOCALIZACAO  \\\n",
       "131045                     Ativa       Estadual          Rural   \n",
       "131046                     Ativa       Estadual          Rural   \n",
       "131047                     Ativa       Estadual         Urbana   \n",
       "131048                     Ativa       Estadual          Rural   \n",
       "131049                     Ativa       Estadual          Rural   \n",
       "\n",
       "       IN_AGUA_REDE_PUBLICA TP_ETAPA_ENSINO  QT_SALAS_UTILIZADAS  \n",
       "131045                  Não   Fundamental I                  3.0  \n",
       "131046                  Não  Fundamental II                  3.0  \n",
       "131047                  Sim    Ensino Médio                  9.0  \n",
       "131048                  Não   Fundamental I                  3.0  \n",
       "131049                  Não  Fundamental II                  3.0  "
      ]
     },
     "execution_count": 48,
     "metadata": {},
     "output_type": "execute_result"
    }
   ],
   "source": [
    "escolas[escolas[\"CO_MUNICIPIO\"] == 4300059]"
   ]
  },
  {
   "cell_type": "markdown",
   "metadata": {},
   "source": [
    "## Validação"
   ]
  },
  {
   "cell_type": "markdown",
   "metadata": {},
   "source": [
    "### Salas únicas por etapa de ensino"
   ]
  },
  {
   "cell_type": "markdown",
   "metadata": {},
   "source": [
    "#### A soma de salas por etapa de ensino é maior ou igual ao total de salas existentes, pois uma escola pode oferecer +1 etapa --> não temos opção de \"Todos\" nas etapas"
   ]
  },
  {
   "cell_type": "markdown",
   "metadata": {},
   "source": [
    "#### A soma das salas para todas as redes é igual ao total de salas consideradas por etapa de ensino ✅"
   ]
  },
  {
   "cell_type": "code",
   "execution_count": 49,
   "metadata": {
    "ExecuteTime": {
     "end_time": "2020-11-03T20:57:06.450746Z",
     "start_time": "2020-11-03T20:57:06.265319Z"
    }
   },
   "outputs": [
    {
     "data": {
      "text/plain": [
       "True"
      ]
     },
     "execution_count": 49,
     "metadata": {},
     "output_type": "execute_result"
    }
   ],
   "source": [
    "test_class_administrative = lambda df: all(\n",
    "    df[df[\"administrative_level\"] == \"Municipal\"]\n",
    "    .groupby(\"education_phase\")[\"number_classroms\"].sum() \n",
    "    + df[df[\"administrative_level\"] == \"Estadual\"]\n",
    "    .groupby(\"education_phase\")[\"number_classroms\"].sum()\n",
    "    == df[df[\"administrative_level\"] == \"Todos\"]\n",
    "    .groupby(\"education_phase\")[\"number_classroms\"].sum())\n",
    "\n",
    "df_full.pipe(test_class_administrative)"
   ]
  },
  {
   "cell_type": "markdown",
   "metadata": {
    "ExecuteTime": {
     "end_time": "2020-10-28T13:05:30.742378Z",
     "start_time": "2020-10-28T13:05:30.732996Z"
    }
   },
   "source": [
    "#### A soma das salas para todas as localizações (urbana/rural) é igual ao total de salas consideradas por etapa de ensino ✅"
   ]
  },
  {
   "cell_type": "code",
   "execution_count": 50,
   "metadata": {
    "ExecuteTime": {
     "end_time": "2020-11-03T20:57:39.201500Z",
     "start_time": "2020-11-03T20:57:39.064540Z"
    },
    "scrolled": true
   },
   "outputs": [
    {
     "data": {
      "text/plain": [
       "True"
      ]
     },
     "execution_count": 50,
     "metadata": {},
     "output_type": "execute_result"
    }
   ],
   "source": [
    "test_class_location = lambda df: all(\n",
    "    df[df[\"school_location\"] == \"Rural\"]\n",
    "    .groupby(\"education_phase\")[\"number_classroms\"].sum() \n",
    "    + df[df[\"school_location\"] == \"Urbana\"]\n",
    "    .groupby(\"education_phase\")[\"number_classroms\"].sum()\n",
    "    == df[df[\"school_location\"] == \"Todos\"]\n",
    "    .groupby(\"education_phase\")[\"number_classroms\"].sum())\n",
    "\n",
    "df_full.pipe(test_class_location)"
   ]
  },
  {
   "cell_type": "markdown",
   "metadata": {
    "ExecuteTime": {
     "end_time": "2020-10-28T13:06:07.414033Z",
     "start_time": "2020-10-28T13:06:07.405540Z"
    }
   },
   "source": [
    "#### A soma das salas com e sem água filtrada é igual ao total de salas consideradas por etapa de ensino ✅"
   ]
  },
  {
   "cell_type": "code",
   "execution_count": 51,
   "metadata": {
    "ExecuteTime": {
     "end_time": "2020-11-03T20:57:39.956446Z",
     "start_time": "2020-11-03T20:57:39.817440Z"
    }
   },
   "outputs": [
    {
     "data": {
      "text/plain": [
       "True"
      ]
     },
     "execution_count": 51,
     "metadata": {},
     "output_type": "execute_result"
    }
   ],
   "source": [
    "test_class_water_supply = lambda df: all(\n",
    "    df[df[\"school_public_water_supply\"] == \"Sim\"]\n",
    "    .groupby(\"education_phase\")[\"number_classroms\"].sum() \n",
    "    + df[df[\"school_public_water_supply\"] == \"Não\"]\n",
    "    .groupby(\"education_phase\")[\"number_classroms\"].sum()\n",
    "    == df[df[\"school_public_water_supply\"] == \"Todos\"]\n",
    "    .groupby(\"education_phase\")[\"number_classroms\"].sum())\n",
    "\n",
    "df_full.pipe(test_class_water_supply)"
   ]
  },
  {
   "cell_type": "markdown",
   "metadata": {},
   "source": [
    "### Alunos únicos por turma\n",
    "\n",
    "#### A soma dos alunos de todas as etapas de ensino é igual ao total de alunos --> não temos opção de \"Todos\" nas etapas"
   ]
  },
  {
   "cell_type": "markdown",
   "metadata": {},
   "source": [
    "#### A soma dos alunos de todas as redes é igual ao total de alunos ✅"
   ]
  },
  {
   "cell_type": "code",
   "execution_count": 52,
   "metadata": {
    "ExecuteTime": {
     "end_time": "2020-11-03T20:57:41.325238Z",
     "start_time": "2020-11-03T20:57:41.194191Z"
    }
   },
   "outputs": [
    {
     "data": {
      "text/plain": [
       "True"
      ]
     },
     "execution_count": 52,
     "metadata": {},
     "output_type": "execute_result"
    }
   ],
   "source": [
    "test_class_administrative = lambda df: all(\n",
    "    df[df[\"administrative_level\"] == \"Municipal\"]\n",
    "    .groupby(\"education_phase\")[\"number_students\"].sum() \n",
    "    + df[df[\"administrative_level\"] == \"Estadual\"]\n",
    "    .groupby(\"education_phase\")[\"number_students\"].sum()\n",
    "    == df[df[\"administrative_level\"] == \"Todos\"]\n",
    "    .groupby(\"education_phase\")[\"number_students\"].sum())\n",
    "\n",
    "df_full.pipe(test_class_administrative)"
   ]
  },
  {
   "cell_type": "markdown",
   "metadata": {},
   "source": [
    "### Professores únicos por etapa de ensino, rede e município"
   ]
  },
  {
   "cell_type": "markdown",
   "metadata": {},
   "source": [
    "#### A soma dos professores de todas as etapas de ensino é maior ou igual ao total de professores,  pois um professor pode atuar em mais de uma etapa --> não temos opção de \"Todos\" nas etapas"
   ]
  },
  {
   "cell_type": "markdown",
   "metadata": {},
   "source": [
    "#### A soma dos professores de todas as redes é maior ou igual ao total de professores, pois um professor pode atuar em mais de uma rede ✅"
   ]
  },
  {
   "cell_type": "code",
   "execution_count": 53,
   "metadata": {
    "ExecuteTime": {
     "end_time": "2020-11-03T20:57:42.324411Z",
     "start_time": "2020-11-03T20:57:42.185530Z"
    }
   },
   "outputs": [
    {
     "data": {
      "text/plain": [
       "True"
      ]
     },
     "execution_count": 53,
     "metadata": {},
     "output_type": "execute_result"
    }
   ],
   "source": [
    "test_teacher_administrative = lambda df: all(\n",
    "    df[df[\"administrative_level\"] == \"Municipal\"]\n",
    "    .groupby(\"education_phase\")[\"number_teachers\"].sum() \n",
    "    + df[df[\"administrative_level\"] == \"Estadual\"]\n",
    "    .groupby(\"education_phase\")[\"number_teachers\"].sum() \n",
    "    >= df[df[\"administrative_level\"] == \"Todos\"]\n",
    "    .groupby(\"education_phase\")[\"number_teachers\"].sum())\n",
    "\n",
    "df_full.pipe(test_teacher_administrative)"
   ]
  },
  {
   "cell_type": "markdown",
   "metadata": {},
   "source": [
    "#### A soma dos professores de todos os municípios **é maior ou igual** ao total de professores, pois um professor pode atuar em mais de um município ✅"
   ]
  },
  {
   "cell_type": "code",
   "execution_count": 54,
   "metadata": {
    "ExecuteTime": {
     "end_time": "2020-11-03T20:57:42.871212Z",
     "start_time": "2020-11-03T20:57:42.536907Z"
    },
    "scrolled": true
   },
   "outputs": [
    {
     "data": {
      "text/plain": [
       "True"
      ]
     },
     "execution_count": 54,
     "metadata": {},
     "output_type": "execute_result"
    }
   ],
   "source": [
    "test_teacher_municipality = lambda df: all(\n",
    "    df[df[\"city_id\"] != \"Todos\"]\n",
    "    .groupby(\"education_phase\")[\"number_teachers\"].sum() \n",
    "    >= df[df[\"city_id\"] == \"Todos\"]\n",
    "    .groupby(\"education_phase\")[\"number_teachers\"].sum())\n",
    "\n",
    "df_full.pipe(test_teacher_municipality)"
   ]
  },
  {
   "cell_type": "markdown",
   "metadata": {},
   "source": [
    "## Salvando os dados"
   ]
  },
  {
   "cell_type": "code",
   "execution_count": 55,
   "metadata": {
    "ExecuteTime": {
     "end_time": "2020-11-03T20:57:44.530150Z",
     "start_time": "2020-11-03T20:57:42.968753Z"
    }
   },
   "outputs": [],
   "source": [
    "df_full.to_csv(\"br_safeschool_censo_2019.csv\")"
   ]
  }
 ],
 "metadata": {
  "kernelspec": {
   "display_name": "Python 3",
   "language": "python",
   "name": "python3"
  },
  "language_info": {
   "codemirror_mode": {
    "name": "ipython",
    "version": 3
   },
   "file_extension": ".py",
   "mimetype": "text/x-python",
   "name": "python",
   "nbconvert_exporter": "python",
   "pygments_lexer": "ipython3",
   "version": "3.7.4"
  },
  "toc": {
   "base_numbering": 1,
   "nav_menu": {},
   "number_sections": true,
   "sideBar": true,
   "skip_h1_title": true,
   "title_cell": "Table of Contents",
   "title_sidebar": "Contents",
   "toc_cell": true,
   "toc_position": {},
   "toc_section_display": true,
   "toc_window_display": false
  }
 },
 "nbformat": 4,
 "nbformat_minor": 2
}
