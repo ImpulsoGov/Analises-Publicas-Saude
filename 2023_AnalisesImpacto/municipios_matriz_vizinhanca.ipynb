{
  "nbformat": 4,
  "nbformat_minor": 0,
  "metadata": {
    "colab": {
      "private_outputs": true,
      "provenance": [],
      "authorship_tag": "ABX9TyO+xKRZL/T5ackkSttupmh0",
      "include_colab_link": true
    },
    "kernelspec": {
      "name": "python3",
      "display_name": "Python 3"
    },
    "language_info": {
      "name": "python"
    }
  },
  "cells": [
    {
      "cell_type": "markdown",
      "metadata": {
        "id": "view-in-github",
        "colab_type": "text"
      },
      "source": [
        "<a href=\"https://colab.research.google.com/github/ImpulsoGov/analises-publicas-saude/blob/main/2023_AnalisesImpacto/municipios_matriz_vizinhanca.ipynb\" target=\"_parent\"><img src=\"https://colab.research.google.com/assets/colab-badge.svg\" alt=\"Open In Colab\"/></a>"
      ]
    },
    {
      "cell_type": "code",
      "source": [
        "!python3 -m pip install pygeos shapely fiona pyproj geopandas rtree psycopg2"
      ],
      "metadata": {
        "id": "CAKVvSm6LXRK"
      },
      "execution_count": null,
      "outputs": []
    },
    {
      "cell_type": "code",
      "source": [
        "from getpass import getpass\n",
        "\n",
        "import geopandas as gpd\n",
        "import pandas as pd\n",
        "from sqlalchemy import create_engine, text\n",
        "from sqlalchemy.dialects.postgresql import CHAR\n",
        "from sqlalchemy.engine.url import URL"
      ],
      "metadata": {
        "id": "iKPoOwrLLOQl"
      },
      "execution_count": null,
      "outputs": []
    },
    {
      "cell_type": "code",
      "source": [
        "IBGE_GEOFTP = \"https://geoftp.ibge.gov.br\"\n",
        "IBGE_MALHAS = IBGE_GEOFTP + \"/organizacao_do_territorio/malhas_territoriais\"\n",
        "IBGE_MUNICIPIOS_2022 = (\n",
        "    IBGE_MALHAS\n",
        "    + \"/malhas_municipais/municipio_2022/Brasil/BR/BR_Municipios_2022.zip\"\n",
        ")"
      ],
      "metadata": {
        "id": "4MYmik8WMDJm"
      },
      "execution_count": null,
      "outputs": []
    },
    {
      "cell_type": "code",
      "execution_count": null,
      "metadata": {
        "id": "21VldfT8LIv_"
      },
      "outputs": [],
      "source": [
        "municipios_geo = gpd.read_file(IBGE_MUNICIPIOS_2022)\n",
        "municipios_geo"
      ]
    },
    {
      "cell_type": "code",
      "source": [
        "municipios_geo[\"id_sus\"] = municipios_geo[\"CD_MUN\"].apply(lambda id_ibge: id_ibge[:6])\n",
        "municipios_geo"
      ],
      "metadata": {
        "id": "yVVZt42HNab1"
      },
      "execution_count": null,
      "outputs": []
    },
    {
      "cell_type": "code",
      "source": [
        "relacoes_vizinhanca = []\n",
        "\n",
        "for _, municipio in municipios_geo.iterrows():\n",
        "    municipio_id_sus = municipio[\"id_sus\"]\n",
        "    vizinhos = municipios_geo[municipios_geo.touches(municipio[\"geometry\"])]\n",
        "    for _, vizinho in vizinhos.iterrows():\n",
        "        relacoes_vizinhanca.append((municipio_id_sus, vizinho[\"id_sus\"]))\n",
        "\n",
        "relacoes_vizinhanca[:50]"
      ],
      "metadata": {
        "id": "7rqF6IIfNEB4"
      },
      "execution_count": null,
      "outputs": []
    },
    {
      "cell_type": "code",
      "source": [
        "vizinhanca_df = pd.DataFrame(\n",
        "    relacoes_vizinhanca,\n",
        "    columns=[\"municipio_id_sus\", \"vizinho_municipio_id_sus\"]\n",
        ")\n",
        "\n",
        "vizinhanca_df"
      ],
      "metadata": {
        "id": "MZ1YaLWMcv60"
      },
      "execution_count": null,
      "outputs": []
    },
    {
      "cell_type": "code",
      "source": [
        "driver = \"postgresql+psycopg2\"\n",
        "servidor=\"35.239.239.250\"\n",
        "porta=\"5432\"\n",
        "usuario=input(\"Insira o nome do usuário do banco de dados: \")\n",
        "senha=getpass(\"Insira a senha para acesso ao banco de dados: \")\n",
        "banco=\"principal\"\n",
        "\n",
        "bd_url = URL.create(\n",
        "    drivername=driver,\n",
        "    username=usuario,\n",
        "    password=senha,\n",
        "    host=servidor,\n",
        "    port=\"5432\",\n",
        "    database=banco,\n",
        ")\n",
        "\n",
        "engine = create_engine(bd_url)\n",
        "vizinhanca_df.to_sql(\n",
        "    \"ibge_municipios_matriz_vizinhanca\",\n",
        "    schema=\"dados_publicos\",\n",
        "    index=False,\n",
        "    if_exists=\"replace\",\n",
        "    con=engine,\n",
        "    dtype={\n",
        "        \"municipio_id_sus\": CHAR(6),\n",
        "        \"vizinho_municipio_id_sus\": CHAR(6),\n",
        "    }\n",
        ")\n",
        "\n",
        "\n",
        "print(\"Ok!\")"
      ],
      "metadata": {
        "id": "9CPrBygrdG2E"
      },
      "execution_count": null,
      "outputs": []
    }
  ]
}