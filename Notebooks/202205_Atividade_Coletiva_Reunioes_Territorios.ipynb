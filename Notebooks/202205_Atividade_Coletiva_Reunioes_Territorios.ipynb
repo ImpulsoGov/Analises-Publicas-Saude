{
  "nbformat": 4,
  "nbformat_minor": 0,
  "metadata": {
    "colab": {
      "name": "202205_Atividade_Coletiva_Reunioes_Territorios.ipynb",
      "provenance": [],
      "collapsed_sections": [
        "dBD1a7fMRbfo",
        "AOcRGK5QRdzZ"
      ],
      "authorship_tag": "ABX9TyPLdtZn1yf9O45yc0JVHOqE",
      "include_colab_link": true
    },
    "kernelspec": {
      "name": "python3",
      "display_name": "Python 3"
    },
    "language_info": {
      "name": "python"
    }
  },
  "cells": [
    {
      "cell_type": "markdown",
      "metadata": {
        "id": "view-in-github",
        "colab_type": "text"
      },
      "source": [
        "<a href=\"https://colab.research.google.com/github/ImpulsoGov/Analises-Publicas-Saude/blob/main/Notebooks/202205_Atividade_Coletiva_Reunioes_Territorios.ipynb\" target=\"_parent\"><img src=\"https://colab.research.google.com/assets/colab-badge.svg\" alt=\"Open In Colab\"/></a>"
      ]
    },
    {
      "cell_type": "markdown",
      "source": [
        "# Análise do perfil dos municipios e de suas atividades quanto a monitoramento do territorio\n",
        "\n",
        "Este notebook consome dados públicos do  Sistema de Informação em Saúde para a Atenção Básica (SISAB) e de informações auxiliares como IBGE, com intenção de determinar o perfil dos municipios e de suas atividades quanto a monitoramento do territorio.\n",
        "\n",
        "As análises estão limitadas a datas a partir de abril de 2013. \n",
        "\n",
        "\n",
        "### Fonte dos dados\n",
        "Os dados são provenientes do site do SISAB, disponível em: https://sisab.saude.gov.br/paginas/acessoRestrito/relatorio/federal/saude/RelSauAtivColetiva.xhtml. \n",
        "O download e processamento dos dados utiliza requisição http feitas internamente como segue abaixo."
      ],
      "metadata": {
        "id": "f6gTZOZPP1iV"
      }
    },
    {
      "cell_type": "markdown",
      "source": [
        "## **Preparação do ambiente**"
      ],
      "metadata": {
        "id": "dBD1a7fMRbfo"
      }
    },
    {
      "cell_type": "code",
      "execution_count": 1,
      "metadata": {
        "id": "-iZCDStgNYXO"
      },
      "outputs": [],
      "source": [
        "import pandas as pd\n",
        "import math\n",
        "import plotly.express as px\n",
        "import plotly.graph_objects as go"
      ]
    },
    {
      "cell_type": "markdown",
      "source": [
        "## **Requisição e tratamento dos dados**"
      ],
      "metadata": {
        "id": "AOcRGK5QRdzZ"
      }
    },
    {
      "cell_type": "code",
      "source": [
        "# dados = pd.read_csv(\"/content/RelAtvColetivaMB (27).csv\", header=None, encoding = 'unicode_escape', engine= 'python')\n",
        "# dados = pd.read_csv(StringIO(\"/content/RelAtvColetivaMB (27).csv\"), header=None)\n",
        "\n",
        "for i in range(12, 63):\n",
        "  filename = \"/content/RelAtvColetivaMB (\"+str(i)+\").csv\"\n",
        "  dados = pd.read_csv(filename, header=None, on_bad_lines='skip', engine='python', encoding='unicode_escape')\n",
        "  nomearquivofinal = str(dados.loc[3][0])[14:-6]+\"_\"+str(dados.loc[3][0])[18:-1]+\"_RelAtvColetivaMB.csv\"\n",
        "  dados.columns = dados.loc[6]\n",
        "  dados = dados.iloc[7:-4]\n",
        "  dados.to_csv(nomearquivofinal, encoding='utf-8')"
      ],
      "metadata": {
        "id": "KjJY-bCjRhYg"
      },
      "execution_count": null,
      "outputs": []
    },
    {
      "cell_type": "code",
      "source": [
        "meses=[\n",
        "    ('JAN','1'),\n",
        "    ('FEV','2'),\n",
        "    ('MAR','3'),\n",
        "    ('ABR','4'),\n",
        "    ('MAI','5'),\n",
        "    ('JUN','6'),\n",
        "    ('JUL','7'),\n",
        "    ('AGO','8'),\n",
        "    ('SET','9'),\n",
        "    ('OUT','10'),\n",
        "    ('NOV','11'),\n",
        "    ('DEZ','12'),\n",
        "]      \n",
        "\n",
        "anos=['2018', '2019', '2020', '2021']\n",
        "# anos=['2022']\n",
        "\n",
        "dados_juntados = pd.DataFrame(columns=[',Uf', 'Ibge', 'Municipio', 'codigo', 'Questões administrativas / fun', 'Processos de trabalho', 'Diagnóstico do território / mo', 'Planejamento / monitoramento d', 'Discussão de caso / projeto te', 'Educação permanente', 'Outros'])\n",
        "\n",
        "for ano in anos:\n",
        "  for j in range(len(meses)):\n",
        "      filename = meses[j][0]+\"_\"+ano+\"_RelAtvColetivaMB.csv\"\n",
        "      dados_juntados_parcial = pd.DataFrame(columns=[',Uf', 'Ibge', 'Municipio', 'codigo', 'Questões administrativas / fun', 'Processos de trabalho', 'Diagnóstico do território / mo', 'Planejamento / monitoramento d', 'Discussão de caso / projeto te', 'Educação permanente', 'Outros'])\n",
        "      dados = pd.read_csv(filename, sep=';')\n",
        "      codigo = ano+\".M\"+meses[j][1]\n",
        "      dados_juntados_parcial = dados\n",
        "      dados_juntados_parcial['codigo'] = codigo\n",
        "      dados_juntados = dados_juntados.append(dados_juntados_parcial)\n",
        "dados_juntados.to_csv('dadosrelativcoletiva.csv')"
      ],
      "metadata": {
        "id": "fJckkGt4jxle"
      },
      "execution_count": null,
      "outputs": []
    },
    {
      "cell_type": "markdown",
      "source": [
        "## **Merge**"
      ],
      "metadata": {
        "id": "5lnhxmTE_P9x"
      }
    },
    {
      "cell_type": "code",
      "source": [
        "periodos = pd.read_csv('periodos_202205292217.csv')\n",
        "dadosrelativcoletiva = pd.read_csv('dadosrelativcoletiva.csv')\n",
        "dadosrelativcoletiva2022 = pd.read_csv('dadosrelativcoletiva_2022.csv')"
      ],
      "metadata": {
        "id": "oSDh0uYMvv1A"
      },
      "execution_count": 2,
      "outputs": []
    },
    {
      "cell_type": "code",
      "source": [
        "dadosrelativcoletiva = dadosrelativcoletiva.append(dadosrelativcoletiva2022)"
      ],
      "metadata": {
        "id": "rzFvEFvqwPoA"
      },
      "execution_count": 3,
      "outputs": []
    },
    {
      "cell_type": "code",
      "source": [
        "dadosrelativcoletiva = dadosrelativcoletiva.merge(periodos, on='codigo')"
      ],
      "metadata": {
        "id": "fXGcOGH6wTrF"
      },
      "execution_count": 4,
      "outputs": []
    },
    {
      "cell_type": "code",
      "source": [
        "# dadosrelativcoletiva.info()\n",
        "dadosrelativcoletiva['data_inicio'] = dadosrelativcoletiva['data_inicio'].astype('datetime64[ns]')"
      ],
      "metadata": {
        "id": "eSED1HH2w44n"
      },
      "execution_count": 5,
      "outputs": []
    },
    {
      "cell_type": "code",
      "source": [
        "dadosrelativcoletiva.rename(columns = {'Questões administrativas / fun':'Questões administrativas / funcionamento', \n",
        "                     'Diagnóstico do território / mo':'Diagnóstico do território / monitoramento do terrotório',\n",
        "                     'Planejamento / monitoramento d':'Planejamento / monitoramento das ações da equipe',\n",
        "                     'Discussão de caso / projeto te':'Discussão de caso / projeto terapêutico singular'}, inplace = True)"
      ],
      "metadata": {
        "id": "vfu6xYS-55SY"
      },
      "execution_count": 10,
      "outputs": []
    },
    {
      "cell_type": "markdown",
      "source": [
        "## **Analises**"
      ],
      "metadata": {
        "id": "PNcLa4QtxWcC"
      }
    },
    {
      "cell_type": "markdown",
      "source": [
        "### Reuniões por Municipios"
      ],
      "metadata": {
        "id": "EXF1CbY0YS8a"
      }
    },
    {
      "cell_type": "code",
      "source": [
        "copiadados = dadosrelativcoletiva"
      ],
      "metadata": {
        "id": "w7o3fa113WSc"
      },
      "execution_count": 16,
      "outputs": []
    },
    {
      "cell_type": "code",
      "source": [
        "# dadosagrupadosportema.melt(id_vars=['Questões administrativas / funcionamento', 'Processos de trabalho',\n",
        "#        'Diagnóstico do território / monitoramento do terrotório', 'Planejamento / monitoramento das ações da equipe',\n",
        "#        'Discussão de caso / projeto terapêutico singular', 'Educação permanente', 'Outros'], value_vars=['Ibge'])\n",
        "\n",
        "# pd.pivot_table(dadosagrupadosportema, values=['Ibge'], index=['Questões administrativas / funcionamento', 'Processos de trabalho',\n",
        "#        'Diagnóstico do território / monitoramento do terrotório', 'Planejamento / monitoramento das ações da equipe',\n",
        "#        'Discussão de caso / projeto terapêutico singular', 'Educação permanente', 'Outros'],\n",
        "#                     aggfunc={'Ibge': np.mean})\n",
        "\n",
        "\n",
        "dadosagrupadosportema = copiadados.groupby(['Questões administrativas / funcionamento', 'Processos de trabalho',\n",
        "       'Diagnóstico do território / monitoramento do terrotório', 'Planejamento / monitoramento das ações da equipe',\n",
        "       'Discussão de caso / projeto terapêutico singular', 'Educação permanente', 'Outros'], as_index=False)['Ibge'].count()\n",
        "dadosagrupadosportema\n",
        "# dadosagrupadosportema.apply(pd.value_counts).fillna(0)"
      ],
      "metadata": {
        "colab": {
          "base_uri": "https://localhost:8080/",
          "height": 502
        },
        "id": "LQR0_btB6sc2",
        "outputId": "bf78bea6-76a6-4b9c-93f4-1bcc5cc29afe"
      },
      "execution_count": 26,
      "outputs": [
        {
          "output_type": "execute_result",
          "data": {
            "text/plain": [
              "       Questões administrativas / funcionamento  Processos de trabalho  \\\n",
              "0                                             0                      0   \n",
              "1                                             0                      0   \n",
              "2                                             0                      0   \n",
              "3                                             0                      0   \n",
              "4                                             0                      0   \n",
              "...                                         ...                    ...   \n",
              "82021                                       872                    870   \n",
              "82022                                       876                    837   \n",
              "82023                                       914                    930   \n",
              "82024                                       931                    974   \n",
              "82025                                       954                    896   \n",
              "\n",
              "       Diagnóstico do território / monitoramento do terrotório  \\\n",
              "0                                                      0         \n",
              "1                                                      0         \n",
              "2                                                      0         \n",
              "3                                                      0         \n",
              "4                                                      0         \n",
              "...                                                  ...         \n",
              "82021                                                166         \n",
              "82022                                                168         \n",
              "82023                                                182         \n",
              "82024                                                180         \n",
              "82025                                                177         \n",
              "\n",
              "       Planejamento / monitoramento das ações da equipe  \\\n",
              "0                                                     0   \n",
              "1                                                     0   \n",
              "2                                                     0   \n",
              "3                                                     0   \n",
              "4                                                     0   \n",
              "...                                                 ...   \n",
              "82021                                               357   \n",
              "82022                                               273   \n",
              "82023                                               201   \n",
              "82024                                               349   \n",
              "82025                                               262   \n",
              "\n",
              "       Discussão de caso / projeto terapêutico singular  Educação permanente  \\\n",
              "0                                                     0                    0   \n",
              "1                                                     0                    0   \n",
              "2                                                     0                    0   \n",
              "3                                                     0                    0   \n",
              "4                                                     0                    0   \n",
              "...                                                 ...                  ...   \n",
              "82021                                               187                  197   \n",
              "82022                                               126                  148   \n",
              "82023                                                40                  109   \n",
              "82024                                               146                  126   \n",
              "82025                                                48                  114   \n",
              "\n",
              "       Outros   Ibge  \n",
              "0           0  59561  \n",
              "1           1   2732  \n",
              "2           2    748  \n",
              "3           3    286  \n",
              "4           4    155  \n",
              "...       ...    ...  \n",
              "82021     536      1  \n",
              "82022     498      1  \n",
              "82023     553      1  \n",
              "82024     519      1  \n",
              "82025     541      1  \n",
              "\n",
              "[82026 rows x 8 columns]"
            ],
            "text/html": [
              "\n",
              "  <div id=\"df-2807cfb7-7dce-47d4-996c-9894cfe54906\">\n",
              "    <div class=\"colab-df-container\">\n",
              "      <div>\n",
              "<style scoped>\n",
              "    .dataframe tbody tr th:only-of-type {\n",
              "        vertical-align: middle;\n",
              "    }\n",
              "\n",
              "    .dataframe tbody tr th {\n",
              "        vertical-align: top;\n",
              "    }\n",
              "\n",
              "    .dataframe thead th {\n",
              "        text-align: right;\n",
              "    }\n",
              "</style>\n",
              "<table border=\"1\" class=\"dataframe\">\n",
              "  <thead>\n",
              "    <tr style=\"text-align: right;\">\n",
              "      <th></th>\n",
              "      <th>Questões administrativas / funcionamento</th>\n",
              "      <th>Processos de trabalho</th>\n",
              "      <th>Diagnóstico do território / monitoramento do terrotório</th>\n",
              "      <th>Planejamento / monitoramento das ações da equipe</th>\n",
              "      <th>Discussão de caso / projeto terapêutico singular</th>\n",
              "      <th>Educação permanente</th>\n",
              "      <th>Outros</th>\n",
              "      <th>Ibge</th>\n",
              "    </tr>\n",
              "  </thead>\n",
              "  <tbody>\n",
              "    <tr>\n",
              "      <th>0</th>\n",
              "      <td>0</td>\n",
              "      <td>0</td>\n",
              "      <td>0</td>\n",
              "      <td>0</td>\n",
              "      <td>0</td>\n",
              "      <td>0</td>\n",
              "      <td>0</td>\n",
              "      <td>59561</td>\n",
              "    </tr>\n",
              "    <tr>\n",
              "      <th>1</th>\n",
              "      <td>0</td>\n",
              "      <td>0</td>\n",
              "      <td>0</td>\n",
              "      <td>0</td>\n",
              "      <td>0</td>\n",
              "      <td>0</td>\n",
              "      <td>1</td>\n",
              "      <td>2732</td>\n",
              "    </tr>\n",
              "    <tr>\n",
              "      <th>2</th>\n",
              "      <td>0</td>\n",
              "      <td>0</td>\n",
              "      <td>0</td>\n",
              "      <td>0</td>\n",
              "      <td>0</td>\n",
              "      <td>0</td>\n",
              "      <td>2</td>\n",
              "      <td>748</td>\n",
              "    </tr>\n",
              "    <tr>\n",
              "      <th>3</th>\n",
              "      <td>0</td>\n",
              "      <td>0</td>\n",
              "      <td>0</td>\n",
              "      <td>0</td>\n",
              "      <td>0</td>\n",
              "      <td>0</td>\n",
              "      <td>3</td>\n",
              "      <td>286</td>\n",
              "    </tr>\n",
              "    <tr>\n",
              "      <th>4</th>\n",
              "      <td>0</td>\n",
              "      <td>0</td>\n",
              "      <td>0</td>\n",
              "      <td>0</td>\n",
              "      <td>0</td>\n",
              "      <td>0</td>\n",
              "      <td>4</td>\n",
              "      <td>155</td>\n",
              "    </tr>\n",
              "    <tr>\n",
              "      <th>...</th>\n",
              "      <td>...</td>\n",
              "      <td>...</td>\n",
              "      <td>...</td>\n",
              "      <td>...</td>\n",
              "      <td>...</td>\n",
              "      <td>...</td>\n",
              "      <td>...</td>\n",
              "      <td>...</td>\n",
              "    </tr>\n",
              "    <tr>\n",
              "      <th>82021</th>\n",
              "      <td>872</td>\n",
              "      <td>870</td>\n",
              "      <td>166</td>\n",
              "      <td>357</td>\n",
              "      <td>187</td>\n",
              "      <td>197</td>\n",
              "      <td>536</td>\n",
              "      <td>1</td>\n",
              "    </tr>\n",
              "    <tr>\n",
              "      <th>82022</th>\n",
              "      <td>876</td>\n",
              "      <td>837</td>\n",
              "      <td>168</td>\n",
              "      <td>273</td>\n",
              "      <td>126</td>\n",
              "      <td>148</td>\n",
              "      <td>498</td>\n",
              "      <td>1</td>\n",
              "    </tr>\n",
              "    <tr>\n",
              "      <th>82023</th>\n",
              "      <td>914</td>\n",
              "      <td>930</td>\n",
              "      <td>182</td>\n",
              "      <td>201</td>\n",
              "      <td>40</td>\n",
              "      <td>109</td>\n",
              "      <td>553</td>\n",
              "      <td>1</td>\n",
              "    </tr>\n",
              "    <tr>\n",
              "      <th>82024</th>\n",
              "      <td>931</td>\n",
              "      <td>974</td>\n",
              "      <td>180</td>\n",
              "      <td>349</td>\n",
              "      <td>146</td>\n",
              "      <td>126</td>\n",
              "      <td>519</td>\n",
              "      <td>1</td>\n",
              "    </tr>\n",
              "    <tr>\n",
              "      <th>82025</th>\n",
              "      <td>954</td>\n",
              "      <td>896</td>\n",
              "      <td>177</td>\n",
              "      <td>262</td>\n",
              "      <td>48</td>\n",
              "      <td>114</td>\n",
              "      <td>541</td>\n",
              "      <td>1</td>\n",
              "    </tr>\n",
              "  </tbody>\n",
              "</table>\n",
              "<p>82026 rows × 8 columns</p>\n",
              "</div>\n",
              "      <button class=\"colab-df-convert\" onclick=\"convertToInteractive('df-2807cfb7-7dce-47d4-996c-9894cfe54906')\"\n",
              "              title=\"Convert this dataframe to an interactive table.\"\n",
              "              style=\"display:none;\">\n",
              "        \n",
              "  <svg xmlns=\"http://www.w3.org/2000/svg\" height=\"24px\"viewBox=\"0 0 24 24\"\n",
              "       width=\"24px\">\n",
              "    <path d=\"M0 0h24v24H0V0z\" fill=\"none\"/>\n",
              "    <path d=\"M18.56 5.44l.94 2.06.94-2.06 2.06-.94-2.06-.94-.94-2.06-.94 2.06-2.06.94zm-11 1L8.5 8.5l.94-2.06 2.06-.94-2.06-.94L8.5 2.5l-.94 2.06-2.06.94zm10 10l.94 2.06.94-2.06 2.06-.94-2.06-.94-.94-2.06-.94 2.06-2.06.94z\"/><path d=\"M17.41 7.96l-1.37-1.37c-.4-.4-.92-.59-1.43-.59-.52 0-1.04.2-1.43.59L10.3 9.45l-7.72 7.72c-.78.78-.78 2.05 0 2.83L4 21.41c.39.39.9.59 1.41.59.51 0 1.02-.2 1.41-.59l7.78-7.78 2.81-2.81c.8-.78.8-2.07 0-2.86zM5.41 20L4 18.59l7.72-7.72 1.47 1.35L5.41 20z\"/>\n",
              "  </svg>\n",
              "      </button>\n",
              "      \n",
              "  <style>\n",
              "    .colab-df-container {\n",
              "      display:flex;\n",
              "      flex-wrap:wrap;\n",
              "      gap: 12px;\n",
              "    }\n",
              "\n",
              "    .colab-df-convert {\n",
              "      background-color: #E8F0FE;\n",
              "      border: none;\n",
              "      border-radius: 50%;\n",
              "      cursor: pointer;\n",
              "      display: none;\n",
              "      fill: #1967D2;\n",
              "      height: 32px;\n",
              "      padding: 0 0 0 0;\n",
              "      width: 32px;\n",
              "    }\n",
              "\n",
              "    .colab-df-convert:hover {\n",
              "      background-color: #E2EBFA;\n",
              "      box-shadow: 0px 1px 2px rgba(60, 64, 67, 0.3), 0px 1px 3px 1px rgba(60, 64, 67, 0.15);\n",
              "      fill: #174EA6;\n",
              "    }\n",
              "\n",
              "    [theme=dark] .colab-df-convert {\n",
              "      background-color: #3B4455;\n",
              "      fill: #D2E3FC;\n",
              "    }\n",
              "\n",
              "    [theme=dark] .colab-df-convert:hover {\n",
              "      background-color: #434B5C;\n",
              "      box-shadow: 0px 1px 3px 1px rgba(0, 0, 0, 0.15);\n",
              "      filter: drop-shadow(0px 1px 2px rgba(0, 0, 0, 0.3));\n",
              "      fill: #FFFFFF;\n",
              "    }\n",
              "  </style>\n",
              "\n",
              "      <script>\n",
              "        const buttonEl =\n",
              "          document.querySelector('#df-2807cfb7-7dce-47d4-996c-9894cfe54906 button.colab-df-convert');\n",
              "        buttonEl.style.display =\n",
              "          google.colab.kernel.accessAllowed ? 'block' : 'none';\n",
              "\n",
              "        async function convertToInteractive(key) {\n",
              "          const element = document.querySelector('#df-2807cfb7-7dce-47d4-996c-9894cfe54906');\n",
              "          const dataTable =\n",
              "            await google.colab.kernel.invokeFunction('convertToInteractive',\n",
              "                                                     [key], {});\n",
              "          if (!dataTable) return;\n",
              "\n",
              "          const docLinkHtml = 'Like what you see? Visit the ' +\n",
              "            '<a target=\"_blank\" href=https://colab.research.google.com/notebooks/data_table.ipynb>data table notebook</a>'\n",
              "            + ' to learn more about interactive tables.';\n",
              "          element.innerHTML = '';\n",
              "          dataTable['output_type'] = 'display_data';\n",
              "          await google.colab.output.renderOutput(dataTable, element);\n",
              "          const docLink = document.createElement('div');\n",
              "          docLink.innerHTML = docLinkHtml;\n",
              "          element.appendChild(docLink);\n",
              "        }\n",
              "      </script>\n",
              "    </div>\n",
              "  </div>\n",
              "  "
            ]
          },
          "metadata": {},
          "execution_count": 26
        }
      ]
    },
    {
      "cell_type": "code",
      "source": [
        "fig = go.Figure(\n",
        "    data=[go.Bar(x=copiadados['data_inicio'], y=[1, 3, 2])],\n",
        "    layout=dict(title=dict(text=\"A Figure Specified By A Graph Object\"))\n",
        ")\n",
        "\n",
        "\n",
        "copiadados.groupby(\"Questões administrativas / funcionamento\")[\"Ibge\"].count()\n",
        "\n",
        "\n",
        "fig = go.Figure()\n",
        "fig.update_layout(title=(\"Evolução dos tipos de reuniões por Tempo\"))\n",
        "fig.add_trace(go.Bar(x=copiadados['data_inicio'],y=dadosagrupadosportema['Questões administrativas / funcionamento'], name='Questões administrativas / funcionamento'))\n",
        "# fig.add_trace(go.Bar(x=dadosagrupadosportema['data_inicio'],y=dadosagrupadosportema['Processos de trabalho'], name='Processos de trabalho'))\n",
        "# fig.add_trace(go.Bar(x=dadosagrupadosportema['data_inicio'],y=dadosagrupadosportema['Diagnóstico do território / monitoramento do terrotório'], name='Diagnóstico do território / monitoramento do terrotório'))\n",
        "# fig.add_trace(go.Bar(x=dadosagrupadosportema['data_inicio'],y=dadosagrupadosportema['Planejamento / monitoramento das ações da equipe'], name='Planejamento / monitoramento das ações da equipe'))\n",
        "# fig.add_trace(go.Bar(x=dadosagrupadosportema['data_inicio'],y=dadosagrupadosportema['Discussão de caso / projeto terapêutico singular'], name='Discussão de caso / projeto terapêutico singular'))\n",
        "# fig.add_trace(go.Bar(x=dadosagrupadosportema['data_inicio'],y=dadosagrupadosportema['Educação permanente'], name='Educação permanente'))\n",
        "# fig.add_trace(go.Bar(x=dadosagrupadosportema['data_inicio'],y=dadosagrupadosportema['Outros'], name='Outros'))\n",
        "fig.show()"
      ],
      "metadata": {
        "id": "fYV2Bh2N4JHP"
      },
      "execution_count": null,
      "outputs": []
    },
    {
      "cell_type": "markdown",
      "source": [
        "### Evolução pelo tempo"
      ],
      "metadata": {
        "id": "JRDwQ3cyApiz"
      }
    },
    {
      "cell_type": "code",
      "source": [
        "copiadados = dadosrelativcoletiva"
      ],
      "metadata": {
        "id": "7EobttZ6AkI7"
      },
      "execution_count": 6,
      "outputs": []
    },
    {
      "cell_type": "code",
      "source": [
        "dadosagrupadosportema = copiadados.groupby(['data_inicio'], as_index=False)['Questões administrativas / funcionamento', 'Processos de trabalho',\n",
        "       'Diagnóstico do território / monitoramento do terrotório', 'Planejamento / monitoramento das ações da equipe',\n",
        "       'Discussão de caso / projeto terapêutico singular', 'Educação permanente', 'Outros'].sum()"
      ],
      "metadata": {
        "colab": {
          "base_uri": "https://localhost:8080/"
        },
        "id": "wf0tpEgqzqVK",
        "outputId": "0d366f88-55e6-4816-dfd8-d8dc0bdb6454"
      },
      "execution_count": 7,
      "outputs": [
        {
          "output_type": "stream",
          "name": "stderr",
          "text": [
            "/usr/local/lib/python3.7/dist-packages/ipykernel_launcher.py:8: FutureWarning: Indexing with multiple keys (implicitly converted to a tuple of keys) will be deprecated, use a list instead.\n",
            "  \n"
          ]
        }
      ]
    },
    {
      "cell_type": "code",
      "source": [
        "fig = go.Figure()\n",
        "fig.update_layout(title=(\"Evolução dos tipos de reuniões por Tempo\"))\n",
        "fig.add_trace(go.Scatter(x=dadosagrupadosportema['data_inicio'],y=dadosagrupadosportema['Questões administrativas / funcionamento'], mode='markers+lines', name='Questões administrativas / funcionamento'))\n",
        "fig.add_trace(go.Scatter(x=dadosagrupadosportema['data_inicio'],y=dadosagrupadosportema['Processos de trabalho'], mode='markers+lines', name='Processos de trabalho'))\n",
        "fig.add_trace(go.Scatter(x=dadosagrupadosportema['data_inicio'],y=dadosagrupadosportema['Diagnóstico do território / monitoramento do terrotório'], mode='markers+lines', name='Diagnóstico do território / monitoramento do terrotório'))\n",
        "fig.add_trace(go.Scatter(x=dadosagrupadosportema['data_inicio'],y=dadosagrupadosportema['Planejamento / monitoramento das ações da equipe'], mode='markers+lines', name='Planejamento / monitoramento das ações da equipe'))\n",
        "fig.add_trace(go.Scatter(x=dadosagrupadosportema['data_inicio'],y=dadosagrupadosportema['Discussão de caso / projeto terapêutico singular'], mode='markers+lines', name='Discussão de caso / projeto terapêutico singular'))\n",
        "fig.add_trace(go.Scatter(x=dadosagrupadosportema['data_inicio'],y=dadosagrupadosportema['Educação permanente'], mode='markers+lines', name='Educação permanente'))\n",
        "fig.add_trace(go.Scatter(x=dadosagrupadosportema['data_inicio'],y=dadosagrupadosportema['Outros'], mode='markers+lines', name='Outros'))\n",
        "fig.show()"
      ],
      "metadata": {
        "colab": {
          "base_uri": "https://localhost:8080/",
          "height": 542
        },
        "id": "h6jOBi1wzmh-",
        "outputId": "9dd346f1-8032-4031-e662-8457e27de6a8"
      },
      "execution_count": 8,
      "outputs": [
        {
          "output_type": "display_data",
          "data": {
            "text/html": [
              "<html>\n",
              "<head><meta charset=\"utf-8\" /></head>\n",
              "<body>\n",
              "    <div>            <script src=\"https://cdnjs.cloudflare.com/ajax/libs/mathjax/2.7.5/MathJax.js?config=TeX-AMS-MML_SVG\"></script><script type=\"text/javascript\">if (window.MathJax) {MathJax.Hub.Config({SVG: {font: \"STIX-Web\"}});}</script>                <script type=\"text/javascript\">window.PlotlyConfig = {MathJaxConfig: 'local'};</script>\n",
              "        <script src=\"https://cdn.plot.ly/plotly-2.8.3.min.js\"></script>                <div id=\"216e7ec5-9e2c-41de-b631-7e178c62c7b2\" class=\"plotly-graph-div\" style=\"height:525px; width:100%;\"></div>            <script type=\"text/javascript\">                                    window.PLOTLYENV=window.PLOTLYENV || {};                                    if (document.getElementById(\"216e7ec5-9e2c-41de-b631-7e178c62c7b2\")) {                    Plotly.newPlot(                        \"216e7ec5-9e2c-41de-b631-7e178c62c7b2\",                        [{\"mode\":\"markers+lines\",\"name\":\"Quest\\u00f5es administrativas / funcionamento\",\"x\":[\"2018-01-01T00:00:00\",\"2018-02-01T00:00:00\",\"2018-03-01T00:00:00\",\"2018-04-01T00:00:00\",\"2018-05-01T00:00:00\",\"2018-06-01T00:00:00\",\"2018-07-01T00:00:00\",\"2018-08-01T00:00:00\",\"2018-09-01T00:00:00\",\"2018-10-01T00:00:00\",\"2018-11-01T00:00:00\",\"2018-12-01T00:00:00\",\"2019-01-01T00:00:00\",\"2019-02-01T00:00:00\",\"2019-03-01T00:00:00\",\"2019-04-01T00:00:00\",\"2019-05-01T00:00:00\",\"2019-06-01T00:00:00\",\"2019-07-01T00:00:00\",\"2019-08-01T00:00:00\",\"2019-09-01T00:00:00\",\"2019-10-01T00:00:00\",\"2019-11-01T00:00:00\",\"2019-12-01T00:00:00\",\"2020-01-01T00:00:00\",\"2020-02-01T00:00:00\",\"2020-03-01T00:00:00\",\"2020-04-01T00:00:00\",\"2020-05-01T00:00:00\",\"2020-06-01T00:00:00\",\"2020-07-01T00:00:00\",\"2020-08-01T00:00:00\",\"2020-09-01T00:00:00\",\"2020-10-01T00:00:00\",\"2020-11-01T00:00:00\",\"2020-12-01T00:00:00\",\"2021-01-01T00:00:00\",\"2021-02-01T00:00:00\",\"2021-03-01T00:00:00\",\"2021-04-01T00:00:00\",\"2021-05-01T00:00:00\",\"2021-06-01T00:00:00\",\"2021-07-01T00:00:00\",\"2021-08-01T00:00:00\",\"2021-09-01T00:00:00\",\"2021-10-01T00:00:00\",\"2021-11-01T00:00:00\",\"2021-12-01T00:00:00\",\"2022-01-01T00:00:00\",\"2022-02-01T00:00:00\",\"2022-03-01T00:00:00\"],\"y\":[21168,20716,23884,23749,23045,22458,22335,27038,22090,23744,21773,18063,26461,30296,26055,25330,27425,22131,25789,27467,28902,28365,25081,19488,25672,23059,22123,11750,11808,13268,15865,15258,15558,13839,12131,9045,13967,14847,14993,13177,14217,13712,15728,17403,16531,15075,15702,12733,12674,16190,19432],\"type\":\"scatter\"},{\"mode\":\"markers+lines\",\"name\":\"Processos de trabalho\",\"x\":[\"2018-01-01T00:00:00\",\"2018-02-01T00:00:00\",\"2018-03-01T00:00:00\",\"2018-04-01T00:00:00\",\"2018-05-01T00:00:00\",\"2018-06-01T00:00:00\",\"2018-07-01T00:00:00\",\"2018-08-01T00:00:00\",\"2018-09-01T00:00:00\",\"2018-10-01T00:00:00\",\"2018-11-01T00:00:00\",\"2018-12-01T00:00:00\",\"2019-01-01T00:00:00\",\"2019-02-01T00:00:00\",\"2019-03-01T00:00:00\",\"2019-04-01T00:00:00\",\"2019-05-01T00:00:00\",\"2019-06-01T00:00:00\",\"2019-07-01T00:00:00\",\"2019-08-01T00:00:00\",\"2019-09-01T00:00:00\",\"2019-10-01T00:00:00\",\"2019-11-01T00:00:00\",\"2019-12-01T00:00:00\",\"2020-01-01T00:00:00\",\"2020-02-01T00:00:00\",\"2020-03-01T00:00:00\",\"2020-04-01T00:00:00\",\"2020-05-01T00:00:00\",\"2020-06-01T00:00:00\",\"2020-07-01T00:00:00\",\"2020-08-01T00:00:00\",\"2020-09-01T00:00:00\",\"2020-10-01T00:00:00\",\"2020-11-01T00:00:00\",\"2020-12-01T00:00:00\",\"2021-01-01T00:00:00\",\"2021-02-01T00:00:00\",\"2021-03-01T00:00:00\",\"2021-04-01T00:00:00\",\"2021-05-01T00:00:00\",\"2021-06-01T00:00:00\",\"2021-07-01T00:00:00\",\"2021-08-01T00:00:00\",\"2021-09-01T00:00:00\",\"2021-10-01T00:00:00\",\"2021-11-01T00:00:00\",\"2021-12-01T00:00:00\",\"2022-01-01T00:00:00\",\"2022-02-01T00:00:00\",\"2022-03-01T00:00:00\"],\"y\":[37405,36997,44354,44789,43853,42316,42626,51150,43178,46547,42007,34003,47113,56236,48555,49139,51977,41104,47535,51788,55106,54575,47054,36067,45734,42954,42352,24210,24035,25904,31246,30029,30165,26472,23431,17800,24342,27476,29464,26425,29403,28388,31258,34592,32336,29098,30363,24801,24407,31042,37857],\"type\":\"scatter\"},{\"mode\":\"markers+lines\",\"name\":\"Diagn\\u00f3stico do territ\\u00f3rio / monitoramento do terrot\\u00f3rio\",\"x\":[\"2018-01-01T00:00:00\",\"2018-02-01T00:00:00\",\"2018-03-01T00:00:00\",\"2018-04-01T00:00:00\",\"2018-05-01T00:00:00\",\"2018-06-01T00:00:00\",\"2018-07-01T00:00:00\",\"2018-08-01T00:00:00\",\"2018-09-01T00:00:00\",\"2018-10-01T00:00:00\",\"2018-11-01T00:00:00\",\"2018-12-01T00:00:00\",\"2019-01-01T00:00:00\",\"2019-02-01T00:00:00\",\"2019-03-01T00:00:00\",\"2019-04-01T00:00:00\",\"2019-05-01T00:00:00\",\"2019-06-01T00:00:00\",\"2019-07-01T00:00:00\",\"2019-08-01T00:00:00\",\"2019-09-01T00:00:00\",\"2019-10-01T00:00:00\",\"2019-11-01T00:00:00\",\"2019-12-01T00:00:00\",\"2020-01-01T00:00:00\",\"2020-02-01T00:00:00\",\"2020-03-01T00:00:00\",\"2020-04-01T00:00:00\",\"2020-05-01T00:00:00\",\"2020-06-01T00:00:00\",\"2020-07-01T00:00:00\",\"2020-08-01T00:00:00\",\"2020-09-01T00:00:00\",\"2020-10-01T00:00:00\",\"2020-11-01T00:00:00\",\"2020-12-01T00:00:00\",\"2021-01-01T00:00:00\",\"2021-02-01T00:00:00\",\"2021-03-01T00:00:00\",\"2021-04-01T00:00:00\",\"2021-05-01T00:00:00\",\"2021-06-01T00:00:00\",\"2021-07-01T00:00:00\",\"2021-08-01T00:00:00\",\"2021-09-01T00:00:00\",\"2021-10-01T00:00:00\",\"2021-11-01T00:00:00\",\"2021-12-01T00:00:00\",\"2022-01-01T00:00:00\",\"2022-02-01T00:00:00\",\"2022-03-01T00:00:00\"],\"y\":[6640,6701,7744,7955,8059,7526,8127,9520,7581,7948,7513,5792,8093,10153,9276,9315,9597,7900,8938,9917,10874,10417,9337,7257,9602,9333,8377,4160,4539,5173,6120,6064,6160,5229,4746,3363,4529,5593,5442,4724,5133,5343,6056,6823,6128,5555,5995,4783,4461,6384,7721],\"type\":\"scatter\"},{\"mode\":\"markers+lines\",\"name\":\"Planejamento / monitoramento das a\\u00e7\\u00f5es da equipe\",\"x\":[\"2018-01-01T00:00:00\",\"2018-02-01T00:00:00\",\"2018-03-01T00:00:00\",\"2018-04-01T00:00:00\",\"2018-05-01T00:00:00\",\"2018-06-01T00:00:00\",\"2018-07-01T00:00:00\",\"2018-08-01T00:00:00\",\"2018-09-01T00:00:00\",\"2018-10-01T00:00:00\",\"2018-11-01T00:00:00\",\"2018-12-01T00:00:00\",\"2019-01-01T00:00:00\",\"2019-02-01T00:00:00\",\"2019-03-01T00:00:00\",\"2019-04-01T00:00:00\",\"2019-05-01T00:00:00\",\"2019-06-01T00:00:00\",\"2019-07-01T00:00:00\",\"2019-08-01T00:00:00\",\"2019-09-01T00:00:00\",\"2019-10-01T00:00:00\",\"2019-11-01T00:00:00\",\"2019-12-01T00:00:00\",\"2020-01-01T00:00:00\",\"2020-02-01T00:00:00\",\"2020-03-01T00:00:00\",\"2020-04-01T00:00:00\",\"2020-05-01T00:00:00\",\"2020-06-01T00:00:00\",\"2020-07-01T00:00:00\",\"2020-08-01T00:00:00\",\"2020-09-01T00:00:00\",\"2020-10-01T00:00:00\",\"2020-11-01T00:00:00\",\"2020-12-01T00:00:00\",\"2021-01-01T00:00:00\",\"2021-02-01T00:00:00\",\"2021-03-01T00:00:00\",\"2021-04-01T00:00:00\",\"2021-05-01T00:00:00\",\"2021-06-01T00:00:00\",\"2021-07-01T00:00:00\",\"2021-08-01T00:00:00\",\"2021-09-01T00:00:00\",\"2021-10-01T00:00:00\",\"2021-11-01T00:00:00\",\"2021-12-01T00:00:00\",\"2022-01-01T00:00:00\",\"2022-02-01T00:00:00\",\"2022-03-01T00:00:00\"],\"y\":[24428,23451,27995,28363,27436,25603,26513,31834,26851,28588,24994,19053,30980,35533,30186,31356,31843,24860,29357,32712,34858,33720,28210,19707,28237,25710,24631,11158,11016,12279,14227,14677,15334,13464,11495,8062,12704,14645,14869,12849,14810,13888,16102,18368,17412,15851,16597,12133,12870,16627,21537],\"type\":\"scatter\"},{\"mode\":\"markers+lines\",\"name\":\"Discuss\\u00e3o de caso / projeto terap\\u00eautico singular\",\"x\":[\"2018-01-01T00:00:00\",\"2018-02-01T00:00:00\",\"2018-03-01T00:00:00\",\"2018-04-01T00:00:00\",\"2018-05-01T00:00:00\",\"2018-06-01T00:00:00\",\"2018-07-01T00:00:00\",\"2018-08-01T00:00:00\",\"2018-09-01T00:00:00\",\"2018-10-01T00:00:00\",\"2018-11-01T00:00:00\",\"2018-12-01T00:00:00\",\"2019-01-01T00:00:00\",\"2019-02-01T00:00:00\",\"2019-03-01T00:00:00\",\"2019-04-01T00:00:00\",\"2019-05-01T00:00:00\",\"2019-06-01T00:00:00\",\"2019-07-01T00:00:00\",\"2019-08-01T00:00:00\",\"2019-09-01T00:00:00\",\"2019-10-01T00:00:00\",\"2019-11-01T00:00:00\",\"2019-12-01T00:00:00\",\"2020-01-01T00:00:00\",\"2020-02-01T00:00:00\",\"2020-03-01T00:00:00\",\"2020-04-01T00:00:00\",\"2020-05-01T00:00:00\",\"2020-06-01T00:00:00\",\"2020-07-01T00:00:00\",\"2020-08-01T00:00:00\",\"2020-09-01T00:00:00\",\"2020-10-01T00:00:00\",\"2020-11-01T00:00:00\",\"2020-12-01T00:00:00\",\"2021-01-01T00:00:00\",\"2021-02-01T00:00:00\",\"2021-03-01T00:00:00\",\"2021-04-01T00:00:00\",\"2021-05-01T00:00:00\",\"2021-06-01T00:00:00\",\"2021-07-01T00:00:00\",\"2021-08-01T00:00:00\",\"2021-09-01T00:00:00\",\"2021-10-01T00:00:00\",\"2021-11-01T00:00:00\",\"2021-12-01T00:00:00\",\"2022-01-01T00:00:00\",\"2022-02-01T00:00:00\",\"2022-03-01T00:00:00\"],\"y\":[12102,12760,14956,15575,16203,15780,15911,18666,15194,16456,15644,12653,14038,18717,16813,17384,18366,16072,18229,18674,19510,18905,15709,12157,13671,14117,11059,4757,6508,7955,10205,11001,11594,10247,9992,7486,8579,9682,10255,9158,10022,9924,10863,12129,10808,9865,10580,8513,7820,10338,12306],\"type\":\"scatter\"},{\"mode\":\"markers+lines\",\"name\":\"Educa\\u00e7\\u00e3o permanente\",\"x\":[\"2018-01-01T00:00:00\",\"2018-02-01T00:00:00\",\"2018-03-01T00:00:00\",\"2018-04-01T00:00:00\",\"2018-05-01T00:00:00\",\"2018-06-01T00:00:00\",\"2018-07-01T00:00:00\",\"2018-08-01T00:00:00\",\"2018-09-01T00:00:00\",\"2018-10-01T00:00:00\",\"2018-11-01T00:00:00\",\"2018-12-01T00:00:00\",\"2019-01-01T00:00:00\",\"2019-02-01T00:00:00\",\"2019-03-01T00:00:00\",\"2019-04-01T00:00:00\",\"2019-05-01T00:00:00\",\"2019-06-01T00:00:00\",\"2019-07-01T00:00:00\",\"2019-08-01T00:00:00\",\"2019-09-01T00:00:00\",\"2019-10-01T00:00:00\",\"2019-11-01T00:00:00\",\"2019-12-01T00:00:00\",\"2020-01-01T00:00:00\",\"2020-02-01T00:00:00\",\"2020-03-01T00:00:00\",\"2020-04-01T00:00:00\",\"2020-05-01T00:00:00\",\"2020-06-01T00:00:00\",\"2020-07-01T00:00:00\",\"2020-08-01T00:00:00\",\"2020-09-01T00:00:00\",\"2020-10-01T00:00:00\",\"2020-11-01T00:00:00\",\"2020-12-01T00:00:00\",\"2021-01-01T00:00:00\",\"2021-02-01T00:00:00\",\"2021-03-01T00:00:00\",\"2021-04-01T00:00:00\",\"2021-05-01T00:00:00\",\"2021-06-01T00:00:00\",\"2021-07-01T00:00:00\",\"2021-08-01T00:00:00\",\"2021-09-01T00:00:00\",\"2021-10-01T00:00:00\",\"2021-11-01T00:00:00\",\"2021-12-01T00:00:00\",\"2022-01-01T00:00:00\",\"2022-02-01T00:00:00\",\"2022-03-01T00:00:00\"],\"y\":[8744,9329,13003,13533,12944,12453,12411,16089,13328,13599,12064,8912,10210,13190,13276,14097,15424,12941,13555,17684,18843,16716,14039,9029,9404,9722,10198,4823,5018,5476,6032,6353,7352,6480,5534,3751,4480,5464,5603,5556,6402,6601,7294,8014,8293,7481,7632,5632,4754,6507,9040],\"type\":\"scatter\"},{\"mode\":\"markers+lines\",\"name\":\"Outros\",\"x\":[\"2018-01-01T00:00:00\",\"2018-02-01T00:00:00\",\"2018-03-01T00:00:00\",\"2018-04-01T00:00:00\",\"2018-05-01T00:00:00\",\"2018-06-01T00:00:00\",\"2018-07-01T00:00:00\",\"2018-08-01T00:00:00\",\"2018-09-01T00:00:00\",\"2018-10-01T00:00:00\",\"2018-11-01T00:00:00\",\"2018-12-01T00:00:00\",\"2019-01-01T00:00:00\",\"2019-02-01T00:00:00\",\"2019-03-01T00:00:00\",\"2019-04-01T00:00:00\",\"2019-05-01T00:00:00\",\"2019-06-01T00:00:00\",\"2019-07-01T00:00:00\",\"2019-08-01T00:00:00\",\"2019-09-01T00:00:00\",\"2019-10-01T00:00:00\",\"2019-11-01T00:00:00\",\"2019-12-01T00:00:00\",\"2020-01-01T00:00:00\",\"2020-02-01T00:00:00\",\"2020-03-01T00:00:00\",\"2020-04-01T00:00:00\",\"2020-05-01T00:00:00\",\"2020-06-01T00:00:00\",\"2020-07-01T00:00:00\",\"2020-08-01T00:00:00\",\"2020-09-01T00:00:00\",\"2020-10-01T00:00:00\",\"2020-11-01T00:00:00\",\"2020-12-01T00:00:00\",\"2021-01-01T00:00:00\",\"2021-02-01T00:00:00\",\"2021-03-01T00:00:00\",\"2021-04-01T00:00:00\",\"2021-05-01T00:00:00\",\"2021-06-01T00:00:00\",\"2021-07-01T00:00:00\",\"2021-08-01T00:00:00\",\"2021-09-01T00:00:00\",\"2021-10-01T00:00:00\",\"2021-11-01T00:00:00\",\"2021-12-01T00:00:00\",\"2022-01-01T00:00:00\",\"2022-02-01T00:00:00\",\"2022-03-01T00:00:00\"],\"y\":[18611,19179,24779,25033,25290,24021,23163,29916,24374,27639,24076,19991,23204,28628,27824,28873,29422,22845,25722,28865,32085,31836,26853,21111,22282,22030,23191,13245,13291,14456,16637,16452,16856,14825,12822,10383,12866,14260,15566,14274,16664,15928,17628,19684,19344,18255,18328,15905,14165,16963,20858],\"type\":\"scatter\"}],                        {\"template\":{\"data\":{\"bar\":[{\"error_x\":{\"color\":\"#2a3f5f\"},\"error_y\":{\"color\":\"#2a3f5f\"},\"marker\":{\"line\":{\"color\":\"#E5ECF6\",\"width\":0.5},\"pattern\":{\"fillmode\":\"overlay\",\"size\":10,\"solidity\":0.2}},\"type\":\"bar\"}],\"barpolar\":[{\"marker\":{\"line\":{\"color\":\"#E5ECF6\",\"width\":0.5},\"pattern\":{\"fillmode\":\"overlay\",\"size\":10,\"solidity\":0.2}},\"type\":\"barpolar\"}],\"carpet\":[{\"aaxis\":{\"endlinecolor\":\"#2a3f5f\",\"gridcolor\":\"white\",\"linecolor\":\"white\",\"minorgridcolor\":\"white\",\"startlinecolor\":\"#2a3f5f\"},\"baxis\":{\"endlinecolor\":\"#2a3f5f\",\"gridcolor\":\"white\",\"linecolor\":\"white\",\"minorgridcolor\":\"white\",\"startlinecolor\":\"#2a3f5f\"},\"type\":\"carpet\"}],\"choropleth\":[{\"colorbar\":{\"outlinewidth\":0,\"ticks\":\"\"},\"type\":\"choropleth\"}],\"contour\":[{\"colorbar\":{\"outlinewidth\":0,\"ticks\":\"\"},\"colorscale\":[[0.0,\"#0d0887\"],[0.1111111111111111,\"#46039f\"],[0.2222222222222222,\"#7201a8\"],[0.3333333333333333,\"#9c179e\"],[0.4444444444444444,\"#bd3786\"],[0.5555555555555556,\"#d8576b\"],[0.6666666666666666,\"#ed7953\"],[0.7777777777777778,\"#fb9f3a\"],[0.8888888888888888,\"#fdca26\"],[1.0,\"#f0f921\"]],\"type\":\"contour\"}],\"contourcarpet\":[{\"colorbar\":{\"outlinewidth\":0,\"ticks\":\"\"},\"type\":\"contourcarpet\"}],\"heatmap\":[{\"colorbar\":{\"outlinewidth\":0,\"ticks\":\"\"},\"colorscale\":[[0.0,\"#0d0887\"],[0.1111111111111111,\"#46039f\"],[0.2222222222222222,\"#7201a8\"],[0.3333333333333333,\"#9c179e\"],[0.4444444444444444,\"#bd3786\"],[0.5555555555555556,\"#d8576b\"],[0.6666666666666666,\"#ed7953\"],[0.7777777777777778,\"#fb9f3a\"],[0.8888888888888888,\"#fdca26\"],[1.0,\"#f0f921\"]],\"type\":\"heatmap\"}],\"heatmapgl\":[{\"colorbar\":{\"outlinewidth\":0,\"ticks\":\"\"},\"colorscale\":[[0.0,\"#0d0887\"],[0.1111111111111111,\"#46039f\"],[0.2222222222222222,\"#7201a8\"],[0.3333333333333333,\"#9c179e\"],[0.4444444444444444,\"#bd3786\"],[0.5555555555555556,\"#d8576b\"],[0.6666666666666666,\"#ed7953\"],[0.7777777777777778,\"#fb9f3a\"],[0.8888888888888888,\"#fdca26\"],[1.0,\"#f0f921\"]],\"type\":\"heatmapgl\"}],\"histogram\":[{\"marker\":{\"pattern\":{\"fillmode\":\"overlay\",\"size\":10,\"solidity\":0.2}},\"type\":\"histogram\"}],\"histogram2d\":[{\"colorbar\":{\"outlinewidth\":0,\"ticks\":\"\"},\"colorscale\":[[0.0,\"#0d0887\"],[0.1111111111111111,\"#46039f\"],[0.2222222222222222,\"#7201a8\"],[0.3333333333333333,\"#9c179e\"],[0.4444444444444444,\"#bd3786\"],[0.5555555555555556,\"#d8576b\"],[0.6666666666666666,\"#ed7953\"],[0.7777777777777778,\"#fb9f3a\"],[0.8888888888888888,\"#fdca26\"],[1.0,\"#f0f921\"]],\"type\":\"histogram2d\"}],\"histogram2dcontour\":[{\"colorbar\":{\"outlinewidth\":0,\"ticks\":\"\"},\"colorscale\":[[0.0,\"#0d0887\"],[0.1111111111111111,\"#46039f\"],[0.2222222222222222,\"#7201a8\"],[0.3333333333333333,\"#9c179e\"],[0.4444444444444444,\"#bd3786\"],[0.5555555555555556,\"#d8576b\"],[0.6666666666666666,\"#ed7953\"],[0.7777777777777778,\"#fb9f3a\"],[0.8888888888888888,\"#fdca26\"],[1.0,\"#f0f921\"]],\"type\":\"histogram2dcontour\"}],\"mesh3d\":[{\"colorbar\":{\"outlinewidth\":0,\"ticks\":\"\"},\"type\":\"mesh3d\"}],\"parcoords\":[{\"line\":{\"colorbar\":{\"outlinewidth\":0,\"ticks\":\"\"}},\"type\":\"parcoords\"}],\"pie\":[{\"automargin\":true,\"type\":\"pie\"}],\"scatter\":[{\"marker\":{\"colorbar\":{\"outlinewidth\":0,\"ticks\":\"\"}},\"type\":\"scatter\"}],\"scatter3d\":[{\"line\":{\"colorbar\":{\"outlinewidth\":0,\"ticks\":\"\"}},\"marker\":{\"colorbar\":{\"outlinewidth\":0,\"ticks\":\"\"}},\"type\":\"scatter3d\"}],\"scattercarpet\":[{\"marker\":{\"colorbar\":{\"outlinewidth\":0,\"ticks\":\"\"}},\"type\":\"scattercarpet\"}],\"scattergeo\":[{\"marker\":{\"colorbar\":{\"outlinewidth\":0,\"ticks\":\"\"}},\"type\":\"scattergeo\"}],\"scattergl\":[{\"marker\":{\"colorbar\":{\"outlinewidth\":0,\"ticks\":\"\"}},\"type\":\"scattergl\"}],\"scattermapbox\":[{\"marker\":{\"colorbar\":{\"outlinewidth\":0,\"ticks\":\"\"}},\"type\":\"scattermapbox\"}],\"scatterpolar\":[{\"marker\":{\"colorbar\":{\"outlinewidth\":0,\"ticks\":\"\"}},\"type\":\"scatterpolar\"}],\"scatterpolargl\":[{\"marker\":{\"colorbar\":{\"outlinewidth\":0,\"ticks\":\"\"}},\"type\":\"scatterpolargl\"}],\"scatterternary\":[{\"marker\":{\"colorbar\":{\"outlinewidth\":0,\"ticks\":\"\"}},\"type\":\"scatterternary\"}],\"surface\":[{\"colorbar\":{\"outlinewidth\":0,\"ticks\":\"\"},\"colorscale\":[[0.0,\"#0d0887\"],[0.1111111111111111,\"#46039f\"],[0.2222222222222222,\"#7201a8\"],[0.3333333333333333,\"#9c179e\"],[0.4444444444444444,\"#bd3786\"],[0.5555555555555556,\"#d8576b\"],[0.6666666666666666,\"#ed7953\"],[0.7777777777777778,\"#fb9f3a\"],[0.8888888888888888,\"#fdca26\"],[1.0,\"#f0f921\"]],\"type\":\"surface\"}],\"table\":[{\"cells\":{\"fill\":{\"color\":\"#EBF0F8\"},\"line\":{\"color\":\"white\"}},\"header\":{\"fill\":{\"color\":\"#C8D4E3\"},\"line\":{\"color\":\"white\"}},\"type\":\"table\"}]},\"layout\":{\"annotationdefaults\":{\"arrowcolor\":\"#2a3f5f\",\"arrowhead\":0,\"arrowwidth\":1},\"autotypenumbers\":\"strict\",\"coloraxis\":{\"colorbar\":{\"outlinewidth\":0,\"ticks\":\"\"}},\"colorscale\":{\"diverging\":[[0,\"#8e0152\"],[0.1,\"#c51b7d\"],[0.2,\"#de77ae\"],[0.3,\"#f1b6da\"],[0.4,\"#fde0ef\"],[0.5,\"#f7f7f7\"],[0.6,\"#e6f5d0\"],[0.7,\"#b8e186\"],[0.8,\"#7fbc41\"],[0.9,\"#4d9221\"],[1,\"#276419\"]],\"sequential\":[[0.0,\"#0d0887\"],[0.1111111111111111,\"#46039f\"],[0.2222222222222222,\"#7201a8\"],[0.3333333333333333,\"#9c179e\"],[0.4444444444444444,\"#bd3786\"],[0.5555555555555556,\"#d8576b\"],[0.6666666666666666,\"#ed7953\"],[0.7777777777777778,\"#fb9f3a\"],[0.8888888888888888,\"#fdca26\"],[1.0,\"#f0f921\"]],\"sequentialminus\":[[0.0,\"#0d0887\"],[0.1111111111111111,\"#46039f\"],[0.2222222222222222,\"#7201a8\"],[0.3333333333333333,\"#9c179e\"],[0.4444444444444444,\"#bd3786\"],[0.5555555555555556,\"#d8576b\"],[0.6666666666666666,\"#ed7953\"],[0.7777777777777778,\"#fb9f3a\"],[0.8888888888888888,\"#fdca26\"],[1.0,\"#f0f921\"]]},\"colorway\":[\"#636efa\",\"#EF553B\",\"#00cc96\",\"#ab63fa\",\"#FFA15A\",\"#19d3f3\",\"#FF6692\",\"#B6E880\",\"#FF97FF\",\"#FECB52\"],\"font\":{\"color\":\"#2a3f5f\"},\"geo\":{\"bgcolor\":\"white\",\"lakecolor\":\"white\",\"landcolor\":\"#E5ECF6\",\"showlakes\":true,\"showland\":true,\"subunitcolor\":\"white\"},\"hoverlabel\":{\"align\":\"left\"},\"hovermode\":\"closest\",\"mapbox\":{\"style\":\"light\"},\"paper_bgcolor\":\"white\",\"plot_bgcolor\":\"#E5ECF6\",\"polar\":{\"angularaxis\":{\"gridcolor\":\"white\",\"linecolor\":\"white\",\"ticks\":\"\"},\"bgcolor\":\"#E5ECF6\",\"radialaxis\":{\"gridcolor\":\"white\",\"linecolor\":\"white\",\"ticks\":\"\"}},\"scene\":{\"xaxis\":{\"backgroundcolor\":\"#E5ECF6\",\"gridcolor\":\"white\",\"gridwidth\":2,\"linecolor\":\"white\",\"showbackground\":true,\"ticks\":\"\",\"zerolinecolor\":\"white\"},\"yaxis\":{\"backgroundcolor\":\"#E5ECF6\",\"gridcolor\":\"white\",\"gridwidth\":2,\"linecolor\":\"white\",\"showbackground\":true,\"ticks\":\"\",\"zerolinecolor\":\"white\"},\"zaxis\":{\"backgroundcolor\":\"#E5ECF6\",\"gridcolor\":\"white\",\"gridwidth\":2,\"linecolor\":\"white\",\"showbackground\":true,\"ticks\":\"\",\"zerolinecolor\":\"white\"}},\"shapedefaults\":{\"line\":{\"color\":\"#2a3f5f\"}},\"ternary\":{\"aaxis\":{\"gridcolor\":\"white\",\"linecolor\":\"white\",\"ticks\":\"\"},\"baxis\":{\"gridcolor\":\"white\",\"linecolor\":\"white\",\"ticks\":\"\"},\"bgcolor\":\"#E5ECF6\",\"caxis\":{\"gridcolor\":\"white\",\"linecolor\":\"white\",\"ticks\":\"\"}},\"title\":{\"x\":0.05},\"xaxis\":{\"automargin\":true,\"gridcolor\":\"white\",\"linecolor\":\"white\",\"ticks\":\"\",\"title\":{\"standoff\":15},\"zerolinecolor\":\"white\",\"zerolinewidth\":2},\"yaxis\":{\"automargin\":true,\"gridcolor\":\"white\",\"linecolor\":\"white\",\"ticks\":\"\",\"title\":{\"standoff\":15},\"zerolinecolor\":\"white\",\"zerolinewidth\":2}}},\"title\":{\"text\":\"Evolu\\u00e7\\u00e3o dos tipos de reuni\\u00f5es por Tempo\"}},                        {\"responsive\": true}                    ).then(function(){\n",
              "                            \n",
              "var gd = document.getElementById('216e7ec5-9e2c-41de-b631-7e178c62c7b2');\n",
              "var x = new MutationObserver(function (mutations, observer) {{\n",
              "        var display = window.getComputedStyle(gd).display;\n",
              "        if (!display || display === 'none') {{\n",
              "            console.log([gd, 'removed!']);\n",
              "            Plotly.purge(gd);\n",
              "            observer.disconnect();\n",
              "        }}\n",
              "}});\n",
              "\n",
              "// Listen for the removal of the full notebook cells\n",
              "var notebookContainer = gd.closest('#notebook-container');\n",
              "if (notebookContainer) {{\n",
              "    x.observe(notebookContainer, {childList: true});\n",
              "}}\n",
              "\n",
              "// Listen for the clearing of the current output cell\n",
              "var outputEl = gd.closest('.output');\n",
              "if (outputEl) {{\n",
              "    x.observe(outputEl, {childList: true});\n",
              "}}\n",
              "\n",
              "                        })                };                            </script>        </div>\n",
              "</body>\n",
              "</html>"
            ]
          },
          "metadata": {}
        }
      ]
    },
    {
      "cell_type": "markdown",
      "source": [
        "### Variação dos tipos de reuniões nos municipios"
      ],
      "metadata": {
        "id": "ahIdKE18AvDc"
      }
    },
    {
      "cell_type": "code",
      "source": [
        "copiadados"
      ],
      "metadata": {
        "id": "GJ3rC8VKB10s"
      },
      "execution_count": null,
      "outputs": []
    },
    {
      "cell_type": "code",
      "source": [
        "fig = go.Figure(\n",
        "    data=[go.Bar(x=[1, 2, 3], y=[1, 3, 2])],\n",
        "    layout=dict(title=dict(text=\"A Figure Specified By A Graph Object\"))\n",
        ")\n",
        "\n",
        "fig.show()"
      ],
      "metadata": {
        "id": "MzuBuyeZyBhz"
      },
      "execution_count": null,
      "outputs": []
    }
  ]
}