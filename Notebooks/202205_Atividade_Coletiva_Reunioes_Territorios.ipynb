{
  "nbformat": 4,
  "nbformat_minor": 0,
  "metadata": {
    "colab": {
      "name": "202205_Atividade_Coletiva_Reunioes_Territorios.ipynb",
      "provenance": [],
      "collapsed_sections": [],
      "authorship_tag": "ABX9TyMDHgF9hVWBRXF4J/IQSiTt",
      "include_colab_link": true
    },
    "kernelspec": {
      "name": "python3",
      "display_name": "Python 3"
    },
    "language_info": {
      "name": "python"
    }
  },
  "cells": [
    {
      "cell_type": "markdown",
      "metadata": {
        "id": "view-in-github",
        "colab_type": "text"
      },
      "source": [
        "<a href=\"https://colab.research.google.com/github/ImpulsoGov/Analises-Publicas-Saude/blob/main/Notebooks/202205_Atividade_Coletiva_Reunioes_Territorios.ipynb\" target=\"_parent\"><img src=\"https://colab.research.google.com/assets/colab-badge.svg\" alt=\"Open In Colab\"/></a>"
      ]
    },
    {
      "cell_type": "markdown",
      "source": [
        "# Análise do perfil dos municipios e de suas atividades quanto a monitoramento do territorio\n",
        "\n",
        "Este notebook consome dados públicos do  Sistema de Informação em Saúde para a Atenção Básica (SISAB) e de informações auxiliares como IBGE, com intenção de determinar o perfil dos municipios e de suas atividades quanto a monitoramento do territorio.\n",
        "\n",
        "As análises estão limitadas a datas a partir de abril de 2013. \n",
        "\n",
        "\n",
        "### Fonte dos dados\n",
        "Os dados são provenientes do site do SISAB, disponível em: https://sisab.saude.gov.br/paginas/acessoRestrito/relatorio/federal/saude/RelSauAtivColetiva.xhtml. \n",
        "O download e processamento dos dados utiliza requisição http feitas internamente como segue abaixo."
      ],
      "metadata": {
        "id": "f6gTZOZPP1iV"
      }
    },
    {
      "cell_type": "markdown",
      "source": [
        "## Preparação do ambiente"
      ],
      "metadata": {
        "id": "dBD1a7fMRbfo"
      }
    },
    {
      "cell_type": "code",
      "execution_count": 50,
      "metadata": {
        "id": "-iZCDStgNYXO"
      },
      "outputs": [],
      "source": [
        "import pandas as pd\n",
        "import math\n",
        "import plotly.express as px\n",
        "import plotly.graph_objects as go"
      ]
    },
    {
      "cell_type": "markdown",
      "source": [
        "## Requisição e tratamento dos dados"
      ],
      "metadata": {
        "id": "AOcRGK5QRdzZ"
      }
    },
    {
      "cell_type": "code",
      "source": [
        "# dados = pd.read_csv(\"/content/RelAtvColetivaMB (27).csv\", header=None, encoding = 'unicode_escape', engine= 'python')\n",
        "# dados = pd.read_csv(StringIO(\"/content/RelAtvColetivaMB (27).csv\"), header=None)\n",
        "\n",
        "for i in range(12, 63):\n",
        "  filename = \"/content/RelAtvColetivaMB (\"+str(i)+\").csv\"\n",
        "  dados = pd.read_csv(filename, header=None, on_bad_lines='skip', engine='python', encoding='unicode_escape')\n",
        "  nomearquivofinal = str(dados.loc[3][0])[14:-6]+\"_\"+str(dados.loc[3][0])[18:-1]+\"_RelAtvColetivaMB.csv\"\n",
        "  dados.columns = dados.loc[6]\n",
        "  dados = dados.iloc[7:-4]\n",
        "  dados.to_csv(nomearquivofinal, encoding='utf-8')"
      ],
      "metadata": {
        "id": "KjJY-bCjRhYg"
      },
      "execution_count": 33,
      "outputs": []
    },
    {
      "cell_type": "code",
      "source": [
        "meses=[\n",
        "    ('JAN','1'),\n",
        "    ('FEV','2'),\n",
        "    ('MAR','3'),\n",
        "    ('ABR','4'),\n",
        "    ('MAI','5'),\n",
        "    ('JUN','6'),\n",
        "    ('JUL','7'),\n",
        "    ('AGO','8'),\n",
        "    ('SET','9'),\n",
        "    ('OUT','10'),\n",
        "    ('NOV','11'),\n",
        "    ('DEZ','12'),\n",
        "]      \n",
        "\n",
        "anos=['2018', '2019', '2020', '2021']\n",
        "# anos=['2022']\n",
        "\n",
        "dados_juntados = pd.DataFrame(columns=[',Uf', 'Ibge', 'Municipio', 'codigo', 'Questões administrativas / fun', 'Processos de trabalho', 'Diagnóstico do território / mo', 'Planejamento / monitoramento d', 'Discussão de caso / projeto te', 'Educação permanente', 'Outros'])\n",
        "\n",
        "for ano in anos:\n",
        "  for j in range(len(meses)):\n",
        "      filename = meses[j][0]+\"_\"+ano+\"_RelAtvColetivaMB.csv\"\n",
        "      dados_juntados_parcial = pd.DataFrame(columns=[',Uf', 'Ibge', 'Municipio', 'codigo', 'Questões administrativas / fun', 'Processos de trabalho', 'Diagnóstico do território / mo', 'Planejamento / monitoramento d', 'Discussão de caso / projeto te', 'Educação permanente', 'Outros'])\n",
        "      dados = pd.read_csv(filename, sep=';')\n",
        "      codigo = ano+\".M\"+meses[j][1]\n",
        "      dados_juntados_parcial = dados\n",
        "      dados_juntados_parcial['codigo'] = codigo\n",
        "      dados_juntados = dados_juntados.append(dados_juntados_parcial)\n",
        "dados_juntados.to_csv('dadosrelativcoletiva.csv')"
      ],
      "metadata": {
        "id": "fJckkGt4jxle"
      },
      "execution_count": 39,
      "outputs": []
    },
    {
      "cell_type": "code",
      "source": [
        "periodos = pd.read_csv('periodos_202205292217.csv')\n",
        "dadosrelativcoletiva = pd.read_csv('dadosrelativcoletiva.csv')\n",
        "dadosrelativcoletiva2022 = pd.read_csv('dadosrelativcoletiva_2022.csv')"
      ],
      "metadata": {
        "id": "oSDh0uYMvv1A"
      },
      "execution_count": 40,
      "outputs": []
    },
    {
      "cell_type": "code",
      "source": [
        "dadosrelativcoletiva = dadosrelativcoletiva.append(dadosrelativcoletiva2022)"
      ],
      "metadata": {
        "id": "rzFvEFvqwPoA"
      },
      "execution_count": 41,
      "outputs": []
    },
    {
      "cell_type": "code",
      "source": [
        "dadosrelativcoletiva = dadosrelativcoletiva.merge(periodos, on='codigo')"
      ],
      "metadata": {
        "id": "fXGcOGH6wTrF"
      },
      "execution_count": null,
      "outputs": []
    },
    {
      "cell_type": "code",
      "source": [
        "# dadosrelativcoletiva.info()\n",
        "dadosrelativcoletiva['data_inicio'] = dadosrelativcoletiva['data_inicio'].astype('datetime64[ns]')"
      ],
      "metadata": {
        "id": "eSED1HH2w44n"
      },
      "execution_count": 49,
      "outputs": []
    },
    {
      "cell_type": "markdown",
      "source": [
        "## Analises"
      ],
      "metadata": {
        "id": "PNcLa4QtxWcC"
      }
    },
    {
      "cell_type": "code",
      "source": [
        "copiadados = dadosrelativcoletiva"
      ],
      "metadata": {
        "id": "Cp6E5ZrxxcNY"
      },
      "execution_count": null,
      "outputs": []
    }
  ]
}