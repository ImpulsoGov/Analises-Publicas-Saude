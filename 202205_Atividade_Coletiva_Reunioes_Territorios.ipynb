{
  "nbformat": 4,
  "nbformat_minor": 0,
  "metadata": {
    "colab": {
      "name": "Analises Atividade Coletiva",
      "provenance": [],
      "authorship_tag": "ABX9TyMHlRlGYLRB11H2l4z+AWHv",
      "include_colab_link": true
    },
    "kernelspec": {
      "name": "python3",
      "display_name": "Python 3"
    },
    "language_info": {
      "name": "python"
    }
  },
  "cells": [
    {
      "cell_type": "markdown",
      "metadata": {
        "id": "view-in-github",
        "colab_type": "text"
      },
      "source": [
        "<a href=\"https://colab.research.google.com/github/ImpulsoGov/Analises-Publicas-Saude/blob/main/202205_Atividade_Coletiva_Reunioes_Territorios.ipynb\" target=\"_parent\"><img src=\"https://colab.research.google.com/assets/colab-badge.svg\" alt=\"Open In Colab\"/></a>"
      ]
    },
    {
      "cell_type": "markdown",
      "source": [
        "# Análise do perfil dos municipios e de suas atividades quanto a monitoramento do territorio\n",
        "\n",
        "Este notebook consome dados públicos do  Sistema de Informação em Saúde para a Atenção Básica (SISAB) e de informações auxiliares como IBGE, com intenção de determinar o perfil dos municipios e de suas atividades quanto a monitoramento do territorio.\n",
        "\n",
        "As análises estão limitadas a datas a partir de janeiro de 2008. Devido ao tempo de envio e consolidação das informações entre os serviços de saúde locais e o Ministério da Saúde, os dados mais recentes são atrasados em cerca de dois meses em relação à data atual.\n",
        "\n",
        "\n",
        "### Fonte dos dados\n",
        "Os dados são provenientes do site do SISAB, disponível em: https://sisab.saude.gov.br/paginas/acessoRestrito/relatorio/federal/saude/RelSauAtivColetiva.xhtml. \n",
        "O download e processamento dos dados utiliza requisição http feitas internamente como segue abaixo."
      ],
      "metadata": {
        "id": "f6gTZOZPP1iV"
      }
    },
    {
      "cell_type": "markdown",
      "source": [
        "## Preparação do ambiente"
      ],
      "metadata": {
        "id": "dBD1a7fMRbfo"
      }
    },
    {
      "cell_type": "code",
      "execution_count": null,
      "metadata": {
        "id": "-iZCDStgNYXO"
      },
      "outputs": [],
      "source": [
        "import pandas as pd"
      ]
    },
    {
      "cell_type": "markdown",
      "source": [
        "## Requisição e tratamento dos dados"
      ],
      "metadata": {
        "id": "AOcRGK5QRdzZ"
      }
    },
    {
      "cell_type": "code",
      "source": [
        ""
      ],
      "metadata": {
        "id": "KjJY-bCjRhYg"
      },
      "execution_count": null,
      "outputs": []
    }
  ]
}